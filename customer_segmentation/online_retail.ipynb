{
 "cells": [
  {
   "cell_type": "markdown",
   "id": "6332d667",
   "metadata": {},
   "source": [
    "# Online Retail Dataset: Data Preparation\n",
    "\n",
    "In this notebook, I'll prepare the dataset for analysis.\n",
    "\n",
    "## Imports"
   ]
  },
  {
   "cell_type": "code",
   "execution_count": 1,
   "id": "fb7bac7d",
   "metadata": {
    "execution": {
     "iopub.execute_input": "2024-01-20T04:32:15.570878Z",
     "iopub.status.busy": "2024-01-20T04:32:15.569830Z",
     "iopub.status.idle": "2024-01-20T04:32:16.031508Z",
     "shell.execute_reply": "2024-01-20T04:32:16.030561Z"
    }
   },
   "outputs": [],
   "source": [
    "from pathlib import Path\n",
    "from typing import cast\n",
    "\n",
    "import numpy as np\n",
    "import pandas as pd\n",
    "from pandas.testing import assert_frame_equal"
   ]
  },
  {
   "cell_type": "markdown",
   "id": "1941ccd0",
   "metadata": {},
   "source": [
    "## Read dataset"
   ]
  },
  {
   "cell_type": "code",
   "execution_count": 2,
   "id": "b5925849",
   "metadata": {
    "execution": {
     "iopub.execute_input": "2024-01-20T04:32:16.035725Z",
     "iopub.status.busy": "2024-01-20T04:32:16.035373Z",
     "iopub.status.idle": "2024-01-20T04:32:16.040717Z",
     "shell.execute_reply": "2024-01-20T04:32:16.039600Z"
    }
   },
   "outputs": [],
   "source": [
    "# File path for dataset\n",
    "file_path = Path.cwd().parents[0] / \"data\" / \"online_retail.xlsx\"\n",
    "assert file_path.exists(), f\"file doesn't exist: {file_path}\"\n",
    "assert file_path.is_file(), f\"not a file: {file_path}\""
   ]
  },
  {
   "cell_type": "code",
   "execution_count": 3,
   "id": "8facc7ee",
   "metadata": {
    "execution": {
     "iopub.execute_input": "2024-01-20T04:32:16.045950Z",
     "iopub.status.busy": "2024-01-20T04:32:16.045546Z",
     "iopub.status.idle": "2024-01-20T04:33:25.098914Z",
     "shell.execute_reply": "2024-01-20T04:33:25.097919Z"
    }
   },
   "outputs": [],
   "source": [
    "# Columns I'll actually use\n",
    "cols = [\"InvoiceNo\", \"InvoiceDate\", \"CustomerID\", \"Quantity\", \"UnitPrice\"]\n",
    "\n",
    "df = pd.read_excel(\n",
    "    file_path,\n",
    "    usecols=cols,\n",
    "    dtype={col: object for col in cols},\n",
    ").loc[:, cols]\n",
    "df = cast(pd.DataFrame, df)"
   ]
  },
  {
   "cell_type": "code",
   "execution_count": 4,
   "id": "715cecea",
   "metadata": {
    "execution": {
     "iopub.execute_input": "2024-01-20T04:33:25.102925Z",
     "iopub.status.busy": "2024-01-20T04:33:25.102594Z",
     "iopub.status.idle": "2024-01-20T04:33:25.120244Z",
     "shell.execute_reply": "2024-01-20T04:33:25.118972Z"
    }
   },
   "outputs": [
    {
     "data": {
      "text/html": [
       "<div>\n",
       "<style scoped>\n",
       "    .dataframe tbody tr th:only-of-type {\n",
       "        vertical-align: middle;\n",
       "    }\n",
       "\n",
       "    .dataframe tbody tr th {\n",
       "        vertical-align: top;\n",
       "    }\n",
       "\n",
       "    .dataframe thead th {\n",
       "        text-align: right;\n",
       "    }\n",
       "</style>\n",
       "<table border=\"1\" class=\"dataframe\">\n",
       "  <thead>\n",
       "    <tr style=\"text-align: right;\">\n",
       "      <th></th>\n",
       "      <th>InvoiceNo</th>\n",
       "      <th>InvoiceDate</th>\n",
       "      <th>CustomerID</th>\n",
       "      <th>Quantity</th>\n",
       "      <th>UnitPrice</th>\n",
       "    </tr>\n",
       "  </thead>\n",
       "  <tbody>\n",
       "    <tr>\n",
       "      <th>0</th>\n",
       "      <td>536365</td>\n",
       "      <td>2010-12-01 08:26:00</td>\n",
       "      <td>17850</td>\n",
       "      <td>6</td>\n",
       "      <td>2.55</td>\n",
       "    </tr>\n",
       "    <tr>\n",
       "      <th>1</th>\n",
       "      <td>536365</td>\n",
       "      <td>2010-12-01 08:26:00</td>\n",
       "      <td>17850</td>\n",
       "      <td>6</td>\n",
       "      <td>3.39</td>\n",
       "    </tr>\n",
       "    <tr>\n",
       "      <th>2</th>\n",
       "      <td>536365</td>\n",
       "      <td>2010-12-01 08:26:00</td>\n",
       "      <td>17850</td>\n",
       "      <td>8</td>\n",
       "      <td>2.75</td>\n",
       "    </tr>\n",
       "    <tr>\n",
       "      <th>3</th>\n",
       "      <td>536365</td>\n",
       "      <td>2010-12-01 08:26:00</td>\n",
       "      <td>17850</td>\n",
       "      <td>6</td>\n",
       "      <td>3.39</td>\n",
       "    </tr>\n",
       "    <tr>\n",
       "      <th>4</th>\n",
       "      <td>536365</td>\n",
       "      <td>2010-12-01 08:26:00</td>\n",
       "      <td>17850</td>\n",
       "      <td>6</td>\n",
       "      <td>3.39</td>\n",
       "    </tr>\n",
       "    <tr>\n",
       "      <th>5</th>\n",
       "      <td>536365</td>\n",
       "      <td>2010-12-01 08:26:00</td>\n",
       "      <td>17850</td>\n",
       "      <td>2</td>\n",
       "      <td>7.65</td>\n",
       "    </tr>\n",
       "    <tr>\n",
       "      <th>6</th>\n",
       "      <td>536365</td>\n",
       "      <td>2010-12-01 08:26:00</td>\n",
       "      <td>17850</td>\n",
       "      <td>6</td>\n",
       "      <td>4.25</td>\n",
       "    </tr>\n",
       "    <tr>\n",
       "      <th>7</th>\n",
       "      <td>536366</td>\n",
       "      <td>2010-12-01 08:28:00</td>\n",
       "      <td>17850</td>\n",
       "      <td>6</td>\n",
       "      <td>1.85</td>\n",
       "    </tr>\n",
       "    <tr>\n",
       "      <th>8</th>\n",
       "      <td>536366</td>\n",
       "      <td>2010-12-01 08:28:00</td>\n",
       "      <td>17850</td>\n",
       "      <td>6</td>\n",
       "      <td>1.85</td>\n",
       "    </tr>\n",
       "    <tr>\n",
       "      <th>9</th>\n",
       "      <td>536367</td>\n",
       "      <td>2010-12-01 08:34:00</td>\n",
       "      <td>13047</td>\n",
       "      <td>32</td>\n",
       "      <td>1.69</td>\n",
       "    </tr>\n",
       "  </tbody>\n",
       "</table>\n",
       "</div>"
      ],
      "text/plain": [
       "  InvoiceNo         InvoiceDate CustomerID Quantity UnitPrice\n",
       "0    536365 2010-12-01 08:26:00      17850        6      2.55\n",
       "1    536365 2010-12-01 08:26:00      17850        6      3.39\n",
       "2    536365 2010-12-01 08:26:00      17850        8      2.75\n",
       "3    536365 2010-12-01 08:26:00      17850        6      3.39\n",
       "4    536365 2010-12-01 08:26:00      17850        6      3.39\n",
       "5    536365 2010-12-01 08:26:00      17850        2      7.65\n",
       "6    536365 2010-12-01 08:26:00      17850        6      4.25\n",
       "7    536366 2010-12-01 08:28:00      17850        6      1.85\n",
       "8    536366 2010-12-01 08:28:00      17850        6      1.85\n",
       "9    536367 2010-12-01 08:34:00      13047       32      1.69"
      ]
     },
     "execution_count": 4,
     "metadata": {},
     "output_type": "execute_result"
    }
   ],
   "source": [
    "df.head(10)"
   ]
  },
  {
   "cell_type": "code",
   "execution_count": 5,
   "id": "998653c5",
   "metadata": {
    "execution": {
     "iopub.execute_input": "2024-01-20T04:33:25.125449Z",
     "iopub.status.busy": "2024-01-20T04:33:25.124047Z",
     "iopub.status.idle": "2024-01-20T04:33:25.332179Z",
     "shell.execute_reply": "2024-01-20T04:33:25.331147Z"
    }
   },
   "outputs": [
    {
     "name": "stdout",
     "output_type": "stream",
     "text": [
      "<class 'pandas.core.frame.DataFrame'>\n",
      "RangeIndex: 541909 entries, 0 to 541908\n",
      "Data columns (total 5 columns):\n",
      " #   Column       Non-Null Count   Dtype         \n",
      "---  ------       --------------   -----         \n",
      " 0   InvoiceNo    541909 non-null  object        \n",
      " 1   InvoiceDate  541909 non-null  datetime64[ns]\n",
      " 2   CustomerID   406829 non-null  object        \n",
      " 3   Quantity     541909 non-null  object        \n",
      " 4   UnitPrice    541909 non-null  object        \n",
      "dtypes: datetime64[ns](1), object(4)\n",
      "memory usage: 20.7+ MB\n"
     ]
    }
   ],
   "source": [
    "df.info()"
   ]
  },
  {
   "cell_type": "markdown",
   "id": "ddd8c143",
   "metadata": {},
   "source": [
    "## Data cleaning"
   ]
  },
  {
   "cell_type": "code",
   "execution_count": 6,
   "id": "867455c2",
   "metadata": {
    "execution": {
     "iopub.execute_input": "2024-01-20T04:33:25.337011Z",
     "iopub.status.busy": "2024-01-20T04:33:25.336623Z",
     "iopub.status.idle": "2024-01-20T04:33:25.456936Z",
     "shell.execute_reply": "2024-01-20T04:33:25.455953Z"
    }
   },
   "outputs": [
    {
     "data": {
      "text/plain": [
       "InvoiceNo           0\n",
       "InvoiceDate         0\n",
       "CustomerID     135080\n",
       "Quantity            0\n",
       "UnitPrice           0\n",
       "dtype: int64"
      ]
     },
     "execution_count": 6,
     "metadata": {},
     "output_type": "execute_result"
    }
   ],
   "source": [
    "# Missing values\n",
    "df.isna().sum()"
   ]
  },
  {
   "cell_type": "markdown",
   "id": "b940f097",
   "metadata": {},
   "source": [
    "I really need to know who bought what. In other words, rows with missing\n",
    "`CustomerID` have to go."
   ]
  },
  {
   "cell_type": "code",
   "execution_count": 7,
   "id": "95b50dd7",
   "metadata": {
    "execution": {
     "iopub.execute_input": "2024-01-20T04:33:25.460976Z",
     "iopub.status.busy": "2024-01-20T04:33:25.460683Z",
     "iopub.status.idle": "2024-01-20T04:33:25.818520Z",
     "shell.execute_reply": "2024-01-20T04:33:25.817667Z"
    }
   },
   "outputs": [
    {
     "name": "stdout",
     "output_type": "stream",
     "text": [
      "<class 'pandas.core.frame.DataFrame'>\n",
      "Index: 406829 entries, 0 to 541908\n",
      "Data columns (total 5 columns):\n",
      " #   Column       Non-Null Count   Dtype         \n",
      "---  ------       --------------   -----         \n",
      " 0   InvoiceNo    406829 non-null  object        \n",
      " 1   InvoiceDate  406829 non-null  datetime64[ns]\n",
      " 2   CustomerID   406829 non-null  object        \n",
      " 3   Quantity     406829 non-null  object        \n",
      " 4   UnitPrice    406829 non-null  object        \n",
      "dtypes: datetime64[ns](1), object(4)\n",
      "memory usage: 18.6+ MB\n"
     ]
    }
   ],
   "source": [
    "df = df.dropna()\n",
    "df.info()"
   ]
  },
  {
   "cell_type": "code",
   "execution_count": 8,
   "id": "131f0a7f",
   "metadata": {
    "execution": {
     "iopub.execute_input": "2024-01-20T04:33:25.822889Z",
     "iopub.status.busy": "2024-01-20T04:33:25.822595Z",
     "iopub.status.idle": "2024-01-20T04:33:25.856062Z",
     "shell.execute_reply": "2024-01-20T04:33:25.854979Z"
    }
   },
   "outputs": [
    {
     "data": {
      "text/plain": [
       "8905"
      ]
     },
     "execution_count": 8,
     "metadata": {},
     "output_type": "execute_result"
    }
   ],
   "source": [
    "# Look for invalid quantities\n",
    "(df[\"Quantity\"] <= 0).sum()"
   ]
  },
  {
   "cell_type": "markdown",
   "id": "7cab5081",
   "metadata": {},
   "source": [
    "Not every row corresponds to a sale. When the invoice number starts with \"C\",\n",
    "that transaction was canceled. That explains the observations with\n",
    "non-positive quantities."
   ]
  },
  {
   "cell_type": "code",
   "execution_count": 9,
   "id": "d0ed16c7",
   "metadata": {
    "execution": {
     "iopub.execute_input": "2024-01-20T04:33:25.860379Z",
     "iopub.status.busy": "2024-01-20T04:33:25.860078Z",
     "iopub.status.idle": "2024-01-20T04:33:26.118679Z",
     "shell.execute_reply": "2024-01-20T04:33:26.117628Z"
    }
   },
   "outputs": [
    {
     "data": {
      "text/plain": [
       "8905"
      ]
     },
     "execution_count": 9,
     "metadata": {},
     "output_type": "execute_result"
    }
   ],
   "source": [
    "df[\"InvoiceNo\"].astype(str).str.startswith(\"C\").sum()"
   ]
  },
  {
   "cell_type": "markdown",
   "id": "4a557496",
   "metadata": {},
   "source": [
    "I chose to remove those rows:"
   ]
  },
  {
   "cell_type": "code",
   "execution_count": 10,
   "id": "984b7c0e",
   "metadata": {
    "execution": {
     "iopub.execute_input": "2024-01-20T04:33:26.124209Z",
     "iopub.status.busy": "2024-01-20T04:33:26.123104Z",
     "iopub.status.idle": "2024-01-20T04:33:26.443174Z",
     "shell.execute_reply": "2024-01-20T04:33:26.442018Z"
    }
   },
   "outputs": [],
   "source": [
    "df = df.loc[df[\"Quantity\"] > 0, :]\n",
    "df = cast(pd.DataFrame, df)\n",
    "\n",
    "# Quick check\n",
    "assert df[\"InvoiceNo\"].astype(str).str.startswith(\"C\").sum() == 0, \"there are remaining canceled transactions\""
   ]
  },
  {
   "cell_type": "code",
   "execution_count": 11,
   "id": "622bff31",
   "metadata": {
    "execution": {
     "iopub.execute_input": "2024-01-20T04:33:26.449207Z",
     "iopub.status.busy": "2024-01-20T04:33:26.448395Z",
     "iopub.status.idle": "2024-01-20T04:33:26.515597Z",
     "shell.execute_reply": "2024-01-20T04:33:26.514504Z"
    }
   },
   "outputs": [
    {
     "data": {
      "text/plain": [
       "40"
      ]
     },
     "execution_count": 11,
     "metadata": {},
     "output_type": "execute_result"
    }
   ],
   "source": [
    "# Look for invalid prices\n",
    "(df[\"UnitPrice\"] == 0.0).sum()"
   ]
  },
  {
   "cell_type": "markdown",
   "id": "0454aeb5",
   "metadata": {},
   "source": [
    "I don't know how to explain such values. They should make no difference. Then\n",
    "I chose to drop them:"
   ]
  },
  {
   "cell_type": "code",
   "execution_count": 12,
   "id": "480bc8db",
   "metadata": {
    "execution": {
     "iopub.execute_input": "2024-01-20T04:33:26.519875Z",
     "iopub.status.busy": "2024-01-20T04:33:26.519201Z",
     "iopub.status.idle": "2024-01-20T04:33:26.584507Z",
     "shell.execute_reply": "2024-01-20T04:33:26.583491Z"
    }
   },
   "outputs": [],
   "source": [
    "df = df.loc[df[\"UnitPrice\"] != 0.0, :]\n",
    "df = cast(pd.DataFrame, df)"
   ]
  },
  {
   "cell_type": "markdown",
   "id": "10e889f6",
   "metadata": {},
   "source": [
    "## Finish fixing dataset"
   ]
  },
  {
   "cell_type": "code",
   "execution_count": 13,
   "id": "26f1881e",
   "metadata": {
    "execution": {
     "iopub.execute_input": "2024-01-20T04:33:26.589525Z",
     "iopub.status.busy": "2024-01-20T04:33:26.588987Z",
     "iopub.status.idle": "2024-01-20T04:33:26.697847Z",
     "shell.execute_reply": "2024-01-20T04:33:26.696714Z"
    }
   },
   "outputs": [
    {
     "name": "stdout",
     "output_type": "stream",
     "text": [
      "<class 'pandas.core.frame.DataFrame'>\n",
      "RangeIndex: 397884 entries, 0 to 397883\n",
      "Data columns (total 5 columns):\n",
      " #   Column       Non-Null Count   Dtype         \n",
      "---  ------       --------------   -----         \n",
      " 0   InvoiceNo    397884 non-null  object        \n",
      " 1   InvoiceDate  397884 non-null  datetime64[ns]\n",
      " 2   CustomerID   397884 non-null  object        \n",
      " 3   Quantity     397884 non-null  object        \n",
      " 4   UnitPrice    397884 non-null  object        \n",
      "dtypes: datetime64[ns](1), object(4)\n",
      "memory usage: 15.2+ MB\n"
     ]
    }
   ],
   "source": [
    "df = df.reset_index(drop=True)\n",
    "df.info()"
   ]
  },
  {
   "cell_type": "code",
   "execution_count": 14,
   "id": "ad44a0ab",
   "metadata": {
    "execution": {
     "iopub.execute_input": "2024-01-20T04:33:26.702326Z",
     "iopub.status.busy": "2024-01-20T04:33:26.702025Z",
     "iopub.status.idle": "2024-01-20T04:33:26.830179Z",
     "shell.execute_reply": "2024-01-20T04:33:26.829132Z"
    }
   },
   "outputs": [
    {
     "data": {
      "text/plain": [
       "InvoiceNo            category\n",
       "InvoiceDate    datetime64[ns]\n",
       "CustomerID           category\n",
       "Quantity                int64\n",
       "UnitPrice             float64\n",
       "dtype: object"
      ]
     },
     "execution_count": 14,
     "metadata": {},
     "output_type": "execute_result"
    }
   ],
   "source": [
    "# Use appropriate data types\n",
    "df[\"InvoiceNo\"] = df[\"InvoiceNo\"].astype(\"category\")\n",
    "df[\"CustomerID\"] = df[\"CustomerID\"].astype(\"category\")\n",
    "df[\"Quantity\"] = df[\"Quantity\"].astype(np.int_)\n",
    "df[\"UnitPrice\"] = df[\"UnitPrice\"].astype(np.float_)\n",
    "\n",
    "df.dtypes"
   ]
  },
  {
   "cell_type": "markdown",
   "id": "42fc0b50",
   "metadata": {},
   "source": [
    "The only part of `InvoiceDate` that matters is the date. The following\n",
    "command sets all the times to midnight:"
   ]
  },
  {
   "cell_type": "code",
   "execution_count": 15,
   "id": "30f05c82",
   "metadata": {
    "execution": {
     "iopub.execute_input": "2024-01-20T04:33:26.834204Z",
     "iopub.status.busy": "2024-01-20T04:33:26.833916Z",
     "iopub.status.idle": "2024-01-20T04:33:26.860367Z",
     "shell.execute_reply": "2024-01-20T04:33:26.859195Z"
    }
   },
   "outputs": [
    {
     "data": {
      "text/plain": [
       "0   2010-12-01\n",
       "1   2010-12-01\n",
       "2   2010-12-01\n",
       "3   2010-12-01\n",
       "4   2010-12-01\n",
       "Name: InvoiceDate, dtype: datetime64[ns]"
      ]
     },
     "execution_count": 15,
     "metadata": {},
     "output_type": "execute_result"
    }
   ],
   "source": [
    "df[\"InvoiceDate\"] = df[\"InvoiceDate\"].dt.normalize()\n",
    "df[\"InvoiceDate\"].head()"
   ]
  },
  {
   "cell_type": "markdown",
   "id": "1278a040",
   "metadata": {
    "lines_to_next_cell": 2
   },
   "source": [
    "For convenience, I'll collect the essential parts of the above code, and\n",
    "create a function:"
   ]
  },
  {
   "cell_type": "code",
   "execution_count": 16,
   "id": "cd401d36",
   "metadata": {
    "execution": {
     "iopub.execute_input": "2024-01-20T04:33:26.864513Z",
     "iopub.status.busy": "2024-01-20T04:33:26.863921Z",
     "iopub.status.idle": "2024-01-20T04:33:26.871910Z",
     "shell.execute_reply": "2024-01-20T04:33:26.870896Z"
    }
   },
   "outputs": [],
   "source": [
    "def get_clean_data(file_path: Path) -> pd.DataFrame:\n",
    "    cols = [\"InvoiceNo\", \"InvoiceDate\", \"CustomerID\", \"Quantity\", \"UnitPrice\"]\n",
    "    df = pd.read_excel(file_path, usecols=cols, dtype={col: object for col in cols}).loc[:, cols]\n",
    "    df = cast(pd.DataFrame, df)\n",
    "\n",
    "    df = df.dropna()\n",
    "\n",
    "    df = df.loc[df[\"Quantity\"] > 0, :]\n",
    "    df = cast(pd.DataFrame, df)\n",
    "\n",
    "    df = df.loc[df[\"UnitPrice\"] != 0.0, :]\n",
    "    df = cast(pd.DataFrame, df)\n",
    "\n",
    "    df = df.reset_index(drop=True)\n",
    "\n",
    "    df[\"InvoiceNo\"] = df[\"InvoiceNo\"].astype(\"category\")\n",
    "    df[\"CustomerID\"] = df[\"CustomerID\"].astype(\"category\")\n",
    "    df[\"Quantity\"] = df[\"Quantity\"].astype(np.int_)\n",
    "    df[\"UnitPrice\"] = df[\"UnitPrice\"].astype(np.float_)\n",
    "\n",
    "    df[\"InvoiceDate\"] = df[\"InvoiceDate\"].dt.normalize()\n",
    "\n",
    "    return df"
   ]
  },
  {
   "cell_type": "code",
   "execution_count": 17,
   "id": "3e7450ed",
   "metadata": {
    "execution": {
     "iopub.execute_input": "2024-01-20T04:33:26.876727Z",
     "iopub.status.busy": "2024-01-20T04:33:26.876034Z",
     "iopub.status.idle": "2024-01-20T04:34:45.419215Z",
     "shell.execute_reply": "2024-01-20T04:34:45.418094Z"
    }
   },
   "outputs": [],
   "source": [
    "# Quick check\n",
    "df_func = get_clean_data(file_path)\n",
    "assert_frame_equal(df_func, df)\n",
    "del df_func"
   ]
  },
  {
   "cell_type": "markdown",
   "id": "88f78f43",
   "metadata": {},
   "source": [
    "## Aggregate data\n",
    "\n",
    "Before aggregating the data, I'll do some more consistency tests. Rows with\n",
    "the same `InvoiceNo` must also have the same `InvoiceDate`. For a specific\n",
    "value of `InvoiceNo`, this can be tested as follows:"
   ]
  },
  {
   "cell_type": "code",
   "execution_count": 18,
   "id": "e6b30edb",
   "metadata": {
    "execution": {
     "iopub.execute_input": "2024-01-20T04:34:45.423469Z",
     "iopub.status.busy": "2024-01-20T04:34:45.423061Z",
     "iopub.status.idle": "2024-01-20T04:34:45.431799Z",
     "shell.execute_reply": "2024-01-20T04:34:45.430747Z"
    }
   },
   "outputs": [
    {
     "data": {
      "text/plain": [
       "True"
      ]
     },
     "execution_count": 18,
     "metadata": {},
     "output_type": "execute_result"
    }
   ],
   "source": [
    "df.loc[df[\"InvoiceNo\"] == 536365, \"InvoiceDate\"].nunique() == 1"
   ]
  },
  {
   "cell_type": "markdown",
   "id": "6acce2f2",
   "metadata": {},
   "source": [
    "To test all values of `InvoiceNo`, one can do the following:"
   ]
  },
  {
   "cell_type": "code",
   "execution_count": 19,
   "id": "494a024b",
   "metadata": {
    "execution": {
     "iopub.execute_input": "2024-01-20T04:34:45.435938Z",
     "iopub.status.busy": "2024-01-20T04:34:45.435600Z",
     "iopub.status.idle": "2024-01-20T04:34:45.483872Z",
     "shell.execute_reply": "2024-01-20T04:34:45.482750Z"
    }
   },
   "outputs": [
    {
     "data": {
      "text/plain": [
       "True"
      ]
     },
     "execution_count": 19,
     "metadata": {},
     "output_type": "execute_result"
    }
   ],
   "source": [
    "df.groupby(by=\"InvoiceNo\", observed=True).InvoiceDate.nunique().eq(1).all()"
   ]
  },
  {
   "cell_type": "markdown",
   "id": "65146ddf",
   "metadata": {},
   "source": [
    "Similarly, rows with the same `InvoiceNo` must also have the same\n",
    "`CustomerID`. Checking if this is true:"
   ]
  },
  {
   "cell_type": "code",
   "execution_count": 20,
   "id": "638727e0",
   "metadata": {
    "execution": {
     "iopub.execute_input": "2024-01-20T04:34:45.487850Z",
     "iopub.status.busy": "2024-01-20T04:34:45.487496Z",
     "iopub.status.idle": "2024-01-20T04:34:45.494828Z",
     "shell.execute_reply": "2024-01-20T04:34:45.493851Z"
    }
   },
   "outputs": [
    {
     "data": {
      "text/plain": [
       "True"
      ]
     },
     "execution_count": 20,
     "metadata": {},
     "output_type": "execute_result"
    }
   ],
   "source": [
    "# Single value\n",
    "df.loc[df[\"InvoiceNo\"] == 536365, \"CustomerID\"].nunique() == 1"
   ]
  },
  {
   "cell_type": "code",
   "execution_count": 21,
   "id": "1c0a42d2",
   "metadata": {
    "execution": {
     "iopub.execute_input": "2024-01-20T04:34:45.499646Z",
     "iopub.status.busy": "2024-01-20T04:34:45.499356Z",
     "iopub.status.idle": "2024-01-20T04:34:45.584945Z",
     "shell.execute_reply": "2024-01-20T04:34:45.584077Z"
    }
   },
   "outputs": [
    {
     "data": {
      "text/plain": [
       "True"
      ]
     },
     "execution_count": 21,
     "metadata": {},
     "output_type": "execute_result"
    }
   ],
   "source": [
    "# All values\n",
    "df.groupby(by=\"InvoiceNo\", observed=True).CustomerID.nunique().eq(1).all()"
   ]
  },
  {
   "cell_type": "markdown",
   "id": "bc1634f4",
   "metadata": {},
   "source": [
    "Everything is OK. Then I'll compute the total amount spent for each\n",
    "`InvoiceNo`."
   ]
  },
  {
   "cell_type": "code",
   "execution_count": 22,
   "id": "0419ecc9",
   "metadata": {
    "execution": {
     "iopub.execute_input": "2024-01-20T04:34:45.589080Z",
     "iopub.status.busy": "2024-01-20T04:34:45.588702Z",
     "iopub.status.idle": "2024-01-20T04:34:45.603299Z",
     "shell.execute_reply": "2024-01-20T04:34:45.602433Z"
    }
   },
   "outputs": [
    {
     "data": {
      "text/html": [
       "<div>\n",
       "<style scoped>\n",
       "    .dataframe tbody tr th:only-of-type {\n",
       "        vertical-align: middle;\n",
       "    }\n",
       "\n",
       "    .dataframe tbody tr th {\n",
       "        vertical-align: top;\n",
       "    }\n",
       "\n",
       "    .dataframe thead th {\n",
       "        text-align: right;\n",
       "    }\n",
       "</style>\n",
       "<table border=\"1\" class=\"dataframe\">\n",
       "  <thead>\n",
       "    <tr style=\"text-align: right;\">\n",
       "      <th></th>\n",
       "      <th>InvoiceNo</th>\n",
       "      <th>InvoiceDate</th>\n",
       "      <th>CustomerID</th>\n",
       "      <th>Quantity</th>\n",
       "      <th>UnitPrice</th>\n",
       "    </tr>\n",
       "  </thead>\n",
       "  <tbody>\n",
       "    <tr>\n",
       "      <th>0</th>\n",
       "      <td>536365</td>\n",
       "      <td>2010-12-01</td>\n",
       "      <td>17850</td>\n",
       "      <td>6</td>\n",
       "      <td>2.55</td>\n",
       "    </tr>\n",
       "    <tr>\n",
       "      <th>1</th>\n",
       "      <td>536365</td>\n",
       "      <td>2010-12-01</td>\n",
       "      <td>17850</td>\n",
       "      <td>6</td>\n",
       "      <td>3.39</td>\n",
       "    </tr>\n",
       "    <tr>\n",
       "      <th>2</th>\n",
       "      <td>536365</td>\n",
       "      <td>2010-12-01</td>\n",
       "      <td>17850</td>\n",
       "      <td>8</td>\n",
       "      <td>2.75</td>\n",
       "    </tr>\n",
       "    <tr>\n",
       "      <th>3</th>\n",
       "      <td>536365</td>\n",
       "      <td>2010-12-01</td>\n",
       "      <td>17850</td>\n",
       "      <td>6</td>\n",
       "      <td>3.39</td>\n",
       "    </tr>\n",
       "    <tr>\n",
       "      <th>4</th>\n",
       "      <td>536365</td>\n",
       "      <td>2010-12-01</td>\n",
       "      <td>17850</td>\n",
       "      <td>6</td>\n",
       "      <td>3.39</td>\n",
       "    </tr>\n",
       "    <tr>\n",
       "      <th>5</th>\n",
       "      <td>536365</td>\n",
       "      <td>2010-12-01</td>\n",
       "      <td>17850</td>\n",
       "      <td>2</td>\n",
       "      <td>7.65</td>\n",
       "    </tr>\n",
       "    <tr>\n",
       "      <th>6</th>\n",
       "      <td>536365</td>\n",
       "      <td>2010-12-01</td>\n",
       "      <td>17850</td>\n",
       "      <td>6</td>\n",
       "      <td>4.25</td>\n",
       "    </tr>\n",
       "  </tbody>\n",
       "</table>\n",
       "</div>"
      ],
      "text/plain": [
       "  InvoiceNo InvoiceDate CustomerID  Quantity  UnitPrice\n",
       "0    536365  2010-12-01      17850         6       2.55\n",
       "1    536365  2010-12-01      17850         6       3.39\n",
       "2    536365  2010-12-01      17850         8       2.75\n",
       "3    536365  2010-12-01      17850         6       3.39\n",
       "4    536365  2010-12-01      17850         6       3.39\n",
       "5    536365  2010-12-01      17850         2       7.65\n",
       "6    536365  2010-12-01      17850         6       4.25"
      ]
     },
     "execution_count": 22,
     "metadata": {},
     "output_type": "execute_result"
    }
   ],
   "source": [
    "# Figuring out how to do it\n",
    "tmp_df = df.loc[df[\"InvoiceNo\"] == 536365, :]\n",
    "tmp_df = cast(pd.DataFrame, tmp_df)\n",
    "tmp_df"
   ]
  },
  {
   "cell_type": "code",
   "execution_count": 23,
   "id": "a936b4c1",
   "metadata": {
    "execution": {
     "iopub.execute_input": "2024-01-20T04:34:45.608394Z",
     "iopub.status.busy": "2024-01-20T04:34:45.607872Z",
     "iopub.status.idle": "2024-01-20T04:34:45.616969Z",
     "shell.execute_reply": "2024-01-20T04:34:45.616016Z"
    }
   },
   "outputs": [
    {
     "data": {
      "text/plain": [
       "InvoiceDate    2010-12-01 00:00:00\n",
       "CustomerID                   17850\n",
       "TotalPrice                  139.12\n",
       "dtype: object"
      ]
     },
     "execution_count": 23,
     "metadata": {},
     "output_type": "execute_result"
    }
   ],
   "source": [
    "tmp_row = pd.Series(\n",
    "    data={\n",
    "        \"InvoiceDate\": tmp_df[\"InvoiceDate\"].iloc[0],\n",
    "        \"CustomerID\": tmp_df[\"CustomerID\"].iloc[0],\n",
    "        \"TotalPrice\": (tmp_df[\"Quantity\"] * tmp_df[\"UnitPrice\"]).sum(),\n",
    "    }\n",
    ")\n",
    "tmp_row"
   ]
  },
  {
   "cell_type": "code",
   "execution_count": 24,
   "id": "b76c18d8",
   "metadata": {
    "execution": {
     "iopub.execute_input": "2024-01-20T04:34:45.621686Z",
     "iopub.status.busy": "2024-01-20T04:34:45.621276Z",
     "iopub.status.idle": "2024-01-20T04:34:45.625598Z",
     "shell.execute_reply": "2024-01-20T04:34:45.624570Z"
    }
   },
   "outputs": [],
   "source": [
    "del tmp_df\n",
    "del tmp_row"
   ]
  },
  {
   "cell_type": "code",
   "execution_count": 25,
   "id": "48a7460a",
   "metadata": {
    "execution": {
     "iopub.execute_input": "2024-01-20T04:34:45.630209Z",
     "iopub.status.busy": "2024-01-20T04:34:45.629896Z",
     "iopub.status.idle": "2024-01-20T04:35:00.181320Z",
     "shell.execute_reply": "2024-01-20T04:35:00.180366Z"
    }
   },
   "outputs": [],
   "source": [
    "# Actual calculation\n",
    "def compute_total_price(df_group: pd.DataFrame) -> pd.Series:\n",
    "    return pd.Series(\n",
    "        data={\n",
    "            \"InvoiceDate\": df_group[\"InvoiceDate\"].iloc[0],\n",
    "            \"CustomerID\": df_group[\"CustomerID\"].iloc[0],\n",
    "            \"TotalPrice\": (df_group[\"Quantity\"] * df_group[\"UnitPrice\"]).sum(),\n",
    "        }\n",
    "    )\n",
    "\n",
    "\n",
    "df_total = df.groupby(by=\"InvoiceNo\", observed=True).apply(compute_total_price).reset_index()"
   ]
  },
  {
   "cell_type": "code",
   "execution_count": 26,
   "id": "2d3dc1ce",
   "metadata": {
    "execution": {
     "iopub.execute_input": "2024-01-20T04:35:00.186269Z",
     "iopub.status.busy": "2024-01-20T04:35:00.185794Z",
     "iopub.status.idle": "2024-01-20T04:35:00.196738Z",
     "shell.execute_reply": "2024-01-20T04:35:00.195580Z"
    }
   },
   "outputs": [
    {
     "data": {
      "text/html": [
       "<div>\n",
       "<style scoped>\n",
       "    .dataframe tbody tr th:only-of-type {\n",
       "        vertical-align: middle;\n",
       "    }\n",
       "\n",
       "    .dataframe tbody tr th {\n",
       "        vertical-align: top;\n",
       "    }\n",
       "\n",
       "    .dataframe thead th {\n",
       "        text-align: right;\n",
       "    }\n",
       "</style>\n",
       "<table border=\"1\" class=\"dataframe\">\n",
       "  <thead>\n",
       "    <tr style=\"text-align: right;\">\n",
       "      <th></th>\n",
       "      <th>InvoiceNo</th>\n",
       "      <th>InvoiceDate</th>\n",
       "      <th>CustomerID</th>\n",
       "      <th>TotalPrice</th>\n",
       "    </tr>\n",
       "  </thead>\n",
       "  <tbody>\n",
       "    <tr>\n",
       "      <th>0</th>\n",
       "      <td>536365</td>\n",
       "      <td>2010-12-01</td>\n",
       "      <td>17850</td>\n",
       "      <td>139.12</td>\n",
       "    </tr>\n",
       "    <tr>\n",
       "      <th>1</th>\n",
       "      <td>536366</td>\n",
       "      <td>2010-12-01</td>\n",
       "      <td>17850</td>\n",
       "      <td>22.20</td>\n",
       "    </tr>\n",
       "    <tr>\n",
       "      <th>2</th>\n",
       "      <td>536367</td>\n",
       "      <td>2010-12-01</td>\n",
       "      <td>13047</td>\n",
       "      <td>278.73</td>\n",
       "    </tr>\n",
       "    <tr>\n",
       "      <th>3</th>\n",
       "      <td>536368</td>\n",
       "      <td>2010-12-01</td>\n",
       "      <td>13047</td>\n",
       "      <td>70.05</td>\n",
       "    </tr>\n",
       "    <tr>\n",
       "      <th>4</th>\n",
       "      <td>536369</td>\n",
       "      <td>2010-12-01</td>\n",
       "      <td>13047</td>\n",
       "      <td>17.85</td>\n",
       "    </tr>\n",
       "  </tbody>\n",
       "</table>\n",
       "</div>"
      ],
      "text/plain": [
       "  InvoiceNo InvoiceDate  CustomerID  TotalPrice\n",
       "0    536365  2010-12-01       17850      139.12\n",
       "1    536366  2010-12-01       17850       22.20\n",
       "2    536367  2010-12-01       13047      278.73\n",
       "3    536368  2010-12-01       13047       70.05\n",
       "4    536369  2010-12-01       13047       17.85"
      ]
     },
     "execution_count": 26,
     "metadata": {},
     "output_type": "execute_result"
    }
   ],
   "source": [
    "df_total.head()"
   ]
  },
  {
   "cell_type": "code",
   "execution_count": 27,
   "id": "21aa8847",
   "metadata": {
    "execution": {
     "iopub.execute_input": "2024-01-20T04:35:00.201315Z",
     "iopub.status.busy": "2024-01-20T04:35:00.200964Z",
     "iopub.status.idle": "2024-01-20T04:35:00.213501Z",
     "shell.execute_reply": "2024-01-20T04:35:00.212315Z"
    }
   },
   "outputs": [
    {
     "name": "stdout",
     "output_type": "stream",
     "text": [
      "<class 'pandas.core.frame.DataFrame'>\n",
      "RangeIndex: 18532 entries, 0 to 18531\n",
      "Data columns (total 4 columns):\n",
      " #   Column       Non-Null Count  Dtype         \n",
      "---  ------       --------------  -----         \n",
      " 0   InvoiceNo    18532 non-null  category      \n",
      " 1   InvoiceDate  18532 non-null  datetime64[ns]\n",
      " 2   CustomerID   18532 non-null  int64         \n",
      " 3   TotalPrice   18532 non-null  float64       \n",
      "dtypes: category(1), datetime64[ns](1), float64(1), int64(1)\n",
      "memory usage: 1.1 MB\n"
     ]
    }
   ],
   "source": [
    "df_total.info()"
   ]
  },
  {
   "cell_type": "markdown",
   "id": "7dc70fd9",
   "metadata": {},
   "source": [
    "## Save prepared data\n",
    "\n",
    "Clearly, I've ended up with a much smaller dataset than the original. To\n",
    "avoid having to repeat the above steps, I'll save the new `DataFrame` to a\n",
    "CSV file."
   ]
  },
  {
   "cell_type": "code",
   "execution_count": 28,
   "id": "f2b26262",
   "metadata": {
    "execution": {
     "iopub.execute_input": "2024-01-20T04:35:00.217661Z",
     "iopub.status.busy": "2024-01-20T04:35:00.217297Z",
     "iopub.status.idle": "2024-01-20T04:35:00.307729Z",
     "shell.execute_reply": "2024-01-20T04:35:00.306752Z"
    }
   },
   "outputs": [],
   "source": [
    "# File path for output CSV\n",
    "out_file = file_path.parent / \"online_retail.csv\"\n",
    "\n",
    "df_total.to_csv(out_file, index=False)"
   ]
  }
 ],
 "metadata": {
  "jupytext": {
   "cell_metadata_filter": "-all",
   "main_language": "python",
   "notebook_metadata_filter": "-all"
  },
  "language_info": {
   "codemirror_mode": {
    "name": "ipython",
    "version": 3
   },
   "file_extension": ".py",
   "mimetype": "text/x-python",
   "name": "python",
   "nbconvert_exporter": "python",
   "pygments_lexer": "ipython3",
   "version": "3.11.6"
  }
 },
 "nbformat": 4,
 "nbformat_minor": 5
}
