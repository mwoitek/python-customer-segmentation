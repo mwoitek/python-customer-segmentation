{
 "cells": [
  {
   "cell_type": "markdown",
   "id": "1d307ff0",
   "metadata": {},
   "source": [
    "# Online Retail Dataset: Customer Segmentation\n",
    "\n",
    "In this notebook, we'll perform the actual customer segmentation. More\n",
    "precisely, we'll use our results for the RFM scores to divide the customers\n",
    "into meaningful segments.\n",
    "\n",
    "## Imports"
   ]
  },
  {
   "cell_type": "code",
   "execution_count": 1,
   "id": "2d77f8d6",
   "metadata": {
    "execution": {
     "iopub.execute_input": "2024-01-30T03:31:40.385010Z",
     "iopub.status.busy": "2024-01-30T03:31:40.382823Z",
     "iopub.status.idle": "2024-01-30T03:31:41.411402Z",
     "shell.execute_reply": "2024-01-30T03:31:41.410410Z"
    }
   },
   "outputs": [],
   "source": [
    "from pathlib import Path\n",
    "from typing import cast\n",
    "\n",
    "import matplotlib.pyplot as plt\n",
    "import numpy as np\n",
    "import pandas as pd\n",
    "from matplotlib.axes import Axes\n",
    "from matplotlib.ticker import AutoMinorLocator\n",
    "from more_itertools import unique_everseen\n",
    "from pandas.testing import assert_frame_equal, assert_series_equal"
   ]
  },
  {
   "cell_type": "markdown",
   "id": "31b0bd32",
   "metadata": {},
   "source": [
    "## Read RFM scores"
   ]
  },
  {
   "cell_type": "code",
   "execution_count": 2,
   "id": "d4a8ebd8",
   "metadata": {
    "execution": {
     "iopub.execute_input": "2024-01-30T03:31:41.416377Z",
     "iopub.status.busy": "2024-01-30T03:31:41.415093Z",
     "iopub.status.idle": "2024-01-30T03:31:41.421245Z",
     "shell.execute_reply": "2024-01-30T03:31:41.420269Z"
    }
   },
   "outputs": [],
   "source": [
    "DATA_DIR = Path.cwd().parents[1] / \"data\"\n",
    "\n",
    "# File path for dataset\n",
    "file_path = DATA_DIR / \"rfm_scores.csv\"\n",
    "assert file_path.exists(), f\"file doesn't exist: {file_path}\"\n",
    "assert file_path.is_file(), f\"not a file: {file_path}\""
   ]
  },
  {
   "cell_type": "code",
   "execution_count": 3,
   "id": "34446b95",
   "metadata": {
    "execution": {
     "iopub.execute_input": "2024-01-30T03:31:41.426242Z",
     "iopub.status.busy": "2024-01-30T03:31:41.425898Z",
     "iopub.status.idle": "2024-01-30T03:31:41.498661Z",
     "shell.execute_reply": "2024-01-30T03:31:41.497608Z"
    }
   },
   "outputs": [
    {
     "data": {
      "text/html": [
       "<div>\n",
       "<style scoped>\n",
       "    .dataframe tbody tr th:only-of-type {\n",
       "        vertical-align: middle;\n",
       "    }\n",
       "\n",
       "    .dataframe tbody tr th {\n",
       "        vertical-align: top;\n",
       "    }\n",
       "\n",
       "    .dataframe thead th {\n",
       "        text-align: right;\n",
       "    }\n",
       "</style>\n",
       "<table border=\"1\" class=\"dataframe\">\n",
       "  <thead>\n",
       "    <tr style=\"text-align: right;\">\n",
       "      <th></th>\n",
       "      <th>Recency</th>\n",
       "      <th>Frequency</th>\n",
       "      <th>Monetary</th>\n",
       "      <th>RScore</th>\n",
       "      <th>FScore</th>\n",
       "      <th>MScore</th>\n",
       "      <th>RFMCell</th>\n",
       "      <th>RFMScore</th>\n",
       "    </tr>\n",
       "    <tr>\n",
       "      <th>CustomerID</th>\n",
       "      <th></th>\n",
       "      <th></th>\n",
       "      <th></th>\n",
       "      <th></th>\n",
       "      <th></th>\n",
       "      <th></th>\n",
       "      <th></th>\n",
       "      <th></th>\n",
       "    </tr>\n",
       "  </thead>\n",
       "  <tbody>\n",
       "    <tr>\n",
       "      <th>12346</th>\n",
       "      <td>326</td>\n",
       "      <td>1</td>\n",
       "      <td>77183.60</td>\n",
       "      <td>1</td>\n",
       "      <td>1</td>\n",
       "      <td>5</td>\n",
       "      <td>1,1,5</td>\n",
       "      <td>2.333333</td>\n",
       "    </tr>\n",
       "    <tr>\n",
       "      <th>12347</th>\n",
       "      <td>3</td>\n",
       "      <td>7</td>\n",
       "      <td>4310.00</td>\n",
       "      <td>5</td>\n",
       "      <td>5</td>\n",
       "      <td>5</td>\n",
       "      <td>5,5,5</td>\n",
       "      <td>5.000000</td>\n",
       "    </tr>\n",
       "    <tr>\n",
       "      <th>12348</th>\n",
       "      <td>76</td>\n",
       "      <td>4</td>\n",
       "      <td>1797.24</td>\n",
       "      <td>2</td>\n",
       "      <td>4</td>\n",
       "      <td>4</td>\n",
       "      <td>2,4,4</td>\n",
       "      <td>3.333333</td>\n",
       "    </tr>\n",
       "    <tr>\n",
       "      <th>12349</th>\n",
       "      <td>19</td>\n",
       "      <td>1</td>\n",
       "      <td>1757.55</td>\n",
       "      <td>4</td>\n",
       "      <td>1</td>\n",
       "      <td>4</td>\n",
       "      <td>4,1,4</td>\n",
       "      <td>3.000000</td>\n",
       "    </tr>\n",
       "    <tr>\n",
       "      <th>12350</th>\n",
       "      <td>311</td>\n",
       "      <td>1</td>\n",
       "      <td>334.40</td>\n",
       "      <td>1</td>\n",
       "      <td>1</td>\n",
       "      <td>2</td>\n",
       "      <td>1,1,2</td>\n",
       "      <td>1.333333</td>\n",
       "    </tr>\n",
       "    <tr>\n",
       "      <th>12352</th>\n",
       "      <td>37</td>\n",
       "      <td>8</td>\n",
       "      <td>2506.04</td>\n",
       "      <td>3</td>\n",
       "      <td>5</td>\n",
       "      <td>5</td>\n",
       "      <td>3,5,5</td>\n",
       "      <td>4.333333</td>\n",
       "    </tr>\n",
       "    <tr>\n",
       "      <th>12353</th>\n",
       "      <td>205</td>\n",
       "      <td>1</td>\n",
       "      <td>89.00</td>\n",
       "      <td>1</td>\n",
       "      <td>1</td>\n",
       "      <td>1</td>\n",
       "      <td>1,1,1</td>\n",
       "      <td>1.000000</td>\n",
       "    </tr>\n",
       "    <tr>\n",
       "      <th>12354</th>\n",
       "      <td>233</td>\n",
       "      <td>1</td>\n",
       "      <td>1079.40</td>\n",
       "      <td>1</td>\n",
       "      <td>1</td>\n",
       "      <td>4</td>\n",
       "      <td>1,1,4</td>\n",
       "      <td>2.000000</td>\n",
       "    </tr>\n",
       "    <tr>\n",
       "      <th>12355</th>\n",
       "      <td>215</td>\n",
       "      <td>1</td>\n",
       "      <td>459.40</td>\n",
       "      <td>1</td>\n",
       "      <td>1</td>\n",
       "      <td>2</td>\n",
       "      <td>1,1,2</td>\n",
       "      <td>1.333333</td>\n",
       "    </tr>\n",
       "    <tr>\n",
       "      <th>12356</th>\n",
       "      <td>23</td>\n",
       "      <td>3</td>\n",
       "      <td>2811.43</td>\n",
       "      <td>4</td>\n",
       "      <td>3</td>\n",
       "      <td>5</td>\n",
       "      <td>4,3,5</td>\n",
       "      <td>4.000000</td>\n",
       "    </tr>\n",
       "    <tr>\n",
       "      <th>12357</th>\n",
       "      <td>34</td>\n",
       "      <td>1</td>\n",
       "      <td>6207.67</td>\n",
       "      <td>3</td>\n",
       "      <td>1</td>\n",
       "      <td>5</td>\n",
       "      <td>3,1,5</td>\n",
       "      <td>3.000000</td>\n",
       "    </tr>\n",
       "    <tr>\n",
       "      <th>12358</th>\n",
       "      <td>2</td>\n",
       "      <td>2</td>\n",
       "      <td>1168.06</td>\n",
       "      <td>5</td>\n",
       "      <td>2</td>\n",
       "      <td>4</td>\n",
       "      <td>5,2,4</td>\n",
       "      <td>3.666667</td>\n",
       "    </tr>\n",
       "    <tr>\n",
       "      <th>12359</th>\n",
       "      <td>58</td>\n",
       "      <td>4</td>\n",
       "      <td>6372.58</td>\n",
       "      <td>3</td>\n",
       "      <td>4</td>\n",
       "      <td>5</td>\n",
       "      <td>3,4,5</td>\n",
       "      <td>4.000000</td>\n",
       "    </tr>\n",
       "    <tr>\n",
       "      <th>12360</th>\n",
       "      <td>53</td>\n",
       "      <td>3</td>\n",
       "      <td>2662.06</td>\n",
       "      <td>3</td>\n",
       "      <td>3</td>\n",
       "      <td>5</td>\n",
       "      <td>3,3,5</td>\n",
       "      <td>3.666667</td>\n",
       "    </tr>\n",
       "    <tr>\n",
       "      <th>12361</th>\n",
       "      <td>288</td>\n",
       "      <td>1</td>\n",
       "      <td>189.90</td>\n",
       "      <td>1</td>\n",
       "      <td>1</td>\n",
       "      <td>1</td>\n",
       "      <td>1,1,1</td>\n",
       "      <td>1.000000</td>\n",
       "    </tr>\n",
       "  </tbody>\n",
       "</table>\n",
       "</div>"
      ],
      "text/plain": [
       "            Recency  Frequency  Monetary RScore FScore MScore RFMCell  \\\n",
       "CustomerID                                                              \n",
       "12346           326          1  77183.60      1      1      5   1,1,5   \n",
       "12347             3          7   4310.00      5      5      5   5,5,5   \n",
       "12348            76          4   1797.24      2      4      4   2,4,4   \n",
       "12349            19          1   1757.55      4      1      4   4,1,4   \n",
       "12350           311          1    334.40      1      1      2   1,1,2   \n",
       "12352            37          8   2506.04      3      5      5   3,5,5   \n",
       "12353           205          1     89.00      1      1      1   1,1,1   \n",
       "12354           233          1   1079.40      1      1      4   1,1,4   \n",
       "12355           215          1    459.40      1      1      2   1,1,2   \n",
       "12356            23          3   2811.43      4      3      5   4,3,5   \n",
       "12357            34          1   6207.67      3      1      5   3,1,5   \n",
       "12358             2          2   1168.06      5      2      4   5,2,4   \n",
       "12359            58          4   6372.58      3      4      5   3,4,5   \n",
       "12360            53          3   2662.06      3      3      5   3,3,5   \n",
       "12361           288          1    189.90      1      1      1   1,1,1   \n",
       "\n",
       "            RFMScore  \n",
       "CustomerID            \n",
       "12346       2.333333  \n",
       "12347       5.000000  \n",
       "12348       3.333333  \n",
       "12349       3.000000  \n",
       "12350       1.333333  \n",
       "12352       4.333333  \n",
       "12353       1.000000  \n",
       "12354       2.000000  \n",
       "12355       1.333333  \n",
       "12356       4.000000  \n",
       "12357       3.000000  \n",
       "12358       3.666667  \n",
       "12359       4.000000  \n",
       "12360       3.666667  \n",
       "12361       1.000000  "
      ]
     },
     "execution_count": 3,
     "metadata": {},
     "output_type": "execute_result"
    }
   ],
   "source": [
    "df_rfm = pd.read_csv(\n",
    "    file_path,\n",
    "    dtype={\n",
    "        \"CustomerID\": \"category\",\n",
    "        \"Recency\": np.int_,\n",
    "        \"Frequency\": np.int_,\n",
    "        \"Monetary\": np.float_,\n",
    "        \"RScore\": \"category\",\n",
    "        \"FScore\": \"category\",\n",
    "        \"MScore\": \"category\",\n",
    "        \"RFMCell\": object,\n",
    "        \"RFMScore\": np.float_,\n",
    "    },\n",
    "    index_col=\"CustomerID\",\n",
    ")\n",
    "df_rfm.head(15)"
   ]
  },
  {
   "cell_type": "code",
   "execution_count": 4,
   "id": "0c25cc37",
   "metadata": {
    "execution": {
     "iopub.execute_input": "2024-01-30T03:31:41.502803Z",
     "iopub.status.busy": "2024-01-30T03:31:41.502361Z",
     "iopub.status.idle": "2024-01-30T03:31:41.532020Z",
     "shell.execute_reply": "2024-01-30T03:31:41.531045Z"
    }
   },
   "outputs": [
    {
     "name": "stdout",
     "output_type": "stream",
     "text": [
      "<class 'pandas.core.frame.DataFrame'>\n",
      "CategoricalIndex: 4338 entries, 12346 to 18287\n",
      "Data columns (total 8 columns):\n",
      " #   Column     Non-Null Count  Dtype   \n",
      "---  ------     --------------  -----   \n",
      " 0   Recency    4338 non-null   int64   \n",
      " 1   Frequency  4338 non-null   int64   \n",
      " 2   Monetary   4338 non-null   float64 \n",
      " 3   RScore     4338 non-null   category\n",
      " 4   FScore     4338 non-null   category\n",
      " 5   MScore     4338 non-null   category\n",
      " 6   RFMCell    4338 non-null   object  \n",
      " 7   RFMScore   4338 non-null   float64 \n",
      "dtypes: category(3), float64(2), int64(2), object(1)\n",
      "memory usage: 354.2+ KB\n"
     ]
    }
   ],
   "source": [
    "df_rfm.info()"
   ]
  },
  {
   "cell_type": "code",
   "execution_count": 5,
   "id": "94bc1cf8",
   "metadata": {
    "execution": {
     "iopub.execute_input": "2024-01-30T03:31:41.537478Z",
     "iopub.status.busy": "2024-01-30T03:31:41.536848Z",
     "iopub.status.idle": "2024-01-30T03:31:41.543336Z",
     "shell.execute_reply": "2024-01-30T03:31:41.542150Z"
    }
   },
   "outputs": [
    {
     "data": {
      "text/plain": [
       "False"
      ]
     },
     "execution_count": 5,
     "metadata": {},
     "output_type": "execute_result"
    }
   ],
   "source": [
    "# Categorical columns aren't ordered\n",
    "df_rfm[\"RScore\"].cat.ordered"
   ]
  },
  {
   "cell_type": "code",
   "execution_count": 6,
   "id": "0d5f058c",
   "metadata": {
    "execution": {
     "iopub.execute_input": "2024-01-30T03:31:41.547828Z",
     "iopub.status.busy": "2024-01-30T03:31:41.547540Z",
     "iopub.status.idle": "2024-01-30T03:31:41.555214Z",
     "shell.execute_reply": "2024-01-30T03:31:41.554290Z"
    }
   },
   "outputs": [],
   "source": [
    "# Fix categorical columns\n",
    "score_cols = [\"RScore\", \"FScore\", \"MScore\"]\n",
    "df_rfm[score_cols] = df_rfm[score_cols].transform(lambda col: col.cat.as_ordered())\n",
    "del score_cols"
   ]
  },
  {
   "cell_type": "code",
   "execution_count": 7,
   "id": "5a8ecf93",
   "metadata": {
    "execution": {
     "iopub.execute_input": "2024-01-30T03:31:41.559788Z",
     "iopub.status.busy": "2024-01-30T03:31:41.559484Z",
     "iopub.status.idle": "2024-01-30T03:31:41.567754Z",
     "shell.execute_reply": "2024-01-30T03:31:41.566722Z"
    }
   },
   "outputs": [
    {
     "data": {
      "text/plain": [
       "CustomerID\n",
       "12346    1\n",
       "12347    5\n",
       "12348    2\n",
       "12349    4\n",
       "12350    1\n",
       "Name: RScore, dtype: category\n",
       "Categories (5, object): ['1' < '2' < '3' < '4' < '5']"
      ]
     },
     "execution_count": 7,
     "metadata": {},
     "output_type": "execute_result"
    }
   ],
   "source": [
    "# Quick check\n",
    "df_rfm[\"RScore\"].head()"
   ]
  },
  {
   "cell_type": "markdown",
   "id": "d8430596",
   "metadata": {},
   "source": [
    "## Customer segmentation\n",
    "\n",
    "Next, we'll divide the customers into segments. Unfortunately, there's no\n",
    "single way to do this. More precisely, there are several ways to assign\n",
    "meaning to RFM scores. In this notebook, we'll adopt the approach described\n",
    "in this [blog post](https://nealanalytics.com/blog/customer-segmentation-using-rfm-analysis/).\n",
    "\n",
    "Specifically, we'll consider the following 11 segments:\n",
    "- Champions\n",
    "- Loyal\n",
    "- Potential Loyalists\n",
    "- New Customers\n",
    "- Promising\n",
    "- Need Attention\n",
    "- About to Sleep\n",
    "- Cannot Lose Them\n",
    "- At Risk\n",
    "- Hibernating\n",
    "- Lost\n",
    "\n",
    "For a description of these segments, see the blog post mentioned above.\n",
    "\n",
    "Before continuing, we need to make a few comments. **These segments are far\n",
    "from perfect.** For instance, we believe some of them are too broad. But\n",
    "they're the closest thing to a standard that we could find. They're also\n",
    "discussed in these articles:\n",
    "- [https://documentation.bloomreach.com/engagement/docs/rfm-segmentation](https://documentation.bloomreach.com/engagement/docs/rfm-segmentation)\n",
    "- [https://shopup.me/model/rfm-segmentation/](https://shopup.me/model/rfm-segmentation/)\n",
    "- [https://www.dase-analytics.com/blog/en/rfm-analysis/](https://www.dase-analytics.com/blog/en/rfm-analysis/)\n",
    "\n",
    "### Champions\n",
    "\n",
    "Each segment is characterized by a set of values for `RFMCell`. In the case\n",
    "of \"Champions\", these values are as follows:"
   ]
  },
  {
   "cell_type": "code",
   "execution_count": 8,
   "id": "115965f4",
   "metadata": {
    "execution": {
     "iopub.execute_input": "2024-01-30T03:31:41.571603Z",
     "iopub.status.busy": "2024-01-30T03:31:41.571229Z",
     "iopub.status.idle": "2024-01-30T03:31:41.575891Z",
     "shell.execute_reply": "2024-01-30T03:31:41.574977Z"
    }
   },
   "outputs": [],
   "source": [
    "cells_1 = [\n",
    "    \"5,5,5\",\n",
    "    \"5,5,4\",\n",
    "    \"5,4,5\",\n",
    "    \"5,4,4\",\n",
    "    \"4,5,5\",\n",
    "    \"4,5,4\",\n",
    "    \"4,4,5\",\n",
    "]"
   ]
  },
  {
   "cell_type": "markdown",
   "id": "7cda62ed",
   "metadata": {},
   "source": [
    "Labeling customers:"
   ]
  },
  {
   "cell_type": "code",
   "execution_count": 9,
   "id": "13b845e1",
   "metadata": {
    "execution": {
     "iopub.execute_input": "2024-01-30T03:31:41.580363Z",
     "iopub.status.busy": "2024-01-30T03:31:41.580071Z",
     "iopub.status.idle": "2024-01-30T03:31:41.627791Z",
     "shell.execute_reply": "2024-01-30T03:31:41.626776Z"
    }
   },
   "outputs": [
    {
     "data": {
      "text/html": [
       "<div>\n",
       "<style scoped>\n",
       "    .dataframe tbody tr th:only-of-type {\n",
       "        vertical-align: middle;\n",
       "    }\n",
       "\n",
       "    .dataframe tbody tr th {\n",
       "        vertical-align: top;\n",
       "    }\n",
       "\n",
       "    .dataframe thead th {\n",
       "        text-align: right;\n",
       "    }\n",
       "</style>\n",
       "<table border=\"1\" class=\"dataframe\">\n",
       "  <thead>\n",
       "    <tr style=\"text-align: right;\">\n",
       "      <th></th>\n",
       "      <th>Recency</th>\n",
       "      <th>Frequency</th>\n",
       "      <th>Monetary</th>\n",
       "      <th>RScore</th>\n",
       "      <th>FScore</th>\n",
       "      <th>MScore</th>\n",
       "      <th>RFMCell</th>\n",
       "      <th>RFMScore</th>\n",
       "      <th>Segment</th>\n",
       "    </tr>\n",
       "    <tr>\n",
       "      <th>CustomerID</th>\n",
       "      <th></th>\n",
       "      <th></th>\n",
       "      <th></th>\n",
       "      <th></th>\n",
       "      <th></th>\n",
       "      <th></th>\n",
       "      <th></th>\n",
       "      <th></th>\n",
       "      <th></th>\n",
       "    </tr>\n",
       "  </thead>\n",
       "  <tbody>\n",
       "    <tr>\n",
       "      <th>12347</th>\n",
       "      <td>3</td>\n",
       "      <td>7</td>\n",
       "      <td>4310.00</td>\n",
       "      <td>5</td>\n",
       "      <td>5</td>\n",
       "      <td>5</td>\n",
       "      <td>5,5,5</td>\n",
       "      <td>5.000000</td>\n",
       "      <td>Champions</td>\n",
       "    </tr>\n",
       "    <tr>\n",
       "      <th>12362</th>\n",
       "      <td>4</td>\n",
       "      <td>10</td>\n",
       "      <td>5226.23</td>\n",
       "      <td>5</td>\n",
       "      <td>5</td>\n",
       "      <td>5</td>\n",
       "      <td>5,5,5</td>\n",
       "      <td>5.000000</td>\n",
       "      <td>Champions</td>\n",
       "    </tr>\n",
       "    <tr>\n",
       "      <th>12364</th>\n",
       "      <td>8</td>\n",
       "      <td>4</td>\n",
       "      <td>1313.10</td>\n",
       "      <td>5</td>\n",
       "      <td>4</td>\n",
       "      <td>4</td>\n",
       "      <td>5,4,4</td>\n",
       "      <td>4.333333</td>\n",
       "      <td>Champions</td>\n",
       "    </tr>\n",
       "    <tr>\n",
       "      <th>12380</th>\n",
       "      <td>22</td>\n",
       "      <td>4</td>\n",
       "      <td>2724.81</td>\n",
       "      <td>4</td>\n",
       "      <td>4</td>\n",
       "      <td>5</td>\n",
       "      <td>4,4,5</td>\n",
       "      <td>4.333333</td>\n",
       "      <td>Champions</td>\n",
       "    </tr>\n",
       "    <tr>\n",
       "      <th>12381</th>\n",
       "      <td>5</td>\n",
       "      <td>5</td>\n",
       "      <td>1845.31</td>\n",
       "      <td>5</td>\n",
       "      <td>4</td>\n",
       "      <td>4</td>\n",
       "      <td>5,4,4</td>\n",
       "      <td>4.333333</td>\n",
       "      <td>Champions</td>\n",
       "    </tr>\n",
       "  </tbody>\n",
       "</table>\n",
       "</div>"
      ],
      "text/plain": [
       "            Recency  Frequency  Monetary RScore FScore MScore RFMCell  \\\n",
       "CustomerID                                                              \n",
       "12347             3          7   4310.00      5      5      5   5,5,5   \n",
       "12362             4         10   5226.23      5      5      5   5,5,5   \n",
       "12364             8          4   1313.10      5      4      4   5,4,4   \n",
       "12380            22          4   2724.81      4      4      5   4,4,5   \n",
       "12381             5          5   1845.31      5      4      4   5,4,4   \n",
       "\n",
       "            RFMScore    Segment  \n",
       "CustomerID                       \n",
       "12347       5.000000  Champions  \n",
       "12362       5.000000  Champions  \n",
       "12364       4.333333  Champions  \n",
       "12380       4.333333  Champions  \n",
       "12381       4.333333  Champions  "
      ]
     },
     "execution_count": 9,
     "metadata": {},
     "output_type": "execute_result"
    }
   ],
   "source": [
    "df_rfm[\"Segment\"] = \"\"\n",
    "\n",
    "mask = df_rfm[\"RFMCell\"].isin(cells_1)\n",
    "df_rfm.loc[mask, \"Segment\"] = \"Champions\"\n",
    "df_rfm.loc[mask, :].head()"
   ]
  },
  {
   "cell_type": "markdown",
   "id": "463fa534",
   "metadata": {},
   "source": [
    "**NOTE**: This isn't the best way to label customers. After introducing all\n",
    "segments, we'll solve this problem more efficiently."
   ]
  },
  {
   "cell_type": "markdown",
   "id": "48e982da",
   "metadata": {},
   "source": [
    "### Loyal\n",
    "\n",
    "This segment is characterized by the following `RFMCell` values:"
   ]
  },
  {
   "cell_type": "code",
   "execution_count": 10,
   "id": "55ca8b36",
   "metadata": {
    "execution": {
     "iopub.execute_input": "2024-01-30T03:31:41.631961Z",
     "iopub.status.busy": "2024-01-30T03:31:41.631547Z",
     "iopub.status.idle": "2024-01-30T03:31:41.635968Z",
     "shell.execute_reply": "2024-01-30T03:31:41.634907Z"
    }
   },
   "outputs": [],
   "source": [
    "cells_2 = [\n",
    "    \"5,4,3\",\n",
    "    \"4,4,4\",\n",
    "    \"4,3,5\",\n",
    "    \"3,5,5\",\n",
    "    \"3,5,4\",\n",
    "    \"3,4,5\",\n",
    "    \"3,4,4\",\n",
    "    \"3,3,5\",\n",
    "]"
   ]
  },
  {
   "cell_type": "markdown",
   "id": "d7114164",
   "metadata": {},
   "source": [
    "Labeling customers:"
   ]
  },
  {
   "cell_type": "code",
   "execution_count": 11,
   "id": "ec8fd8a1",
   "metadata": {
    "execution": {
     "iopub.execute_input": "2024-01-30T03:31:41.640818Z",
     "iopub.status.busy": "2024-01-30T03:31:41.640454Z",
     "iopub.status.idle": "2024-01-30T03:31:41.658076Z",
     "shell.execute_reply": "2024-01-30T03:31:41.657055Z"
    }
   },
   "outputs": [
    {
     "data": {
      "text/html": [
       "<div>\n",
       "<style scoped>\n",
       "    .dataframe tbody tr th:only-of-type {\n",
       "        vertical-align: middle;\n",
       "    }\n",
       "\n",
       "    .dataframe tbody tr th {\n",
       "        vertical-align: top;\n",
       "    }\n",
       "\n",
       "    .dataframe thead th {\n",
       "        text-align: right;\n",
       "    }\n",
       "</style>\n",
       "<table border=\"1\" class=\"dataframe\">\n",
       "  <thead>\n",
       "    <tr style=\"text-align: right;\">\n",
       "      <th></th>\n",
       "      <th>Recency</th>\n",
       "      <th>Frequency</th>\n",
       "      <th>Monetary</th>\n",
       "      <th>RScore</th>\n",
       "      <th>FScore</th>\n",
       "      <th>MScore</th>\n",
       "      <th>RFMCell</th>\n",
       "      <th>RFMScore</th>\n",
       "      <th>Segment</th>\n",
       "    </tr>\n",
       "    <tr>\n",
       "      <th>CustomerID</th>\n",
       "      <th></th>\n",
       "      <th></th>\n",
       "      <th></th>\n",
       "      <th></th>\n",
       "      <th></th>\n",
       "      <th></th>\n",
       "      <th></th>\n",
       "      <th></th>\n",
       "      <th></th>\n",
       "    </tr>\n",
       "  </thead>\n",
       "  <tbody>\n",
       "    <tr>\n",
       "      <th>12352</th>\n",
       "      <td>37</td>\n",
       "      <td>8</td>\n",
       "      <td>2506.04</td>\n",
       "      <td>3</td>\n",
       "      <td>5</td>\n",
       "      <td>5</td>\n",
       "      <td>3,5,5</td>\n",
       "      <td>4.333333</td>\n",
       "      <td>Loyal</td>\n",
       "    </tr>\n",
       "    <tr>\n",
       "      <th>12356</th>\n",
       "      <td>23</td>\n",
       "      <td>3</td>\n",
       "      <td>2811.43</td>\n",
       "      <td>4</td>\n",
       "      <td>3</td>\n",
       "      <td>5</td>\n",
       "      <td>4,3,5</td>\n",
       "      <td>4.000000</td>\n",
       "      <td>Loyal</td>\n",
       "    </tr>\n",
       "    <tr>\n",
       "      <th>12359</th>\n",
       "      <td>58</td>\n",
       "      <td>4</td>\n",
       "      <td>6372.58</td>\n",
       "      <td>3</td>\n",
       "      <td>4</td>\n",
       "      <td>5</td>\n",
       "      <td>3,4,5</td>\n",
       "      <td>4.000000</td>\n",
       "      <td>Loyal</td>\n",
       "    </tr>\n",
       "    <tr>\n",
       "      <th>12360</th>\n",
       "      <td>53</td>\n",
       "      <td>3</td>\n",
       "      <td>2662.06</td>\n",
       "      <td>3</td>\n",
       "      <td>3</td>\n",
       "      <td>5</td>\n",
       "      <td>3,3,5</td>\n",
       "      <td>3.666667</td>\n",
       "      <td>Loyal</td>\n",
       "    </tr>\n",
       "    <tr>\n",
       "      <th>12370</th>\n",
       "      <td>52</td>\n",
       "      <td>4</td>\n",
       "      <td>3545.69</td>\n",
       "      <td>3</td>\n",
       "      <td>4</td>\n",
       "      <td>5</td>\n",
       "      <td>3,4,5</td>\n",
       "      <td>4.000000</td>\n",
       "      <td>Loyal</td>\n",
       "    </tr>\n",
       "  </tbody>\n",
       "</table>\n",
       "</div>"
      ],
      "text/plain": [
       "            Recency  Frequency  Monetary RScore FScore MScore RFMCell  \\\n",
       "CustomerID                                                              \n",
       "12352            37          8   2506.04      3      5      5   3,5,5   \n",
       "12356            23          3   2811.43      4      3      5   4,3,5   \n",
       "12359            58          4   6372.58      3      4      5   3,4,5   \n",
       "12360            53          3   2662.06      3      3      5   3,3,5   \n",
       "12370            52          4   3545.69      3      4      5   3,4,5   \n",
       "\n",
       "            RFMScore Segment  \n",
       "CustomerID                    \n",
       "12352       4.333333   Loyal  \n",
       "12356       4.000000   Loyal  \n",
       "12359       4.000000   Loyal  \n",
       "12360       3.666667   Loyal  \n",
       "12370       4.000000   Loyal  "
      ]
     },
     "execution_count": 11,
     "metadata": {},
     "output_type": "execute_result"
    }
   ],
   "source": [
    "mask = df_rfm[\"RFMCell\"].isin(cells_2)\n",
    "df_rfm.loc[mask, \"Segment\"] = \"Loyal\"\n",
    "df_rfm.loc[mask, :].head()"
   ]
  },
  {
   "cell_type": "markdown",
   "id": "89927f01",
   "metadata": {},
   "source": [
    "### Potential Loyalists\n",
    "\n",
    "This segment corresponds to the following values of `RFMCell`:"
   ]
  },
  {
   "cell_type": "code",
   "execution_count": 12,
   "id": "fa1f21c2",
   "metadata": {
    "execution": {
     "iopub.execute_input": "2024-01-30T03:31:41.662960Z",
     "iopub.status.busy": "2024-01-30T03:31:41.662672Z",
     "iopub.status.idle": "2024-01-30T03:31:41.667674Z",
     "shell.execute_reply": "2024-01-30T03:31:41.666661Z"
    }
   },
   "outputs": [],
   "source": [
    "cells_3 = [\n",
    "    \"5,5,3\",\n",
    "    \"5,5,2\",\n",
    "    \"5,5,1\",\n",
    "    \"5,4,2\",\n",
    "    \"5,4,1\",\n",
    "    \"5,3,3\",\n",
    "    \"5,3,2\",\n",
    "    \"5,3,1\",\n",
    "    \"4,5,3\",\n",
    "    \"4,5,2\",\n",
    "    \"4,5,1\",\n",
    "    \"4,4,2\",\n",
    "    \"4,4,1\",\n",
    "    \"4,3,3\",\n",
    "    \"4,3,2\",\n",
    "    \"4,3,1\",\n",
    "    \"4,2,3\",\n",
    "    \"3,5,3\",\n",
    "    \"3,5,2\",\n",
    "    \"3,5,1\",\n",
    "    \"3,4,2\",\n",
    "    \"3,4,1\",\n",
    "    \"3,3,3\",\n",
    "    \"3,2,3\",\n",
    "]"
   ]
  },
  {
   "cell_type": "markdown",
   "id": "1b40c11e",
   "metadata": {},
   "source": [
    "Labeling customers:"
   ]
  },
  {
   "cell_type": "code",
   "execution_count": 13,
   "id": "3052af46",
   "metadata": {
    "execution": {
     "iopub.execute_input": "2024-01-30T03:31:41.671704Z",
     "iopub.status.busy": "2024-01-30T03:31:41.671345Z",
     "iopub.status.idle": "2024-01-30T03:31:41.689510Z",
     "shell.execute_reply": "2024-01-30T03:31:41.688527Z"
    }
   },
   "outputs": [
    {
     "data": {
      "text/html": [
       "<div>\n",
       "<style scoped>\n",
       "    .dataframe tbody tr th:only-of-type {\n",
       "        vertical-align: middle;\n",
       "    }\n",
       "\n",
       "    .dataframe tbody tr th {\n",
       "        vertical-align: top;\n",
       "    }\n",
       "\n",
       "    .dataframe thead th {\n",
       "        text-align: right;\n",
       "    }\n",
       "</style>\n",
       "<table border=\"1\" class=\"dataframe\">\n",
       "  <thead>\n",
       "    <tr style=\"text-align: right;\">\n",
       "      <th></th>\n",
       "      <th>Recency</th>\n",
       "      <th>Frequency</th>\n",
       "      <th>Monetary</th>\n",
       "      <th>RScore</th>\n",
       "      <th>FScore</th>\n",
       "      <th>MScore</th>\n",
       "      <th>RFMCell</th>\n",
       "      <th>RFMScore</th>\n",
       "      <th>Segment</th>\n",
       "    </tr>\n",
       "    <tr>\n",
       "      <th>CustomerID</th>\n",
       "      <th></th>\n",
       "      <th></th>\n",
       "      <th></th>\n",
       "      <th></th>\n",
       "      <th></th>\n",
       "      <th></th>\n",
       "      <th></th>\n",
       "      <th></th>\n",
       "      <th></th>\n",
       "    </tr>\n",
       "  </thead>\n",
       "  <tbody>\n",
       "    <tr>\n",
       "      <th>12384</th>\n",
       "      <td>29</td>\n",
       "      <td>2</td>\n",
       "      <td>585.27</td>\n",
       "      <td>4</td>\n",
       "      <td>2</td>\n",
       "      <td>3</td>\n",
       "      <td>4,2,3</td>\n",
       "      <td>3.000000</td>\n",
       "      <td>Potential Loyalists</td>\n",
       "    </tr>\n",
       "    <tr>\n",
       "      <th>12413</th>\n",
       "      <td>67</td>\n",
       "      <td>3</td>\n",
       "      <td>758.10</td>\n",
       "      <td>3</td>\n",
       "      <td>3</td>\n",
       "      <td>3</td>\n",
       "      <td>3,3,3</td>\n",
       "      <td>3.000000</td>\n",
       "      <td>Potential Loyalists</td>\n",
       "    </tr>\n",
       "    <tr>\n",
       "      <th>12427</th>\n",
       "      <td>22</td>\n",
       "      <td>3</td>\n",
       "      <td>825.80</td>\n",
       "      <td>4</td>\n",
       "      <td>3</td>\n",
       "      <td>3</td>\n",
       "      <td>4,3,3</td>\n",
       "      <td>3.333333</td>\n",
       "      <td>Potential Loyalists</td>\n",
       "    </tr>\n",
       "    <tr>\n",
       "      <th>12465</th>\n",
       "      <td>18</td>\n",
       "      <td>2</td>\n",
       "      <td>742.19</td>\n",
       "      <td>4</td>\n",
       "      <td>2</td>\n",
       "      <td>3</td>\n",
       "      <td>4,2,3</td>\n",
       "      <td>3.000000</td>\n",
       "      <td>Potential Loyalists</td>\n",
       "    </tr>\n",
       "    <tr>\n",
       "      <th>12498</th>\n",
       "      <td>22</td>\n",
       "      <td>3</td>\n",
       "      <td>403.70</td>\n",
       "      <td>4</td>\n",
       "      <td>3</td>\n",
       "      <td>2</td>\n",
       "      <td>4,3,2</td>\n",
       "      <td>3.000000</td>\n",
       "      <td>Potential Loyalists</td>\n",
       "    </tr>\n",
       "  </tbody>\n",
       "</table>\n",
       "</div>"
      ],
      "text/plain": [
       "            Recency  Frequency  Monetary RScore FScore MScore RFMCell  \\\n",
       "CustomerID                                                              \n",
       "12384            29          2    585.27      4      2      3   4,2,3   \n",
       "12413            67          3    758.10      3      3      3   3,3,3   \n",
       "12427            22          3    825.80      4      3      3   4,3,3   \n",
       "12465            18          2    742.19      4      2      3   4,2,3   \n",
       "12498            22          3    403.70      4      3      2   4,3,2   \n",
       "\n",
       "            RFMScore              Segment  \n",
       "CustomerID                                 \n",
       "12384       3.000000  Potential Loyalists  \n",
       "12413       3.000000  Potential Loyalists  \n",
       "12427       3.333333  Potential Loyalists  \n",
       "12465       3.000000  Potential Loyalists  \n",
       "12498       3.000000  Potential Loyalists  "
      ]
     },
     "execution_count": 13,
     "metadata": {},
     "output_type": "execute_result"
    }
   ],
   "source": [
    "mask = df_rfm[\"RFMCell\"].isin(cells_3)\n",
    "df_rfm.loc[mask, \"Segment\"] = \"Potential Loyalists\"\n",
    "df_rfm.loc[mask, :].head()"
   ]
  },
  {
   "cell_type": "markdown",
   "id": "05e751b5",
   "metadata": {},
   "source": [
    "### New Customers\n",
    "\n",
    "For this segment, the `RFMCell` values are"
   ]
  },
  {
   "cell_type": "code",
   "execution_count": 14,
   "id": "a7358427",
   "metadata": {
    "execution": {
     "iopub.execute_input": "2024-01-30T03:31:41.694451Z",
     "iopub.status.busy": "2024-01-30T03:31:41.694161Z",
     "iopub.status.idle": "2024-01-30T03:31:41.698755Z",
     "shell.execute_reply": "2024-01-30T03:31:41.697744Z"
    }
   },
   "outputs": [],
   "source": [
    "cells_4 = [\n",
    "    \"5,1,2\",\n",
    "    \"5,1,1\",\n",
    "    \"4,2,2\",\n",
    "    \"4,2,1\",\n",
    "    \"4,1,2\",\n",
    "    \"4,1,1\",\n",
    "    \"3,1,1\",\n",
    "]"
   ]
  },
  {
   "cell_type": "markdown",
   "id": "1488ea65",
   "metadata": {},
   "source": [
    "Labeling customers:"
   ]
  },
  {
   "cell_type": "code",
   "execution_count": 15,
   "id": "34e3b41a",
   "metadata": {
    "execution": {
     "iopub.execute_input": "2024-01-30T03:31:41.703187Z",
     "iopub.status.busy": "2024-01-30T03:31:41.702905Z",
     "iopub.status.idle": "2024-01-30T03:31:41.721009Z",
     "shell.execute_reply": "2024-01-30T03:31:41.719890Z"
    }
   },
   "outputs": [
    {
     "data": {
      "text/html": [
       "<div>\n",
       "<style scoped>\n",
       "    .dataframe tbody tr th:only-of-type {\n",
       "        vertical-align: middle;\n",
       "    }\n",
       "\n",
       "    .dataframe tbody tr th {\n",
       "        vertical-align: top;\n",
       "    }\n",
       "\n",
       "    .dataframe thead th {\n",
       "        text-align: right;\n",
       "    }\n",
       "</style>\n",
       "<table border=\"1\" class=\"dataframe\">\n",
       "  <thead>\n",
       "    <tr style=\"text-align: right;\">\n",
       "      <th></th>\n",
       "      <th>Recency</th>\n",
       "      <th>Frequency</th>\n",
       "      <th>Monetary</th>\n",
       "      <th>RScore</th>\n",
       "      <th>FScore</th>\n",
       "      <th>MScore</th>\n",
       "      <th>RFMCell</th>\n",
       "      <th>RFMScore</th>\n",
       "      <th>Segment</th>\n",
       "    </tr>\n",
       "    <tr>\n",
       "      <th>CustomerID</th>\n",
       "      <th></th>\n",
       "      <th></th>\n",
       "      <th></th>\n",
       "      <th></th>\n",
       "      <th></th>\n",
       "      <th></th>\n",
       "      <th></th>\n",
       "      <th></th>\n",
       "      <th></th>\n",
       "    </tr>\n",
       "  </thead>\n",
       "  <tbody>\n",
       "    <tr>\n",
       "      <th>12367</th>\n",
       "      <td>5</td>\n",
       "      <td>1</td>\n",
       "      <td>168.90</td>\n",
       "      <td>5</td>\n",
       "      <td>1</td>\n",
       "      <td>1</td>\n",
       "      <td>5,1,1</td>\n",
       "      <td>2.333333</td>\n",
       "      <td>New Customers</td>\n",
       "    </tr>\n",
       "    <tr>\n",
       "      <th>12391</th>\n",
       "      <td>22</td>\n",
       "      <td>1</td>\n",
       "      <td>460.89</td>\n",
       "      <td>4</td>\n",
       "      <td>1</td>\n",
       "      <td>2</td>\n",
       "      <td>4,1,2</td>\n",
       "      <td>2.333333</td>\n",
       "      <td>New Customers</td>\n",
       "    </tr>\n",
       "    <tr>\n",
       "      <th>12442</th>\n",
       "      <td>4</td>\n",
       "      <td>1</td>\n",
       "      <td>172.06</td>\n",
       "      <td>5</td>\n",
       "      <td>1</td>\n",
       "      <td>1</td>\n",
       "      <td>5,1,1</td>\n",
       "      <td>2.333333</td>\n",
       "      <td>New Customers</td>\n",
       "    </tr>\n",
       "    <tr>\n",
       "      <th>12445</th>\n",
       "      <td>23</td>\n",
       "      <td>1</td>\n",
       "      <td>133.40</td>\n",
       "      <td>4</td>\n",
       "      <td>1</td>\n",
       "      <td>1</td>\n",
       "      <td>4,1,1</td>\n",
       "      <td>2.000000</td>\n",
       "      <td>New Customers</td>\n",
       "    </tr>\n",
       "    <tr>\n",
       "      <th>12452</th>\n",
       "      <td>17</td>\n",
       "      <td>2</td>\n",
       "      <td>430.57</td>\n",
       "      <td>4</td>\n",
       "      <td>2</td>\n",
       "      <td>2</td>\n",
       "      <td>4,2,2</td>\n",
       "      <td>2.666667</td>\n",
       "      <td>New Customers</td>\n",
       "    </tr>\n",
       "  </tbody>\n",
       "</table>\n",
       "</div>"
      ],
      "text/plain": [
       "            Recency  Frequency  Monetary RScore FScore MScore RFMCell  \\\n",
       "CustomerID                                                              \n",
       "12367             5          1    168.90      5      1      1   5,1,1   \n",
       "12391            22          1    460.89      4      1      2   4,1,2   \n",
       "12442             4          1    172.06      5      1      1   5,1,1   \n",
       "12445            23          1    133.40      4      1      1   4,1,1   \n",
       "12452            17          2    430.57      4      2      2   4,2,2   \n",
       "\n",
       "            RFMScore        Segment  \n",
       "CustomerID                           \n",
       "12367       2.333333  New Customers  \n",
       "12391       2.333333  New Customers  \n",
       "12442       2.333333  New Customers  \n",
       "12445       2.000000  New Customers  \n",
       "12452       2.666667  New Customers  "
      ]
     },
     "execution_count": 15,
     "metadata": {},
     "output_type": "execute_result"
    }
   ],
   "source": [
    "mask = df_rfm[\"RFMCell\"].isin(cells_4)\n",
    "df_rfm.loc[mask, \"Segment\"] = \"New Customers\"\n",
    "df_rfm.loc[mask, :].head()"
   ]
  },
  {
   "cell_type": "markdown",
   "id": "556fd231",
   "metadata": {},
   "source": [
    "### Promising\n",
    "\n",
    "\"Promising\" customers are characterized by the following values of `RFMCell`:"
   ]
  },
  {
   "cell_type": "code",
   "execution_count": 16,
   "id": "3f41a145",
   "metadata": {
    "execution": {
     "iopub.execute_input": "2024-01-30T03:31:41.725746Z",
     "iopub.status.busy": "2024-01-30T03:31:41.725294Z",
     "iopub.status.idle": "2024-01-30T03:31:41.730748Z",
     "shell.execute_reply": "2024-01-30T03:31:41.729682Z"
    }
   },
   "outputs": [],
   "source": [
    "cells_5 = [\n",
    "    \"5,2,5\",\n",
    "    \"5,2,4\",\n",
    "    \"5,2,3\",\n",
    "    \"5,2,2\",\n",
    "    \"5,2,1\",\n",
    "    \"5,1,5\",\n",
    "    \"5,1,4\",\n",
    "    \"5,1,3\",\n",
    "    \"4,2,5\",\n",
    "    \"4,2,4\",\n",
    "    \"4,1,5\",\n",
    "    \"4,1,4\",\n",
    "    \"4,1,3\",\n",
    "    \"3,1,5\",\n",
    "    \"3,1,4\",\n",
    "    \"3,1,3\",\n",
    "]"
   ]
  },
  {
   "cell_type": "markdown",
   "id": "edf0e1eb",
   "metadata": {},
   "source": [
    "Labeling customers:"
   ]
  },
  {
   "cell_type": "code",
   "execution_count": 17,
   "id": "28ae56f3",
   "metadata": {
    "execution": {
     "iopub.execute_input": "2024-01-30T03:31:41.734582Z",
     "iopub.status.busy": "2024-01-30T03:31:41.734215Z",
     "iopub.status.idle": "2024-01-30T03:31:41.752599Z",
     "shell.execute_reply": "2024-01-30T03:31:41.751536Z"
    }
   },
   "outputs": [
    {
     "data": {
      "text/html": [
       "<div>\n",
       "<style scoped>\n",
       "    .dataframe tbody tr th:only-of-type {\n",
       "        vertical-align: middle;\n",
       "    }\n",
       "\n",
       "    .dataframe tbody tr th {\n",
       "        vertical-align: top;\n",
       "    }\n",
       "\n",
       "    .dataframe thead th {\n",
       "        text-align: right;\n",
       "    }\n",
       "</style>\n",
       "<table border=\"1\" class=\"dataframe\">\n",
       "  <thead>\n",
       "    <tr style=\"text-align: right;\">\n",
       "      <th></th>\n",
       "      <th>Recency</th>\n",
       "      <th>Frequency</th>\n",
       "      <th>Monetary</th>\n",
       "      <th>RScore</th>\n",
       "      <th>FScore</th>\n",
       "      <th>MScore</th>\n",
       "      <th>RFMCell</th>\n",
       "      <th>RFMScore</th>\n",
       "      <th>Segment</th>\n",
       "    </tr>\n",
       "    <tr>\n",
       "      <th>CustomerID</th>\n",
       "      <th></th>\n",
       "      <th></th>\n",
       "      <th></th>\n",
       "      <th></th>\n",
       "      <th></th>\n",
       "      <th></th>\n",
       "      <th></th>\n",
       "      <th></th>\n",
       "      <th></th>\n",
       "    </tr>\n",
       "  </thead>\n",
       "  <tbody>\n",
       "    <tr>\n",
       "      <th>12349</th>\n",
       "      <td>19</td>\n",
       "      <td>1</td>\n",
       "      <td>1757.55</td>\n",
       "      <td>4</td>\n",
       "      <td>1</td>\n",
       "      <td>4</td>\n",
       "      <td>4,1,4</td>\n",
       "      <td>3.000000</td>\n",
       "      <td>Promising</td>\n",
       "    </tr>\n",
       "    <tr>\n",
       "      <th>12357</th>\n",
       "      <td>34</td>\n",
       "      <td>1</td>\n",
       "      <td>6207.67</td>\n",
       "      <td>3</td>\n",
       "      <td>1</td>\n",
       "      <td>5</td>\n",
       "      <td>3,1,5</td>\n",
       "      <td>3.000000</td>\n",
       "      <td>Promising</td>\n",
       "    </tr>\n",
       "    <tr>\n",
       "      <th>12358</th>\n",
       "      <td>2</td>\n",
       "      <td>2</td>\n",
       "      <td>1168.06</td>\n",
       "      <td>5</td>\n",
       "      <td>2</td>\n",
       "      <td>4</td>\n",
       "      <td>5,2,4</td>\n",
       "      <td>3.666667</td>\n",
       "      <td>Promising</td>\n",
       "    </tr>\n",
       "    <tr>\n",
       "      <th>12374</th>\n",
       "      <td>26</td>\n",
       "      <td>1</td>\n",
       "      <td>742.93</td>\n",
       "      <td>4</td>\n",
       "      <td>1</td>\n",
       "      <td>3</td>\n",
       "      <td>4,1,3</td>\n",
       "      <td>2.666667</td>\n",
       "      <td>Promising</td>\n",
       "    </tr>\n",
       "    <tr>\n",
       "      <th>12375</th>\n",
       "      <td>11</td>\n",
       "      <td>2</td>\n",
       "      <td>457.50</td>\n",
       "      <td>5</td>\n",
       "      <td>2</td>\n",
       "      <td>2</td>\n",
       "      <td>5,2,2</td>\n",
       "      <td>3.000000</td>\n",
       "      <td>Promising</td>\n",
       "    </tr>\n",
       "  </tbody>\n",
       "</table>\n",
       "</div>"
      ],
      "text/plain": [
       "            Recency  Frequency  Monetary RScore FScore MScore RFMCell  \\\n",
       "CustomerID                                                              \n",
       "12349            19          1   1757.55      4      1      4   4,1,4   \n",
       "12357            34          1   6207.67      3      1      5   3,1,5   \n",
       "12358             2          2   1168.06      5      2      4   5,2,4   \n",
       "12374            26          1    742.93      4      1      3   4,1,3   \n",
       "12375            11          2    457.50      5      2      2   5,2,2   \n",
       "\n",
       "            RFMScore    Segment  \n",
       "CustomerID                       \n",
       "12349       3.000000  Promising  \n",
       "12357       3.000000  Promising  \n",
       "12358       3.666667  Promising  \n",
       "12374       2.666667  Promising  \n",
       "12375       3.000000  Promising  "
      ]
     },
     "execution_count": 17,
     "metadata": {},
     "output_type": "execute_result"
    }
   ],
   "source": [
    "mask = df_rfm[\"RFMCell\"].isin(cells_5)\n",
    "df_rfm.loc[mask, \"Segment\"] = \"Promising\"\n",
    "df_rfm.loc[mask, :].head()"
   ]
  },
  {
   "cell_type": "markdown",
   "id": "fc026d68",
   "metadata": {},
   "source": [
    "### Need Attention\n",
    "\n",
    "In this case, the values of `RFMCell` are the following:"
   ]
  },
  {
   "cell_type": "code",
   "execution_count": 18,
   "id": "391d0ab0",
   "metadata": {
    "execution": {
     "iopub.execute_input": "2024-01-30T03:31:41.757586Z",
     "iopub.status.busy": "2024-01-30T03:31:41.757194Z",
     "iopub.status.idle": "2024-01-30T03:31:41.762597Z",
     "shell.execute_reply": "2024-01-30T03:31:41.761491Z"
    }
   },
   "outputs": [],
   "source": [
    "cells_6 = [\n",
    "    \"5,3,5\",\n",
    "    \"5,3,4\",\n",
    "    \"4,4,3\",\n",
    "    \"4,3,4\",\n",
    "    \"3,4,3\",\n",
    "    \"3,3,4\",\n",
    "    \"3,2,5\",\n",
    "    \"3,2,4\",\n",
    "]"
   ]
  },
  {
   "cell_type": "markdown",
   "id": "582e8bb8",
   "metadata": {},
   "source": [
    "Labeling customers:"
   ]
  },
  {
   "cell_type": "code",
   "execution_count": 19,
   "id": "4815ae7d",
   "metadata": {
    "execution": {
     "iopub.execute_input": "2024-01-30T03:31:41.766201Z",
     "iopub.status.busy": "2024-01-30T03:31:41.765846Z",
     "iopub.status.idle": "2024-01-30T03:31:41.783078Z",
     "shell.execute_reply": "2024-01-30T03:31:41.782021Z"
    }
   },
   "outputs": [
    {
     "data": {
      "text/html": [
       "<div>\n",
       "<style scoped>\n",
       "    .dataframe tbody tr th:only-of-type {\n",
       "        vertical-align: middle;\n",
       "    }\n",
       "\n",
       "    .dataframe tbody tr th {\n",
       "        vertical-align: top;\n",
       "    }\n",
       "\n",
       "    .dataframe thead th {\n",
       "        text-align: right;\n",
       "    }\n",
       "</style>\n",
       "<table border=\"1\" class=\"dataframe\">\n",
       "  <thead>\n",
       "    <tr style=\"text-align: right;\">\n",
       "      <th></th>\n",
       "      <th>Recency</th>\n",
       "      <th>Frequency</th>\n",
       "      <th>Monetary</th>\n",
       "      <th>RScore</th>\n",
       "      <th>FScore</th>\n",
       "      <th>MScore</th>\n",
       "      <th>RFMCell</th>\n",
       "      <th>RFMScore</th>\n",
       "      <th>Segment</th>\n",
       "    </tr>\n",
       "    <tr>\n",
       "      <th>CustomerID</th>\n",
       "      <th></th>\n",
       "      <th></th>\n",
       "      <th></th>\n",
       "      <th></th>\n",
       "      <th></th>\n",
       "      <th></th>\n",
       "      <th></th>\n",
       "      <th></th>\n",
       "      <th></th>\n",
       "    </tr>\n",
       "  </thead>\n",
       "  <tbody>\n",
       "    <tr>\n",
       "      <th>12371</th>\n",
       "      <td>45</td>\n",
       "      <td>2</td>\n",
       "      <td>1887.96</td>\n",
       "      <td>3</td>\n",
       "      <td>2</td>\n",
       "      <td>4</td>\n",
       "      <td>3,2,4</td>\n",
       "      <td>3.000000</td>\n",
       "      <td>Need Attention</td>\n",
       "    </tr>\n",
       "    <tr>\n",
       "      <th>12372</th>\n",
       "      <td>72</td>\n",
       "      <td>3</td>\n",
       "      <td>1298.04</td>\n",
       "      <td>3</td>\n",
       "      <td>3</td>\n",
       "      <td>4</td>\n",
       "      <td>3,3,4</td>\n",
       "      <td>3.333333</td>\n",
       "      <td>Need Attention</td>\n",
       "    </tr>\n",
       "    <tr>\n",
       "      <th>12394</th>\n",
       "      <td>64</td>\n",
       "      <td>2</td>\n",
       "      <td>1272.48</td>\n",
       "      <td>3</td>\n",
       "      <td>2</td>\n",
       "      <td>4</td>\n",
       "      <td>3,2,4</td>\n",
       "      <td>3.000000</td>\n",
       "      <td>Need Attention</td>\n",
       "    </tr>\n",
       "    <tr>\n",
       "      <th>12397</th>\n",
       "      <td>36</td>\n",
       "      <td>2</td>\n",
       "      <td>2409.90</td>\n",
       "      <td>3</td>\n",
       "      <td>2</td>\n",
       "      <td>5</td>\n",
       "      <td>3,2,5</td>\n",
       "      <td>3.333333</td>\n",
       "      <td>Need Attention</td>\n",
       "    </tr>\n",
       "    <tr>\n",
       "      <th>12421</th>\n",
       "      <td>16</td>\n",
       "      <td>4</td>\n",
       "      <td>807.04</td>\n",
       "      <td>4</td>\n",
       "      <td>4</td>\n",
       "      <td>3</td>\n",
       "      <td>4,4,3</td>\n",
       "      <td>3.666667</td>\n",
       "      <td>Need Attention</td>\n",
       "    </tr>\n",
       "  </tbody>\n",
       "</table>\n",
       "</div>"
      ],
      "text/plain": [
       "            Recency  Frequency  Monetary RScore FScore MScore RFMCell  \\\n",
       "CustomerID                                                              \n",
       "12371            45          2   1887.96      3      2      4   3,2,4   \n",
       "12372            72          3   1298.04      3      3      4   3,3,4   \n",
       "12394            64          2   1272.48      3      2      4   3,2,4   \n",
       "12397            36          2   2409.90      3      2      5   3,2,5   \n",
       "12421            16          4    807.04      4      4      3   4,4,3   \n",
       "\n",
       "            RFMScore         Segment  \n",
       "CustomerID                            \n",
       "12371       3.000000  Need Attention  \n",
       "12372       3.333333  Need Attention  \n",
       "12394       3.000000  Need Attention  \n",
       "12397       3.333333  Need Attention  \n",
       "12421       3.666667  Need Attention  "
      ]
     },
     "execution_count": 19,
     "metadata": {},
     "output_type": "execute_result"
    }
   ],
   "source": [
    "mask = df_rfm[\"RFMCell\"].isin(cells_6)\n",
    "df_rfm.loc[mask, \"Segment\"] = \"Need Attention\"\n",
    "df_rfm.loc[mask, :].head()"
   ]
  },
  {
   "cell_type": "markdown",
   "id": "1500a91f",
   "metadata": {},
   "source": [
    "### About to Sleep\n",
    "\n",
    "For this segment, the list of characteristic values is"
   ]
  },
  {
   "cell_type": "code",
   "execution_count": 20,
   "id": "e2477904",
   "metadata": {
    "execution": {
     "iopub.execute_input": "2024-01-30T03:31:41.787926Z",
     "iopub.status.busy": "2024-01-30T03:31:41.787514Z",
     "iopub.status.idle": "2024-01-30T03:31:41.792365Z",
     "shell.execute_reply": "2024-01-30T03:31:41.791378Z"
    }
   },
   "outputs": [],
   "source": [
    "cells_7 = [\n",
    "    \"3,3,1\",\n",
    "    \"3,2,1\",\n",
    "    \"3,1,2\",\n",
    "    \"2,2,1\",\n",
    "    \"2,1,3\",\n",
    "]"
   ]
  },
  {
   "cell_type": "markdown",
   "id": "3024f63b",
   "metadata": {},
   "source": [
    "Labeling customers:"
   ]
  },
  {
   "cell_type": "code",
   "execution_count": 21,
   "id": "626d5a33",
   "metadata": {
    "execution": {
     "iopub.execute_input": "2024-01-30T03:31:41.797140Z",
     "iopub.status.busy": "2024-01-30T03:31:41.796776Z",
     "iopub.status.idle": "2024-01-30T03:31:41.816412Z",
     "shell.execute_reply": "2024-01-30T03:31:41.815372Z"
    }
   },
   "outputs": [
    {
     "data": {
      "text/html": [
       "<div>\n",
       "<style scoped>\n",
       "    .dataframe tbody tr th:only-of-type {\n",
       "        vertical-align: middle;\n",
       "    }\n",
       "\n",
       "    .dataframe tbody tr th {\n",
       "        vertical-align: top;\n",
       "    }\n",
       "\n",
       "    .dataframe thead th {\n",
       "        text-align: right;\n",
       "    }\n",
       "</style>\n",
       "<table border=\"1\" class=\"dataframe\">\n",
       "  <thead>\n",
       "    <tr style=\"text-align: right;\">\n",
       "      <th></th>\n",
       "      <th>Recency</th>\n",
       "      <th>Frequency</th>\n",
       "      <th>Monetary</th>\n",
       "      <th>RScore</th>\n",
       "      <th>FScore</th>\n",
       "      <th>MScore</th>\n",
       "      <th>RFMCell</th>\n",
       "      <th>RFMScore</th>\n",
       "      <th>Segment</th>\n",
       "    </tr>\n",
       "    <tr>\n",
       "      <th>CustomerID</th>\n",
       "      <th></th>\n",
       "      <th></th>\n",
       "      <th></th>\n",
       "      <th></th>\n",
       "      <th></th>\n",
       "      <th></th>\n",
       "      <th></th>\n",
       "      <th></th>\n",
       "      <th></th>\n",
       "    </tr>\n",
       "  </thead>\n",
       "  <tbody>\n",
       "    <tr>\n",
       "      <th>12390</th>\n",
       "      <td>80</td>\n",
       "      <td>1</td>\n",
       "      <td>549.84</td>\n",
       "      <td>2</td>\n",
       "      <td>1</td>\n",
       "      <td>3</td>\n",
       "      <td>2,1,3</td>\n",
       "      <td>2.0</td>\n",
       "      <td>About to Sleep</td>\n",
       "    </tr>\n",
       "    <tr>\n",
       "      <th>12403</th>\n",
       "      <td>50</td>\n",
       "      <td>1</td>\n",
       "      <td>427.70</td>\n",
       "      <td>3</td>\n",
       "      <td>1</td>\n",
       "      <td>2</td>\n",
       "      <td>3,1,2</td>\n",
       "      <td>2.0</td>\n",
       "      <td>About to Sleep</td>\n",
       "    </tr>\n",
       "    <tr>\n",
       "      <th>12418</th>\n",
       "      <td>113</td>\n",
       "      <td>1</td>\n",
       "      <td>668.58</td>\n",
       "      <td>2</td>\n",
       "      <td>1</td>\n",
       "      <td>3</td>\n",
       "      <td>2,1,3</td>\n",
       "      <td>2.0</td>\n",
       "      <td>About to Sleep</td>\n",
       "    </tr>\n",
       "    <tr>\n",
       "      <th>12425</th>\n",
       "      <td>79</td>\n",
       "      <td>1</td>\n",
       "      <td>777.20</td>\n",
       "      <td>2</td>\n",
       "      <td>1</td>\n",
       "      <td>3</td>\n",
       "      <td>2,1,3</td>\n",
       "      <td>2.0</td>\n",
       "      <td>About to Sleep</td>\n",
       "    </tr>\n",
       "    <tr>\n",
       "      <th>12430</th>\n",
       "      <td>44</td>\n",
       "      <td>1</td>\n",
       "      <td>256.40</td>\n",
       "      <td>3</td>\n",
       "      <td>1</td>\n",
       "      <td>2</td>\n",
       "      <td>3,1,2</td>\n",
       "      <td>2.0</td>\n",
       "      <td>About to Sleep</td>\n",
       "    </tr>\n",
       "  </tbody>\n",
       "</table>\n",
       "</div>"
      ],
      "text/plain": [
       "            Recency  Frequency  Monetary RScore FScore MScore RFMCell  \\\n",
       "CustomerID                                                              \n",
       "12390            80          1    549.84      2      1      3   2,1,3   \n",
       "12403            50          1    427.70      3      1      2   3,1,2   \n",
       "12418           113          1    668.58      2      1      3   2,1,3   \n",
       "12425            79          1    777.20      2      1      3   2,1,3   \n",
       "12430            44          1    256.40      3      1      2   3,1,2   \n",
       "\n",
       "            RFMScore         Segment  \n",
       "CustomerID                            \n",
       "12390            2.0  About to Sleep  \n",
       "12403            2.0  About to Sleep  \n",
       "12418            2.0  About to Sleep  \n",
       "12425            2.0  About to Sleep  \n",
       "12430            2.0  About to Sleep  "
      ]
     },
     "execution_count": 21,
     "metadata": {},
     "output_type": "execute_result"
    }
   ],
   "source": [
    "mask = df_rfm[\"RFMCell\"].isin(cells_7)\n",
    "df_rfm.loc[mask, \"Segment\"] = \"About to Sleep\"\n",
    "df_rfm.loc[mask, :].head()"
   ]
  },
  {
   "cell_type": "markdown",
   "id": "79091f62",
   "metadata": {},
   "source": [
    "### Cannot Lose Them\n",
    "\n",
    "The `RFMCell` values for the next segment are"
   ]
  },
  {
   "cell_type": "code",
   "execution_count": 22,
   "id": "b5d24e1f",
   "metadata": {
    "execution": {
     "iopub.execute_input": "2024-01-30T03:31:41.820955Z",
     "iopub.status.busy": "2024-01-30T03:31:41.820670Z",
     "iopub.status.idle": "2024-01-30T03:31:41.825334Z",
     "shell.execute_reply": "2024-01-30T03:31:41.824385Z"
    }
   },
   "outputs": [],
   "source": [
    "cells_8 = [\n",
    "    \"2,1,5\",\n",
    "    \"2,1,4\",\n",
    "    \"1,5,5\",\n",
    "    \"1,5,4\",\n",
    "    \"1,4,4\",\n",
    "    \"1,1,5\",\n",
    "    \"1,1,4\",\n",
    "    \"1,1,3\",\n",
    "]"
   ]
  },
  {
   "cell_type": "markdown",
   "id": "deb88f8e",
   "metadata": {},
   "source": [
    "Labeling customers:"
   ]
  },
  {
   "cell_type": "code",
   "execution_count": 23,
   "id": "501c24bc",
   "metadata": {
    "execution": {
     "iopub.execute_input": "2024-01-30T03:31:41.830959Z",
     "iopub.status.busy": "2024-01-30T03:31:41.829906Z",
     "iopub.status.idle": "2024-01-30T03:31:41.848005Z",
     "shell.execute_reply": "2024-01-30T03:31:41.847032Z"
    }
   },
   "outputs": [
    {
     "data": {
      "text/html": [
       "<div>\n",
       "<style scoped>\n",
       "    .dataframe tbody tr th:only-of-type {\n",
       "        vertical-align: middle;\n",
       "    }\n",
       "\n",
       "    .dataframe tbody tr th {\n",
       "        vertical-align: top;\n",
       "    }\n",
       "\n",
       "    .dataframe thead th {\n",
       "        text-align: right;\n",
       "    }\n",
       "</style>\n",
       "<table border=\"1\" class=\"dataframe\">\n",
       "  <thead>\n",
       "    <tr style=\"text-align: right;\">\n",
       "      <th></th>\n",
       "      <th>Recency</th>\n",
       "      <th>Frequency</th>\n",
       "      <th>Monetary</th>\n",
       "      <th>RScore</th>\n",
       "      <th>FScore</th>\n",
       "      <th>MScore</th>\n",
       "      <th>RFMCell</th>\n",
       "      <th>RFMScore</th>\n",
       "      <th>Segment</th>\n",
       "    </tr>\n",
       "    <tr>\n",
       "      <th>CustomerID</th>\n",
       "      <th></th>\n",
       "      <th></th>\n",
       "      <th></th>\n",
       "      <th></th>\n",
       "      <th></th>\n",
       "      <th></th>\n",
       "      <th></th>\n",
       "      <th></th>\n",
       "      <th></th>\n",
       "    </tr>\n",
       "  </thead>\n",
       "  <tbody>\n",
       "    <tr>\n",
       "      <th>12346</th>\n",
       "      <td>326</td>\n",
       "      <td>1</td>\n",
       "      <td>77183.60</td>\n",
       "      <td>1</td>\n",
       "      <td>1</td>\n",
       "      <td>5</td>\n",
       "      <td>1,1,5</td>\n",
       "      <td>2.333333</td>\n",
       "      <td>Cannot Lose Them</td>\n",
       "    </tr>\n",
       "    <tr>\n",
       "      <th>12354</th>\n",
       "      <td>233</td>\n",
       "      <td>1</td>\n",
       "      <td>1079.40</td>\n",
       "      <td>1</td>\n",
       "      <td>1</td>\n",
       "      <td>4</td>\n",
       "      <td>1,1,4</td>\n",
       "      <td>2.000000</td>\n",
       "      <td>Cannot Lose Them</td>\n",
       "    </tr>\n",
       "    <tr>\n",
       "      <th>12378</th>\n",
       "      <td>130</td>\n",
       "      <td>1</td>\n",
       "      <td>4008.62</td>\n",
       "      <td>2</td>\n",
       "      <td>1</td>\n",
       "      <td>5</td>\n",
       "      <td>2,1,5</td>\n",
       "      <td>2.666667</td>\n",
       "      <td>Cannot Lose Them</td>\n",
       "    </tr>\n",
       "    <tr>\n",
       "      <th>12383</th>\n",
       "      <td>185</td>\n",
       "      <td>5</td>\n",
       "      <td>1850.56</td>\n",
       "      <td>1</td>\n",
       "      <td>4</td>\n",
       "      <td>4</td>\n",
       "      <td>1,4,4</td>\n",
       "      <td>3.000000</td>\n",
       "      <td>Cannot Lose Them</td>\n",
       "    </tr>\n",
       "    <tr>\n",
       "      <th>12405</th>\n",
       "      <td>149</td>\n",
       "      <td>1</td>\n",
       "      <td>1710.39</td>\n",
       "      <td>2</td>\n",
       "      <td>1</td>\n",
       "      <td>4</td>\n",
       "      <td>2,1,4</td>\n",
       "      <td>2.333333</td>\n",
       "      <td>Cannot Lose Them</td>\n",
       "    </tr>\n",
       "  </tbody>\n",
       "</table>\n",
       "</div>"
      ],
      "text/plain": [
       "            Recency  Frequency  Monetary RScore FScore MScore RFMCell  \\\n",
       "CustomerID                                                              \n",
       "12346           326          1  77183.60      1      1      5   1,1,5   \n",
       "12354           233          1   1079.40      1      1      4   1,1,4   \n",
       "12378           130          1   4008.62      2      1      5   2,1,5   \n",
       "12383           185          5   1850.56      1      4      4   1,4,4   \n",
       "12405           149          1   1710.39      2      1      4   2,1,4   \n",
       "\n",
       "            RFMScore           Segment  \n",
       "CustomerID                              \n",
       "12346       2.333333  Cannot Lose Them  \n",
       "12354       2.000000  Cannot Lose Them  \n",
       "12378       2.666667  Cannot Lose Them  \n",
       "12383       3.000000  Cannot Lose Them  \n",
       "12405       2.333333  Cannot Lose Them  "
      ]
     },
     "execution_count": 23,
     "metadata": {},
     "output_type": "execute_result"
    }
   ],
   "source": [
    "mask = df_rfm[\"RFMCell\"].isin(cells_8)\n",
    "df_rfm.loc[mask, \"Segment\"] = \"Cannot Lose Them\"\n",
    "df_rfm.loc[mask, :].head()"
   ]
  },
  {
   "cell_type": "markdown",
   "id": "9414e52c",
   "metadata": {},
   "source": [
    "### At Risk\n",
    "\n",
    "This segment is characterized by the values below:"
   ]
  },
  {
   "cell_type": "code",
   "execution_count": 24,
   "id": "e6efc37f",
   "metadata": {
    "execution": {
     "iopub.execute_input": "2024-01-30T03:31:41.851677Z",
     "iopub.status.busy": "2024-01-30T03:31:41.851338Z",
     "iopub.status.idle": "2024-01-30T03:31:41.856470Z",
     "shell.execute_reply": "2024-01-30T03:31:41.855420Z"
    }
   },
   "outputs": [],
   "source": [
    "cells_9 = [\n",
    "    \"2,5,5\",\n",
    "    \"2,5,4\",\n",
    "    \"2,5,3\",\n",
    "    \"2,5,2\",\n",
    "    \"2,4,5\",\n",
    "    \"2,4,4\",\n",
    "    \"2,4,3\",\n",
    "    \"2,4,2\",\n",
    "    \"2,3,5\",\n",
    "    \"2,3,4\",\n",
    "    \"2,2,5\",\n",
    "    \"2,2,4\",\n",
    "    \"1,5,3\",\n",
    "    \"1,5,2\",\n",
    "    \"1,4,5\",\n",
    "    \"1,4,3\",\n",
    "    \"1,4,2\",\n",
    "    \"1,3,5\",\n",
    "    \"1,3,4\",\n",
    "    \"1,3,3\",\n",
    "    \"1,2,5\",\n",
    "    \"1,2,4\",\n",
    "]"
   ]
  },
  {
   "cell_type": "markdown",
   "id": "f9f707dd",
   "metadata": {},
   "source": [
    "Labeling customers:"
   ]
  },
  {
   "cell_type": "code",
   "execution_count": 25,
   "id": "51930809",
   "metadata": {
    "execution": {
     "iopub.execute_input": "2024-01-30T03:31:41.860711Z",
     "iopub.status.busy": "2024-01-30T03:31:41.860343Z",
     "iopub.status.idle": "2024-01-30T03:31:41.881311Z",
     "shell.execute_reply": "2024-01-30T03:31:41.880307Z"
    }
   },
   "outputs": [
    {
     "data": {
      "text/html": [
       "<div>\n",
       "<style scoped>\n",
       "    .dataframe tbody tr th:only-of-type {\n",
       "        vertical-align: middle;\n",
       "    }\n",
       "\n",
       "    .dataframe tbody tr th {\n",
       "        vertical-align: top;\n",
       "    }\n",
       "\n",
       "    .dataframe thead th {\n",
       "        text-align: right;\n",
       "    }\n",
       "</style>\n",
       "<table border=\"1\" class=\"dataframe\">\n",
       "  <thead>\n",
       "    <tr style=\"text-align: right;\">\n",
       "      <th></th>\n",
       "      <th>Recency</th>\n",
       "      <th>Frequency</th>\n",
       "      <th>Monetary</th>\n",
       "      <th>RScore</th>\n",
       "      <th>FScore</th>\n",
       "      <th>MScore</th>\n",
       "      <th>RFMCell</th>\n",
       "      <th>RFMScore</th>\n",
       "      <th>Segment</th>\n",
       "    </tr>\n",
       "    <tr>\n",
       "      <th>CustomerID</th>\n",
       "      <th></th>\n",
       "      <th></th>\n",
       "      <th></th>\n",
       "      <th></th>\n",
       "      <th></th>\n",
       "      <th></th>\n",
       "      <th></th>\n",
       "      <th></th>\n",
       "      <th></th>\n",
       "    </tr>\n",
       "  </thead>\n",
       "  <tbody>\n",
       "    <tr>\n",
       "      <th>12348</th>\n",
       "      <td>76</td>\n",
       "      <td>4</td>\n",
       "      <td>1797.24</td>\n",
       "      <td>2</td>\n",
       "      <td>4</td>\n",
       "      <td>4</td>\n",
       "      <td>2,4,4</td>\n",
       "      <td>3.333333</td>\n",
       "      <td>At Risk</td>\n",
       "    </tr>\n",
       "    <tr>\n",
       "      <th>12377</th>\n",
       "      <td>316</td>\n",
       "      <td>2</td>\n",
       "      <td>1628.12</td>\n",
       "      <td>1</td>\n",
       "      <td>2</td>\n",
       "      <td>4</td>\n",
       "      <td>1,2,4</td>\n",
       "      <td>2.333333</td>\n",
       "      <td>At Risk</td>\n",
       "    </tr>\n",
       "    <tr>\n",
       "      <th>12393</th>\n",
       "      <td>73</td>\n",
       "      <td>4</td>\n",
       "      <td>1582.60</td>\n",
       "      <td>2</td>\n",
       "      <td>4</td>\n",
       "      <td>4</td>\n",
       "      <td>2,4,4</td>\n",
       "      <td>3.333333</td>\n",
       "      <td>At Risk</td>\n",
       "    </tr>\n",
       "    <tr>\n",
       "      <th>12399</th>\n",
       "      <td>120</td>\n",
       "      <td>4</td>\n",
       "      <td>1108.65</td>\n",
       "      <td>2</td>\n",
       "      <td>4</td>\n",
       "      <td>4</td>\n",
       "      <td>2,4,4</td>\n",
       "      <td>3.333333</td>\n",
       "      <td>At Risk</td>\n",
       "    </tr>\n",
       "    <tr>\n",
       "      <th>12409</th>\n",
       "      <td>79</td>\n",
       "      <td>3</td>\n",
       "      <td>11072.67</td>\n",
       "      <td>2</td>\n",
       "      <td>3</td>\n",
       "      <td>5</td>\n",
       "      <td>2,3,5</td>\n",
       "      <td>3.333333</td>\n",
       "      <td>At Risk</td>\n",
       "    </tr>\n",
       "  </tbody>\n",
       "</table>\n",
       "</div>"
      ],
      "text/plain": [
       "            Recency  Frequency  Monetary RScore FScore MScore RFMCell  \\\n",
       "CustomerID                                                              \n",
       "12348            76          4   1797.24      2      4      4   2,4,4   \n",
       "12377           316          2   1628.12      1      2      4   1,2,4   \n",
       "12393            73          4   1582.60      2      4      4   2,4,4   \n",
       "12399           120          4   1108.65      2      4      4   2,4,4   \n",
       "12409            79          3  11072.67      2      3      5   2,3,5   \n",
       "\n",
       "            RFMScore  Segment  \n",
       "CustomerID                     \n",
       "12348       3.333333  At Risk  \n",
       "12377       2.333333  At Risk  \n",
       "12393       3.333333  At Risk  \n",
       "12399       3.333333  At Risk  \n",
       "12409       3.333333  At Risk  "
      ]
     },
     "execution_count": 25,
     "metadata": {},
     "output_type": "execute_result"
    }
   ],
   "source": [
    "mask = df_rfm[\"RFMCell\"].isin(cells_9)\n",
    "df_rfm.loc[mask, \"Segment\"] = \"At Risk\"\n",
    "df_rfm.loc[mask, :].head()"
   ]
  },
  {
   "cell_type": "markdown",
   "id": "b46164b1",
   "metadata": {},
   "source": [
    "### Hibernating\n",
    "\n",
    "For this segment, the values of `RFMCell` are"
   ]
  },
  {
   "cell_type": "code",
   "execution_count": 26,
   "id": "434d3d35",
   "metadata": {
    "execution": {
     "iopub.execute_input": "2024-01-30T03:31:41.886453Z",
     "iopub.status.busy": "2024-01-30T03:31:41.885634Z",
     "iopub.status.idle": "2024-01-30T03:31:41.890735Z",
     "shell.execute_reply": "2024-01-30T03:31:41.889555Z"
    }
   },
   "outputs": [],
   "source": [
    "cells_10 = [\n",
    "    \"3,3,2\",\n",
    "    \"3,2,2\",\n",
    "    \"2,5,1\",\n",
    "    \"2,4,1\",\n",
    "    \"2,3,3\",\n",
    "    \"2,3,2\",\n",
    "    \"2,3,1\",\n",
    "    \"2,2,3\",\n",
    "    \"2,2,2\",\n",
    "    \"2,1,2\",\n",
    "    \"2,1,1\",\n",
    "    \"1,3,2\",\n",
    "    \"1,2,3\",\n",
    "    \"1,2,2\",\n",
    "]"
   ]
  },
  {
   "cell_type": "markdown",
   "id": "3931c415",
   "metadata": {},
   "source": [
    "Labeling customers:"
   ]
  },
  {
   "cell_type": "code",
   "execution_count": 27,
   "id": "bc34c0ee",
   "metadata": {
    "execution": {
     "iopub.execute_input": "2024-01-30T03:31:41.894682Z",
     "iopub.status.busy": "2024-01-30T03:31:41.894353Z",
     "iopub.status.idle": "2024-01-30T03:31:41.912338Z",
     "shell.execute_reply": "2024-01-30T03:31:41.911253Z"
    }
   },
   "outputs": [
    {
     "data": {
      "text/html": [
       "<div>\n",
       "<style scoped>\n",
       "    .dataframe tbody tr th:only-of-type {\n",
       "        vertical-align: middle;\n",
       "    }\n",
       "\n",
       "    .dataframe tbody tr th {\n",
       "        vertical-align: top;\n",
       "    }\n",
       "\n",
       "    .dataframe thead th {\n",
       "        text-align: right;\n",
       "    }\n",
       "</style>\n",
       "<table border=\"1\" class=\"dataframe\">\n",
       "  <thead>\n",
       "    <tr style=\"text-align: right;\">\n",
       "      <th></th>\n",
       "      <th>Recency</th>\n",
       "      <th>Frequency</th>\n",
       "      <th>Monetary</th>\n",
       "      <th>RScore</th>\n",
       "      <th>FScore</th>\n",
       "      <th>MScore</th>\n",
       "      <th>RFMCell</th>\n",
       "      <th>RFMScore</th>\n",
       "      <th>Segment</th>\n",
       "    </tr>\n",
       "    <tr>\n",
       "      <th>CustomerID</th>\n",
       "      <th></th>\n",
       "      <th></th>\n",
       "      <th></th>\n",
       "      <th></th>\n",
       "      <th></th>\n",
       "      <th></th>\n",
       "      <th></th>\n",
       "      <th></th>\n",
       "      <th></th>\n",
       "    </tr>\n",
       "  </thead>\n",
       "  <tbody>\n",
       "    <tr>\n",
       "      <th>12363</th>\n",
       "      <td>110</td>\n",
       "      <td>2</td>\n",
       "      <td>552.00</td>\n",
       "      <td>2</td>\n",
       "      <td>2</td>\n",
       "      <td>3</td>\n",
       "      <td>2,2,3</td>\n",
       "      <td>2.333333</td>\n",
       "      <td>Hibernating</td>\n",
       "    </tr>\n",
       "    <tr>\n",
       "      <th>12365</th>\n",
       "      <td>292</td>\n",
       "      <td>2</td>\n",
       "      <td>641.38</td>\n",
       "      <td>1</td>\n",
       "      <td>2</td>\n",
       "      <td>3</td>\n",
       "      <td>1,2,3</td>\n",
       "      <td>2.000000</td>\n",
       "      <td>Hibernating</td>\n",
       "    </tr>\n",
       "    <tr>\n",
       "      <th>12379</th>\n",
       "      <td>82</td>\n",
       "      <td>2</td>\n",
       "      <td>852.24</td>\n",
       "      <td>2</td>\n",
       "      <td>2</td>\n",
       "      <td>3</td>\n",
       "      <td>2,2,3</td>\n",
       "      <td>2.333333</td>\n",
       "      <td>Hibernating</td>\n",
       "    </tr>\n",
       "    <tr>\n",
       "      <th>12386</th>\n",
       "      <td>338</td>\n",
       "      <td>2</td>\n",
       "      <td>401.90</td>\n",
       "      <td>1</td>\n",
       "      <td>2</td>\n",
       "      <td>2</td>\n",
       "      <td>1,2,2</td>\n",
       "      <td>1.666667</td>\n",
       "      <td>Hibernating</td>\n",
       "    </tr>\n",
       "    <tr>\n",
       "      <th>12410</th>\n",
       "      <td>309</td>\n",
       "      <td>2</td>\n",
       "      <td>693.33</td>\n",
       "      <td>1</td>\n",
       "      <td>2</td>\n",
       "      <td>3</td>\n",
       "      <td>1,2,3</td>\n",
       "      <td>2.000000</td>\n",
       "      <td>Hibernating</td>\n",
       "    </tr>\n",
       "  </tbody>\n",
       "</table>\n",
       "</div>"
      ],
      "text/plain": [
       "            Recency  Frequency  Monetary RScore FScore MScore RFMCell  \\\n",
       "CustomerID                                                              \n",
       "12363           110          2    552.00      2      2      3   2,2,3   \n",
       "12365           292          2    641.38      1      2      3   1,2,3   \n",
       "12379            82          2    852.24      2      2      3   2,2,3   \n",
       "12386           338          2    401.90      1      2      2   1,2,2   \n",
       "12410           309          2    693.33      1      2      3   1,2,3   \n",
       "\n",
       "            RFMScore      Segment  \n",
       "CustomerID                         \n",
       "12363       2.333333  Hibernating  \n",
       "12365       2.000000  Hibernating  \n",
       "12379       2.333333  Hibernating  \n",
       "12386       1.666667  Hibernating  \n",
       "12410       2.000000  Hibernating  "
      ]
     },
     "execution_count": 27,
     "metadata": {},
     "output_type": "execute_result"
    }
   ],
   "source": [
    "mask = df_rfm[\"RFMCell\"].isin(cells_10)\n",
    "df_rfm.loc[mask, \"Segment\"] = \"Hibernating\"\n",
    "df_rfm.loc[mask, :].head()"
   ]
  },
  {
   "cell_type": "markdown",
   "id": "c0ad98bf",
   "metadata": {},
   "source": [
    "### Lost\n",
    "\n",
    "Finally, the last segment is characterized by"
   ]
  },
  {
   "cell_type": "code",
   "execution_count": 28,
   "id": "67b0f693",
   "metadata": {
    "execution": {
     "iopub.execute_input": "2024-01-30T03:31:41.916805Z",
     "iopub.status.busy": "2024-01-30T03:31:41.916464Z",
     "iopub.status.idle": "2024-01-30T03:31:41.920771Z",
     "shell.execute_reply": "2024-01-30T03:31:41.919735Z"
    }
   },
   "outputs": [],
   "source": [
    "cells_11 = [\n",
    "    \"1,5,1\",\n",
    "    \"1,4,1\",\n",
    "    \"1,3,1\",\n",
    "    \"1,2,1\",\n",
    "    \"1,1,2\",\n",
    "    \"1,1,1\",\n",
    "]"
   ]
  },
  {
   "cell_type": "markdown",
   "id": "70e3d563",
   "metadata": {},
   "source": [
    "Labeling customers:"
   ]
  },
  {
   "cell_type": "code",
   "execution_count": 29,
   "id": "1b08e5e5",
   "metadata": {
    "execution": {
     "iopub.execute_input": "2024-01-30T03:31:41.924807Z",
     "iopub.status.busy": "2024-01-30T03:31:41.924442Z",
     "iopub.status.idle": "2024-01-30T03:31:41.943309Z",
     "shell.execute_reply": "2024-01-30T03:31:41.942307Z"
    }
   },
   "outputs": [
    {
     "data": {
      "text/html": [
       "<div>\n",
       "<style scoped>\n",
       "    .dataframe tbody tr th:only-of-type {\n",
       "        vertical-align: middle;\n",
       "    }\n",
       "\n",
       "    .dataframe tbody tr th {\n",
       "        vertical-align: top;\n",
       "    }\n",
       "\n",
       "    .dataframe thead th {\n",
       "        text-align: right;\n",
       "    }\n",
       "</style>\n",
       "<table border=\"1\" class=\"dataframe\">\n",
       "  <thead>\n",
       "    <tr style=\"text-align: right;\">\n",
       "      <th></th>\n",
       "      <th>Recency</th>\n",
       "      <th>Frequency</th>\n",
       "      <th>Monetary</th>\n",
       "      <th>RScore</th>\n",
       "      <th>FScore</th>\n",
       "      <th>MScore</th>\n",
       "      <th>RFMCell</th>\n",
       "      <th>RFMScore</th>\n",
       "      <th>Segment</th>\n",
       "    </tr>\n",
       "    <tr>\n",
       "      <th>CustomerID</th>\n",
       "      <th></th>\n",
       "      <th></th>\n",
       "      <th></th>\n",
       "      <th></th>\n",
       "      <th></th>\n",
       "      <th></th>\n",
       "      <th></th>\n",
       "      <th></th>\n",
       "      <th></th>\n",
       "    </tr>\n",
       "  </thead>\n",
       "  <tbody>\n",
       "    <tr>\n",
       "      <th>12350</th>\n",
       "      <td>311</td>\n",
       "      <td>1</td>\n",
       "      <td>334.4</td>\n",
       "      <td>1</td>\n",
       "      <td>1</td>\n",
       "      <td>2</td>\n",
       "      <td>1,1,2</td>\n",
       "      <td>1.333333</td>\n",
       "      <td>Lost</td>\n",
       "    </tr>\n",
       "    <tr>\n",
       "      <th>12353</th>\n",
       "      <td>205</td>\n",
       "      <td>1</td>\n",
       "      <td>89.0</td>\n",
       "      <td>1</td>\n",
       "      <td>1</td>\n",
       "      <td>1</td>\n",
       "      <td>1,1,1</td>\n",
       "      <td>1.000000</td>\n",
       "      <td>Lost</td>\n",
       "    </tr>\n",
       "    <tr>\n",
       "      <th>12355</th>\n",
       "      <td>215</td>\n",
       "      <td>1</td>\n",
       "      <td>459.4</td>\n",
       "      <td>1</td>\n",
       "      <td>1</td>\n",
       "      <td>2</td>\n",
       "      <td>1,1,2</td>\n",
       "      <td>1.333333</td>\n",
       "      <td>Lost</td>\n",
       "    </tr>\n",
       "    <tr>\n",
       "      <th>12361</th>\n",
       "      <td>288</td>\n",
       "      <td>1</td>\n",
       "      <td>189.9</td>\n",
       "      <td>1</td>\n",
       "      <td>1</td>\n",
       "      <td>1</td>\n",
       "      <td>1,1,1</td>\n",
       "      <td>1.000000</td>\n",
       "      <td>Lost</td>\n",
       "    </tr>\n",
       "    <tr>\n",
       "      <th>12373</th>\n",
       "      <td>312</td>\n",
       "      <td>1</td>\n",
       "      <td>364.6</td>\n",
       "      <td>1</td>\n",
       "      <td>1</td>\n",
       "      <td>2</td>\n",
       "      <td>1,1,2</td>\n",
       "      <td>1.333333</td>\n",
       "      <td>Lost</td>\n",
       "    </tr>\n",
       "  </tbody>\n",
       "</table>\n",
       "</div>"
      ],
      "text/plain": [
       "            Recency  Frequency  Monetary RScore FScore MScore RFMCell  \\\n",
       "CustomerID                                                              \n",
       "12350           311          1     334.4      1      1      2   1,1,2   \n",
       "12353           205          1      89.0      1      1      1   1,1,1   \n",
       "12355           215          1     459.4      1      1      2   1,1,2   \n",
       "12361           288          1     189.9      1      1      1   1,1,1   \n",
       "12373           312          1     364.6      1      1      2   1,1,2   \n",
       "\n",
       "            RFMScore Segment  \n",
       "CustomerID                    \n",
       "12350       1.333333    Lost  \n",
       "12353       1.000000    Lost  \n",
       "12355       1.333333    Lost  \n",
       "12361       1.000000    Lost  \n",
       "12373       1.333333    Lost  "
      ]
     },
     "execution_count": 29,
     "metadata": {},
     "output_type": "execute_result"
    }
   ],
   "source": [
    "mask = df_rfm[\"RFMCell\"].isin(cells_11)\n",
    "df_rfm.loc[mask, \"Segment\"] = \"Lost\"\n",
    "df_rfm.loc[mask, :].head()"
   ]
  },
  {
   "cell_type": "code",
   "execution_count": 30,
   "id": "df398e6c",
   "metadata": {
    "execution": {
     "iopub.execute_input": "2024-01-30T03:31:41.947540Z",
     "iopub.status.busy": "2024-01-30T03:31:41.946897Z",
     "iopub.status.idle": "2024-01-30T03:31:41.951194Z",
     "shell.execute_reply": "2024-01-30T03:31:41.950261Z"
    }
   },
   "outputs": [],
   "source": [
    "del mask"
   ]
  },
  {
   "cell_type": "markdown",
   "id": "ebad5396",
   "metadata": {},
   "source": [
    "### Consistency checks\n",
    "\n",
    "Confirm that every customer has been labeled:"
   ]
  },
  {
   "cell_type": "code",
   "execution_count": 31,
   "id": "b7d6816a",
   "metadata": {
    "execution": {
     "iopub.execute_input": "2024-01-30T03:31:41.955813Z",
     "iopub.status.busy": "2024-01-30T03:31:41.955413Z",
     "iopub.status.idle": "2024-01-30T03:31:41.963872Z",
     "shell.execute_reply": "2024-01-30T03:31:41.962918Z"
    }
   },
   "outputs": [],
   "source": [
    "assert (df_rfm[\"Segment\"].str.len() > 0).all(), \"there are unlabeled customers\""
   ]
  },
  {
   "cell_type": "markdown",
   "id": "e82242d8",
   "metadata": {},
   "source": [
    "Checking if all values of `RFMCell` have been used:"
   ]
  },
  {
   "cell_type": "code",
   "execution_count": 32,
   "id": "034a0dc4",
   "metadata": {
    "execution": {
     "iopub.execute_input": "2024-01-30T03:31:41.968205Z",
     "iopub.status.busy": "2024-01-30T03:31:41.967453Z",
     "iopub.status.idle": "2024-01-30T03:31:41.975587Z",
     "shell.execute_reply": "2024-01-30T03:31:41.974460Z"
    }
   },
   "outputs": [
    {
     "data": {
      "text/plain": [
       "['5,5,5',\n",
       " '5,5,4',\n",
       " '5,5,3',\n",
       " '5,5,2',\n",
       " '5,5,1',\n",
       " '5,4,5',\n",
       " '5,4,4',\n",
       " '5,4,3',\n",
       " '5,4,2',\n",
       " '5,4,1',\n",
       " '5,3,5',\n",
       " '5,3,4',\n",
       " '5,3,3',\n",
       " '5,3,2',\n",
       " '5,3,1',\n",
       " '5,2,5',\n",
       " '5,2,4',\n",
       " '5,2,3',\n",
       " '5,2,2',\n",
       " '5,2,1']"
      ]
     },
     "execution_count": 32,
     "metadata": {},
     "output_type": "execute_result"
    }
   ],
   "source": [
    "# Join all lists I've defined\n",
    "all_cells: list[str] = []\n",
    "gl = globals()\n",
    "\n",
    "for i in range(1, 12):\n",
    "    cells = gl[f\"cells_{i}\"]\n",
    "    cells = cast(list[str], cells)\n",
    "    all_cells.extend(cells)\n",
    "\n",
    "del gl\n",
    "\n",
    "all_cells.sort(reverse=True)\n",
    "all_cells[:20]"
   ]
  },
  {
   "cell_type": "code",
   "execution_count": 33,
   "id": "ee52bf7a",
   "metadata": {
    "execution": {
     "iopub.execute_input": "2024-01-30T03:31:41.979988Z",
     "iopub.status.busy": "2024-01-30T03:31:41.979649Z",
     "iopub.status.idle": "2024-01-30T03:31:42.108175Z",
     "shell.execute_reply": "2024-01-30T03:31:42.107146Z"
    }
   },
   "outputs": [
    {
     "data": {
      "text/html": [
       "<div>\n",
       "<style scoped>\n",
       "    .dataframe tbody tr th:only-of-type {\n",
       "        vertical-align: middle;\n",
       "    }\n",
       "\n",
       "    .dataframe tbody tr th {\n",
       "        vertical-align: top;\n",
       "    }\n",
       "\n",
       "    .dataframe thead th {\n",
       "        text-align: right;\n",
       "    }\n",
       "</style>\n",
       "<table border=\"1\" class=\"dataframe\">\n",
       "  <thead>\n",
       "    <tr style=\"text-align: right;\">\n",
       "      <th></th>\n",
       "      <th>R</th>\n",
       "      <th>F</th>\n",
       "      <th>M</th>\n",
       "      <th>RFMCell</th>\n",
       "    </tr>\n",
       "  </thead>\n",
       "  <tbody>\n",
       "    <tr>\n",
       "      <th>0</th>\n",
       "      <td>5</td>\n",
       "      <td>5</td>\n",
       "      <td>5</td>\n",
       "      <td>5,5,5</td>\n",
       "    </tr>\n",
       "    <tr>\n",
       "      <th>1</th>\n",
       "      <td>5</td>\n",
       "      <td>5</td>\n",
       "      <td>4</td>\n",
       "      <td>5,5,4</td>\n",
       "    </tr>\n",
       "    <tr>\n",
       "      <th>2</th>\n",
       "      <td>5</td>\n",
       "      <td>5</td>\n",
       "      <td>3</td>\n",
       "      <td>5,5,3</td>\n",
       "    </tr>\n",
       "    <tr>\n",
       "      <th>3</th>\n",
       "      <td>5</td>\n",
       "      <td>5</td>\n",
       "      <td>2</td>\n",
       "      <td>5,5,2</td>\n",
       "    </tr>\n",
       "    <tr>\n",
       "      <th>4</th>\n",
       "      <td>5</td>\n",
       "      <td>5</td>\n",
       "      <td>1</td>\n",
       "      <td>5,5,1</td>\n",
       "    </tr>\n",
       "    <tr>\n",
       "      <th>5</th>\n",
       "      <td>5</td>\n",
       "      <td>4</td>\n",
       "      <td>5</td>\n",
       "      <td>5,4,5</td>\n",
       "    </tr>\n",
       "    <tr>\n",
       "      <th>6</th>\n",
       "      <td>5</td>\n",
       "      <td>4</td>\n",
       "      <td>4</td>\n",
       "      <td>5,4,4</td>\n",
       "    </tr>\n",
       "    <tr>\n",
       "      <th>7</th>\n",
       "      <td>5</td>\n",
       "      <td>4</td>\n",
       "      <td>3</td>\n",
       "      <td>5,4,3</td>\n",
       "    </tr>\n",
       "    <tr>\n",
       "      <th>8</th>\n",
       "      <td>5</td>\n",
       "      <td>4</td>\n",
       "      <td>2</td>\n",
       "      <td>5,4,2</td>\n",
       "    </tr>\n",
       "    <tr>\n",
       "      <th>9</th>\n",
       "      <td>5</td>\n",
       "      <td>4</td>\n",
       "      <td>1</td>\n",
       "      <td>5,4,1</td>\n",
       "    </tr>\n",
       "    <tr>\n",
       "      <th>10</th>\n",
       "      <td>5</td>\n",
       "      <td>3</td>\n",
       "      <td>5</td>\n",
       "      <td>5,3,5</td>\n",
       "    </tr>\n",
       "    <tr>\n",
       "      <th>11</th>\n",
       "      <td>5</td>\n",
       "      <td>3</td>\n",
       "      <td>4</td>\n",
       "      <td>5,3,4</td>\n",
       "    </tr>\n",
       "    <tr>\n",
       "      <th>12</th>\n",
       "      <td>5</td>\n",
       "      <td>3</td>\n",
       "      <td>3</td>\n",
       "      <td>5,3,3</td>\n",
       "    </tr>\n",
       "    <tr>\n",
       "      <th>13</th>\n",
       "      <td>5</td>\n",
       "      <td>3</td>\n",
       "      <td>2</td>\n",
       "      <td>5,3,2</td>\n",
       "    </tr>\n",
       "    <tr>\n",
       "      <th>14</th>\n",
       "      <td>5</td>\n",
       "      <td>3</td>\n",
       "      <td>1</td>\n",
       "      <td>5,3,1</td>\n",
       "    </tr>\n",
       "    <tr>\n",
       "      <th>15</th>\n",
       "      <td>5</td>\n",
       "      <td>2</td>\n",
       "      <td>5</td>\n",
       "      <td>5,2,5</td>\n",
       "    </tr>\n",
       "    <tr>\n",
       "      <th>16</th>\n",
       "      <td>5</td>\n",
       "      <td>2</td>\n",
       "      <td>4</td>\n",
       "      <td>5,2,4</td>\n",
       "    </tr>\n",
       "    <tr>\n",
       "      <th>17</th>\n",
       "      <td>5</td>\n",
       "      <td>2</td>\n",
       "      <td>3</td>\n",
       "      <td>5,2,3</td>\n",
       "    </tr>\n",
       "    <tr>\n",
       "      <th>18</th>\n",
       "      <td>5</td>\n",
       "      <td>2</td>\n",
       "      <td>2</td>\n",
       "      <td>5,2,2</td>\n",
       "    </tr>\n",
       "    <tr>\n",
       "      <th>19</th>\n",
       "      <td>5</td>\n",
       "      <td>2</td>\n",
       "      <td>1</td>\n",
       "      <td>5,2,1</td>\n",
       "    </tr>\n",
       "  </tbody>\n",
       "</table>\n",
       "</div>"
      ],
      "text/plain": [
       "    R  F  M RFMCell\n",
       "0   5  5  5   5,5,5\n",
       "1   5  5  4   5,5,4\n",
       "2   5  5  3   5,5,3\n",
       "3   5  5  2   5,5,2\n",
       "4   5  5  1   5,5,1\n",
       "5   5  4  5   5,4,5\n",
       "6   5  4  4   5,4,4\n",
       "7   5  4  3   5,4,3\n",
       "8   5  4  2   5,4,2\n",
       "9   5  4  1   5,4,1\n",
       "10  5  3  5   5,3,5\n",
       "11  5  3  4   5,3,4\n",
       "12  5  3  3   5,3,3\n",
       "13  5  3  2   5,3,2\n",
       "14  5  3  1   5,3,1\n",
       "15  5  2  5   5,2,5\n",
       "16  5  2  4   5,2,4\n",
       "17  5  2  3   5,2,3\n",
       "18  5  2  2   5,2,2\n",
       "19  5  2  1   5,2,1"
      ]
     },
     "execution_count": 33,
     "metadata": {},
     "output_type": "execute_result"
    }
   ],
   "source": [
    "# Generate all possible values\n",
    "vals = list(range(1, 6))\n",
    "df_1 = pd.DataFrame(data={\"R\": vals})\n",
    "df_2 = pd.DataFrame(data={\"F\": vals})\n",
    "df_3 = pd.DataFrame(data={\"M\": vals})\n",
    "\n",
    "df_tmp = (\n",
    "    df_1.merge(df_2, how=\"cross\")\n",
    "    .merge(df_3, how=\"cross\")\n",
    "    .sort_values(by=[\"R\", \"F\", \"M\"], ascending=False)\n",
    "    .reset_index(drop=True)\n",
    ")\n",
    "df_tmp[\"RFMCell\"] = df_tmp.agg(lambda r: f\"{r.iloc[0]},{r.iloc[1]},{r.iloc[2]}\", axis=\"columns\")\n",
    "\n",
    "del vals\n",
    "del df_1\n",
    "del df_2\n",
    "del df_3\n",
    "\n",
    "df_tmp.head(20)"
   ]
  },
  {
   "cell_type": "code",
   "execution_count": 34,
   "id": "2a49159b",
   "metadata": {
    "execution": {
     "iopub.execute_input": "2024-01-30T03:31:42.112564Z",
     "iopub.status.busy": "2024-01-30T03:31:42.112141Z",
     "iopub.status.idle": "2024-01-30T03:31:42.116796Z",
     "shell.execute_reply": "2024-01-30T03:31:42.115865Z"
    }
   },
   "outputs": [],
   "source": [
    "# Finally check\n",
    "assert all_cells == df_tmp[\"RFMCell\"].to_list(), \"not all values of RFMCell have been used\"\n",
    "\n",
    "del all_cells\n",
    "del df_tmp"
   ]
  },
  {
   "cell_type": "markdown",
   "id": "53f7b7cc",
   "metadata": {},
   "source": [
    "### Better way to label customers"
   ]
  },
  {
   "cell_type": "code",
   "execution_count": 35,
   "id": "abd0eebc",
   "metadata": {
    "execution": {
     "iopub.execute_input": "2024-01-30T03:31:42.122129Z",
     "iopub.status.busy": "2024-01-30T03:31:42.121359Z",
     "iopub.status.idle": "2024-01-30T03:31:42.134212Z",
     "shell.execute_reply": "2024-01-30T03:31:42.133176Z"
    }
   },
   "outputs": [],
   "source": [
    "# Define all segments at once\n",
    "SEGMENTS_5 = {\n",
    "    \"5,5,5\": \"Champions\",\n",
    "    \"5,5,4\": \"Champions\",\n",
    "    \"5,4,5\": \"Champions\",\n",
    "    \"5,4,4\": \"Champions\",\n",
    "    \"4,5,5\": \"Champions\",\n",
    "    \"4,5,4\": \"Champions\",\n",
    "    \"4,4,5\": \"Champions\",\n",
    "    \"5,4,3\": \"Loyal\",\n",
    "    \"4,4,4\": \"Loyal\",\n",
    "    \"4,3,5\": \"Loyal\",\n",
    "    \"3,5,5\": \"Loyal\",\n",
    "    \"3,5,4\": \"Loyal\",\n",
    "    \"3,4,5\": \"Loyal\",\n",
    "    \"3,4,4\": \"Loyal\",\n",
    "    \"3,3,5\": \"Loyal\",\n",
    "    \"5,5,3\": \"Potential Loyalists\",\n",
    "    \"5,5,2\": \"Potential Loyalists\",\n",
    "    \"5,5,1\": \"Potential Loyalists\",\n",
    "    \"5,4,2\": \"Potential Loyalists\",\n",
    "    \"5,4,1\": \"Potential Loyalists\",\n",
    "    \"5,3,3\": \"Potential Loyalists\",\n",
    "    \"5,3,2\": \"Potential Loyalists\",\n",
    "    \"5,3,1\": \"Potential Loyalists\",\n",
    "    \"4,5,3\": \"Potential Loyalists\",\n",
    "    \"4,5,2\": \"Potential Loyalists\",\n",
    "    \"4,5,1\": \"Potential Loyalists\",\n",
    "    \"4,4,2\": \"Potential Loyalists\",\n",
    "    \"4,4,1\": \"Potential Loyalists\",\n",
    "    \"4,3,3\": \"Potential Loyalists\",\n",
    "    \"4,3,2\": \"Potential Loyalists\",\n",
    "    \"4,3,1\": \"Potential Loyalists\",\n",
    "    \"4,2,3\": \"Potential Loyalists\",\n",
    "    \"3,5,3\": \"Potential Loyalists\",\n",
    "    \"3,5,2\": \"Potential Loyalists\",\n",
    "    \"3,5,1\": \"Potential Loyalists\",\n",
    "    \"3,4,2\": \"Potential Loyalists\",\n",
    "    \"3,4,1\": \"Potential Loyalists\",\n",
    "    \"3,3,3\": \"Potential Loyalists\",\n",
    "    \"3,2,3\": \"Potential Loyalists\",\n",
    "    \"5,1,2\": \"New Customers\",\n",
    "    \"5,1,1\": \"New Customers\",\n",
    "    \"4,2,2\": \"New Customers\",\n",
    "    \"4,2,1\": \"New Customers\",\n",
    "    \"4,1,2\": \"New Customers\",\n",
    "    \"4,1,1\": \"New Customers\",\n",
    "    \"3,1,1\": \"New Customers\",\n",
    "    \"5,2,5\": \"Promising\",\n",
    "    \"5,2,4\": \"Promising\",\n",
    "    \"5,2,3\": \"Promising\",\n",
    "    \"5,2,2\": \"Promising\",\n",
    "    \"5,2,1\": \"Promising\",\n",
    "    \"5,1,5\": \"Promising\",\n",
    "    \"5,1,4\": \"Promising\",\n",
    "    \"5,1,3\": \"Promising\",\n",
    "    \"4,2,5\": \"Promising\",\n",
    "    \"4,2,4\": \"Promising\",\n",
    "    \"4,1,5\": \"Promising\",\n",
    "    \"4,1,4\": \"Promising\",\n",
    "    \"4,1,3\": \"Promising\",\n",
    "    \"3,1,5\": \"Promising\",\n",
    "    \"3,1,4\": \"Promising\",\n",
    "    \"3,1,3\": \"Promising\",\n",
    "    \"5,3,5\": \"Need Attention\",\n",
    "    \"5,3,4\": \"Need Attention\",\n",
    "    \"4,4,3\": \"Need Attention\",\n",
    "    \"4,3,4\": \"Need Attention\",\n",
    "    \"3,4,3\": \"Need Attention\",\n",
    "    \"3,3,4\": \"Need Attention\",\n",
    "    \"3,2,5\": \"Need Attention\",\n",
    "    \"3,2,4\": \"Need Attention\",\n",
    "    \"3,3,1\": \"About to Sleep\",\n",
    "    \"3,2,1\": \"About to Sleep\",\n",
    "    \"3,1,2\": \"About to Sleep\",\n",
    "    \"2,2,1\": \"About to Sleep\",\n",
    "    \"2,1,3\": \"About to Sleep\",\n",
    "    \"2,1,5\": \"Cannot Lose Them\",\n",
    "    \"2,1,4\": \"Cannot Lose Them\",\n",
    "    \"1,5,5\": \"Cannot Lose Them\",\n",
    "    \"1,5,4\": \"Cannot Lose Them\",\n",
    "    \"1,4,4\": \"Cannot Lose Them\",\n",
    "    \"1,1,5\": \"Cannot Lose Them\",\n",
    "    \"1,1,4\": \"Cannot Lose Them\",\n",
    "    \"1,1,3\": \"Cannot Lose Them\",\n",
    "    \"2,5,5\": \"At Risk\",\n",
    "    \"2,5,4\": \"At Risk\",\n",
    "    \"2,5,3\": \"At Risk\",\n",
    "    \"2,5,2\": \"At Risk\",\n",
    "    \"2,4,5\": \"At Risk\",\n",
    "    \"2,4,4\": \"At Risk\",\n",
    "    \"2,4,3\": \"At Risk\",\n",
    "    \"2,4,2\": \"At Risk\",\n",
    "    \"2,3,5\": \"At Risk\",\n",
    "    \"2,3,4\": \"At Risk\",\n",
    "    \"2,2,5\": \"At Risk\",\n",
    "    \"2,2,4\": \"At Risk\",\n",
    "    \"1,5,3\": \"At Risk\",\n",
    "    \"1,5,2\": \"At Risk\",\n",
    "    \"1,4,5\": \"At Risk\",\n",
    "    \"1,4,3\": \"At Risk\",\n",
    "    \"1,4,2\": \"At Risk\",\n",
    "    \"1,3,5\": \"At Risk\",\n",
    "    \"1,3,4\": \"At Risk\",\n",
    "    \"1,3,3\": \"At Risk\",\n",
    "    \"1,2,5\": \"At Risk\",\n",
    "    \"1,2,4\": \"At Risk\",\n",
    "    \"3,3,2\": \"Hibernating\",\n",
    "    \"3,2,2\": \"Hibernating\",\n",
    "    \"2,5,1\": \"Hibernating\",\n",
    "    \"2,4,1\": \"Hibernating\",\n",
    "    \"2,3,3\": \"Hibernating\",\n",
    "    \"2,3,2\": \"Hibernating\",\n",
    "    \"2,3,1\": \"Hibernating\",\n",
    "    \"2,2,3\": \"Hibernating\",\n",
    "    \"2,2,2\": \"Hibernating\",\n",
    "    \"2,1,2\": \"Hibernating\",\n",
    "    \"2,1,1\": \"Hibernating\",\n",
    "    \"1,3,2\": \"Hibernating\",\n",
    "    \"1,2,3\": \"Hibernating\",\n",
    "    \"1,2,2\": \"Hibernating\",\n",
    "    \"1,5,1\": \"Lost\",\n",
    "    \"1,4,1\": \"Lost\",\n",
    "    \"1,3,1\": \"Lost\",\n",
    "    \"1,2,1\": \"Lost\",\n",
    "    \"1,1,2\": \"Lost\",\n",
    "    \"1,1,1\": \"Lost\",\n",
    "}"
   ]
  },
  {
   "cell_type": "code",
   "execution_count": 36,
   "id": "582912a9",
   "metadata": {
    "execution": {
     "iopub.execute_input": "2024-01-30T03:31:42.138186Z",
     "iopub.status.busy": "2024-01-30T03:31:42.137541Z",
     "iopub.status.idle": "2024-01-30T03:31:42.150344Z",
     "shell.execute_reply": "2024-01-30T03:31:42.149319Z"
    }
   },
   "outputs": [
    {
     "name": "stdout",
     "output_type": "stream",
     "text": [
      "<class 'pandas.core.frame.DataFrame'>\n",
      "CategoricalIndex: 4338 entries, 12346 to 18287\n",
      "Data columns (total 8 columns):\n",
      " #   Column     Non-Null Count  Dtype   \n",
      "---  ------     --------------  -----   \n",
      " 0   Recency    4338 non-null   int64   \n",
      " 1   Frequency  4338 non-null   int64   \n",
      " 2   Monetary   4338 non-null   float64 \n",
      " 3   RScore     4338 non-null   category\n",
      " 4   FScore     4338 non-null   category\n",
      " 5   MScore     4338 non-null   category\n",
      " 6   RFMCell    4338 non-null   object  \n",
      " 7   RFMScore   4338 non-null   float64 \n",
      "dtypes: category(3), float64(2), int64(2), object(1)\n",
      "memory usage: 354.2+ KB\n"
     ]
    }
   ],
   "source": [
    "# Remove \"old\" segments\n",
    "old_segments = df_rfm.pop(\"Segment\")\n",
    "\n",
    "df_rfm.info()"
   ]
  },
  {
   "cell_type": "code",
   "execution_count": 37,
   "id": "91090bcb",
   "metadata": {
    "execution": {
     "iopub.execute_input": "2024-01-30T03:31:42.154741Z",
     "iopub.status.busy": "2024-01-30T03:31:42.154456Z",
     "iopub.status.idle": "2024-01-30T03:31:42.160435Z",
     "shell.execute_reply": "2024-01-30T03:31:42.159538Z"
    }
   },
   "outputs": [],
   "source": [
    "# Label customers\n",
    "df_rfm[\"Segment\"] = df_rfm[\"RFMCell\"].map(SEGMENTS_5)"
   ]
  },
  {
   "cell_type": "code",
   "execution_count": 38,
   "id": "4a1685a7",
   "metadata": {
    "execution": {
     "iopub.execute_input": "2024-01-30T03:31:42.164750Z",
     "iopub.status.busy": "2024-01-30T03:31:42.164468Z",
     "iopub.status.idle": "2024-01-30T03:31:42.204141Z",
     "shell.execute_reply": "2024-01-30T03:31:42.203164Z"
    }
   },
   "outputs": [],
   "source": [
    "# Quick check\n",
    "assert_series_equal(df_rfm[\"Segment\"], old_segments)\n",
    "\n",
    "del old_segments"
   ]
  },
  {
   "cell_type": "code",
   "execution_count": 39,
   "id": "7fe2a9af",
   "metadata": {
    "execution": {
     "iopub.execute_input": "2024-01-30T03:31:42.208294Z",
     "iopub.status.busy": "2024-01-30T03:31:42.208003Z",
     "iopub.status.idle": "2024-01-30T03:31:42.215807Z",
     "shell.execute_reply": "2024-01-30T03:31:42.214817Z"
    }
   },
   "outputs": [
    {
     "data": {
      "text/plain": [
       "Index(['About to Sleep', 'At Risk', 'Cannot Lose Them', 'Champions',\n",
       "       'Hibernating', 'Lost', 'Loyal', 'Need Attention', 'New Customers',\n",
       "       'Potential Loyalists', 'Promising'],\n",
       "      dtype='object')"
      ]
     },
     "execution_count": 39,
     "metadata": {},
     "output_type": "execute_result"
    }
   ],
   "source": [
    "# Make it categorical\n",
    "df_rfm[\"Segment\"] = df_rfm[\"Segment\"].astype(\"category\")\n",
    "df_rfm[\"Segment\"].cat.categories"
   ]
  },
  {
   "cell_type": "code",
   "execution_count": 40,
   "id": "9e69b802",
   "metadata": {
    "execution": {
     "iopub.execute_input": "2024-01-30T03:31:42.219615Z",
     "iopub.status.busy": "2024-01-30T03:31:42.219198Z",
     "iopub.status.idle": "2024-01-30T03:31:42.225442Z",
     "shell.execute_reply": "2024-01-30T03:31:42.224381Z"
    }
   },
   "outputs": [
    {
     "name": "stdout",
     "output_type": "stream",
     "text": [
      "True\n"
     ]
    }
   ],
   "source": [
    "# Quick checks\n",
    "assert not df_rfm[\"Segment\"].cat.ordered\n",
    "\n",
    "num_categories_1: int = df_rfm[\"Segment\"].cat.categories.shape[0]\n",
    "num_categories_2: int = len(set(SEGMENTS_5.values()))\n",
    "print(num_categories_1 == num_categories_2)\n",
    "del num_categories_1\n",
    "del num_categories_2"
   ]
  },
  {
   "cell_type": "markdown",
   "id": "4ee05655",
   "metadata": {},
   "source": [
    "### Save segment data"
   ]
  },
  {
   "cell_type": "code",
   "execution_count": 41,
   "id": "0c511eb1",
   "metadata": {
    "execution": {
     "iopub.execute_input": "2024-01-30T03:31:42.230485Z",
     "iopub.status.busy": "2024-01-30T03:31:42.230111Z",
     "iopub.status.idle": "2024-01-30T03:31:42.262035Z",
     "shell.execute_reply": "2024-01-30T03:31:42.261279Z"
    }
   },
   "outputs": [],
   "source": [
    "# File path for output CSV\n",
    "out_file = file_path.parent / \"rfm_segments.csv\"\n",
    "\n",
    "df_rfm.to_csv(out_file, index=True)"
   ]
  },
  {
   "cell_type": "markdown",
   "id": "7560626e",
   "metadata": {
    "lines_to_next_cell": 2
   },
   "source": [
    "## Summarizing through functions\n",
    "\n",
    "The above code seems to be doing what it's supposed to. So, as usual, we'll\n",
    "collect the essential parts of this code, and define a couple of functions."
   ]
  },
  {
   "cell_type": "code",
   "execution_count": 42,
   "id": "b723603d",
   "metadata": {
    "execution": {
     "iopub.execute_input": "2024-01-30T03:31:42.266658Z",
     "iopub.status.busy": "2024-01-30T03:31:42.266101Z",
     "iopub.status.idle": "2024-01-30T03:31:42.272486Z",
     "shell.execute_reply": "2024-01-30T03:31:42.271521Z"
    }
   },
   "outputs": [],
   "source": [
    "def read_rfm_scores(file_path: Path) -> pd.DataFrame:\n",
    "    df = pd.read_csv(\n",
    "        file_path,\n",
    "        dtype={\n",
    "            \"CustomerID\": \"category\",\n",
    "            \"Recency\": np.int_,\n",
    "            \"Frequency\": np.int_,\n",
    "            \"Monetary\": np.float_,\n",
    "            \"RScore\": \"category\",\n",
    "            \"FScore\": \"category\",\n",
    "            \"MScore\": \"category\",\n",
    "            \"RFMCell\": object,\n",
    "            \"RFMScore\": np.float_,\n",
    "        },\n",
    "        index_col=\"CustomerID\",\n",
    "    )\n",
    "\n",
    "    score_cols = [\"RScore\", \"FScore\", \"MScore\"]\n",
    "    df[score_cols] = df[score_cols].transform(lambda col: col.cat.as_ordered())\n",
    "\n",
    "    return df"
   ]
  },
  {
   "cell_type": "code",
   "execution_count": 43,
   "id": "74c34109",
   "metadata": {
    "execution": {
     "iopub.execute_input": "2024-01-30T03:31:42.276970Z",
     "iopub.status.busy": "2024-01-30T03:31:42.275917Z",
     "iopub.status.idle": "2024-01-30T03:31:42.281224Z",
     "shell.execute_reply": "2024-01-30T03:31:42.280241Z"
    }
   },
   "outputs": [],
   "source": [
    "def label_customers(df: pd.DataFrame, segments_dict: dict[str, str]) -> pd.DataFrame:\n",
    "    return df.assign(Segment=df[\"RFMCell\"].map(segments_dict).astype(\"category\"))"
   ]
  },
  {
   "cell_type": "code",
   "execution_count": 44,
   "id": "22d61f4c",
   "metadata": {
    "execution": {
     "iopub.execute_input": "2024-01-30T03:31:42.284934Z",
     "iopub.status.busy": "2024-01-30T03:31:42.284571Z",
     "iopub.status.idle": "2024-01-30T03:31:42.457698Z",
     "shell.execute_reply": "2024-01-30T03:31:42.456673Z"
    }
   },
   "outputs": [],
   "source": [
    "# Quick check\n",
    "df_func = read_rfm_scores(file_path)\n",
    "assert_frame_equal(df_func, df_rfm.iloc[:, :-1])"
   ]
  },
  {
   "cell_type": "code",
   "execution_count": 45,
   "id": "8aa090fb",
   "metadata": {
    "execution": {
     "iopub.execute_input": "2024-01-30T03:31:42.461340Z",
     "iopub.status.busy": "2024-01-30T03:31:42.461056Z",
     "iopub.status.idle": "2024-01-30T03:31:42.677063Z",
     "shell.execute_reply": "2024-01-30T03:31:42.676175Z"
    }
   },
   "outputs": [],
   "source": [
    "df_func = label_customers(df_func, SEGMENTS_5)\n",
    "assert_frame_equal(df_func, df_rfm)"
   ]
  },
  {
   "cell_type": "code",
   "execution_count": 46,
   "id": "856f213d",
   "metadata": {
    "execution": {
     "iopub.execute_input": "2024-01-30T03:31:42.680854Z",
     "iopub.status.busy": "2024-01-30T03:31:42.680490Z",
     "iopub.status.idle": "2024-01-30T03:31:42.684964Z",
     "shell.execute_reply": "2024-01-30T03:31:42.683927Z"
    }
   },
   "outputs": [],
   "source": [
    "del df_func"
   ]
  },
  {
   "cell_type": "markdown",
   "id": "16921445",
   "metadata": {
    "lines_to_next_cell": 2
   },
   "source": [
    "What has been done up to this point can be repeated with the help of the\n",
    "function below:"
   ]
  },
  {
   "cell_type": "code",
   "execution_count": 47,
   "id": "109e2c91",
   "metadata": {
    "execution": {
     "iopub.execute_input": "2024-01-30T03:31:42.689044Z",
     "iopub.status.busy": "2024-01-30T03:31:42.688725Z",
     "iopub.status.idle": "2024-01-30T03:31:42.694164Z",
     "shell.execute_reply": "2024-01-30T03:31:42.693121Z"
    }
   },
   "outputs": [],
   "source": [
    "def add_labels_and_save(file_path: Path, segments_dict: dict[str, str]) -> None:\n",
    "    df = read_rfm_scores(file_path)\n",
    "    df = label_customers(df, segments_dict)\n",
    "    out_file = file_path.parent / \"rfm_segments.csv\"\n",
    "    df.to_csv(out_file, index=True)"
   ]
  },
  {
   "cell_type": "code",
   "execution_count": 48,
   "id": "6801f038",
   "metadata": {
    "execution": {
     "iopub.execute_input": "2024-01-30T03:31:42.697864Z",
     "iopub.status.busy": "2024-01-30T03:31:42.697525Z",
     "iopub.status.idle": "2024-01-30T03:31:42.701915Z",
     "shell.execute_reply": "2024-01-30T03:31:42.700945Z"
    }
   },
   "outputs": [],
   "source": [
    "# add_labels_and_save(\n",
    "#     Path.cwd().parents[1] / \"data\" / \"rfm_scores.csv\",\n",
    "#     SEGMENTS_5,\n",
    "# )"
   ]
  },
  {
   "cell_type": "markdown",
   "id": "90db24d7",
   "metadata": {},
   "source": [
    "## Customers by segment\n",
    "### Calculations"
   ]
  },
  {
   "cell_type": "code",
   "execution_count": 49,
   "id": "a55f0e53",
   "metadata": {
    "execution": {
     "iopub.execute_input": "2024-01-30T03:31:42.705801Z",
     "iopub.status.busy": "2024-01-30T03:31:42.705463Z",
     "iopub.status.idle": "2024-01-30T03:31:42.715049Z",
     "shell.execute_reply": "2024-01-30T03:31:42.714008Z"
    }
   },
   "outputs": [
    {
     "data": {
      "text/plain": [
       "Segment\n",
       "Champions              798\n",
       "Hibernating            657\n",
       "Lost                   577\n",
       "New Customers          407\n",
       "Loyal                  403\n",
       "At Risk                348\n",
       "Potential Loyalists    307\n",
       "Need Attention         254\n",
       "Promising              243\n",
       "About to Sleep         219\n",
       "Cannot Lose Them       125\n",
       "Name: count, dtype: int64"
      ]
     },
     "execution_count": 49,
     "metadata": {},
     "output_type": "execute_result"
    }
   ],
   "source": [
    "# Number of customers\n",
    "num_customers = df_rfm[\"Segment\"].value_counts()\n",
    "num_customers = cast(pd.Series, num_customers)\n",
    "num_customers"
   ]
  },
  {
   "cell_type": "code",
   "execution_count": 50,
   "id": "09db808e",
   "metadata": {
    "execution": {
     "iopub.execute_input": "2024-01-30T03:31:42.720310Z",
     "iopub.status.busy": "2024-01-30T03:31:42.719636Z",
     "iopub.status.idle": "2024-01-30T03:31:42.730532Z",
     "shell.execute_reply": "2024-01-30T03:31:42.729512Z"
    }
   },
   "outputs": [
    {
     "data": {
      "text/plain": [
       "Segment\n",
       "Champions              0.183956\n",
       "Hibernating            0.151452\n",
       "Lost                   0.133011\n",
       "New Customers          0.093822\n",
       "Loyal                  0.092900\n",
       "At Risk                0.080221\n",
       "Potential Loyalists    0.070770\n",
       "Need Attention         0.058552\n",
       "Promising              0.056017\n",
       "About to Sleep         0.050484\n",
       "Cannot Lose Them       0.028815\n",
       "Name: proportion, dtype: float64"
      ]
     },
     "execution_count": 50,
     "metadata": {},
     "output_type": "execute_result"
    }
   ],
   "source": [
    "# Proportion\n",
    "prop = df_rfm[\"Segment\"].value_counts(normalize=True)\n",
    "prop = cast(pd.Series, prop)\n",
    "prop"
   ]
  },
  {
   "cell_type": "code",
   "execution_count": 51,
   "id": "7baf5dab",
   "metadata": {
    "execution": {
     "iopub.execute_input": "2024-01-30T03:31:42.735216Z",
     "iopub.status.busy": "2024-01-30T03:31:42.734809Z",
     "iopub.status.idle": "2024-01-30T03:31:42.740407Z",
     "shell.execute_reply": "2024-01-30T03:31:42.739205Z"
    }
   },
   "outputs": [],
   "source": [
    "# Quick check\n",
    "assert prop.loc[\"Champions\"] == num_customers.loc[\"Champions\"] / num_customers.sum()"
   ]
  },
  {
   "cell_type": "code",
   "execution_count": 52,
   "id": "8eb2c535",
   "metadata": {
    "execution": {
     "iopub.execute_input": "2024-01-30T03:31:42.744382Z",
     "iopub.status.busy": "2024-01-30T03:31:42.743951Z",
     "iopub.status.idle": "2024-01-30T03:31:42.752732Z",
     "shell.execute_reply": "2024-01-30T03:31:42.751830Z"
    }
   },
   "outputs": [
    {
     "data": {
      "text/plain": [
       "Segment\n",
       "Champions              18.40%\n",
       "Hibernating            15.15%\n",
       "Lost                   13.30%\n",
       "New Customers           9.38%\n",
       "Loyal                   9.29%\n",
       "At Risk                 8.02%\n",
       "Potential Loyalists     7.08%\n",
       "Need Attention          5.86%\n",
       "Promising               5.60%\n",
       "About to Sleep          5.05%\n",
       "Cannot Lose Them        2.88%\n",
       "Name: percentage, dtype: object"
      ]
     },
     "execution_count": 52,
     "metadata": {},
     "output_type": "execute_result"
    }
   ],
   "source": [
    "# Percentage\n",
    "perc = 100.0 * prop\n",
    "perc = cast(pd.Series, perc)\n",
    "perc.name = \"percentage\"\n",
    "perc.transform(lambda p: f\"{p:.2f}%\")"
   ]
  },
  {
   "cell_type": "code",
   "execution_count": 53,
   "id": "e7933c2a",
   "metadata": {
    "execution": {
     "iopub.execute_input": "2024-01-30T03:31:42.757901Z",
     "iopub.status.busy": "2024-01-30T03:31:42.757559Z",
     "iopub.status.idle": "2024-01-30T03:31:42.763360Z",
     "shell.execute_reply": "2024-01-30T03:31:42.762318Z"
    }
   },
   "outputs": [],
   "source": [
    "# A few checks\n",
    "assert (perc >= 0.0).all()\n",
    "assert (perc <= 100.0).all()\n",
    "assert np.isclose(perc.sum(), 100.0)"
   ]
  },
  {
   "cell_type": "code",
   "execution_count": 54,
   "id": "20b0d88c",
   "metadata": {
    "execution": {
     "iopub.execute_input": "2024-01-30T03:31:42.767573Z",
     "iopub.status.busy": "2024-01-30T03:31:42.767233Z",
     "iopub.status.idle": "2024-01-30T03:31:42.771978Z",
     "shell.execute_reply": "2024-01-30T03:31:42.770936Z"
    }
   },
   "outputs": [],
   "source": [
    "del num_customers\n",
    "del prop\n",
    "del perc"
   ]
  },
  {
   "cell_type": "code",
   "execution_count": 55,
   "id": "737b17ad",
   "metadata": {
    "execution": {
     "iopub.execute_input": "2024-01-30T03:31:42.777001Z",
     "iopub.status.busy": "2024-01-30T03:31:42.776554Z",
     "iopub.status.idle": "2024-01-30T03:31:42.796250Z",
     "shell.execute_reply": "2024-01-30T03:31:42.795198Z"
    }
   },
   "outputs": [
    {
     "data": {
      "text/html": [
       "<div>\n",
       "<style scoped>\n",
       "    .dataframe tbody tr th:only-of-type {\n",
       "        vertical-align: middle;\n",
       "    }\n",
       "\n",
       "    .dataframe tbody tr th {\n",
       "        vertical-align: top;\n",
       "    }\n",
       "\n",
       "    .dataframe thead th {\n",
       "        text-align: right;\n",
       "    }\n",
       "</style>\n",
       "<table border=\"1\" class=\"dataframe\">\n",
       "  <thead>\n",
       "    <tr style=\"text-align: right;\">\n",
       "      <th></th>\n",
       "      <th>Count</th>\n",
       "      <th>Percentage</th>\n",
       "    </tr>\n",
       "    <tr>\n",
       "      <th>Segment</th>\n",
       "      <th></th>\n",
       "      <th></th>\n",
       "    </tr>\n",
       "  </thead>\n",
       "  <tbody>\n",
       "    <tr>\n",
       "      <th>Champions</th>\n",
       "      <td>798</td>\n",
       "      <td>18.40%</td>\n",
       "    </tr>\n",
       "    <tr>\n",
       "      <th>Loyal</th>\n",
       "      <td>403</td>\n",
       "      <td>9.29%</td>\n",
       "    </tr>\n",
       "    <tr>\n",
       "      <th>Potential Loyalists</th>\n",
       "      <td>307</td>\n",
       "      <td>7.08%</td>\n",
       "    </tr>\n",
       "    <tr>\n",
       "      <th>New Customers</th>\n",
       "      <td>407</td>\n",
       "      <td>9.38%</td>\n",
       "    </tr>\n",
       "    <tr>\n",
       "      <th>Promising</th>\n",
       "      <td>243</td>\n",
       "      <td>5.60%</td>\n",
       "    </tr>\n",
       "    <tr>\n",
       "      <th>Need Attention</th>\n",
       "      <td>254</td>\n",
       "      <td>5.86%</td>\n",
       "    </tr>\n",
       "    <tr>\n",
       "      <th>About to Sleep</th>\n",
       "      <td>219</td>\n",
       "      <td>5.05%</td>\n",
       "    </tr>\n",
       "    <tr>\n",
       "      <th>Cannot Lose Them</th>\n",
       "      <td>125</td>\n",
       "      <td>2.88%</td>\n",
       "    </tr>\n",
       "    <tr>\n",
       "      <th>At Risk</th>\n",
       "      <td>348</td>\n",
       "      <td>8.02%</td>\n",
       "    </tr>\n",
       "    <tr>\n",
       "      <th>Hibernating</th>\n",
       "      <td>657</td>\n",
       "      <td>15.15%</td>\n",
       "    </tr>\n",
       "    <tr>\n",
       "      <th>Lost</th>\n",
       "      <td>577</td>\n",
       "      <td>13.30%</td>\n",
       "    </tr>\n",
       "  </tbody>\n",
       "</table>\n",
       "</div>"
      ],
      "text/plain": [
       "                     Count Percentage\n",
       "Segment                              \n",
       "Champions              798     18.40%\n",
       "Loyal                  403      9.29%\n",
       "Potential Loyalists    307      7.08%\n",
       "New Customers          407      9.38%\n",
       "Promising              243      5.60%\n",
       "Need Attention         254      5.86%\n",
       "About to Sleep         219      5.05%\n",
       "Cannot Lose Them       125      2.88%\n",
       "At Risk                348      8.02%\n",
       "Hibernating            657     15.15%\n",
       "Lost                   577     13.30%"
      ]
     },
     "execution_count": 55,
     "metadata": {},
     "output_type": "execute_result"
    }
   ],
   "source": [
    "# Combine the above results into a DataFrame\n",
    "cus_by_seg = (\n",
    "    df_rfm[\"Segment\"]\n",
    "    .value_counts()\n",
    "    .to_frame()\n",
    "    .rename(columns={\"count\": \"Count\"})\n",
    "    .assign(\n",
    "        Percentage=(100.0 * df_rfm[\"Segment\"].value_counts(normalize=True)).transform(lambda p: f\"{p:.2f}%\")\n",
    "    )\n",
    "    .reindex(list(unique_everseen(SEGMENTS_5.values())))\n",
    ")\n",
    "cus_by_seg = cast(pd.DataFrame, cus_by_seg)\n",
    "cus_by_seg"
   ]
  },
  {
   "cell_type": "markdown",
   "id": "ef53a688",
   "metadata": {
    "lines_to_next_cell": 2
   },
   "source": [
    "Note the following: customers in the \"Champions\" segment correspond to almost\n",
    "20% of all customers. In other words: **roughly speaking, the top 20% of\n",
    "customers can be associated with the \"Champions\" segment**. The relevance of\n",
    "this fact will become clear when we discuss the Pareto principle.\n",
    "\n",
    "Use the essential parts of this code to implement a function:"
   ]
  },
  {
   "cell_type": "code",
   "execution_count": 56,
   "id": "9472ab7f",
   "metadata": {
    "execution": {
     "iopub.execute_input": "2024-01-30T03:31:42.801091Z",
     "iopub.status.busy": "2024-01-30T03:31:42.800708Z",
     "iopub.status.idle": "2024-01-30T03:31:42.807332Z",
     "shell.execute_reply": "2024-01-30T03:31:42.806074Z"
    }
   },
   "outputs": [],
   "source": [
    "def customers_by_segment(df: pd.DataFrame, segments_dict: dict[str, str]) -> pd.DataFrame:\n",
    "    return (\n",
    "        df[\"Segment\"]\n",
    "        .value_counts()\n",
    "        .to_frame()\n",
    "        .rename(columns={\"count\": \"CustomerCount\"})\n",
    "        .assign(CustomerPercentage=(100.0 * df[\"Segment\"].value_counts(normalize=True)).round(2))\n",
    "        .reindex(list(unique_everseen(segments_dict.values())))\n",
    "    )"
   ]
  },
  {
   "cell_type": "code",
   "execution_count": 57,
   "id": "77f2ca56",
   "metadata": {
    "execution": {
     "iopub.execute_input": "2024-01-30T03:31:42.811097Z",
     "iopub.status.busy": "2024-01-30T03:31:42.810793Z",
     "iopub.status.idle": "2024-01-30T03:31:42.827752Z",
     "shell.execute_reply": "2024-01-30T03:31:42.826708Z"
    }
   },
   "outputs": [
    {
     "data": {
      "text/html": [
       "<div>\n",
       "<style scoped>\n",
       "    .dataframe tbody tr th:only-of-type {\n",
       "        vertical-align: middle;\n",
       "    }\n",
       "\n",
       "    .dataframe tbody tr th {\n",
       "        vertical-align: top;\n",
       "    }\n",
       "\n",
       "    .dataframe thead th {\n",
       "        text-align: right;\n",
       "    }\n",
       "</style>\n",
       "<table border=\"1\" class=\"dataframe\">\n",
       "  <thead>\n",
       "    <tr style=\"text-align: right;\">\n",
       "      <th></th>\n",
       "      <th>CustomerCount</th>\n",
       "      <th>CustomerPercentage</th>\n",
       "    </tr>\n",
       "    <tr>\n",
       "      <th>Segment</th>\n",
       "      <th></th>\n",
       "      <th></th>\n",
       "    </tr>\n",
       "  </thead>\n",
       "  <tbody>\n",
       "    <tr>\n",
       "      <th>Champions</th>\n",
       "      <td>798</td>\n",
       "      <td>18.40</td>\n",
       "    </tr>\n",
       "    <tr>\n",
       "      <th>Loyal</th>\n",
       "      <td>403</td>\n",
       "      <td>9.29</td>\n",
       "    </tr>\n",
       "    <tr>\n",
       "      <th>Potential Loyalists</th>\n",
       "      <td>307</td>\n",
       "      <td>7.08</td>\n",
       "    </tr>\n",
       "    <tr>\n",
       "      <th>New Customers</th>\n",
       "      <td>407</td>\n",
       "      <td>9.38</td>\n",
       "    </tr>\n",
       "    <tr>\n",
       "      <th>Promising</th>\n",
       "      <td>243</td>\n",
       "      <td>5.60</td>\n",
       "    </tr>\n",
       "    <tr>\n",
       "      <th>Need Attention</th>\n",
       "      <td>254</td>\n",
       "      <td>5.86</td>\n",
       "    </tr>\n",
       "    <tr>\n",
       "      <th>About to Sleep</th>\n",
       "      <td>219</td>\n",
       "      <td>5.05</td>\n",
       "    </tr>\n",
       "    <tr>\n",
       "      <th>Cannot Lose Them</th>\n",
       "      <td>125</td>\n",
       "      <td>2.88</td>\n",
       "    </tr>\n",
       "    <tr>\n",
       "      <th>At Risk</th>\n",
       "      <td>348</td>\n",
       "      <td>8.02</td>\n",
       "    </tr>\n",
       "    <tr>\n",
       "      <th>Hibernating</th>\n",
       "      <td>657</td>\n",
       "      <td>15.15</td>\n",
       "    </tr>\n",
       "    <tr>\n",
       "      <th>Lost</th>\n",
       "      <td>577</td>\n",
       "      <td>13.30</td>\n",
       "    </tr>\n",
       "  </tbody>\n",
       "</table>\n",
       "</div>"
      ],
      "text/plain": [
       "                     CustomerCount  CustomerPercentage\n",
       "Segment                                               \n",
       "Champions                      798               18.40\n",
       "Loyal                          403                9.29\n",
       "Potential Loyalists            307                7.08\n",
       "New Customers                  407                9.38\n",
       "Promising                      243                5.60\n",
       "Need Attention                 254                5.86\n",
       "About to Sleep                 219                5.05\n",
       "Cannot Lose Them               125                2.88\n",
       "At Risk                        348                8.02\n",
       "Hibernating                    657               15.15\n",
       "Lost                           577               13.30"
      ]
     },
     "execution_count": 57,
     "metadata": {},
     "output_type": "execute_result"
    }
   ],
   "source": [
    "cus_by_seg = customers_by_segment(df_rfm, SEGMENTS_5)\n",
    "cus_by_seg"
   ]
  },
  {
   "cell_type": "markdown",
   "id": "64a2c14c",
   "metadata": {},
   "source": [
    "### Visualization"
   ]
  },
  {
   "cell_type": "code",
   "execution_count": 58,
   "id": "22436118",
   "metadata": {
    "execution": {
     "iopub.execute_input": "2024-01-30T03:31:42.832192Z",
     "iopub.status.busy": "2024-01-30T03:31:42.831833Z",
     "iopub.status.idle": "2024-01-30T03:31:43.181147Z",
     "shell.execute_reply": "2024-01-30T03:31:43.180079Z"
    }
   },
   "outputs": [
    {
     "data": {
      "image/png": "[encoded data removed]",
      "text/plain": [
       "<Figure size 800x600 with 1 Axes>"
      ]
     },
     "metadata": {},
     "output_type": "display_data"
    }
   ],
   "source": [
    "# Number of customers\n",
    "fig, ax = plt.subplots(figsize=(8.0, 6.0), layout=\"tight\")\n",
    "ax = cast(Axes, ax)\n",
    "ax.barh(cus_by_seg.index, cus_by_seg[\"CustomerCount\"])\n",
    "ax.invert_yaxis()\n",
    "ax.set_title(\"Number of Customers by Segment\")\n",
    "ax.set_xlabel(\"Number of Customers\")\n",
    "plt.show()"
   ]
  },
  {
   "cell_type": "code",
   "execution_count": 59,
   "id": "cfa6566f",
   "metadata": {
    "execution": {
     "iopub.execute_input": "2024-01-30T03:31:43.185230Z",
     "iopub.status.busy": "2024-01-30T03:31:43.184840Z",
     "iopub.status.idle": "2024-01-30T03:31:43.478273Z",
     "shell.execute_reply": "2024-01-30T03:31:43.476951Z"
    }
   },
   "outputs": [
    {
     "data": {
      "image/png": "[encoded data removed]",
      "text/plain": [
       "<Figure size 800x600 with 1 Axes>"
      ]
     },
     "metadata": {},
     "output_type": "display_data"
    }
   ],
   "source": [
    "# Percentage\n",
    "fig, ax = plt.subplots(figsize=(8.0, 6.0), layout=\"tight\")\n",
    "ax = cast(Axes, ax)\n",
    "ax.barh(cus_by_seg.index, cus_by_seg[\"CustomerPercentage\"])\n",
    "ax.invert_yaxis()\n",
    "ax.set_title(\"Percentage of Customers in Each Segment\")\n",
    "ax.set_xlabel(\"Percentage (%)\")\n",
    "plt.show()"
   ]
  },
  {
   "cell_type": "code",
   "execution_count": 60,
   "id": "def21b96",
   "metadata": {
    "execution": {
     "iopub.execute_input": "2024-01-30T03:31:43.483101Z",
     "iopub.status.busy": "2024-01-30T03:31:43.482728Z",
     "iopub.status.idle": "2024-01-30T03:31:44.021746Z",
     "shell.execute_reply": "2024-01-30T03:31:44.020758Z"
    }
   },
   "outputs": [
    {
     "data": {
      "image/png": "[encoded data removed]",
      "text/plain": [
       "<Figure size 1300x650 with 2 Axes>"
      ]
     },
     "metadata": {},
     "output_type": "display_data"
    }
   ],
   "source": [
    "# Combine these plots into a single figure\n",
    "fig, axs = plt.subplots(1, 2, sharey=True, figsize=(13.0, 6.5), layout=\"constrained\")\n",
    "\n",
    "axs_list = axs.flatten().tolist()\n",
    "axs_list = cast(list[Axes], axs_list)\n",
    "\n",
    "axs_list[0].barh(cus_by_seg.index, cus_by_seg[\"CustomerCount\"])\n",
    "axs_list[0].set_title(\"Number of Customers by Segment\")\n",
    "axs_list[0].set_xlabel(\"Number of Customers\")\n",
    "\n",
    "axs_list[1].barh(cus_by_seg.index, cus_by_seg[\"CustomerPercentage\"])\n",
    "axs_list[1].set_title(\"Percentage of Customers in Each Segment\")\n",
    "axs_list[1].set_xlabel(\"Percentage (%)\")\n",
    "\n",
    "axs_list[1].invert_yaxis()\n",
    "fig.suptitle(\"Customers by Segment\", fontsize=\"xx-large\")\n",
    "\n",
    "plt.show()"
   ]
  },
  {
   "cell_type": "markdown",
   "id": "983cba84",
   "metadata": {},
   "source": [
    "## Revenue by segment\n",
    "### Calculations"
   ]
  },
  {
   "cell_type": "code",
   "execution_count": 61,
   "id": "8834fd6c",
   "metadata": {
    "execution": {
     "iopub.execute_input": "2024-01-30T03:31:44.025968Z",
     "iopub.status.busy": "2024-01-30T03:31:44.025658Z",
     "iopub.status.idle": "2024-01-30T03:31:44.037460Z",
     "shell.execute_reply": "2024-01-30T03:31:44.036422Z"
    }
   },
   "outputs": [
    {
     "data": {
      "text/plain": [
       "Segment\n",
       "About to Sleep           86517.91\n",
       "At Risk                 692817.25\n",
       "Cannot Lose Them        238878.32\n",
       "Champions              5523272.40\n",
       "Hibernating             263533.61\n",
       "Lost                    128362.89\n",
       "Loyal                  1000049.03\n",
       "Need Attention          316228.10\n",
       "New Customers            91929.80\n",
       "Potential Loyalists     194495.14\n",
       "Promising               375323.45\n",
       "Name: revenue, dtype: float64"
      ]
     },
     "execution_count": 61,
     "metadata": {},
     "output_type": "execute_result"
    }
   ],
   "source": [
    "# Total revenue by segment\n",
    "total_by_seg = df_rfm.groupby(by=\"Segment\", observed=True).Monetary.sum()\n",
    "total_by_seg = cast(pd.Series, total_by_seg)\n",
    "total_by_seg.name = \"revenue\"\n",
    "total_by_seg.round(2)"
   ]
  },
  {
   "cell_type": "code",
   "execution_count": 62,
   "id": "6d500c5f",
   "metadata": {
    "execution": {
     "iopub.execute_input": "2024-01-30T03:31:44.042121Z",
     "iopub.status.busy": "2024-01-30T03:31:44.041543Z",
     "iopub.status.idle": "2024-01-30T03:31:44.047945Z",
     "shell.execute_reply": "2024-01-30T03:31:44.046851Z"
    }
   },
   "outputs": [],
   "source": [
    "# Quick check\n",
    "rev_new_1 = total_by_seg.loc[\"New Customers\"]\n",
    "rev_new_2 = df_rfm.loc[df_rfm[\"Segment\"] == \"New Customers\", \"Monetary\"].sum()\n",
    "assert rev_new_1 == rev_new_2\n",
    "del rev_new_1\n",
    "del rev_new_2"
   ]
  },
  {
   "cell_type": "code",
   "execution_count": 63,
   "id": "bd0926bb",
   "metadata": {
    "execution": {
     "iopub.execute_input": "2024-01-30T03:31:44.052214Z",
     "iopub.status.busy": "2024-01-30T03:31:44.051819Z",
     "iopub.status.idle": "2024-01-30T03:31:44.059367Z",
     "shell.execute_reply": "2024-01-30T03:31:44.058381Z"
    }
   },
   "outputs": [
    {
     "data": {
      "text/plain": [
       "8911407.9"
      ]
     },
     "execution_count": 63,
     "metadata": {},
     "output_type": "execute_result"
    }
   ],
   "source": [
    "# Total revenue\n",
    "total_rev = df_rfm[\"Monetary\"].sum()\n",
    "total_rev = cast(np.float_, total_rev)\n",
    "assert np.isclose(total_rev, total_by_seg.sum())\n",
    "np.round(total_rev, 2)"
   ]
  },
  {
   "cell_type": "code",
   "execution_count": 64,
   "id": "6957288a",
   "metadata": {
    "execution": {
     "iopub.execute_input": "2024-01-30T03:31:44.064013Z",
     "iopub.status.busy": "2024-01-30T03:31:44.063630Z",
     "iopub.status.idle": "2024-01-30T03:31:44.075262Z",
     "shell.execute_reply": "2024-01-30T03:31:44.074255Z"
    }
   },
   "outputs": [
    {
     "data": {
      "text/plain": [
       "Segment\n",
       "About to Sleep         0.009709\n",
       "At Risk                0.077745\n",
       "Cannot Lose Them       0.026806\n",
       "Champions              0.619798\n",
       "Hibernating            0.029573\n",
       "Lost                   0.014404\n",
       "Loyal                  0.112221\n",
       "Need Attention         0.035486\n",
       "New Customers          0.010316\n",
       "Potential Loyalists    0.021825\n",
       "Promising              0.042117\n",
       "Name: proportion, dtype: float64"
      ]
     },
     "execution_count": 64,
     "metadata": {},
     "output_type": "execute_result"
    }
   ],
   "source": [
    "# Proportion\n",
    "rev_prop = df_rfm.groupby(by=\"Segment\", observed=True).Monetary.agg(lambda col: col.sum() / total_rev)\n",
    "rev_prop = cast(pd.Series, rev_prop)\n",
    "rev_prop.name = \"proportion\"\n",
    "rev_prop"
   ]
  },
  {
   "cell_type": "code",
   "execution_count": 65,
   "id": "7acbf945",
   "metadata": {
    "execution": {
     "iopub.execute_input": "2024-01-30T03:31:44.079931Z",
     "iopub.status.busy": "2024-01-30T03:31:44.079553Z",
     "iopub.status.idle": "2024-01-30T03:31:44.085923Z",
     "shell.execute_reply": "2024-01-30T03:31:44.084859Z"
    }
   },
   "outputs": [],
   "source": [
    "# Quick check\n",
    "prop_1 = rev_prop.loc[\"New Customers\"]\n",
    "prop_2 = total_by_seg.loc[\"New Customers\"] / df_rfm[\"Monetary\"].sum()\n",
    "assert prop_1 == prop_2\n",
    "del prop_1\n",
    "del prop_2"
   ]
  },
  {
   "cell_type": "code",
   "execution_count": 66,
   "id": "a8e0a47a",
   "metadata": {
    "execution": {
     "iopub.execute_input": "2024-01-30T03:31:44.089609Z",
     "iopub.status.busy": "2024-01-30T03:31:44.089228Z",
     "iopub.status.idle": "2024-01-30T03:31:44.098007Z",
     "shell.execute_reply": "2024-01-30T03:31:44.096980Z"
    }
   },
   "outputs": [
    {
     "data": {
      "text/plain": [
       "Segment\n",
       "About to Sleep          0.97%\n",
       "At Risk                 7.77%\n",
       "Cannot Lose Them        2.68%\n",
       "Champions              61.98%\n",
       "Hibernating             2.96%\n",
       "Lost                    1.44%\n",
       "Loyal                  11.22%\n",
       "Need Attention          3.55%\n",
       "New Customers           1.03%\n",
       "Potential Loyalists     2.18%\n",
       "Promising               4.21%\n",
       "Name: percentage, dtype: object"
      ]
     },
     "execution_count": 66,
     "metadata": {},
     "output_type": "execute_result"
    }
   ],
   "source": [
    "# Percentage\n",
    "rev_perc = 100.0 * rev_prop\n",
    "rev_perc = cast(pd.Series, rev_perc)\n",
    "rev_perc.name = \"percentage\"\n",
    "rev_perc.transform(lambda p: f\"{p:.2f}%\")"
   ]
  },
  {
   "cell_type": "code",
   "execution_count": 67,
   "id": "fa818bd6",
   "metadata": {
    "execution": {
     "iopub.execute_input": "2024-01-30T03:31:44.102829Z",
     "iopub.status.busy": "2024-01-30T03:31:44.102308Z",
     "iopub.status.idle": "2024-01-30T03:31:44.108206Z",
     "shell.execute_reply": "2024-01-30T03:31:44.107181Z"
    }
   },
   "outputs": [],
   "source": [
    "# A few checks\n",
    "assert (rev_perc >= 0.0).all()\n",
    "assert (rev_perc <= 100.0).all()\n",
    "assert np.isclose(rev_perc.sum(), 100.0)"
   ]
  },
  {
   "cell_type": "code",
   "execution_count": 68,
   "id": "963cb7ff",
   "metadata": {
    "execution": {
     "iopub.execute_input": "2024-01-30T03:31:44.113167Z",
     "iopub.status.busy": "2024-01-30T03:31:44.112518Z",
     "iopub.status.idle": "2024-01-30T03:31:44.131236Z",
     "shell.execute_reply": "2024-01-30T03:31:44.130194Z"
    }
   },
   "outputs": [
    {
     "data": {
      "text/html": [
       "<div>\n",
       "<style scoped>\n",
       "    .dataframe tbody tr th:only-of-type {\n",
       "        vertical-align: middle;\n",
       "    }\n",
       "\n",
       "    .dataframe tbody tr th {\n",
       "        vertical-align: top;\n",
       "    }\n",
       "\n",
       "    .dataframe thead th {\n",
       "        text-align: right;\n",
       "    }\n",
       "</style>\n",
       "<table border=\"1\" class=\"dataframe\">\n",
       "  <thead>\n",
       "    <tr style=\"text-align: right;\">\n",
       "      <th></th>\n",
       "      <th>Revenue</th>\n",
       "      <th>Percentage</th>\n",
       "    </tr>\n",
       "    <tr>\n",
       "      <th>Segment</th>\n",
       "      <th></th>\n",
       "      <th></th>\n",
       "    </tr>\n",
       "  </thead>\n",
       "  <tbody>\n",
       "    <tr>\n",
       "      <th>Champions</th>\n",
       "      <td>5523272.40</td>\n",
       "      <td>61.98%</td>\n",
       "    </tr>\n",
       "    <tr>\n",
       "      <th>Loyal</th>\n",
       "      <td>1000049.03</td>\n",
       "      <td>11.22%</td>\n",
       "    </tr>\n",
       "    <tr>\n",
       "      <th>Potential Loyalists</th>\n",
       "      <td>194495.14</td>\n",
       "      <td>2.18%</td>\n",
       "    </tr>\n",
       "    <tr>\n",
       "      <th>New Customers</th>\n",
       "      <td>91929.80</td>\n",
       "      <td>1.03%</td>\n",
       "    </tr>\n",
       "    <tr>\n",
       "      <th>Promising</th>\n",
       "      <td>375323.45</td>\n",
       "      <td>4.21%</td>\n",
       "    </tr>\n",
       "    <tr>\n",
       "      <th>Need Attention</th>\n",
       "      <td>316228.10</td>\n",
       "      <td>3.55%</td>\n",
       "    </tr>\n",
       "    <tr>\n",
       "      <th>About to Sleep</th>\n",
       "      <td>86517.91</td>\n",
       "      <td>0.97%</td>\n",
       "    </tr>\n",
       "    <tr>\n",
       "      <th>Cannot Lose Them</th>\n",
       "      <td>238878.32</td>\n",
       "      <td>2.68%</td>\n",
       "    </tr>\n",
       "    <tr>\n",
       "      <th>At Risk</th>\n",
       "      <td>692817.25</td>\n",
       "      <td>7.77%</td>\n",
       "    </tr>\n",
       "    <tr>\n",
       "      <th>Hibernating</th>\n",
       "      <td>263533.61</td>\n",
       "      <td>2.96%</td>\n",
       "    </tr>\n",
       "    <tr>\n",
       "      <th>Lost</th>\n",
       "      <td>128362.89</td>\n",
       "      <td>1.44%</td>\n",
       "    </tr>\n",
       "  </tbody>\n",
       "</table>\n",
       "</div>"
      ],
      "text/plain": [
       "                        Revenue Percentage\n",
       "Segment                                   \n",
       "Champions            5523272.40     61.98%\n",
       "Loyal                1000049.03     11.22%\n",
       "Potential Loyalists   194495.14      2.18%\n",
       "New Customers          91929.80      1.03%\n",
       "Promising             375323.45      4.21%\n",
       "Need Attention        316228.10      3.55%\n",
       "About to Sleep         86517.91      0.97%\n",
       "Cannot Lose Them      238878.32      2.68%\n",
       "At Risk               692817.25      7.77%\n",
       "Hibernating           263533.61      2.96%\n",
       "Lost                  128362.89      1.44%"
      ]
     },
     "execution_count": 68,
     "metadata": {},
     "output_type": "execute_result"
    }
   ],
   "source": [
    "# Combine the above results into a DataFrame\n",
    "seg_groups = df_rfm.groupby(by=\"Segment\", observed=True)\n",
    "total_rev = np.round(df_rfm[\"Monetary\"].sum(), 2)\n",
    "\n",
    "rev_by_seg = (\n",
    "    seg_groups.Monetary.sum()\n",
    "    .round(2)\n",
    "    .to_frame()\n",
    "    .rename(columns={\"Monetary\": \"Revenue\"})\n",
    "    .assign(\n",
    "        Percentage=(100.0 * seg_groups.Monetary.agg(lambda col: col.sum() / total_rev)).transform(\n",
    "            lambda p: f\"{p:.2f}%\"\n",
    "        )\n",
    "    )\n",
    "    .reindex(list(unique_everseen(SEGMENTS_5.values())))\n",
    ")\n",
    "rev_by_seg = cast(pd.DataFrame, rev_by_seg)\n",
    "rev_by_seg"
   ]
  },
  {
   "cell_type": "markdown",
   "id": "3e545043",
   "metadata": {
    "lines_to_next_cell": 2
   },
   "source": [
    "Use the essential parts of this code to implement a function:"
   ]
  },
  {
   "cell_type": "code",
   "execution_count": 69,
   "id": "8e93ec0c",
   "metadata": {
    "execution": {
     "iopub.execute_input": "2024-01-30T03:31:44.135538Z",
     "iopub.status.busy": "2024-01-30T03:31:44.135095Z",
     "iopub.status.idle": "2024-01-30T03:31:44.141521Z",
     "shell.execute_reply": "2024-01-30T03:31:44.140552Z"
    }
   },
   "outputs": [],
   "source": [
    "def revenue_by_segment(df: pd.DataFrame, segments_dict: dict[str, str]) -> pd.DataFrame:\n",
    "    seg_groups = df.groupby(by=\"Segment\", observed=True)\n",
    "    total_rev = np.round(df[\"Monetary\"].sum(), 2)\n",
    "    return (\n",
    "        seg_groups.Monetary.sum()\n",
    "        .round(2)\n",
    "        .to_frame()\n",
    "        .rename(columns={\"Monetary\": \"Revenue\"})\n",
    "        .assign(RevenuePercentage=(100.0 * seg_groups.Monetary.agg(lambda c: c.sum() / total_rev)).round(2))\n",
    "        .reindex(list(unique_everseen(segments_dict.values())))\n",
    "    )"
   ]
  },
  {
   "cell_type": "code",
   "execution_count": 70,
   "id": "26e1f9d7",
   "metadata": {
    "execution": {
     "iopub.execute_input": "2024-01-30T03:31:44.145712Z",
     "iopub.status.busy": "2024-01-30T03:31:44.145258Z",
     "iopub.status.idle": "2024-01-30T03:31:44.164443Z",
     "shell.execute_reply": "2024-01-30T03:31:44.163412Z"
    }
   },
   "outputs": [
    {
     "data": {
      "text/html": [
       "<div>\n",
       "<style scoped>\n",
       "    .dataframe tbody tr th:only-of-type {\n",
       "        vertical-align: middle;\n",
       "    }\n",
       "\n",
       "    .dataframe tbody tr th {\n",
       "        vertical-align: top;\n",
       "    }\n",
       "\n",
       "    .dataframe thead th {\n",
       "        text-align: right;\n",
       "    }\n",
       "</style>\n",
       "<table border=\"1\" class=\"dataframe\">\n",
       "  <thead>\n",
       "    <tr style=\"text-align: right;\">\n",
       "      <th></th>\n",
       "      <th>Revenue</th>\n",
       "      <th>RevenuePercentage</th>\n",
       "    </tr>\n",
       "    <tr>\n",
       "      <th>Segment</th>\n",
       "      <th></th>\n",
       "      <th></th>\n",
       "    </tr>\n",
       "  </thead>\n",
       "  <tbody>\n",
       "    <tr>\n",
       "      <th>Champions</th>\n",
       "      <td>5523272.40</td>\n",
       "      <td>61.98</td>\n",
       "    </tr>\n",
       "    <tr>\n",
       "      <th>Loyal</th>\n",
       "      <td>1000049.03</td>\n",
       "      <td>11.22</td>\n",
       "    </tr>\n",
       "    <tr>\n",
       "      <th>Potential Loyalists</th>\n",
       "      <td>194495.14</td>\n",
       "      <td>2.18</td>\n",
       "    </tr>\n",
       "    <tr>\n",
       "      <th>New Customers</th>\n",
       "      <td>91929.80</td>\n",
       "      <td>1.03</td>\n",
       "    </tr>\n",
       "    <tr>\n",
       "      <th>Promising</th>\n",
       "      <td>375323.45</td>\n",
       "      <td>4.21</td>\n",
       "    </tr>\n",
       "    <tr>\n",
       "      <th>Need Attention</th>\n",
       "      <td>316228.10</td>\n",
       "      <td>3.55</td>\n",
       "    </tr>\n",
       "    <tr>\n",
       "      <th>About to Sleep</th>\n",
       "      <td>86517.91</td>\n",
       "      <td>0.97</td>\n",
       "    </tr>\n",
       "    <tr>\n",
       "      <th>Cannot Lose Them</th>\n",
       "      <td>238878.32</td>\n",
       "      <td>2.68</td>\n",
       "    </tr>\n",
       "    <tr>\n",
       "      <th>At Risk</th>\n",
       "      <td>692817.25</td>\n",
       "      <td>7.77</td>\n",
       "    </tr>\n",
       "    <tr>\n",
       "      <th>Hibernating</th>\n",
       "      <td>263533.61</td>\n",
       "      <td>2.96</td>\n",
       "    </tr>\n",
       "    <tr>\n",
       "      <th>Lost</th>\n",
       "      <td>128362.89</td>\n",
       "      <td>1.44</td>\n",
       "    </tr>\n",
       "  </tbody>\n",
       "</table>\n",
       "</div>"
      ],
      "text/plain": [
       "                        Revenue  RevenuePercentage\n",
       "Segment                                           \n",
       "Champions            5523272.40              61.98\n",
       "Loyal                1000049.03              11.22\n",
       "Potential Loyalists   194495.14               2.18\n",
       "New Customers          91929.80               1.03\n",
       "Promising             375323.45               4.21\n",
       "Need Attention        316228.10               3.55\n",
       "About to Sleep         86517.91               0.97\n",
       "Cannot Lose Them      238878.32               2.68\n",
       "At Risk               692817.25               7.77\n",
       "Hibernating           263533.61               2.96\n",
       "Lost                  128362.89               1.44"
      ]
     },
     "execution_count": 70,
     "metadata": {},
     "output_type": "execute_result"
    }
   ],
   "source": [
    "rev_by_seg = revenue_by_segment(df_rfm, SEGMENTS_5)\n",
    "rev_by_seg"
   ]
  },
  {
   "cell_type": "markdown",
   "id": "1ebfa258",
   "metadata": {},
   "source": [
    "### Visualization"
   ]
  },
  {
   "cell_type": "code",
   "execution_count": 71,
   "id": "dda9b810",
   "metadata": {
    "execution": {
     "iopub.execute_input": "2024-01-30T03:31:44.168992Z",
     "iopub.status.busy": "2024-01-30T03:31:44.167908Z",
     "iopub.status.idle": "2024-01-30T03:31:44.620774Z",
     "shell.execute_reply": "2024-01-30T03:31:44.619744Z"
    }
   },
   "outputs": [
    {
     "data": {
      "image/png": "[encoded data removed]",
      "text/plain": [
       "<Figure size 800x600 with 1 Axes>"
      ]
     },
     "metadata": {},
     "output_type": "display_data"
    }
   ],
   "source": [
    "# Revenue\n",
    "fig, ax = plt.subplots(figsize=(8.0, 6.0), layout=\"tight\")\n",
    "ax = cast(Axes, ax)\n",
    "ax.barh(rev_by_seg.index, rev_by_seg[\"Revenue\"] / 1e6)\n",
    "ax.xaxis.set_minor_locator(AutoMinorLocator(5))\n",
    "ax.invert_yaxis()\n",
    "ax.set_title(\"Revenue by Segment\")\n",
    "ax.set_xlabel(\"Revenue (Million £)\")\n",
    "plt.show()"
   ]
  },
  {
   "cell_type": "code",
   "execution_count": 72,
   "id": "a31bfa97",
   "metadata": {
    "execution": {
     "iopub.execute_input": "2024-01-30T03:31:44.625282Z",
     "iopub.status.busy": "2024-01-30T03:31:44.624605Z",
     "iopub.status.idle": "2024-01-30T03:31:45.129370Z",
     "shell.execute_reply": "2024-01-30T03:31:45.128214Z"
    }
   },
   "outputs": [
    {
     "data": {
      "image/png": "[encoded data removed]",
      "text/plain": [
       "<Figure size 800x600 with 1 Axes>"
      ]
     },
     "metadata": {},
     "output_type": "display_data"
    }
   ],
   "source": [
    "# Revenue percentage\n",
    "fig, ax = plt.subplots(figsize=(8.0, 6.0), layout=\"tight\")\n",
    "ax = cast(Axes, ax)\n",
    "ax.barh(rev_by_seg.index, rev_by_seg[\"RevenuePercentage\"])\n",
    "ax.xaxis.set_minor_locator(AutoMinorLocator(5))\n",
    "ax.invert_yaxis()\n",
    "ax.set_title(\"Percentage of Revenue from Each Segment\")\n",
    "ax.set_xlabel(\"Percentage (%)\")\n",
    "plt.show()"
   ]
  },
  {
   "cell_type": "code",
   "execution_count": 73,
   "id": "6b3e3197",
   "metadata": {
    "execution": {
     "iopub.execute_input": "2024-01-30T03:31:45.134462Z",
     "iopub.status.busy": "2024-01-30T03:31:45.133776Z",
     "iopub.status.idle": "2024-01-30T03:31:45.930992Z",
     "shell.execute_reply": "2024-01-30T03:31:45.929902Z"
    }
   },
   "outputs": [
    {
     "data": {
      "image/png": "[encoded data removed]",
      "text/plain": [
       "<Figure size 1300x650 with 2 Axes>"
      ]
     },
     "metadata": {},
     "output_type": "display_data"
    }
   ],
   "source": [
    "# Combine these plots into a single figure\n",
    "fig, axs = plt.subplots(1, 2, sharey=True, figsize=(13.0, 6.5), layout=\"constrained\")\n",
    "\n",
    "axs_list = axs.flatten().tolist()\n",
    "axs_list = cast(list[Axes], axs_list)\n",
    "\n",
    "axs_list[0].barh(rev_by_seg.index, rev_by_seg[\"Revenue\"] / 1e6)\n",
    "axs_list[0].xaxis.set_minor_locator(AutoMinorLocator(5))\n",
    "axs_list[0].set_title(\"Revenue by Segment\")\n",
    "axs_list[0].set_xlabel(\"Revenue (Million £)\")\n",
    "\n",
    "axs_list[1].barh(rev_by_seg.index, rev_by_seg[\"RevenuePercentage\"])\n",
    "axs_list[1].xaxis.set_minor_locator(AutoMinorLocator(5))\n",
    "axs_list[1].set_title(\"Percentage of Revenue from Each Segment\")\n",
    "axs_list[1].set_xlabel(\"Percentage (%)\")\n",
    "\n",
    "axs_list[1].invert_yaxis()\n",
    "fig.suptitle(\"Revenue\", fontsize=\"xx-large\")\n",
    "\n",
    "plt.show()"
   ]
  },
  {
   "cell_type": "markdown",
   "id": "527be786",
   "metadata": {
    "lines_to_next_cell": 2
   },
   "source": [
    "## A few functions"
   ]
  },
  {
   "cell_type": "code",
   "execution_count": 74,
   "id": "989934b6",
   "metadata": {
    "execution": {
     "iopub.execute_input": "2024-01-30T03:31:45.934811Z",
     "iopub.status.busy": "2024-01-30T03:31:45.934503Z",
     "iopub.status.idle": "2024-01-30T03:31:45.939800Z",
     "shell.execute_reply": "2024-01-30T03:31:45.938739Z"
    }
   },
   "outputs": [],
   "source": [
    "# Combine segment data\n",
    "def get_segment_data(df: pd.DataFrame, segments_dict: dict[str, str]) -> pd.DataFrame:\n",
    "    return pd.concat(\n",
    "        [\n",
    "            customers_by_segment(df, segments_dict),\n",
    "            revenue_by_segment(df, segments_dict),\n",
    "        ],\n",
    "        axis=1,\n",
    "    )"
   ]
  },
  {
   "cell_type": "code",
   "execution_count": 75,
   "id": "78685c91",
   "metadata": {
    "execution": {
     "iopub.execute_input": "2024-01-30T03:31:45.944812Z",
     "iopub.status.busy": "2024-01-30T03:31:45.944151Z",
     "iopub.status.idle": "2024-01-30T03:31:45.967944Z",
     "shell.execute_reply": "2024-01-30T03:31:45.967085Z"
    }
   },
   "outputs": [
    {
     "data": {
      "text/html": [
       "<div>\n",
       "<style scoped>\n",
       "    .dataframe tbody tr th:only-of-type {\n",
       "        vertical-align: middle;\n",
       "    }\n",
       "\n",
       "    .dataframe tbody tr th {\n",
       "        vertical-align: top;\n",
       "    }\n",
       "\n",
       "    .dataframe thead th {\n",
       "        text-align: right;\n",
       "    }\n",
       "</style>\n",
       "<table border=\"1\" class=\"dataframe\">\n",
       "  <thead>\n",
       "    <tr style=\"text-align: right;\">\n",
       "      <th></th>\n",
       "      <th>CustomerCount</th>\n",
       "      <th>CustomerPercentage</th>\n",
       "      <th>Revenue</th>\n",
       "      <th>RevenuePercentage</th>\n",
       "    </tr>\n",
       "    <tr>\n",
       "      <th>Segment</th>\n",
       "      <th></th>\n",
       "      <th></th>\n",
       "      <th></th>\n",
       "      <th></th>\n",
       "    </tr>\n",
       "  </thead>\n",
       "  <tbody>\n",
       "    <tr>\n",
       "      <th>Champions</th>\n",
       "      <td>798</td>\n",
       "      <td>18.40</td>\n",
       "      <td>5523272.40</td>\n",
       "      <td>61.98</td>\n",
       "    </tr>\n",
       "    <tr>\n",
       "      <th>Loyal</th>\n",
       "      <td>403</td>\n",
       "      <td>9.29</td>\n",
       "      <td>1000049.03</td>\n",
       "      <td>11.22</td>\n",
       "    </tr>\n",
       "    <tr>\n",
       "      <th>Potential Loyalists</th>\n",
       "      <td>307</td>\n",
       "      <td>7.08</td>\n",
       "      <td>194495.14</td>\n",
       "      <td>2.18</td>\n",
       "    </tr>\n",
       "    <tr>\n",
       "      <th>New Customers</th>\n",
       "      <td>407</td>\n",
       "      <td>9.38</td>\n",
       "      <td>91929.80</td>\n",
       "      <td>1.03</td>\n",
       "    </tr>\n",
       "    <tr>\n",
       "      <th>Promising</th>\n",
       "      <td>243</td>\n",
       "      <td>5.60</td>\n",
       "      <td>375323.45</td>\n",
       "      <td>4.21</td>\n",
       "    </tr>\n",
       "    <tr>\n",
       "      <th>Need Attention</th>\n",
       "      <td>254</td>\n",
       "      <td>5.86</td>\n",
       "      <td>316228.10</td>\n",
       "      <td>3.55</td>\n",
       "    </tr>\n",
       "    <tr>\n",
       "      <th>About to Sleep</th>\n",
       "      <td>219</td>\n",
       "      <td>5.05</td>\n",
       "      <td>86517.91</td>\n",
       "      <td>0.97</td>\n",
       "    </tr>\n",
       "    <tr>\n",
       "      <th>Cannot Lose Them</th>\n",
       "      <td>125</td>\n",
       "      <td>2.88</td>\n",
       "      <td>238878.32</td>\n",
       "      <td>2.68</td>\n",
       "    </tr>\n",
       "    <tr>\n",
       "      <th>At Risk</th>\n",
       "      <td>348</td>\n",
       "      <td>8.02</td>\n",
       "      <td>692817.25</td>\n",
       "      <td>7.77</td>\n",
       "    </tr>\n",
       "    <tr>\n",
       "      <th>Hibernating</th>\n",
       "      <td>657</td>\n",
       "      <td>15.15</td>\n",
       "      <td>263533.61</td>\n",
       "      <td>2.96</td>\n",
       "    </tr>\n",
       "    <tr>\n",
       "      <th>Lost</th>\n",
       "      <td>577</td>\n",
       "      <td>13.30</td>\n",
       "      <td>128362.89</td>\n",
       "      <td>1.44</td>\n",
       "    </tr>\n",
       "  </tbody>\n",
       "</table>\n",
       "</div>"
      ],
      "text/plain": [
       "                     CustomerCount  CustomerPercentage     Revenue  \\\n",
       "Segment                                                              \n",
       "Champions                      798               18.40  5523272.40   \n",
       "Loyal                          403                9.29  1000049.03   \n",
       "Potential Loyalists            307                7.08   194495.14   \n",
       "New Customers                  407                9.38    91929.80   \n",
       "Promising                      243                5.60   375323.45   \n",
       "Need Attention                 254                5.86   316228.10   \n",
       "About to Sleep                 219                5.05    86517.91   \n",
       "Cannot Lose Them               125                2.88   238878.32   \n",
       "At Risk                        348                8.02   692817.25   \n",
       "Hibernating                    657               15.15   263533.61   \n",
       "Lost                           577               13.30   128362.89   \n",
       "\n",
       "                     RevenuePercentage  \n",
       "Segment                                 \n",
       "Champions                        61.98  \n",
       "Loyal                            11.22  \n",
       "Potential Loyalists               2.18  \n",
       "New Customers                     1.03  \n",
       "Promising                         4.21  \n",
       "Need Attention                    3.55  \n",
       "About to Sleep                    0.97  \n",
       "Cannot Lose Them                  2.68  \n",
       "At Risk                           7.77  \n",
       "Hibernating                       2.96  \n",
       "Lost                              1.44  "
      ]
     },
     "execution_count": 75,
     "metadata": {},
     "output_type": "execute_result"
    }
   ],
   "source": [
    "df_segment = get_segment_data(df_rfm, SEGMENTS_5)\n",
    "df_segment"
   ]
  },
  {
   "cell_type": "code",
   "execution_count": 76,
   "id": "2a604442",
   "metadata": {
    "execution": {
     "iopub.execute_input": "2024-01-30T03:31:45.972149Z",
     "iopub.status.busy": "2024-01-30T03:31:45.971807Z",
     "iopub.status.idle": "2024-01-30T03:31:45.978005Z",
     "shell.execute_reply": "2024-01-30T03:31:45.977022Z"
    }
   },
   "outputs": [],
   "source": [
    "# Save data in this DataFrame\n",
    "out_file = file_path.parent / \"segment_data.csv\"\n",
    "df_segment.to_csv(out_file, index=True)"
   ]
  },
  {
   "cell_type": "markdown",
   "id": "2bb756e7",
   "metadata": {},
   "source": [
    "Functions for creating the above plots:"
   ]
  },
  {
   "cell_type": "code",
   "execution_count": 77,
   "id": "71ebaa72",
   "metadata": {
    "execution": {
     "iopub.execute_input": "2024-01-30T03:31:45.982481Z",
     "iopub.status.busy": "2024-01-30T03:31:45.982136Z",
     "iopub.status.idle": "2024-01-30T03:31:45.987190Z",
     "shell.execute_reply": "2024-01-30T03:31:45.986152Z"
    }
   },
   "outputs": [],
   "source": [
    "# Path to images directory\n",
    "IMG_DIR = Path.cwd().parents[1] / \"img\"\n",
    "assert IMG_DIR.exists(), f\"directory doesn't exist: {IMG_DIR}\"\n",
    "assert IMG_DIR.is_dir(), f\"not a directory: {IMG_DIR}\""
   ]
  },
  {
   "cell_type": "code",
   "execution_count": 78,
   "id": "afb0f35d",
   "metadata": {
    "execution": {
     "iopub.execute_input": "2024-01-30T03:31:45.991528Z",
     "iopub.status.busy": "2024-01-30T03:31:45.991241Z",
     "iopub.status.idle": "2024-01-30T03:31:45.998853Z",
     "shell.execute_reply": "2024-01-30T03:31:45.997672Z"
    }
   },
   "outputs": [],
   "source": [
    "def plot_customers_by_segment(\n",
    "    df_segment: pd.DataFrame,\n",
    "    *,\n",
    "    save: bool = False,\n",
    "    figsize: tuple[float, float] = (13.0, 6.5),\n",
    ") -> None:\n",
    "    fig, axs = plt.subplots(1, 2, sharey=True, figsize=figsize, layout=\"constrained\")\n",
    "\n",
    "    axs_list = axs.flatten().tolist()\n",
    "    axs_list = cast(list[Axes], axs_list)\n",
    "\n",
    "    axs_list[0].barh(df_segment.index, df_segment[\"CustomerCount\"])\n",
    "    axs_list[0].set_title(\"Number of Customers by Segment\")\n",
    "    axs_list[0].set_xlabel(\"Number of Customers\")\n",
    "\n",
    "    axs_list[1].barh(df_segment.index, df_segment[\"CustomerPercentage\"])\n",
    "    axs_list[1].set_title(\"Percentage of Customers in Each Segment\")\n",
    "    axs_list[1].set_xlabel(\"Percentage (%)\")\n",
    "\n",
    "    axs_list[1].invert_yaxis()\n",
    "    fig.suptitle(\"Customers by Segment\", fontsize=\"xx-large\")\n",
    "\n",
    "    if save:\n",
    "        fig.savefig(IMG_DIR / \"customers_by_segment.png\")\n",
    "    else:\n",
    "        plt.show()"
   ]
  },
  {
   "cell_type": "code",
   "execution_count": 79,
   "id": "53dc8a52",
   "metadata": {
    "execution": {
     "iopub.execute_input": "2024-01-30T03:31:46.003144Z",
     "iopub.status.busy": "2024-01-30T03:31:46.002780Z",
     "iopub.status.idle": "2024-01-30T03:31:47.038355Z",
     "shell.execute_reply": "2024-01-30T03:31:47.037267Z"
    }
   },
   "outputs": [
    {
     "data": {
      "image/png": "[encoded data removed]",
      "text/plain": [
       "<Figure size 1300x650 with 2 Axes>"
      ]
     },
     "metadata": {},
     "output_type": "display_data"
    }
   ],
   "source": [
    "plot_customers_by_segment(df_segment, save=True)"
   ]
  },
  {
   "cell_type": "code",
   "execution_count": 80,
   "id": "e85a6a56",
   "metadata": {
    "execution": {
     "iopub.execute_input": "2024-01-30T03:31:47.042613Z",
     "iopub.status.busy": "2024-01-30T03:31:47.042325Z",
     "iopub.status.idle": "2024-01-30T03:31:47.050738Z",
     "shell.execute_reply": "2024-01-30T03:31:47.049709Z"
    }
   },
   "outputs": [],
   "source": [
    "def plot_revenue_by_segment(\n",
    "    df_segment: pd.DataFrame,\n",
    "    *,\n",
    "    save: bool = False,\n",
    "    figsize: tuple[float, float] = (13.0, 6.5),\n",
    ") -> None:\n",
    "    fig, axs = plt.subplots(1, 2, sharey=True, figsize=figsize, layout=\"constrained\")\n",
    "\n",
    "    axs_list = axs.flatten().tolist()\n",
    "    axs_list = cast(list[Axes], axs_list)\n",
    "\n",
    "    axs_list[0].barh(df_segment.index, df_segment[\"Revenue\"] / 1e6)\n",
    "    axs_list[0].xaxis.set_minor_locator(AutoMinorLocator(5))\n",
    "    axs_list[0].set_title(\"Revenue by Segment\")\n",
    "    axs_list[0].set_xlabel(\"Revenue (Million £)\")\n",
    "\n",
    "    axs_list[1].barh(df_segment.index, df_segment[\"RevenuePercentage\"])\n",
    "    axs_list[1].xaxis.set_minor_locator(AutoMinorLocator(5))\n",
    "    axs_list[1].set_title(\"Percentage of Revenue from Each Segment\")\n",
    "    axs_list[1].set_xlabel(\"Percentage (%)\")\n",
    "\n",
    "    axs_list[1].invert_yaxis()\n",
    "    fig.suptitle(\"Revenue\", fontsize=\"xx-large\")\n",
    "\n",
    "    if save:\n",
    "        fig.savefig(IMG_DIR / \"revenue_by_segment.png\")\n",
    "    else:\n",
    "        plt.show()"
   ]
  },
  {
   "cell_type": "code",
   "execution_count": 81,
   "id": "de1c466e",
   "metadata": {
    "execution": {
     "iopub.execute_input": "2024-01-30T03:31:47.054622Z",
     "iopub.status.busy": "2024-01-30T03:31:47.054062Z",
     "iopub.status.idle": "2024-01-30T03:31:48.230893Z",
     "shell.execute_reply": "2024-01-30T03:31:48.229846Z"
    }
   },
   "outputs": [
    {
     "data": {
      "image/png": "[encoded data removed]",
      "text/plain": [
       "<Figure size 1300x650 with 2 Axes>"
      ]
     },
     "metadata": {},
     "output_type": "display_data"
    }
   ],
   "source": [
    "plot_revenue_by_segment(df_segment, save=True)"
   ]
  },
  {
   "cell_type": "markdown",
   "id": "a7a7b9a9",
   "metadata": {
    "lines_to_next_cell": 2
   },
   "source": [
    "What was done above and in the last two sections can be repeated by using the\n",
    "following function:"
   ]
  },
  {
   "cell_type": "code",
   "execution_count": 82,
   "id": "fc8754fc",
   "metadata": {
    "execution": {
     "iopub.execute_input": "2024-01-30T03:31:48.234765Z",
     "iopub.status.busy": "2024-01-30T03:31:48.234476Z",
     "iopub.status.idle": "2024-01-30T03:31:48.240316Z",
     "shell.execute_reply": "2024-01-30T03:31:48.239240Z"
    },
    "lines_to_next_cell": 2
   },
   "outputs": [],
   "source": [
    "def compute_and_plot_segment_data(\n",
    "    df: pd.DataFrame,\n",
    "    segments_dict: dict[str, str],\n",
    "    figsize: tuple[float, float] = (13.0, 6.5),\n",
    ") -> None:\n",
    "    df_segment = get_segment_data(df, segments_dict)\n",
    "    out_file = DATA_DIR / \"segment_data.csv\"\n",
    "    df_segment.to_csv(out_file, index=True)\n",
    "\n",
    "    plot_customers_by_segment(df_segment, save=True, figsize=figsize)\n",
    "    plot_revenue_by_segment(df_segment, save=True, figsize=figsize)"
   ]
  },
  {
   "cell_type": "code",
   "execution_count": 83,
   "id": "924aea59",
   "metadata": {
    "execution": {
     "iopub.execute_input": "2024-01-30T03:31:48.245227Z",
     "iopub.status.busy": "2024-01-30T03:31:48.244513Z",
     "iopub.status.idle": "2024-01-30T03:31:48.248596Z",
     "shell.execute_reply": "2024-01-30T03:31:48.247608Z"
    }
   },
   "outputs": [],
   "source": [
    "# compute_and_plot_segment_data(df_rfm, SEGMENTS_5)"
   ]
  }
 ],
 "metadata": {
  "jupytext": {
   "cell_metadata_filter": "-all",
   "main_language": "python",
   "notebook_metadata_filter": "-all"
  },
  "language_info": {
   "codemirror_mode": {
    "name": "ipython",
    "version": 3
   },
   "file_extension": ".py",
   "mimetype": "text/x-python",
   "name": "python",
   "nbconvert_exporter": "python",
   "pygments_lexer": "ipython3",
   "version": "3.11.6"
  }
 },
 "nbformat": 4,
 "nbformat_minor": 5
}
