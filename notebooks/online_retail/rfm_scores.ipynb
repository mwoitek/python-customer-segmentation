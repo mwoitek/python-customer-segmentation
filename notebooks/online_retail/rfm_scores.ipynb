{
 "cells": [
  {
   "cell_type": "markdown",
   "id": "4a0b4f34",
   "metadata": {},
   "source": [
    "# Online Retail Dataset: RFM Scores\n",
    "\n",
    "In this notebook, I'll use the prepared dataset to compute the RFM scores.\n",
    "\n",
    "## Imports"
   ]
  },
  {
   "cell_type": "code",
   "execution_count": 1,
   "id": "3a6398a6",
   "metadata": {
    "execution": {
     "iopub.execute_input": "2024-01-21T08:26:19.658272Z",
     "iopub.status.busy": "2024-01-21T08:26:19.657258Z",
     "iopub.status.idle": "2024-01-21T08:26:20.127126Z",
     "shell.execute_reply": "2024-01-21T08:26:20.126195Z"
    }
   },
   "outputs": [],
   "source": [
    "from pathlib import Path\n",
    "from typing import cast\n",
    "\n",
    "import numpy as np\n",
    "import pandas as pd\n",
    "from pandas.testing import assert_frame_equal, assert_index_equal, assert_series_equal\n",
    "\n",
    "from utils.rfm import add_rfm_scores"
   ]
  },
  {
   "cell_type": "markdown",
   "id": "842fa509",
   "metadata": {},
   "source": [
    "## Read prepared dataset"
   ]
  },
  {
   "cell_type": "code",
   "execution_count": 2,
   "id": "782651b4",
   "metadata": {
    "execution": {
     "iopub.execute_input": "2024-01-21T08:26:20.131484Z",
     "iopub.status.busy": "2024-01-21T08:26:20.131038Z",
     "iopub.status.idle": "2024-01-21T08:26:20.136500Z",
     "shell.execute_reply": "2024-01-21T08:26:20.135414Z"
    }
   },
   "outputs": [],
   "source": [
    "# File path for dataset\n",
    "file_path = Path.cwd().parents[1] / \"data\" / \"online_retail.csv\"\n",
    "assert file_path.exists(), f\"file doesn't exist: {file_path}\"\n",
    "assert file_path.is_file(), f\"not a file: {file_path}\""
   ]
  },
  {
   "cell_type": "code",
   "execution_count": 3,
   "id": "e16f56b3",
   "metadata": {
    "execution": {
     "iopub.execute_input": "2024-01-21T08:26:20.141990Z",
     "iopub.status.busy": "2024-01-21T08:26:20.141173Z",
     "iopub.status.idle": "2024-01-21T08:26:20.214160Z",
     "shell.execute_reply": "2024-01-21T08:26:20.213089Z"
    }
   },
   "outputs": [
    {
     "data": {
      "text/html": [
       "<div>\n",
       "<style scoped>\n",
       "    .dataframe tbody tr th:only-of-type {\n",
       "        vertical-align: middle;\n",
       "    }\n",
       "\n",
       "    .dataframe tbody tr th {\n",
       "        vertical-align: top;\n",
       "    }\n",
       "\n",
       "    .dataframe thead th {\n",
       "        text-align: right;\n",
       "    }\n",
       "</style>\n",
       "<table border=\"1\" class=\"dataframe\">\n",
       "  <thead>\n",
       "    <tr style=\"text-align: right;\">\n",
       "      <th></th>\n",
       "      <th>InvoiceNo</th>\n",
       "      <th>InvoiceDate</th>\n",
       "      <th>CustomerID</th>\n",
       "      <th>TotalPrice</th>\n",
       "    </tr>\n",
       "  </thead>\n",
       "  <tbody>\n",
       "    <tr>\n",
       "      <th>0</th>\n",
       "      <td>536365</td>\n",
       "      <td>2010-12-01</td>\n",
       "      <td>17850</td>\n",
       "      <td>139.12</td>\n",
       "    </tr>\n",
       "    <tr>\n",
       "      <th>1</th>\n",
       "      <td>536366</td>\n",
       "      <td>2010-12-01</td>\n",
       "      <td>17850</td>\n",
       "      <td>22.20</td>\n",
       "    </tr>\n",
       "    <tr>\n",
       "      <th>2</th>\n",
       "      <td>536367</td>\n",
       "      <td>2010-12-01</td>\n",
       "      <td>13047</td>\n",
       "      <td>278.73</td>\n",
       "    </tr>\n",
       "    <tr>\n",
       "      <th>3</th>\n",
       "      <td>536368</td>\n",
       "      <td>2010-12-01</td>\n",
       "      <td>13047</td>\n",
       "      <td>70.05</td>\n",
       "    </tr>\n",
       "    <tr>\n",
       "      <th>4</th>\n",
       "      <td>536369</td>\n",
       "      <td>2010-12-01</td>\n",
       "      <td>13047</td>\n",
       "      <td>17.85</td>\n",
       "    </tr>\n",
       "    <tr>\n",
       "      <th>5</th>\n",
       "      <td>536370</td>\n",
       "      <td>2010-12-01</td>\n",
       "      <td>12583</td>\n",
       "      <td>855.86</td>\n",
       "    </tr>\n",
       "    <tr>\n",
       "      <th>6</th>\n",
       "      <td>536371</td>\n",
       "      <td>2010-12-01</td>\n",
       "      <td>13748</td>\n",
       "      <td>204.00</td>\n",
       "    </tr>\n",
       "    <tr>\n",
       "      <th>7</th>\n",
       "      <td>536372</td>\n",
       "      <td>2010-12-01</td>\n",
       "      <td>17850</td>\n",
       "      <td>22.20</td>\n",
       "    </tr>\n",
       "    <tr>\n",
       "      <th>8</th>\n",
       "      <td>536373</td>\n",
       "      <td>2010-12-01</td>\n",
       "      <td>17850</td>\n",
       "      <td>259.86</td>\n",
       "    </tr>\n",
       "    <tr>\n",
       "      <th>9</th>\n",
       "      <td>536374</td>\n",
       "      <td>2010-12-01</td>\n",
       "      <td>15100</td>\n",
       "      <td>350.40</td>\n",
       "    </tr>\n",
       "    <tr>\n",
       "      <th>10</th>\n",
       "      <td>536375</td>\n",
       "      <td>2010-12-01</td>\n",
       "      <td>17850</td>\n",
       "      <td>259.86</td>\n",
       "    </tr>\n",
       "    <tr>\n",
       "      <th>11</th>\n",
       "      <td>536376</td>\n",
       "      <td>2010-12-01</td>\n",
       "      <td>15291</td>\n",
       "      <td>328.80</td>\n",
       "    </tr>\n",
       "    <tr>\n",
       "      <th>12</th>\n",
       "      <td>536377</td>\n",
       "      <td>2010-12-01</td>\n",
       "      <td>17850</td>\n",
       "      <td>22.20</td>\n",
       "    </tr>\n",
       "    <tr>\n",
       "      <th>13</th>\n",
       "      <td>536378</td>\n",
       "      <td>2010-12-01</td>\n",
       "      <td>14688</td>\n",
       "      <td>444.98</td>\n",
       "    </tr>\n",
       "    <tr>\n",
       "      <th>14</th>\n",
       "      <td>536380</td>\n",
       "      <td>2010-12-01</td>\n",
       "      <td>17809</td>\n",
       "      <td>34.80</td>\n",
       "    </tr>\n",
       "  </tbody>\n",
       "</table>\n",
       "</div>"
      ],
      "text/plain": [
       "   InvoiceNo InvoiceDate CustomerID  TotalPrice\n",
       "0     536365  2010-12-01      17850      139.12\n",
       "1     536366  2010-12-01      17850       22.20\n",
       "2     536367  2010-12-01      13047      278.73\n",
       "3     536368  2010-12-01      13047       70.05\n",
       "4     536369  2010-12-01      13047       17.85\n",
       "5     536370  2010-12-01      12583      855.86\n",
       "6     536371  2010-12-01      13748      204.00\n",
       "7     536372  2010-12-01      17850       22.20\n",
       "8     536373  2010-12-01      17850      259.86\n",
       "9     536374  2010-12-01      15100      350.40\n",
       "10    536375  2010-12-01      17850      259.86\n",
       "11    536376  2010-12-01      15291      328.80\n",
       "12    536377  2010-12-01      17850       22.20\n",
       "13    536378  2010-12-01      14688      444.98\n",
       "14    536380  2010-12-01      17809       34.80"
      ]
     },
     "execution_count": 3,
     "metadata": {},
     "output_type": "execute_result"
    }
   ],
   "source": [
    "df = pd.read_csv(\n",
    "    file_path,\n",
    "    dtype={\n",
    "        \"InvoiceNo\": \"category\",\n",
    "        \"CustomerID\": \"category\",\n",
    "        \"TotalPrice\": np.float_,\n",
    "    },\n",
    "    parse_dates=[\"InvoiceDate\"],\n",
    ")\n",
    "df.head(15)"
   ]
  },
  {
   "cell_type": "code",
   "execution_count": 4,
   "id": "29e7e969",
   "metadata": {
    "execution": {
     "iopub.execute_input": "2024-01-21T08:26:20.218432Z",
     "iopub.status.busy": "2024-01-21T08:26:20.217797Z",
     "iopub.status.idle": "2024-01-21T08:26:20.243272Z",
     "shell.execute_reply": "2024-01-21T08:26:20.242173Z"
    }
   },
   "outputs": [
    {
     "name": "stdout",
     "output_type": "stream",
     "text": [
      "<class 'pandas.core.frame.DataFrame'>\n",
      "RangeIndex: 18532 entries, 0 to 18531\n",
      "Data columns (total 4 columns):\n",
      " #   Column       Non-Null Count  Dtype         \n",
      "---  ------       --------------  -----         \n",
      " 0   InvoiceNo    18532 non-null  category      \n",
      " 1   InvoiceDate  18532 non-null  datetime64[ns]\n",
      " 2   CustomerID   18532 non-null  category      \n",
      " 3   TotalPrice   18532 non-null  float64       \n",
      "dtypes: category(2), datetime64[ns](1), float64(1)\n",
      "memory usage: 669.8 KB\n"
     ]
    }
   ],
   "source": [
    "df.info()"
   ]
  },
  {
   "cell_type": "markdown",
   "id": "e1be55a0",
   "metadata": {},
   "source": [
    "## Compute RFM attributes\n",
    "### Recency\n",
    "\n",
    "To calculate the recency, I'll pretend that I'm performing this analysis 1\n",
    "day after the last piece of data was collected."
   ]
  },
  {
   "cell_type": "code",
   "execution_count": 5,
   "id": "056fdee9",
   "metadata": {
    "execution": {
     "iopub.execute_input": "2024-01-21T08:26:20.248560Z",
     "iopub.status.busy": "2024-01-21T08:26:20.248106Z",
     "iopub.status.idle": "2024-01-21T08:26:20.256524Z",
     "shell.execute_reply": "2024-01-21T08:26:20.255285Z"
    }
   },
   "outputs": [
    {
     "data": {
      "text/plain": [
       "Timestamp('2011-12-10 00:00:00')"
      ]
     },
     "execution_count": 5,
     "metadata": {},
     "output_type": "execute_result"
    }
   ],
   "source": [
    "today = df[\"InvoiceDate\"].max() + pd.Timedelta(days=1)\n",
    "today = cast(pd.Timestamp, today)\n",
    "today"
   ]
  },
  {
   "cell_type": "markdown",
   "id": "3998fbc3",
   "metadata": {},
   "source": [
    "Recall that, in this case, recency corresponds to the number of days since\n",
    "the last purchase. Figuring out the best way to compute this metric:"
   ]
  },
  {
   "cell_type": "code",
   "execution_count": 6,
   "id": "23b3e00d",
   "metadata": {
    "execution": {
     "iopub.execute_input": "2024-01-21T08:26:20.260781Z",
     "iopub.status.busy": "2024-01-21T08:26:20.260483Z",
     "iopub.status.idle": "2024-01-21T08:26:20.268255Z",
     "shell.execute_reply": "2024-01-21T08:26:20.267074Z"
    }
   },
   "outputs": [
    {
     "data": {
      "text/plain": [
       "8"
      ]
     },
     "execution_count": 6,
     "metadata": {},
     "output_type": "execute_result"
    }
   ],
   "source": [
    "# Recency for a particular customer\n",
    "(today - df.loc[df[\"CustomerID\"] == \"14688\", \"InvoiceDate\"].max()).days"
   ]
  },
  {
   "cell_type": "code",
   "execution_count": 7,
   "id": "17a17855",
   "metadata": {
    "execution": {
     "iopub.execute_input": "2024-01-21T08:26:20.272977Z",
     "iopub.status.busy": "2024-01-21T08:26:20.272669Z",
     "iopub.status.idle": "2024-01-21T08:26:20.288799Z",
     "shell.execute_reply": "2024-01-21T08:26:20.287769Z"
    }
   },
   "outputs": [
    {
     "data": {
      "text/plain": [
       "CustomerID\n",
       "12346    326\n",
       "12347      3\n",
       "12348     76\n",
       "12349     19\n",
       "12350    311\n",
       "Name: InvoiceDate, dtype: int64"
      ]
     },
     "execution_count": 7,
     "metadata": {},
     "output_type": "execute_result"
    }
   ],
   "source": [
    "# Recency for all customers\n",
    "recency = (today - df.groupby(by=\"CustomerID\", observed=True).InvoiceDate.max()).dt.days\n",
    "recency = cast(pd.Series, recency)\n",
    "\n",
    "assert (recency > 0).all()\n",
    "\n",
    "recency.head()"
   ]
  },
  {
   "cell_type": "code",
   "execution_count": 8,
   "id": "37397b6c",
   "metadata": {
    "execution": {
     "iopub.execute_input": "2024-01-21T08:26:20.292972Z",
     "iopub.status.busy": "2024-01-21T08:26:20.292677Z",
     "iopub.status.idle": "2024-01-21T08:26:20.299028Z",
     "shell.execute_reply": "2024-01-21T08:26:20.298036Z"
    }
   },
   "outputs": [
    {
     "data": {
      "text/plain": [
       "8"
      ]
     },
     "execution_count": 8,
     "metadata": {},
     "output_type": "execute_result"
    }
   ],
   "source": [
    "recency.loc[\"14688\"]"
   ]
  },
  {
   "cell_type": "markdown",
   "id": "172262a4",
   "metadata": {},
   "source": [
    "This seems OK. Then I'll start building the DataFrame that will store the RFM\n",
    "scores:"
   ]
  },
  {
   "cell_type": "code",
   "execution_count": 9,
   "id": "da6b3d01",
   "metadata": {
    "execution": {
     "iopub.execute_input": "2024-01-21T08:26:20.305238Z",
     "iopub.status.busy": "2024-01-21T08:26:20.304472Z",
     "iopub.status.idle": "2024-01-21T08:26:20.323651Z",
     "shell.execute_reply": "2024-01-21T08:26:20.322576Z"
    }
   },
   "outputs": [
    {
     "data": {
      "text/html": [
       "<div>\n",
       "<style scoped>\n",
       "    .dataframe tbody tr th:only-of-type {\n",
       "        vertical-align: middle;\n",
       "    }\n",
       "\n",
       "    .dataframe tbody tr th {\n",
       "        vertical-align: top;\n",
       "    }\n",
       "\n",
       "    .dataframe thead th {\n",
       "        text-align: right;\n",
       "    }\n",
       "</style>\n",
       "<table border=\"1\" class=\"dataframe\">\n",
       "  <thead>\n",
       "    <tr style=\"text-align: right;\">\n",
       "      <th></th>\n",
       "      <th>Recency</th>\n",
       "    </tr>\n",
       "    <tr>\n",
       "      <th>CustomerID</th>\n",
       "      <th></th>\n",
       "    </tr>\n",
       "  </thead>\n",
       "  <tbody>\n",
       "    <tr>\n",
       "      <th>12346</th>\n",
       "      <td>326</td>\n",
       "    </tr>\n",
       "    <tr>\n",
       "      <th>12347</th>\n",
       "      <td>3</td>\n",
       "    </tr>\n",
       "    <tr>\n",
       "      <th>12348</th>\n",
       "      <td>76</td>\n",
       "    </tr>\n",
       "    <tr>\n",
       "      <th>12349</th>\n",
       "      <td>19</td>\n",
       "    </tr>\n",
       "    <tr>\n",
       "      <th>12350</th>\n",
       "      <td>311</td>\n",
       "    </tr>\n",
       "  </tbody>\n",
       "</table>\n",
       "</div>"
      ],
      "text/plain": [
       "            Recency\n",
       "CustomerID         \n",
       "12346           326\n",
       "12347             3\n",
       "12348            76\n",
       "12349            19\n",
       "12350           311"
      ]
     },
     "execution_count": 9,
     "metadata": {},
     "output_type": "execute_result"
    }
   ],
   "source": [
    "df_rfm = (\n",
    "    df.groupby(by=\"CustomerID\", observed=True)\n",
    "    .InvoiceDate.max()\n",
    "    .to_frame()\n",
    "    .rename(columns={\"InvoiceDate\": \"LastPurchaseDate\"})\n",
    ")\n",
    "df_rfm = cast(pd.DataFrame, df_rfm)\n",
    "\n",
    "df_rfm[\"Recency\"] = (today - df_rfm[\"LastPurchaseDate\"]).dt.days\n",
    "df_rfm = df_rfm.drop(columns=\"LastPurchaseDate\")\n",
    "\n",
    "df_rfm.head()"
   ]
  },
  {
   "cell_type": "markdown",
   "id": "a005c1c0",
   "metadata": {},
   "source": [
    "### Frequency\n",
    "\n",
    "Here I'll use the following definition of frequency: for a given customer,\n",
    "frequency is the total number of purchases he/she made. Figuring out the best\n",
    "way to evaluate this metric:"
   ]
  },
  {
   "cell_type": "code",
   "execution_count": 10,
   "id": "ee1bf67c",
   "metadata": {
    "execution": {
     "iopub.execute_input": "2024-01-21T08:26:20.328785Z",
     "iopub.status.busy": "2024-01-21T08:26:20.328197Z",
     "iopub.status.idle": "2024-01-21T08:26:20.336282Z",
     "shell.execute_reply": "2024-01-21T08:26:20.335237Z"
    }
   },
   "outputs": [
    {
     "data": {
      "text/plain": [
       "21"
      ]
     },
     "execution_count": 10,
     "metadata": {},
     "output_type": "execute_result"
    }
   ],
   "source": [
    "# Frequency for a particular customer\n",
    "df[df[\"CustomerID\"] == \"14688\"].shape[0]"
   ]
  },
  {
   "cell_type": "code",
   "execution_count": 11,
   "id": "fc71e9bd",
   "metadata": {
    "execution": {
     "iopub.execute_input": "2024-01-21T08:26:20.341476Z",
     "iopub.status.busy": "2024-01-21T08:26:20.341083Z",
     "iopub.status.idle": "2024-01-21T08:26:20.349859Z",
     "shell.execute_reply": "2024-01-21T08:26:20.348885Z"
    }
   },
   "outputs": [
    {
     "data": {
      "text/plain": [
       "21"
      ]
     },
     "execution_count": 11,
     "metadata": {},
     "output_type": "execute_result"
    }
   ],
   "source": [
    "df.loc[df[\"CustomerID\"] == \"14688\", \"InvoiceNo\"].nunique()"
   ]
  },
  {
   "cell_type": "code",
   "execution_count": 12,
   "id": "9fbdb384",
   "metadata": {
    "execution": {
     "iopub.execute_input": "2024-01-21T08:26:20.353921Z",
     "iopub.status.busy": "2024-01-21T08:26:20.353574Z",
     "iopub.status.idle": "2024-01-21T08:26:20.365945Z",
     "shell.execute_reply": "2024-01-21T08:26:20.364624Z"
    }
   },
   "outputs": [
    {
     "data": {
      "text/plain": [
       "CustomerID\n",
       "12346    1\n",
       "12347    7\n",
       "12348    4\n",
       "12349    1\n",
       "12350    1\n",
       "Name: Frequency, dtype: int64"
      ]
     },
     "execution_count": 12,
     "metadata": {},
     "output_type": "execute_result"
    }
   ],
   "source": [
    "# Frequency for all customers\n",
    "freq_1 = df.groupby(by=\"CustomerID\", observed=True).InvoiceNo.count()\n",
    "freq_1 = cast(pd.Series, freq_1)\n",
    "freq_1.name = \"Frequency\"\n",
    "freq_1.head()"
   ]
  },
  {
   "cell_type": "code",
   "execution_count": 13,
   "id": "191db16b",
   "metadata": {
    "execution": {
     "iopub.execute_input": "2024-01-21T08:26:20.370399Z",
     "iopub.status.busy": "2024-01-21T08:26:20.370033Z",
     "iopub.status.idle": "2024-01-21T08:26:20.376713Z",
     "shell.execute_reply": "2024-01-21T08:26:20.375669Z"
    }
   },
   "outputs": [
    {
     "data": {
      "text/plain": [
       "21"
      ]
     },
     "execution_count": 13,
     "metadata": {},
     "output_type": "execute_result"
    }
   ],
   "source": [
    "freq_1.loc[\"14688\"]"
   ]
  },
  {
   "cell_type": "code",
   "execution_count": 14,
   "id": "61775678",
   "metadata": {
    "execution": {
     "iopub.execute_input": "2024-01-21T08:26:20.381461Z",
     "iopub.status.busy": "2024-01-21T08:26:20.381021Z",
     "iopub.status.idle": "2024-01-21T08:26:20.397396Z",
     "shell.execute_reply": "2024-01-21T08:26:20.396339Z"
    }
   },
   "outputs": [
    {
     "data": {
      "text/plain": [
       "CustomerID\n",
       "12346    1\n",
       "12347    7\n",
       "12348    4\n",
       "12349    1\n",
       "12350    1\n",
       "Name: Frequency, dtype: int64"
      ]
     },
     "execution_count": 14,
     "metadata": {},
     "output_type": "execute_result"
    }
   ],
   "source": [
    "freq_2 = df.groupby(by=\"CustomerID\", observed=True).InvoiceNo.nunique()\n",
    "freq_2 = cast(pd.Series, freq_2)\n",
    "freq_2.name = \"Frequency\"\n",
    "freq_2.head()"
   ]
  },
  {
   "cell_type": "code",
   "execution_count": 15,
   "id": "cb28fa94",
   "metadata": {
    "execution": {
     "iopub.execute_input": "2024-01-21T08:26:20.402071Z",
     "iopub.status.busy": "2024-01-21T08:26:20.401304Z",
     "iopub.status.idle": "2024-01-21T08:26:20.443753Z",
     "shell.execute_reply": "2024-01-21T08:26:20.442770Z"
    }
   },
   "outputs": [],
   "source": [
    "assert_series_equal(freq_1, freq_2)"
   ]
  },
  {
   "cell_type": "markdown",
   "id": "bb45b298",
   "metadata": {},
   "source": [
    "The two methods used above are equivalent. Then I'll calculate the frequency\n",
    "with the aid of the simplest one:"
   ]
  },
  {
   "cell_type": "code",
   "execution_count": 16,
   "id": "ef39e7b5",
   "metadata": {
    "execution": {
     "iopub.execute_input": "2024-01-21T08:26:20.449436Z",
     "iopub.status.busy": "2024-01-21T08:26:20.448534Z",
     "iopub.status.idle": "2024-01-21T08:26:20.470652Z",
     "shell.execute_reply": "2024-01-21T08:26:20.469530Z"
    }
   },
   "outputs": [
    {
     "data": {
      "text/html": [
       "<div>\n",
       "<style scoped>\n",
       "    .dataframe tbody tr th:only-of-type {\n",
       "        vertical-align: middle;\n",
       "    }\n",
       "\n",
       "    .dataframe tbody tr th {\n",
       "        vertical-align: top;\n",
       "    }\n",
       "\n",
       "    .dataframe thead th {\n",
       "        text-align: right;\n",
       "    }\n",
       "</style>\n",
       "<table border=\"1\" class=\"dataframe\">\n",
       "  <thead>\n",
       "    <tr style=\"text-align: right;\">\n",
       "      <th></th>\n",
       "      <th>Recency</th>\n",
       "      <th>Frequency</th>\n",
       "    </tr>\n",
       "    <tr>\n",
       "      <th>CustomerID</th>\n",
       "      <th></th>\n",
       "      <th></th>\n",
       "    </tr>\n",
       "  </thead>\n",
       "  <tbody>\n",
       "    <tr>\n",
       "      <th>12346</th>\n",
       "      <td>326</td>\n",
       "      <td>1</td>\n",
       "    </tr>\n",
       "    <tr>\n",
       "      <th>12347</th>\n",
       "      <td>3</td>\n",
       "      <td>7</td>\n",
       "    </tr>\n",
       "    <tr>\n",
       "      <th>12348</th>\n",
       "      <td>76</td>\n",
       "      <td>4</td>\n",
       "    </tr>\n",
       "    <tr>\n",
       "      <th>12349</th>\n",
       "      <td>19</td>\n",
       "      <td>1</td>\n",
       "    </tr>\n",
       "    <tr>\n",
       "      <th>12350</th>\n",
       "      <td>311</td>\n",
       "      <td>1</td>\n",
       "    </tr>\n",
       "  </tbody>\n",
       "</table>\n",
       "</div>"
      ],
      "text/plain": [
       "            Recency  Frequency\n",
       "CustomerID                    \n",
       "12346           326          1\n",
       "12347             3          7\n",
       "12348            76          4\n",
       "12349            19          1\n",
       "12350           311          1"
      ]
     },
     "execution_count": 16,
     "metadata": {},
     "output_type": "execute_result"
    }
   ],
   "source": [
    "assert_index_equal(df_rfm.index, freq_1.index)\n",
    "\n",
    "df_rfm[\"Frequency\"] = df.groupby(by=\"CustomerID\", observed=True).InvoiceNo.count()\n",
    "df_rfm.head()"
   ]
  },
  {
   "cell_type": "markdown",
   "id": "846c73b4",
   "metadata": {},
   "source": [
    "### Monetary\n",
    "\n",
    "Here I'll use the following definition of monetary: for a given customer,\n",
    "monetary corresponds to the total amount spent by him/her. Figuring out the\n",
    "best way to evaluate this quantity:"
   ]
  },
  {
   "cell_type": "code",
   "execution_count": 17,
   "id": "b19be38f",
   "metadata": {
    "execution": {
     "iopub.execute_input": "2024-01-21T08:26:20.475307Z",
     "iopub.status.busy": "2024-01-21T08:26:20.474925Z",
     "iopub.status.idle": "2024-01-21T08:26:20.482326Z",
     "shell.execute_reply": "2024-01-21T08:26:20.481264Z"
    }
   },
   "outputs": [
    {
     "data": {
      "text/plain": [
       "5630.87"
      ]
     },
     "execution_count": 17,
     "metadata": {},
     "output_type": "execute_result"
    }
   ],
   "source": [
    "# Monetary for a particular customer\n",
    "df.loc[df[\"CustomerID\"] == \"14688\", \"TotalPrice\"].sum()"
   ]
  },
  {
   "cell_type": "code",
   "execution_count": 18,
   "id": "bfff32b6",
   "metadata": {
    "execution": {
     "iopub.execute_input": "2024-01-21T08:26:20.487012Z",
     "iopub.status.busy": "2024-01-21T08:26:20.486591Z",
     "iopub.status.idle": "2024-01-21T08:26:20.499875Z",
     "shell.execute_reply": "2024-01-21T08:26:20.498714Z"
    }
   },
   "outputs": [
    {
     "data": {
      "text/plain": [
       "CustomerID\n",
       "12346    77183.60\n",
       "12347     4310.00\n",
       "12348     1797.24\n",
       "12349     1757.55\n",
       "12350      334.40\n",
       "Name: TotalPrice, dtype: float64"
      ]
     },
     "execution_count": 18,
     "metadata": {},
     "output_type": "execute_result"
    }
   ],
   "source": [
    "# Monetary for all customers\n",
    "monetary = df.groupby(by=\"CustomerID\", observed=True).TotalPrice.sum()\n",
    "monetary = cast(pd.Series, monetary)\n",
    "monetary.head()"
   ]
  },
  {
   "cell_type": "code",
   "execution_count": 19,
   "id": "cc30c0b0",
   "metadata": {
    "execution": {
     "iopub.execute_input": "2024-01-21T08:26:20.503991Z",
     "iopub.status.busy": "2024-01-21T08:26:20.503647Z",
     "iopub.status.idle": "2024-01-21T08:26:20.509916Z",
     "shell.execute_reply": "2024-01-21T08:26:20.508856Z"
    }
   },
   "outputs": [
    {
     "data": {
      "text/plain": [
       "5630.87"
      ]
     },
     "execution_count": 19,
     "metadata": {},
     "output_type": "execute_result"
    }
   ],
   "source": [
    "monetary.loc[\"14688\"]"
   ]
  },
  {
   "cell_type": "markdown",
   "id": "8d6c50c4",
   "metadata": {},
   "source": [
    "Now that I understand how to perform the desired calculation, I'll add\n",
    "monetary to my DataFrame:"
   ]
  },
  {
   "cell_type": "code",
   "execution_count": 20,
   "id": "681894a6",
   "metadata": {
    "execution": {
     "iopub.execute_input": "2024-01-21T08:26:20.515360Z",
     "iopub.status.busy": "2024-01-21T08:26:20.514520Z",
     "iopub.status.idle": "2024-01-21T08:26:20.535931Z",
     "shell.execute_reply": "2024-01-21T08:26:20.534949Z"
    }
   },
   "outputs": [
    {
     "data": {
      "text/html": [
       "<div>\n",
       "<style scoped>\n",
       "    .dataframe tbody tr th:only-of-type {\n",
       "        vertical-align: middle;\n",
       "    }\n",
       "\n",
       "    .dataframe tbody tr th {\n",
       "        vertical-align: top;\n",
       "    }\n",
       "\n",
       "    .dataframe thead th {\n",
       "        text-align: right;\n",
       "    }\n",
       "</style>\n",
       "<table border=\"1\" class=\"dataframe\">\n",
       "  <thead>\n",
       "    <tr style=\"text-align: right;\">\n",
       "      <th></th>\n",
       "      <th>Recency</th>\n",
       "      <th>Frequency</th>\n",
       "      <th>Monetary</th>\n",
       "    </tr>\n",
       "    <tr>\n",
       "      <th>CustomerID</th>\n",
       "      <th></th>\n",
       "      <th></th>\n",
       "      <th></th>\n",
       "    </tr>\n",
       "  </thead>\n",
       "  <tbody>\n",
       "    <tr>\n",
       "      <th>12346</th>\n",
       "      <td>326</td>\n",
       "      <td>1</td>\n",
       "      <td>77183.60</td>\n",
       "    </tr>\n",
       "    <tr>\n",
       "      <th>12347</th>\n",
       "      <td>3</td>\n",
       "      <td>7</td>\n",
       "      <td>4310.00</td>\n",
       "    </tr>\n",
       "    <tr>\n",
       "      <th>12348</th>\n",
       "      <td>76</td>\n",
       "      <td>4</td>\n",
       "      <td>1797.24</td>\n",
       "    </tr>\n",
       "    <tr>\n",
       "      <th>12349</th>\n",
       "      <td>19</td>\n",
       "      <td>1</td>\n",
       "      <td>1757.55</td>\n",
       "    </tr>\n",
       "    <tr>\n",
       "      <th>12350</th>\n",
       "      <td>311</td>\n",
       "      <td>1</td>\n",
       "      <td>334.40</td>\n",
       "    </tr>\n",
       "  </tbody>\n",
       "</table>\n",
       "</div>"
      ],
      "text/plain": [
       "            Recency  Frequency  Monetary\n",
       "CustomerID                              \n",
       "12346           326          1  77183.60\n",
       "12347             3          7   4310.00\n",
       "12348            76          4   1797.24\n",
       "12349            19          1   1757.55\n",
       "12350           311          1    334.40"
      ]
     },
     "execution_count": 20,
     "metadata": {},
     "output_type": "execute_result"
    }
   ],
   "source": [
    "assert_index_equal(df_rfm.index, monetary.index)\n",
    "\n",
    "df_rfm[\"Monetary\"] = df.groupby(by=\"CustomerID\", observed=True).TotalPrice.sum()\n",
    "df_rfm.head()"
   ]
  },
  {
   "cell_type": "code",
   "execution_count": 21,
   "id": "d05a6a53",
   "metadata": {
    "execution": {
     "iopub.execute_input": "2024-01-21T08:26:20.540180Z",
     "iopub.status.busy": "2024-01-21T08:26:20.539745Z",
     "iopub.status.idle": "2024-01-21T08:26:20.551237Z",
     "shell.execute_reply": "2024-01-21T08:26:20.550255Z"
    }
   },
   "outputs": [
    {
     "name": "stdout",
     "output_type": "stream",
     "text": [
      "<class 'pandas.core.frame.DataFrame'>\n",
      "CategoricalIndex: 4338 entries, 12346 to 18287\n",
      "Data columns (total 3 columns):\n",
      " #   Column     Non-Null Count  Dtype  \n",
      "---  ------     --------------  -----  \n",
      " 0   Recency    4338 non-null   int64  \n",
      " 1   Frequency  4338 non-null   int64  \n",
      " 2   Monetary   4338 non-null   float64\n",
      "dtypes: float64(1), int64(2)\n",
      "memory usage: 273.1 KB\n"
     ]
    }
   ],
   "source": [
    "df_rfm.info()"
   ]
  },
  {
   "cell_type": "code",
   "execution_count": 22,
   "id": "222ee215",
   "metadata": {
    "execution": {
     "iopub.execute_input": "2024-01-21T08:26:20.556183Z",
     "iopub.status.busy": "2024-01-21T08:26:20.555781Z",
     "iopub.status.idle": "2024-01-21T08:26:20.562525Z",
     "shell.execute_reply": "2024-01-21T08:26:20.561453Z"
    }
   },
   "outputs": [],
   "source": [
    "# Quick consistency checks\n",
    "assert (df_rfm[\"Recency\"] > 0).all()\n",
    "assert (df_rfm[\"Frequency\"] > 0).all()\n",
    "assert (df_rfm[\"Monetary\"] > 0.0).all()"
   ]
  },
  {
   "cell_type": "markdown",
   "id": "e1981513",
   "metadata": {
    "lines_to_next_cell": 2
   },
   "source": [
    "### Summarizing through functions\n",
    "\n",
    "At this point, all RFM attributes have been evaluated. Before proceeding,\n",
    "let's collect the essential parts of the above code, and transform them into\n",
    "a couple of functions."
   ]
  },
  {
   "cell_type": "code",
   "execution_count": 23,
   "id": "9996ce0b",
   "metadata": {
    "execution": {
     "iopub.execute_input": "2024-01-21T08:26:20.567567Z",
     "iopub.status.busy": "2024-01-21T08:26:20.567016Z",
     "iopub.status.idle": "2024-01-21T08:26:20.572704Z",
     "shell.execute_reply": "2024-01-21T08:26:20.571537Z"
    }
   },
   "outputs": [],
   "source": [
    "def read_prepared_data(file_path: Path) -> pd.DataFrame:\n",
    "    return pd.read_csv(\n",
    "        file_path,\n",
    "        dtype={\n",
    "            \"InvoiceNo\": \"category\",\n",
    "            \"CustomerID\": \"category\",\n",
    "            \"TotalPrice\": np.float_,\n",
    "        },\n",
    "        parse_dates=[\"InvoiceDate\"],\n",
    "    )"
   ]
  },
  {
   "cell_type": "code",
   "execution_count": 24,
   "id": "50b73b7f",
   "metadata": {
    "execution": {
     "iopub.execute_input": "2024-01-21T08:26:20.577856Z",
     "iopub.status.busy": "2024-01-21T08:26:20.577203Z",
     "iopub.status.idle": "2024-01-21T08:26:20.584274Z",
     "shell.execute_reply": "2024-01-21T08:26:20.583179Z"
    }
   },
   "outputs": [],
   "source": [
    "def compute_rfm_attributes(df: pd.DataFrame) -> pd.DataFrame:\n",
    "    customer_groups = df.groupby(by=\"CustomerID\", observed=True)\n",
    "\n",
    "    today = df[\"InvoiceDate\"].max() + pd.Timedelta(days=1)\n",
    "    today = cast(pd.Timestamp, today)\n",
    "\n",
    "    df_rfm = customer_groups.InvoiceDate.max().to_frame().rename(columns={\"InvoiceDate\": \"LastPurchaseDate\"})\n",
    "    df_rfm = cast(pd.DataFrame, df_rfm)\n",
    "    df_rfm[\"Recency\"] = (today - df_rfm[\"LastPurchaseDate\"]).dt.days\n",
    "    df_rfm = df_rfm.drop(columns=\"LastPurchaseDate\")\n",
    "\n",
    "    df_rfm[\"Frequency\"] = customer_groups.InvoiceNo.count()\n",
    "    df_rfm[\"Monetary\"] = customer_groups.TotalPrice.sum()\n",
    "\n",
    "    return df_rfm"
   ]
  },
  {
   "cell_type": "code",
   "execution_count": 25,
   "id": "cb2b7411",
   "metadata": {
    "execution": {
     "iopub.execute_input": "2024-01-21T08:26:20.589376Z",
     "iopub.status.busy": "2024-01-21T08:26:20.588985Z",
     "iopub.status.idle": "2024-01-21T08:26:20.965345Z",
     "shell.execute_reply": "2024-01-21T08:26:20.964300Z"
    }
   },
   "outputs": [],
   "source": [
    "# Quick tests\n",
    "prepared_data = read_prepared_data(file_path)\n",
    "assert_frame_equal(prepared_data, df)"
   ]
  },
  {
   "cell_type": "code",
   "execution_count": 26,
   "id": "a043e654",
   "metadata": {
    "execution": {
     "iopub.execute_input": "2024-01-21T08:26:20.969297Z",
     "iopub.status.busy": "2024-01-21T08:26:20.969015Z",
     "iopub.status.idle": "2024-01-21T08:26:21.021960Z",
     "shell.execute_reply": "2024-01-21T08:26:21.020954Z"
    }
   },
   "outputs": [],
   "source": [
    "rfm_attrs = compute_rfm_attributes(prepared_data)\n",
    "assert_frame_equal(rfm_attrs, df_rfm)"
   ]
  },
  {
   "cell_type": "code",
   "execution_count": 27,
   "id": "fe62beca",
   "metadata": {
    "execution": {
     "iopub.execute_input": "2024-01-21T08:26:21.026074Z",
     "iopub.status.busy": "2024-01-21T08:26:21.025738Z",
     "iopub.status.idle": "2024-01-21T08:26:21.030667Z",
     "shell.execute_reply": "2024-01-21T08:26:21.029578Z"
    }
   },
   "outputs": [],
   "source": [
    "del prepared_data\n",
    "del rfm_attrs"
   ]
  },
  {
   "cell_type": "markdown",
   "id": "3082c421",
   "metadata": {},
   "source": [
    "## Compute RFM scores\n",
    "\n",
    "Finally, it's possible to compute the RFM scores. To do so, I'll use the\n",
    "`add_rfm_scores` function that I defined in the `utils` package:"
   ]
  },
  {
   "cell_type": "code",
   "execution_count": 28,
   "id": "acb3e3a3",
   "metadata": {
    "execution": {
     "iopub.execute_input": "2024-01-21T08:26:21.035244Z",
     "iopub.status.busy": "2024-01-21T08:26:21.034593Z",
     "iopub.status.idle": "2024-01-21T08:26:24.472648Z",
     "shell.execute_reply": "2024-01-21T08:26:24.471555Z"
    }
   },
   "outputs": [
    {
     "data": {
      "text/html": [
       "<div>\n",
       "<style scoped>\n",
       "    .dataframe tbody tr th:only-of-type {\n",
       "        vertical-align: middle;\n",
       "    }\n",
       "\n",
       "    .dataframe tbody tr th {\n",
       "        vertical-align: top;\n",
       "    }\n",
       "\n",
       "    .dataframe thead th {\n",
       "        text-align: right;\n",
       "    }\n",
       "</style>\n",
       "<table border=\"1\" class=\"dataframe\">\n",
       "  <thead>\n",
       "    <tr style=\"text-align: right;\">\n",
       "      <th></th>\n",
       "      <th>Recency</th>\n",
       "      <th>Frequency</th>\n",
       "      <th>Monetary</th>\n",
       "      <th>RScore</th>\n",
       "      <th>FScore</th>\n",
       "      <th>MScore</th>\n",
       "      <th>RFMCell</th>\n",
       "      <th>RFMScore</th>\n",
       "    </tr>\n",
       "    <tr>\n",
       "      <th>CustomerID</th>\n",
       "      <th></th>\n",
       "      <th></th>\n",
       "      <th></th>\n",
       "      <th></th>\n",
       "      <th></th>\n",
       "      <th></th>\n",
       "      <th></th>\n",
       "      <th></th>\n",
       "    </tr>\n",
       "  </thead>\n",
       "  <tbody>\n",
       "    <tr>\n",
       "      <th>12346</th>\n",
       "      <td>326</td>\n",
       "      <td>1</td>\n",
       "      <td>77183.60</td>\n",
       "      <td>1</td>\n",
       "      <td>1</td>\n",
       "      <td>5</td>\n",
       "      <td>1,1,5</td>\n",
       "      <td>2.333333</td>\n",
       "    </tr>\n",
       "    <tr>\n",
       "      <th>12347</th>\n",
       "      <td>3</td>\n",
       "      <td>7</td>\n",
       "      <td>4310.00</td>\n",
       "      <td>5</td>\n",
       "      <td>5</td>\n",
       "      <td>5</td>\n",
       "      <td>5,5,5</td>\n",
       "      <td>5.000000</td>\n",
       "    </tr>\n",
       "    <tr>\n",
       "      <th>12348</th>\n",
       "      <td>76</td>\n",
       "      <td>4</td>\n",
       "      <td>1797.24</td>\n",
       "      <td>2</td>\n",
       "      <td>4</td>\n",
       "      <td>4</td>\n",
       "      <td>2,4,4</td>\n",
       "      <td>3.333333</td>\n",
       "    </tr>\n",
       "    <tr>\n",
       "      <th>12349</th>\n",
       "      <td>19</td>\n",
       "      <td>1</td>\n",
       "      <td>1757.55</td>\n",
       "      <td>4</td>\n",
       "      <td>1</td>\n",
       "      <td>4</td>\n",
       "      <td>4,1,4</td>\n",
       "      <td>3.000000</td>\n",
       "    </tr>\n",
       "    <tr>\n",
       "      <th>12350</th>\n",
       "      <td>311</td>\n",
       "      <td>1</td>\n",
       "      <td>334.40</td>\n",
       "      <td>1</td>\n",
       "      <td>1</td>\n",
       "      <td>2</td>\n",
       "      <td>1,1,2</td>\n",
       "      <td>1.333333</td>\n",
       "    </tr>\n",
       "  </tbody>\n",
       "</table>\n",
       "</div>"
      ],
      "text/plain": [
       "            Recency  Frequency  Monetary RScore FScore MScore RFMCell  \\\n",
       "CustomerID                                                              \n",
       "12346           326          1  77183.60      1      1      5   1,1,5   \n",
       "12347             3          7   4310.00      5      5      5   5,5,5   \n",
       "12348            76          4   1797.24      2      4      4   2,4,4   \n",
       "12349            19          1   1757.55      4      1      4   4,1,4   \n",
       "12350           311          1    334.40      1      1      2   1,1,2   \n",
       "\n",
       "            RFMScore  \n",
       "CustomerID            \n",
       "12346       2.333333  \n",
       "12347       5.000000  \n",
       "12348       3.333333  \n",
       "12349       3.000000  \n",
       "12350       1.333333  "
      ]
     },
     "execution_count": 28,
     "metadata": {},
     "output_type": "execute_result"
    }
   ],
   "source": [
    "df_rfm = add_rfm_scores(df_rfm)\n",
    "df_rfm.head()"
   ]
  },
  {
   "cell_type": "code",
   "execution_count": 29,
   "id": "121c7668",
   "metadata": {
    "execution": {
     "iopub.execute_input": "2024-01-21T08:26:24.476711Z",
     "iopub.status.busy": "2024-01-21T08:26:24.476418Z",
     "iopub.status.idle": "2024-01-21T08:26:24.489054Z",
     "shell.execute_reply": "2024-01-21T08:26:24.487962Z"
    }
   },
   "outputs": [
    {
     "name": "stdout",
     "output_type": "stream",
     "text": [
      "<class 'pandas.core.frame.DataFrame'>\n",
      "CategoricalIndex: 4338 entries, 12346 to 18287\n",
      "Data columns (total 8 columns):\n",
      " #   Column     Non-Null Count  Dtype   \n",
      "---  ------     --------------  -----   \n",
      " 0   Recency    4338 non-null   int64   \n",
      " 1   Frequency  4338 non-null   int64   \n",
      " 2   Monetary   4338 non-null   float64 \n",
      " 3   RScore     4338 non-null   category\n",
      " 4   FScore     4338 non-null   category\n",
      " 5   MScore     4338 non-null   category\n",
      " 6   RFMCell    4338 non-null   object  \n",
      " 7   RFMScore   4338 non-null   float64 \n",
      "dtypes: category(3), float64(2), int64(2), object(1)\n",
      "memory usage: 354.2+ KB\n"
     ]
    }
   ],
   "source": [
    "df_rfm.info()"
   ]
  },
  {
   "cell_type": "markdown",
   "id": "928b19d8",
   "metadata": {},
   "source": [
    "## Save computed scores"
   ]
  },
  {
   "cell_type": "code",
   "execution_count": 30,
   "id": "48a03d21",
   "metadata": {
    "execution": {
     "iopub.execute_input": "2024-01-21T08:26:24.493278Z",
     "iopub.status.busy": "2024-01-21T08:26:24.492925Z",
     "iopub.status.idle": "2024-01-21T08:26:24.522955Z",
     "shell.execute_reply": "2024-01-21T08:26:24.522054Z"
    }
   },
   "outputs": [],
   "source": [
    "# File path for output CSV\n",
    "out_file = file_path.parent / \"rfm_scores.csv\"\n",
    "\n",
    "df_rfm.to_csv(out_file, index=True)"
   ]
  },
  {
   "cell_type": "markdown",
   "id": "03306afc",
   "metadata": {
    "lines_to_next_cell": 2
   },
   "source": [
    "## Summarizing through a function\n",
    "\n",
    "The RFM analysis isn't complete yet. But I've already achieved my goal for\n",
    "this notebook. As usual, I'll conclude by writing a function that summarizes\n",
    "what I just did."
   ]
  },
  {
   "cell_type": "code",
   "execution_count": 31,
   "id": "3873c47e",
   "metadata": {
    "execution": {
     "iopub.execute_input": "2024-01-21T08:26:24.527329Z",
     "iopub.status.busy": "2024-01-21T08:26:24.527044Z",
     "iopub.status.idle": "2024-01-21T08:26:24.532418Z",
     "shell.execute_reply": "2024-01-21T08:26:24.531389Z"
    },
    "lines_to_next_cell": 2
   },
   "outputs": [],
   "source": [
    "def compute_and_save_rfm_scores(file_path: Path, num_bins: int = 5) -> None:\n",
    "    prepared_data = read_prepared_data(file_path)\n",
    "    df_rfm = compute_rfm_attributes(prepared_data)\n",
    "    df_rfm = add_rfm_scores(df_rfm, num_bins)\n",
    "    out_file = file_path.parent / f\"rfm_scores_{num_bins}.csv\"\n",
    "    df_rfm.to_csv(out_file, index=True)"
   ]
  },
  {
   "cell_type": "code",
   "execution_count": 32,
   "id": "ed26eb77",
   "metadata": {
    "execution": {
     "iopub.execute_input": "2024-01-21T08:26:24.536630Z",
     "iopub.status.busy": "2024-01-21T08:26:24.535823Z",
     "iopub.status.idle": "2024-01-21T08:26:24.540089Z",
     "shell.execute_reply": "2024-01-21T08:26:24.538972Z"
    }
   },
   "outputs": [],
   "source": [
    "# compute_and_save_rfm_scores(Path.cwd().parents[1] / \"data\" / \"online_retail.csv\", num_bins=5)"
   ]
  }
 ],
 "metadata": {
  "jupytext": {
   "cell_metadata_filter": "-all",
   "main_language": "python",
   "notebook_metadata_filter": "-all"
  },
  "language_info": {
   "codemirror_mode": {
    "name": "ipython",
    "version": 3
   },
   "file_extension": ".py",
   "mimetype": "text/x-python",
   "name": "python",
   "nbconvert_exporter": "python",
   "pygments_lexer": "ipython3",
   "version": "3.11.6"
  }
 },
 "nbformat": 4,
 "nbformat_minor": 5
}
