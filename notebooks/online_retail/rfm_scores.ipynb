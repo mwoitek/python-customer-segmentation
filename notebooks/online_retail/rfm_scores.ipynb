{
 "cells": [
  {
   "cell_type": "markdown",
   "id": "86385fef",
   "metadata": {},
   "source": [
    "# Online Retail Dataset: RFM Scores\n",
    "\n",
    "In this notebook, I'll use the prepared dataset to compute the RFM scores.\n",
    "\n",
    "## Imports"
   ]
  },
  {
   "cell_type": "code",
   "execution_count": 1,
   "id": "e32392cf",
   "metadata": {
    "execution": {
     "iopub.execute_input": "2024-02-01T00:18:55.571026Z",
     "iopub.status.busy": "2024-02-01T00:18:55.569439Z",
     "iopub.status.idle": "2024-02-01T00:18:56.607201Z",
     "shell.execute_reply": "2024-02-01T00:18:56.606209Z"
    }
   },
   "outputs": [],
   "source": [
    "from pathlib import Path\n",
    "from typing import Literal, cast, get_args\n",
    "\n",
    "import matplotlib.pyplot as plt\n",
    "import numpy as np\n",
    "import pandas as pd\n",
    "import seaborn as sns\n",
    "from matplotlib.axes import Axes\n",
    "from matplotlib.ticker import AutoMinorLocator\n",
    "from pandas.testing import assert_frame_equal, assert_index_equal, assert_series_equal\n",
    "\n",
    "from utils.rfm import RFMAttribute, add_rfm_scores"
   ]
  },
  {
   "cell_type": "markdown",
   "id": "13fe797c",
   "metadata": {},
   "source": [
    "## Read prepared dataset"
   ]
  },
  {
   "cell_type": "code",
   "execution_count": 2,
   "id": "5793f389",
   "metadata": {
    "execution": {
     "iopub.execute_input": "2024-02-01T00:18:56.611330Z",
     "iopub.status.busy": "2024-02-01T00:18:56.610924Z",
     "iopub.status.idle": "2024-02-01T00:18:56.616548Z",
     "shell.execute_reply": "2024-02-01T00:18:56.615458Z"
    }
   },
   "outputs": [],
   "source": [
    "# File path for dataset\n",
    "file_path = Path.cwd().parents[1] / \"data\" / \"online_retail.csv\"\n",
    "assert file_path.exists(), f\"file doesn't exist: {file_path}\"\n",
    "assert file_path.is_file(), f\"not a file: {file_path}\""
   ]
  },
  {
   "cell_type": "code",
   "execution_count": 3,
   "id": "1a1aa9dc",
   "metadata": {
    "execution": {
     "iopub.execute_input": "2024-02-01T00:18:56.621065Z",
     "iopub.status.busy": "2024-02-01T00:18:56.620719Z",
     "iopub.status.idle": "2024-02-01T00:18:56.771902Z",
     "shell.execute_reply": "2024-02-01T00:18:56.770946Z"
    }
   },
   "outputs": [
    {
     "data": {
      "text/html": [
       "<div>\n",
       "<style scoped>\n",
       "    .dataframe tbody tr th:only-of-type {\n",
       "        vertical-align: middle;\n",
       "    }\n",
       "\n",
       "    .dataframe tbody tr th {\n",
       "        vertical-align: top;\n",
       "    }\n",
       "\n",
       "    .dataframe thead th {\n",
       "        text-align: right;\n",
       "    }\n",
       "</style>\n",
       "<table border=\"1\" class=\"dataframe\">\n",
       "  <thead>\n",
       "    <tr style=\"text-align: right;\">\n",
       "      <th></th>\n",
       "      <th>InvoiceNo</th>\n",
       "      <th>InvoiceDate</th>\n",
       "      <th>CustomerID</th>\n",
       "      <th>TotalPrice</th>\n",
       "    </tr>\n",
       "  </thead>\n",
       "  <tbody>\n",
       "    <tr>\n",
       "      <th>0</th>\n",
       "      <td>536365</td>\n",
       "      <td>2010-12-01</td>\n",
       "      <td>17850</td>\n",
       "      <td>139.12</td>\n",
       "    </tr>\n",
       "    <tr>\n",
       "      <th>1</th>\n",
       "      <td>536366</td>\n",
       "      <td>2010-12-01</td>\n",
       "      <td>17850</td>\n",
       "      <td>22.20</td>\n",
       "    </tr>\n",
       "    <tr>\n",
       "      <th>2</th>\n",
       "      <td>536367</td>\n",
       "      <td>2010-12-01</td>\n",
       "      <td>13047</td>\n",
       "      <td>278.73</td>\n",
       "    </tr>\n",
       "    <tr>\n",
       "      <th>3</th>\n",
       "      <td>536368</td>\n",
       "      <td>2010-12-01</td>\n",
       "      <td>13047</td>\n",
       "      <td>70.05</td>\n",
       "    </tr>\n",
       "    <tr>\n",
       "      <th>4</th>\n",
       "      <td>536369</td>\n",
       "      <td>2010-12-01</td>\n",
       "      <td>13047</td>\n",
       "      <td>17.85</td>\n",
       "    </tr>\n",
       "    <tr>\n",
       "      <th>5</th>\n",
       "      <td>536370</td>\n",
       "      <td>2010-12-01</td>\n",
       "      <td>12583</td>\n",
       "      <td>855.86</td>\n",
       "    </tr>\n",
       "    <tr>\n",
       "      <th>6</th>\n",
       "      <td>536371</td>\n",
       "      <td>2010-12-01</td>\n",
       "      <td>13748</td>\n",
       "      <td>204.00</td>\n",
       "    </tr>\n",
       "    <tr>\n",
       "      <th>7</th>\n",
       "      <td>536372</td>\n",
       "      <td>2010-12-01</td>\n",
       "      <td>17850</td>\n",
       "      <td>22.20</td>\n",
       "    </tr>\n",
       "    <tr>\n",
       "      <th>8</th>\n",
       "      <td>536373</td>\n",
       "      <td>2010-12-01</td>\n",
       "      <td>17850</td>\n",
       "      <td>259.86</td>\n",
       "    </tr>\n",
       "    <tr>\n",
       "      <th>9</th>\n",
       "      <td>536374</td>\n",
       "      <td>2010-12-01</td>\n",
       "      <td>15100</td>\n",
       "      <td>350.40</td>\n",
       "    </tr>\n",
       "    <tr>\n",
       "      <th>10</th>\n",
       "      <td>536375</td>\n",
       "      <td>2010-12-01</td>\n",
       "      <td>17850</td>\n",
       "      <td>259.86</td>\n",
       "    </tr>\n",
       "    <tr>\n",
       "      <th>11</th>\n",
       "      <td>536376</td>\n",
       "      <td>2010-12-01</td>\n",
       "      <td>15291</td>\n",
       "      <td>328.80</td>\n",
       "    </tr>\n",
       "    <tr>\n",
       "      <th>12</th>\n",
       "      <td>536377</td>\n",
       "      <td>2010-12-01</td>\n",
       "      <td>17850</td>\n",
       "      <td>22.20</td>\n",
       "    </tr>\n",
       "    <tr>\n",
       "      <th>13</th>\n",
       "      <td>536378</td>\n",
       "      <td>2010-12-01</td>\n",
       "      <td>14688</td>\n",
       "      <td>444.98</td>\n",
       "    </tr>\n",
       "    <tr>\n",
       "      <th>14</th>\n",
       "      <td>536380</td>\n",
       "      <td>2010-12-01</td>\n",
       "      <td>17809</td>\n",
       "      <td>34.80</td>\n",
       "    </tr>\n",
       "  </tbody>\n",
       "</table>\n",
       "</div>"
      ],
      "text/plain": [
       "   InvoiceNo InvoiceDate CustomerID  TotalPrice\n",
       "0     536365  2010-12-01      17850      139.12\n",
       "1     536366  2010-12-01      17850       22.20\n",
       "2     536367  2010-12-01      13047      278.73\n",
       "3     536368  2010-12-01      13047       70.05\n",
       "4     536369  2010-12-01      13047       17.85\n",
       "5     536370  2010-12-01      12583      855.86\n",
       "6     536371  2010-12-01      13748      204.00\n",
       "7     536372  2010-12-01      17850       22.20\n",
       "8     536373  2010-12-01      17850      259.86\n",
       "9     536374  2010-12-01      15100      350.40\n",
       "10    536375  2010-12-01      17850      259.86\n",
       "11    536376  2010-12-01      15291      328.80\n",
       "12    536377  2010-12-01      17850       22.20\n",
       "13    536378  2010-12-01      14688      444.98\n",
       "14    536380  2010-12-01      17809       34.80"
      ]
     },
     "execution_count": 3,
     "metadata": {},
     "output_type": "execute_result"
    }
   ],
   "source": [
    "df = pd.read_csv(\n",
    "    file_path,\n",
    "    dtype={\n",
    "        \"InvoiceNo\": \"category\",\n",
    "        \"CustomerID\": \"category\",\n",
    "        \"TotalPrice\": np.float_,\n",
    "    },\n",
    "    parse_dates=[\"InvoiceDate\"],\n",
    ")\n",
    "df.head(15)"
   ]
  },
  {
   "cell_type": "code",
   "execution_count": 4,
   "id": "17fa3d2b",
   "metadata": {
    "execution": {
     "iopub.execute_input": "2024-02-01T00:18:56.776490Z",
     "iopub.status.busy": "2024-02-01T00:18:56.776129Z",
     "iopub.status.idle": "2024-02-01T00:18:56.814959Z",
     "shell.execute_reply": "2024-02-01T00:18:56.813913Z"
    }
   },
   "outputs": [
    {
     "name": "stdout",
     "output_type": "stream",
     "text": [
      "<class 'pandas.core.frame.DataFrame'>\n",
      "RangeIndex: 18532 entries, 0 to 18531\n",
      "Data columns (total 4 columns):\n",
      " #   Column       Non-Null Count  Dtype         \n",
      "---  ------       --------------  -----         \n",
      " 0   InvoiceNo    18532 non-null  category      \n",
      " 1   InvoiceDate  18532 non-null  datetime64[ns]\n",
      " 2   CustomerID   18532 non-null  category      \n",
      " 3   TotalPrice   18532 non-null  float64       \n",
      "dtypes: category(2), datetime64[ns](1), float64(1)\n",
      "memory usage: 669.8 KB\n"
     ]
    }
   ],
   "source": [
    "df.info()"
   ]
  },
  {
   "cell_type": "markdown",
   "id": "574b8732",
   "metadata": {},
   "source": [
    "## Compute RFM attributes\n",
    "### Recency\n",
    "\n",
    "To calculate the recency, I'll pretend that I'm performing this analysis 1\n",
    "day after the last piece of data was collected."
   ]
  },
  {
   "cell_type": "code",
   "execution_count": 5,
   "id": "a73b3705",
   "metadata": {
    "execution": {
     "iopub.execute_input": "2024-02-01T00:18:56.819938Z",
     "iopub.status.busy": "2024-02-01T00:18:56.819533Z",
     "iopub.status.idle": "2024-02-01T00:18:56.826904Z",
     "shell.execute_reply": "2024-02-01T00:18:56.825844Z"
    }
   },
   "outputs": [
    {
     "data": {
      "text/plain": [
       "Timestamp('2011-12-10 00:00:00')"
      ]
     },
     "execution_count": 5,
     "metadata": {},
     "output_type": "execute_result"
    }
   ],
   "source": [
    "today = df[\"InvoiceDate\"].max() + pd.Timedelta(days=1)\n",
    "today = cast(pd.Timestamp, today)\n",
    "today"
   ]
  },
  {
   "cell_type": "markdown",
   "id": "ee810dff",
   "metadata": {},
   "source": [
    "Recall that, in this case, recency corresponds to the number of days since\n",
    "the last purchase. Figuring out the best way to compute this metric:"
   ]
  },
  {
   "cell_type": "code",
   "execution_count": 6,
   "id": "30c6f991",
   "metadata": {
    "execution": {
     "iopub.execute_input": "2024-02-01T00:18:56.832389Z",
     "iopub.status.busy": "2024-02-01T00:18:56.831544Z",
     "iopub.status.idle": "2024-02-01T00:18:56.839775Z",
     "shell.execute_reply": "2024-02-01T00:18:56.838735Z"
    }
   },
   "outputs": [
    {
     "data": {
      "text/plain": [
       "8"
      ]
     },
     "execution_count": 6,
     "metadata": {},
     "output_type": "execute_result"
    }
   ],
   "source": [
    "# Recency for a particular customer\n",
    "(today - df.loc[df[\"CustomerID\"] == \"14688\", \"InvoiceDate\"].max()).days"
   ]
  },
  {
   "cell_type": "code",
   "execution_count": 7,
   "id": "a8dc8a40",
   "metadata": {
    "execution": {
     "iopub.execute_input": "2024-02-01T00:18:56.843692Z",
     "iopub.status.busy": "2024-02-01T00:18:56.843116Z",
     "iopub.status.idle": "2024-02-01T00:18:56.856258Z",
     "shell.execute_reply": "2024-02-01T00:18:56.855228Z"
    }
   },
   "outputs": [
    {
     "data": {
      "text/plain": [
       "CustomerID\n",
       "12346    326\n",
       "12347      3\n",
       "12348     76\n",
       "12349     19\n",
       "12350    311\n",
       "Name: InvoiceDate, dtype: int64"
      ]
     },
     "execution_count": 7,
     "metadata": {},
     "output_type": "execute_result"
    }
   ],
   "source": [
    "# Recency for all customers\n",
    "recency = (today - df.groupby(by=\"CustomerID\", observed=True).InvoiceDate.max()).dt.days\n",
    "recency = cast(pd.Series, recency)\n",
    "\n",
    "assert (recency > 0).all()\n",
    "\n",
    "recency.head()"
   ]
  },
  {
   "cell_type": "code",
   "execution_count": 8,
   "id": "5b56c23b",
   "metadata": {
    "execution": {
     "iopub.execute_input": "2024-02-01T00:18:56.860885Z",
     "iopub.status.busy": "2024-02-01T00:18:56.860177Z",
     "iopub.status.idle": "2024-02-01T00:18:56.867321Z",
     "shell.execute_reply": "2024-02-01T00:18:56.866336Z"
    }
   },
   "outputs": [
    {
     "data": {
      "text/plain": [
       "8"
      ]
     },
     "execution_count": 8,
     "metadata": {},
     "output_type": "execute_result"
    }
   ],
   "source": [
    "recency.loc[\"14688\"]"
   ]
  },
  {
   "cell_type": "markdown",
   "id": "e90d1255",
   "metadata": {},
   "source": [
    "This seems OK. Then I'll start building the DataFrame that will store the RFM\n",
    "scores:"
   ]
  },
  {
   "cell_type": "code",
   "execution_count": 9,
   "id": "fbc0f58f",
   "metadata": {
    "execution": {
     "iopub.execute_input": "2024-02-01T00:18:56.871635Z",
     "iopub.status.busy": "2024-02-01T00:18:56.871262Z",
     "iopub.status.idle": "2024-02-01T00:18:56.888475Z",
     "shell.execute_reply": "2024-02-01T00:18:56.887512Z"
    }
   },
   "outputs": [
    {
     "data": {
      "text/html": [
       "<div>\n",
       "<style scoped>\n",
       "    .dataframe tbody tr th:only-of-type {\n",
       "        vertical-align: middle;\n",
       "    }\n",
       "\n",
       "    .dataframe tbody tr th {\n",
       "        vertical-align: top;\n",
       "    }\n",
       "\n",
       "    .dataframe thead th {\n",
       "        text-align: right;\n",
       "    }\n",
       "</style>\n",
       "<table border=\"1\" class=\"dataframe\">\n",
       "  <thead>\n",
       "    <tr style=\"text-align: right;\">\n",
       "      <th></th>\n",
       "      <th>Recency</th>\n",
       "    </tr>\n",
       "    <tr>\n",
       "      <th>CustomerID</th>\n",
       "      <th></th>\n",
       "    </tr>\n",
       "  </thead>\n",
       "  <tbody>\n",
       "    <tr>\n",
       "      <th>12346</th>\n",
       "      <td>326</td>\n",
       "    </tr>\n",
       "    <tr>\n",
       "      <th>12347</th>\n",
       "      <td>3</td>\n",
       "    </tr>\n",
       "    <tr>\n",
       "      <th>12348</th>\n",
       "      <td>76</td>\n",
       "    </tr>\n",
       "    <tr>\n",
       "      <th>12349</th>\n",
       "      <td>19</td>\n",
       "    </tr>\n",
       "    <tr>\n",
       "      <th>12350</th>\n",
       "      <td>311</td>\n",
       "    </tr>\n",
       "  </tbody>\n",
       "</table>\n",
       "</div>"
      ],
      "text/plain": [
       "            Recency\n",
       "CustomerID         \n",
       "12346           326\n",
       "12347             3\n",
       "12348            76\n",
       "12349            19\n",
       "12350           311"
      ]
     },
     "execution_count": 9,
     "metadata": {},
     "output_type": "execute_result"
    }
   ],
   "source": [
    "df_rfm = (\n",
    "    df.groupby(by=\"CustomerID\", observed=True)\n",
    "    .InvoiceDate.max()\n",
    "    .to_frame()\n",
    "    .rename(columns={\"InvoiceDate\": \"LastPurchaseDate\"})\n",
    ")\n",
    "df_rfm = cast(pd.DataFrame, df_rfm)\n",
    "\n",
    "df_rfm[\"Recency\"] = (today - df_rfm[\"LastPurchaseDate\"]).dt.days\n",
    "df_rfm = df_rfm.drop(columns=\"LastPurchaseDate\")\n",
    "\n",
    "df_rfm.head()"
   ]
  },
  {
   "cell_type": "markdown",
   "id": "c4318509",
   "metadata": {},
   "source": [
    "### Frequency\n",
    "\n",
    "Here I'll use the following definition of frequency: for a given customer,\n",
    "frequency is the total number of purchases he/she made. Figuring out the best\n",
    "way to evaluate this metric:"
   ]
  },
  {
   "cell_type": "code",
   "execution_count": 10,
   "id": "7cc6d51f",
   "metadata": {
    "execution": {
     "iopub.execute_input": "2024-02-01T00:18:56.893287Z",
     "iopub.status.busy": "2024-02-01T00:18:56.892958Z",
     "iopub.status.idle": "2024-02-01T00:18:56.901363Z",
     "shell.execute_reply": "2024-02-01T00:18:56.900354Z"
    }
   },
   "outputs": [
    {
     "data": {
      "text/plain": [
       "21"
      ]
     },
     "execution_count": 10,
     "metadata": {},
     "output_type": "execute_result"
    }
   ],
   "source": [
    "# Frequency for a particular customer\n",
    "df[df[\"CustomerID\"] == \"14688\"].shape[0]"
   ]
  },
  {
   "cell_type": "code",
   "execution_count": 11,
   "id": "424cf950",
   "metadata": {
    "execution": {
     "iopub.execute_input": "2024-02-01T00:18:56.905342Z",
     "iopub.status.busy": "2024-02-01T00:18:56.904695Z",
     "iopub.status.idle": "2024-02-01T00:18:56.911874Z",
     "shell.execute_reply": "2024-02-01T00:18:56.910848Z"
    }
   },
   "outputs": [
    {
     "data": {
      "text/plain": [
       "21"
      ]
     },
     "execution_count": 11,
     "metadata": {},
     "output_type": "execute_result"
    }
   ],
   "source": [
    "df.loc[df[\"CustomerID\"] == \"14688\", \"InvoiceNo\"].nunique()"
   ]
  },
  {
   "cell_type": "code",
   "execution_count": 12,
   "id": "9e0dc27a",
   "metadata": {
    "execution": {
     "iopub.execute_input": "2024-02-01T00:18:56.916754Z",
     "iopub.status.busy": "2024-02-01T00:18:56.916390Z",
     "iopub.status.idle": "2024-02-01T00:18:56.928156Z",
     "shell.execute_reply": "2024-02-01T00:18:56.927320Z"
    }
   },
   "outputs": [
    {
     "data": {
      "text/plain": [
       "CustomerID\n",
       "12346    1\n",
       "12347    7\n",
       "12348    4\n",
       "12349    1\n",
       "12350    1\n",
       "Name: Frequency, dtype: int64"
      ]
     },
     "execution_count": 12,
     "metadata": {},
     "output_type": "execute_result"
    }
   ],
   "source": [
    "# Frequency for all customers\n",
    "freq_1 = df.groupby(by=\"CustomerID\", observed=True).InvoiceNo.count()\n",
    "freq_1 = cast(pd.Series, freq_1)\n",
    "freq_1.name = \"Frequency\"\n",
    "freq_1.head()"
   ]
  },
  {
   "cell_type": "code",
   "execution_count": 13,
   "id": "45608dbb",
   "metadata": {
    "execution": {
     "iopub.execute_input": "2024-02-01T00:18:56.932696Z",
     "iopub.status.busy": "2024-02-01T00:18:56.931969Z",
     "iopub.status.idle": "2024-02-01T00:18:56.939047Z",
     "shell.execute_reply": "2024-02-01T00:18:56.938045Z"
    }
   },
   "outputs": [
    {
     "data": {
      "text/plain": [
       "21"
      ]
     },
     "execution_count": 13,
     "metadata": {},
     "output_type": "execute_result"
    }
   ],
   "source": [
    "freq_1.loc[\"14688\"]"
   ]
  },
  {
   "cell_type": "code",
   "execution_count": 14,
   "id": "ba56c1cd",
   "metadata": {
    "execution": {
     "iopub.execute_input": "2024-02-01T00:18:56.943860Z",
     "iopub.status.busy": "2024-02-01T00:18:56.943300Z",
     "iopub.status.idle": "2024-02-01T00:18:56.956645Z",
     "shell.execute_reply": "2024-02-01T00:18:56.955528Z"
    }
   },
   "outputs": [
    {
     "data": {
      "text/plain": [
       "CustomerID\n",
       "12346    1\n",
       "12347    7\n",
       "12348    4\n",
       "12349    1\n",
       "12350    1\n",
       "Name: Frequency, dtype: int64"
      ]
     },
     "execution_count": 14,
     "metadata": {},
     "output_type": "execute_result"
    }
   ],
   "source": [
    "freq_2 = df.groupby(by=\"CustomerID\", observed=True).InvoiceNo.nunique()\n",
    "freq_2 = cast(pd.Series, freq_2)\n",
    "freq_2.name = \"Frequency\"\n",
    "freq_2.head()"
   ]
  },
  {
   "cell_type": "code",
   "execution_count": 15,
   "id": "d4421ece",
   "metadata": {
    "execution": {
     "iopub.execute_input": "2024-02-01T00:18:56.960686Z",
     "iopub.status.busy": "2024-02-01T00:18:56.960395Z",
     "iopub.status.idle": "2024-02-01T00:18:56.969805Z",
     "shell.execute_reply": "2024-02-01T00:18:56.968930Z"
    }
   },
   "outputs": [],
   "source": [
    "assert_series_equal(freq_1, freq_2)"
   ]
  },
  {
   "cell_type": "markdown",
   "id": "9adf3cbc",
   "metadata": {},
   "source": [
    "The two methods used above are equivalent. Then I'll calculate the frequency\n",
    "with the aid of the simplest one:"
   ]
  },
  {
   "cell_type": "code",
   "execution_count": 16,
   "id": "ad03b361",
   "metadata": {
    "execution": {
     "iopub.execute_input": "2024-02-01T00:18:56.973457Z",
     "iopub.status.busy": "2024-02-01T00:18:56.973163Z",
     "iopub.status.idle": "2024-02-01T00:18:56.990387Z",
     "shell.execute_reply": "2024-02-01T00:18:56.989453Z"
    }
   },
   "outputs": [
    {
     "data": {
      "text/html": [
       "<div>\n",
       "<style scoped>\n",
       "    .dataframe tbody tr th:only-of-type {\n",
       "        vertical-align: middle;\n",
       "    }\n",
       "\n",
       "    .dataframe tbody tr th {\n",
       "        vertical-align: top;\n",
       "    }\n",
       "\n",
       "    .dataframe thead th {\n",
       "        text-align: right;\n",
       "    }\n",
       "</style>\n",
       "<table border=\"1\" class=\"dataframe\">\n",
       "  <thead>\n",
       "    <tr style=\"text-align: right;\">\n",
       "      <th></th>\n",
       "      <th>Recency</th>\n",
       "      <th>Frequency</th>\n",
       "    </tr>\n",
       "    <tr>\n",
       "      <th>CustomerID</th>\n",
       "      <th></th>\n",
       "      <th></th>\n",
       "    </tr>\n",
       "  </thead>\n",
       "  <tbody>\n",
       "    <tr>\n",
       "      <th>12346</th>\n",
       "      <td>326</td>\n",
       "      <td>1</td>\n",
       "    </tr>\n",
       "    <tr>\n",
       "      <th>12347</th>\n",
       "      <td>3</td>\n",
       "      <td>7</td>\n",
       "    </tr>\n",
       "    <tr>\n",
       "      <th>12348</th>\n",
       "      <td>76</td>\n",
       "      <td>4</td>\n",
       "    </tr>\n",
       "    <tr>\n",
       "      <th>12349</th>\n",
       "      <td>19</td>\n",
       "      <td>1</td>\n",
       "    </tr>\n",
       "    <tr>\n",
       "      <th>12350</th>\n",
       "      <td>311</td>\n",
       "      <td>1</td>\n",
       "    </tr>\n",
       "  </tbody>\n",
       "</table>\n",
       "</div>"
      ],
      "text/plain": [
       "            Recency  Frequency\n",
       "CustomerID                    \n",
       "12346           326          1\n",
       "12347             3          7\n",
       "12348            76          4\n",
       "12349            19          1\n",
       "12350           311          1"
      ]
     },
     "execution_count": 16,
     "metadata": {},
     "output_type": "execute_result"
    }
   ],
   "source": [
    "assert_index_equal(df_rfm.index, freq_1.index)\n",
    "\n",
    "df_rfm[\"Frequency\"] = df.groupby(by=\"CustomerID\", observed=True).InvoiceNo.count()\n",
    "df_rfm.head()"
   ]
  },
  {
   "cell_type": "markdown",
   "id": "f136411d",
   "metadata": {},
   "source": [
    "### Monetary\n",
    "\n",
    "Here I'll use the following definition of monetary: for a given customer,\n",
    "monetary corresponds to the total amount spent by him/her. Figuring out the\n",
    "best way to evaluate this quantity:"
   ]
  },
  {
   "cell_type": "code",
   "execution_count": 17,
   "id": "f12f9180",
   "metadata": {
    "execution": {
     "iopub.execute_input": "2024-02-01T00:18:56.994860Z",
     "iopub.status.busy": "2024-02-01T00:18:56.994510Z",
     "iopub.status.idle": "2024-02-01T00:18:57.001733Z",
     "shell.execute_reply": "2024-02-01T00:18:57.000807Z"
    }
   },
   "outputs": [
    {
     "data": {
      "text/plain": [
       "5630.87"
      ]
     },
     "execution_count": 17,
     "metadata": {},
     "output_type": "execute_result"
    }
   ],
   "source": [
    "# Monetary for a particular customer\n",
    "df.loc[df[\"CustomerID\"] == \"14688\", \"TotalPrice\"].sum()"
   ]
  },
  {
   "cell_type": "code",
   "execution_count": 18,
   "id": "ecfd5bc5",
   "metadata": {
    "execution": {
     "iopub.execute_input": "2024-02-01T00:18:57.006412Z",
     "iopub.status.busy": "2024-02-01T00:18:57.005784Z",
     "iopub.status.idle": "2024-02-01T00:18:57.018044Z",
     "shell.execute_reply": "2024-02-01T00:18:57.017010Z"
    }
   },
   "outputs": [
    {
     "data": {
      "text/plain": [
       "CustomerID\n",
       "12346    77183.60\n",
       "12347     4310.00\n",
       "12348     1797.24\n",
       "12349     1757.55\n",
       "12350      334.40\n",
       "Name: TotalPrice, dtype: float64"
      ]
     },
     "execution_count": 18,
     "metadata": {},
     "output_type": "execute_result"
    }
   ],
   "source": [
    "# Monetary for all customers\n",
    "monetary = df.groupby(by=\"CustomerID\", observed=True).TotalPrice.sum()\n",
    "monetary = cast(pd.Series, monetary)\n",
    "monetary.head()"
   ]
  },
  {
   "cell_type": "code",
   "execution_count": 19,
   "id": "b370432c",
   "metadata": {
    "execution": {
     "iopub.execute_input": "2024-02-01T00:18:57.022127Z",
     "iopub.status.busy": "2024-02-01T00:18:57.021519Z",
     "iopub.status.idle": "2024-02-01T00:18:57.027857Z",
     "shell.execute_reply": "2024-02-01T00:18:57.026814Z"
    }
   },
   "outputs": [
    {
     "data": {
      "text/plain": [
       "5630.87"
      ]
     },
     "execution_count": 19,
     "metadata": {},
     "output_type": "execute_result"
    }
   ],
   "source": [
    "monetary.loc[\"14688\"]"
   ]
  },
  {
   "cell_type": "markdown",
   "id": "26f0463f",
   "metadata": {},
   "source": [
    "Now that I understand how to perform the desired calculation, I'll add\n",
    "monetary to my DataFrame:"
   ]
  },
  {
   "cell_type": "code",
   "execution_count": 20,
   "id": "8b598c40",
   "metadata": {
    "execution": {
     "iopub.execute_input": "2024-02-01T00:18:57.032077Z",
     "iopub.status.busy": "2024-02-01T00:18:57.031742Z",
     "iopub.status.idle": "2024-02-01T00:18:57.051363Z",
     "shell.execute_reply": "2024-02-01T00:18:57.050355Z"
    }
   },
   "outputs": [
    {
     "data": {
      "text/html": [
       "<div>\n",
       "<style scoped>\n",
       "    .dataframe tbody tr th:only-of-type {\n",
       "        vertical-align: middle;\n",
       "    }\n",
       "\n",
       "    .dataframe tbody tr th {\n",
       "        vertical-align: top;\n",
       "    }\n",
       "\n",
       "    .dataframe thead th {\n",
       "        text-align: right;\n",
       "    }\n",
       "</style>\n",
       "<table border=\"1\" class=\"dataframe\">\n",
       "  <thead>\n",
       "    <tr style=\"text-align: right;\">\n",
       "      <th></th>\n",
       "      <th>Recency</th>\n",
       "      <th>Frequency</th>\n",
       "      <th>Monetary</th>\n",
       "    </tr>\n",
       "    <tr>\n",
       "      <th>CustomerID</th>\n",
       "      <th></th>\n",
       "      <th></th>\n",
       "      <th></th>\n",
       "    </tr>\n",
       "  </thead>\n",
       "  <tbody>\n",
       "    <tr>\n",
       "      <th>12346</th>\n",
       "      <td>326</td>\n",
       "      <td>1</td>\n",
       "      <td>77183.60</td>\n",
       "    </tr>\n",
       "    <tr>\n",
       "      <th>12347</th>\n",
       "      <td>3</td>\n",
       "      <td>7</td>\n",
       "      <td>4310.00</td>\n",
       "    </tr>\n",
       "    <tr>\n",
       "      <th>12348</th>\n",
       "      <td>76</td>\n",
       "      <td>4</td>\n",
       "      <td>1797.24</td>\n",
       "    </tr>\n",
       "    <tr>\n",
       "      <th>12349</th>\n",
       "      <td>19</td>\n",
       "      <td>1</td>\n",
       "      <td>1757.55</td>\n",
       "    </tr>\n",
       "    <tr>\n",
       "      <th>12350</th>\n",
       "      <td>311</td>\n",
       "      <td>1</td>\n",
       "      <td>334.40</td>\n",
       "    </tr>\n",
       "  </tbody>\n",
       "</table>\n",
       "</div>"
      ],
      "text/plain": [
       "            Recency  Frequency  Monetary\n",
       "CustomerID                              \n",
       "12346           326          1  77183.60\n",
       "12347             3          7   4310.00\n",
       "12348            76          4   1797.24\n",
       "12349            19          1   1757.55\n",
       "12350           311          1    334.40"
      ]
     },
     "execution_count": 20,
     "metadata": {},
     "output_type": "execute_result"
    }
   ],
   "source": [
    "assert_index_equal(df_rfm.index, monetary.index)\n",
    "\n",
    "df_rfm[\"Monetary\"] = df.groupby(by=\"CustomerID\", observed=True).TotalPrice.sum()\n",
    "df_rfm.head()"
   ]
  },
  {
   "cell_type": "code",
   "execution_count": 21,
   "id": "897d6580",
   "metadata": {
    "execution": {
     "iopub.execute_input": "2024-02-01T00:18:57.055869Z",
     "iopub.status.busy": "2024-02-01T00:18:57.055507Z",
     "iopub.status.idle": "2024-02-01T00:18:57.066927Z",
     "shell.execute_reply": "2024-02-01T00:18:57.065894Z"
    }
   },
   "outputs": [
    {
     "name": "stdout",
     "output_type": "stream",
     "text": [
      "<class 'pandas.core.frame.DataFrame'>\n",
      "CategoricalIndex: 4338 entries, 12346 to 18287\n",
      "Data columns (total 3 columns):\n",
      " #   Column     Non-Null Count  Dtype  \n",
      "---  ------     --------------  -----  \n",
      " 0   Recency    4338 non-null   int64  \n",
      " 1   Frequency  4338 non-null   int64  \n",
      " 2   Monetary   4338 non-null   float64\n",
      "dtypes: float64(1), int64(2)\n",
      "memory usage: 273.1 KB\n"
     ]
    }
   ],
   "source": [
    "df_rfm.info()"
   ]
  },
  {
   "cell_type": "code",
   "execution_count": 22,
   "id": "f8c16f6e",
   "metadata": {
    "execution": {
     "iopub.execute_input": "2024-02-01T00:18:57.071321Z",
     "iopub.status.busy": "2024-02-01T00:18:57.070961Z",
     "iopub.status.idle": "2024-02-01T00:18:57.076479Z",
     "shell.execute_reply": "2024-02-01T00:18:57.075491Z"
    }
   },
   "outputs": [],
   "source": [
    "# Quick consistency checks\n",
    "assert (df_rfm[\"Recency\"] > 0).all()\n",
    "assert (df_rfm[\"Frequency\"] > 0).all()\n",
    "assert (df_rfm[\"Monetary\"] > 0.0).all()"
   ]
  },
  {
   "cell_type": "markdown",
   "id": "10d0cc5a",
   "metadata": {
    "lines_to_next_cell": 2
   },
   "source": [
    "### Summarizing through functions\n",
    "\n",
    "At this point, all RFM attributes have been evaluated. Before proceeding,\n",
    "let's collect the essential parts of the above code, and transform them into\n",
    "a couple of functions."
   ]
  },
  {
   "cell_type": "code",
   "execution_count": 23,
   "id": "007c92eb",
   "metadata": {
    "execution": {
     "iopub.execute_input": "2024-02-01T00:18:57.080237Z",
     "iopub.status.busy": "2024-02-01T00:18:57.079822Z",
     "iopub.status.idle": "2024-02-01T00:18:57.084900Z",
     "shell.execute_reply": "2024-02-01T00:18:57.083901Z"
    }
   },
   "outputs": [],
   "source": [
    "def read_prepared_data(file_path: Path) -> pd.DataFrame:\n",
    "    return pd.read_csv(\n",
    "        file_path,\n",
    "        dtype={\n",
    "            \"InvoiceNo\": \"category\",\n",
    "            \"CustomerID\": \"category\",\n",
    "            \"TotalPrice\": np.float_,\n",
    "        },\n",
    "        parse_dates=[\"InvoiceDate\"],\n",
    "    )"
   ]
  },
  {
   "cell_type": "code",
   "execution_count": 24,
   "id": "8f4ec09d",
   "metadata": {
    "execution": {
     "iopub.execute_input": "2024-02-01T00:18:57.088414Z",
     "iopub.status.busy": "2024-02-01T00:18:57.088076Z",
     "iopub.status.idle": "2024-02-01T00:18:57.094424Z",
     "shell.execute_reply": "2024-02-01T00:18:57.093490Z"
    }
   },
   "outputs": [],
   "source": [
    "def compute_rfm_attributes(df: pd.DataFrame) -> pd.DataFrame:\n",
    "    customer_groups = df.groupby(by=\"CustomerID\", observed=True)\n",
    "\n",
    "    today = df[\"InvoiceDate\"].max() + pd.Timedelta(days=1)\n",
    "    today = cast(pd.Timestamp, today)\n",
    "\n",
    "    df_rfm = customer_groups.InvoiceDate.max().to_frame().rename(columns={\"InvoiceDate\": \"LastPurchaseDate\"})\n",
    "    df_rfm = cast(pd.DataFrame, df_rfm)\n",
    "    df_rfm[\"Recency\"] = (today - df_rfm[\"LastPurchaseDate\"]).dt.days\n",
    "    df_rfm = df_rfm.drop(columns=\"LastPurchaseDate\")\n",
    "\n",
    "    df_rfm[\"Frequency\"] = customer_groups.InvoiceNo.count()\n",
    "    df_rfm[\"Monetary\"] = customer_groups.TotalPrice.sum()\n",
    "\n",
    "    return df_rfm"
   ]
  },
  {
   "cell_type": "code",
   "execution_count": 25,
   "id": "9ca48c4d",
   "metadata": {
    "execution": {
     "iopub.execute_input": "2024-02-01T00:18:57.098822Z",
     "iopub.status.busy": "2024-02-01T00:18:57.098432Z",
     "iopub.status.idle": "2024-02-01T00:18:57.509703Z",
     "shell.execute_reply": "2024-02-01T00:18:57.508710Z"
    }
   },
   "outputs": [],
   "source": [
    "# Quick tests\n",
    "prepared_data = read_prepared_data(file_path)\n",
    "assert_frame_equal(prepared_data, df)"
   ]
  },
  {
   "cell_type": "code",
   "execution_count": 26,
   "id": "bf59a504",
   "metadata": {
    "execution": {
     "iopub.execute_input": "2024-02-01T00:18:57.513852Z",
     "iopub.status.busy": "2024-02-01T00:18:57.513481Z",
     "iopub.status.idle": "2024-02-01T00:18:57.562854Z",
     "shell.execute_reply": "2024-02-01T00:18:57.561905Z"
    }
   },
   "outputs": [],
   "source": [
    "rfm_attrs = compute_rfm_attributes(prepared_data)\n",
    "assert_frame_equal(rfm_attrs, df_rfm)"
   ]
  },
  {
   "cell_type": "code",
   "execution_count": 27,
   "id": "3753126e",
   "metadata": {
    "execution": {
     "iopub.execute_input": "2024-02-01T00:18:57.566786Z",
     "iopub.status.busy": "2024-02-01T00:18:57.566439Z",
     "iopub.status.idle": "2024-02-01T00:18:57.572273Z",
     "shell.execute_reply": "2024-02-01T00:18:57.571209Z"
    }
   },
   "outputs": [],
   "source": [
    "del prepared_data\n",
    "del rfm_attrs"
   ]
  },
  {
   "cell_type": "markdown",
   "id": "5993df46",
   "metadata": {},
   "source": [
    "## Compute RFM scores\n",
    "\n",
    "Finally, it's possible to compute the RFM scores. To do so, I'll use the\n",
    "`add_rfm_scores` function that I defined in the `utils` package:"
   ]
  },
  {
   "cell_type": "code",
   "execution_count": 28,
   "id": "ffd2bcbb",
   "metadata": {
    "execution": {
     "iopub.execute_input": "2024-02-01T00:18:57.576646Z",
     "iopub.status.busy": "2024-02-01T00:18:57.576353Z",
     "iopub.status.idle": "2024-02-01T00:19:00.822362Z",
     "shell.execute_reply": "2024-02-01T00:19:00.821399Z"
    }
   },
   "outputs": [
    {
     "data": {
      "text/html": [
       "<div>\n",
       "<style scoped>\n",
       "    .dataframe tbody tr th:only-of-type {\n",
       "        vertical-align: middle;\n",
       "    }\n",
       "\n",
       "    .dataframe tbody tr th {\n",
       "        vertical-align: top;\n",
       "    }\n",
       "\n",
       "    .dataframe thead th {\n",
       "        text-align: right;\n",
       "    }\n",
       "</style>\n",
       "<table border=\"1\" class=\"dataframe\">\n",
       "  <thead>\n",
       "    <tr style=\"text-align: right;\">\n",
       "      <th></th>\n",
       "      <th>Recency</th>\n",
       "      <th>Frequency</th>\n",
       "      <th>Monetary</th>\n",
       "      <th>RScore</th>\n",
       "      <th>FScore</th>\n",
       "      <th>MScore</th>\n",
       "      <th>RFMCell</th>\n",
       "      <th>RFMScore</th>\n",
       "    </tr>\n",
       "    <tr>\n",
       "      <th>CustomerID</th>\n",
       "      <th></th>\n",
       "      <th></th>\n",
       "      <th></th>\n",
       "      <th></th>\n",
       "      <th></th>\n",
       "      <th></th>\n",
       "      <th></th>\n",
       "      <th></th>\n",
       "    </tr>\n",
       "  </thead>\n",
       "  <tbody>\n",
       "    <tr>\n",
       "      <th>12346</th>\n",
       "      <td>326</td>\n",
       "      <td>1</td>\n",
       "      <td>77183.60</td>\n",
       "      <td>1</td>\n",
       "      <td>1</td>\n",
       "      <td>5</td>\n",
       "      <td>1,1,5</td>\n",
       "      <td>2.333333</td>\n",
       "    </tr>\n",
       "    <tr>\n",
       "      <th>12347</th>\n",
       "      <td>3</td>\n",
       "      <td>7</td>\n",
       "      <td>4310.00</td>\n",
       "      <td>5</td>\n",
       "      <td>5</td>\n",
       "      <td>5</td>\n",
       "      <td>5,5,5</td>\n",
       "      <td>5.000000</td>\n",
       "    </tr>\n",
       "    <tr>\n",
       "      <th>12348</th>\n",
       "      <td>76</td>\n",
       "      <td>4</td>\n",
       "      <td>1797.24</td>\n",
       "      <td>2</td>\n",
       "      <td>4</td>\n",
       "      <td>4</td>\n",
       "      <td>2,4,4</td>\n",
       "      <td>3.333333</td>\n",
       "    </tr>\n",
       "    <tr>\n",
       "      <th>12349</th>\n",
       "      <td>19</td>\n",
       "      <td>1</td>\n",
       "      <td>1757.55</td>\n",
       "      <td>4</td>\n",
       "      <td>1</td>\n",
       "      <td>4</td>\n",
       "      <td>4,1,4</td>\n",
       "      <td>3.000000</td>\n",
       "    </tr>\n",
       "    <tr>\n",
       "      <th>12350</th>\n",
       "      <td>311</td>\n",
       "      <td>1</td>\n",
       "      <td>334.40</td>\n",
       "      <td>1</td>\n",
       "      <td>1</td>\n",
       "      <td>2</td>\n",
       "      <td>1,1,2</td>\n",
       "      <td>1.333333</td>\n",
       "    </tr>\n",
       "  </tbody>\n",
       "</table>\n",
       "</div>"
      ],
      "text/plain": [
       "            Recency  Frequency  Monetary RScore FScore MScore RFMCell  \\\n",
       "CustomerID                                                              \n",
       "12346           326          1  77183.60      1      1      5   1,1,5   \n",
       "12347             3          7   4310.00      5      5      5   5,5,5   \n",
       "12348            76          4   1797.24      2      4      4   2,4,4   \n",
       "12349            19          1   1757.55      4      1      4   4,1,4   \n",
       "12350           311          1    334.40      1      1      2   1,1,2   \n",
       "\n",
       "            RFMScore  \n",
       "CustomerID            \n",
       "12346       2.333333  \n",
       "12347       5.000000  \n",
       "12348       3.333333  \n",
       "12349       3.000000  \n",
       "12350       1.333333  "
      ]
     },
     "execution_count": 28,
     "metadata": {},
     "output_type": "execute_result"
    }
   ],
   "source": [
    "df_rfm = add_rfm_scores(df_rfm)\n",
    "df_rfm.head()"
   ]
  },
  {
   "cell_type": "code",
   "execution_count": 29,
   "id": "12714b61",
   "metadata": {
    "execution": {
     "iopub.execute_input": "2024-02-01T00:19:00.825951Z",
     "iopub.status.busy": "2024-02-01T00:19:00.825655Z",
     "iopub.status.idle": "2024-02-01T00:19:00.837537Z",
     "shell.execute_reply": "2024-02-01T00:19:00.836585Z"
    }
   },
   "outputs": [
    {
     "name": "stdout",
     "output_type": "stream",
     "text": [
      "<class 'pandas.core.frame.DataFrame'>\n",
      "CategoricalIndex: 4338 entries, 12346 to 18287\n",
      "Data columns (total 8 columns):\n",
      " #   Column     Non-Null Count  Dtype   \n",
      "---  ------     --------------  -----   \n",
      " 0   Recency    4338 non-null   int64   \n",
      " 1   Frequency  4338 non-null   int64   \n",
      " 2   Monetary   4338 non-null   float64 \n",
      " 3   RScore     4338 non-null   category\n",
      " 4   FScore     4338 non-null   category\n",
      " 5   MScore     4338 non-null   category\n",
      " 6   RFMCell    4338 non-null   object  \n",
      " 7   RFMScore   4338 non-null   float64 \n",
      "dtypes: category(3), float64(2), int64(2), object(1)\n",
      "memory usage: 354.2+ KB\n"
     ]
    }
   ],
   "source": [
    "df_rfm.info()"
   ]
  },
  {
   "cell_type": "markdown",
   "id": "3f79b3ec",
   "metadata": {},
   "source": [
    "## Save computed scores"
   ]
  },
  {
   "cell_type": "code",
   "execution_count": 30,
   "id": "2d9205f4",
   "metadata": {
    "execution": {
     "iopub.execute_input": "2024-02-01T00:19:00.841196Z",
     "iopub.status.busy": "2024-02-01T00:19:00.840834Z",
     "iopub.status.idle": "2024-02-01T00:19:00.885680Z",
     "shell.execute_reply": "2024-02-01T00:19:00.884757Z"
    }
   },
   "outputs": [],
   "source": [
    "# File path for output CSV\n",
    "out_file = file_path.parent / \"rfm_scores.csv\"\n",
    "\n",
    "df_rfm.to_csv(out_file, index=True)"
   ]
  },
  {
   "cell_type": "markdown",
   "id": "3d4d949e",
   "metadata": {},
   "source": [
    "## Visualization\n",
    "### Recency and R score\n",
    "\n",
    "Check that every bin contains approximately the same number of customers:"
   ]
  },
  {
   "cell_type": "code",
   "execution_count": 31,
   "id": "4aa8c937",
   "metadata": {
    "execution": {
     "iopub.execute_input": "2024-02-01T00:19:00.889295Z",
     "iopub.status.busy": "2024-02-01T00:19:00.889001Z",
     "iopub.status.idle": "2024-02-01T00:19:01.380445Z",
     "shell.execute_reply": "2024-02-01T00:19:01.379260Z"
    }
   },
   "outputs": [
    {
     "data": {
      "image/png": "[encoded data removed]",
      "text/plain": [
       "<Figure size 800x600 with 1 Axes>"
      ]
     },
     "metadata": {},
     "output_type": "display_data"
    }
   ],
   "source": [
    "fig, ax = plt.subplots(figsize=(8.0, 6.0), layout=\"tight\")\n",
    "ax = cast(Axes, ax)\n",
    "sns.countplot(data=df_rfm, x=\"RScore\", ax=ax)\n",
    "ax.set_title(\"R Score: # Customers in each bin\")\n",
    "ax.set_xlabel(\"R Score\")\n",
    "ax.set_ylabel(\"Count\")\n",
    "ax.yaxis.set_minor_locator(AutoMinorLocator(4))\n",
    "plt.show()"
   ]
  },
  {
   "cell_type": "code",
   "execution_count": 32,
   "id": "18204c71",
   "metadata": {
    "execution": {
     "iopub.execute_input": "2024-02-01T00:19:01.384386Z",
     "iopub.status.busy": "2024-02-01T00:19:01.384009Z",
     "iopub.status.idle": "2024-02-01T00:19:01.393258Z",
     "shell.execute_reply": "2024-02-01T00:19:01.392244Z"
    }
   },
   "outputs": [
    {
     "data": {
      "text/plain": [
       "RScore\n",
       "1    881\n",
       "2    846\n",
       "3    863\n",
       "4    880\n",
       "5    868\n",
       "Name: count, dtype: int64"
      ]
     },
     "execution_count": 32,
     "metadata": {},
     "output_type": "execute_result"
    }
   ],
   "source": [
    "# These are the values shown above:\n",
    "df_rfm[\"RScore\"].value_counts(sort=False)"
   ]
  },
  {
   "cell_type": "markdown",
   "id": "9b975d3d",
   "metadata": {},
   "source": [
    "Distribution of `Recency` for each R score:"
   ]
  },
  {
   "cell_type": "code",
   "execution_count": 33,
   "id": "0613ac24",
   "metadata": {
    "execution": {
     "iopub.execute_input": "2024-02-01T00:19:01.398199Z",
     "iopub.status.busy": "2024-02-01T00:19:01.397535Z",
     "iopub.status.idle": "2024-02-01T00:19:01.950612Z",
     "shell.execute_reply": "2024-02-01T00:19:01.949547Z"
    }
   },
   "outputs": [
    {
     "data": {
      "image/png": "[encoded data removed]",
      "text/plain": [
       "<Figure size 800x600 with 1 Axes>"
      ]
     },
     "metadata": {},
     "output_type": "display_data"
    }
   ],
   "source": [
    "fig, ax = plt.subplots(figsize=(8.0, 6.0), layout=\"tight\")\n",
    "ax = cast(Axes, ax)\n",
    "sns.boxplot(data=df_rfm, x=\"RScore\", y=\"Recency\", ax=ax)\n",
    "ax.set_title(\"Recency: Distribution for each R score\")\n",
    "ax.set_xlabel(\"R Score\")\n",
    "ax.set_ylabel(\"Recency (days)\")\n",
    "ax.set_ylim(bottom=0)\n",
    "ax.yaxis.set_minor_locator(AutoMinorLocator(5))\n",
    "plt.show()"
   ]
  },
  {
   "cell_type": "code",
   "execution_count": 34,
   "id": "7cf7f9df",
   "metadata": {
    "execution": {
     "iopub.execute_input": "2024-02-01T00:19:01.955811Z",
     "iopub.status.busy": "2024-02-01T00:19:01.955010Z",
     "iopub.status.idle": "2024-02-01T00:19:01.966281Z",
     "shell.execute_reply": "2024-02-01T00:19:01.965369Z"
    }
   },
   "outputs": [
    {
     "data": {
      "text/plain": [
       "count    881.000000\n",
       "mean     267.472191\n",
       "std       57.888721\n",
       "min      178.000000\n",
       "25%      218.000000\n",
       "50%      262.000000\n",
       "75%      312.000000\n",
       "max      374.000000\n",
       "Name: Recency, dtype: float64"
      ]
     },
     "execution_count": 34,
     "metadata": {},
     "output_type": "execute_result"
    }
   ],
   "source": [
    "# Quick check\n",
    "df_rfm.loc[df_rfm[\"RScore\"] == 1, \"Recency\"].describe()"
   ]
  },
  {
   "cell_type": "markdown",
   "id": "ffac2562",
   "metadata": {},
   "source": [
    "### Frequency and F score\n",
    "\n",
    "Next, we're going to do something very similar to what we've done above. Then\n",
    "it's convenient to use this code to define a couple of functions:"
   ]
  },
  {
   "cell_type": "code",
   "execution_count": 35,
   "id": "25e9f228",
   "metadata": {
    "execution": {
     "iopub.execute_input": "2024-02-01T00:19:01.970566Z",
     "iopub.status.busy": "2024-02-01T00:19:01.970220Z",
     "iopub.status.idle": "2024-02-01T00:19:01.975234Z",
     "shell.execute_reply": "2024-02-01T00:19:01.974198Z"
    }
   },
   "outputs": [],
   "source": [
    "# Path to images directory\n",
    "IMG_DIR = Path.cwd().parents[1] / \"img\"\n",
    "assert IMG_DIR.exists(), f\"directory doesn't exist: {IMG_DIR}\"\n",
    "assert IMG_DIR.is_dir(), f\"not a directory: {IMG_DIR}\""
   ]
  },
  {
   "cell_type": "code",
   "execution_count": 36,
   "id": "ad224604",
   "metadata": {
    "execution": {
     "iopub.execute_input": "2024-02-01T00:19:01.979217Z",
     "iopub.status.busy": "2024-02-01T00:19:01.978863Z",
     "iopub.status.idle": "2024-02-01T00:19:01.987160Z",
     "shell.execute_reply": "2024-02-01T00:19:01.986116Z"
    }
   },
   "outputs": [],
   "source": [
    "def plot_bin_count(\n",
    "    df: pd.DataFrame,\n",
    "    score: Literal[\"R\", \"F\", \"M\"],\n",
    "    *,\n",
    "    save: bool = False,\n",
    "    figsize: tuple[float, float] = (8.0, 6.0),\n",
    ") -> None:\n",
    "    fig, ax = plt.subplots(figsize=figsize, layout=\"tight\")\n",
    "    ax = cast(Axes, ax)\n",
    "\n",
    "    sns.countplot(data=df, x=f\"{score}Score\", ax=ax)\n",
    "    ax.set_title(f\"{score} Score: # Customers in each bin\")\n",
    "    ax.set_xlabel(f\"{score} Score\")\n",
    "    ax.set_ylabel(\"Count\")\n",
    "\n",
    "    if save:\n",
    "        out_img = IMG_DIR / f\"bin_count_{score.lower()}score.png\"\n",
    "        fig.savefig(out_img)\n",
    "        plt.close(fig)\n",
    "    else:\n",
    "        plt.show()"
   ]
  },
  {
   "cell_type": "code",
   "execution_count": 37,
   "id": "12bd76da",
   "metadata": {
    "execution": {
     "iopub.execute_input": "2024-02-01T00:19:01.991101Z",
     "iopub.status.busy": "2024-02-01T00:19:01.990771Z",
     "iopub.status.idle": "2024-02-01T00:19:01.998863Z",
     "shell.execute_reply": "2024-02-01T00:19:01.997805Z"
    }
   },
   "outputs": [],
   "source": [
    "def plot_distribution_by_score(\n",
    "    df: pd.DataFrame,\n",
    "    attr: RFMAttribute,\n",
    "    *,\n",
    "    save: bool = False,\n",
    "    figsize: tuple[float, float] = (8.0, 6.0),\n",
    ") -> None:\n",
    "    fig, ax = plt.subplots(figsize=figsize, layout=\"tight\")\n",
    "    ax = cast(Axes, ax)\n",
    "\n",
    "    first_letter = attr[0]\n",
    "    sns.boxplot(\n",
    "        data=df,\n",
    "        x=f\"{first_letter}Score\",\n",
    "        y=attr,\n",
    "        ax=ax,\n",
    "        # I just want to know if the RFM attributes are distributed in a way\n",
    "        # that makes sense. For this reason, I'll hide the outliers.\n",
    "        showfliers=False,\n",
    "    )\n",
    "    ax.set_title(f\"{attr}: Distribution for each {first_letter} score\")\n",
    "    ax.set_xlabel(f\"{first_letter} Score\")\n",
    "    ax.set_ylim(bottom=0)\n",
    "\n",
    "    match attr:\n",
    "        case \"Recency\":\n",
    "            unit = \"days\"\n",
    "        case \"Frequency\":\n",
    "            unit = \"purchases\"\n",
    "        case \"Monetary\":\n",
    "            unit = \"£\"\n",
    "    ax.set_ylabel(f\"{attr} ({unit})\")\n",
    "\n",
    "    if save:\n",
    "        out_img = IMG_DIR / f\"{attr.lower()}_distribution.png\"\n",
    "        fig.savefig(out_img)\n",
    "        plt.close(fig)\n",
    "    else:\n",
    "        plt.show()"
   ]
  },
  {
   "cell_type": "markdown",
   "id": "fd888170",
   "metadata": {},
   "source": [
    "Using these functions to generate the desired plots:"
   ]
  },
  {
   "cell_type": "code",
   "execution_count": 38,
   "id": "359e1c5b",
   "metadata": {
    "execution": {
     "iopub.execute_input": "2024-02-01T00:19:02.003712Z",
     "iopub.status.busy": "2024-02-01T00:19:02.003337Z",
     "iopub.status.idle": "2024-02-01T00:19:02.372274Z",
     "shell.execute_reply": "2024-02-01T00:19:02.371217Z"
    }
   },
   "outputs": [
    {
     "data": {
      "image/png": "[encoded data removed]",
      "text/plain": [
       "<Figure size 800x600 with 1 Axes>"
      ]
     },
     "metadata": {},
     "output_type": "display_data"
    }
   ],
   "source": [
    "plot_bin_count(df_rfm, \"F\")"
   ]
  },
  {
   "cell_type": "code",
   "execution_count": 39,
   "id": "e1f510cb",
   "metadata": {
    "execution": {
     "iopub.execute_input": "2024-02-01T00:19:02.376183Z",
     "iopub.status.busy": "2024-02-01T00:19:02.375673Z",
     "iopub.status.idle": "2024-02-01T00:19:02.759712Z",
     "shell.execute_reply": "2024-02-01T00:19:02.758610Z"
    }
   },
   "outputs": [
    {
     "data": {
      "image/png": "[encoded data removed]",
      "text/plain": [
       "<Figure size 800x600 with 1 Axes>"
      ]
     },
     "metadata": {},
     "output_type": "display_data"
    }
   ],
   "source": [
    "plot_distribution_by_score(df_rfm, \"Frequency\")"
   ]
  },
  {
   "cell_type": "markdown",
   "id": "9919234b",
   "metadata": {},
   "source": [
    "In the case of the F score, the number of customers in each bin varies\n",
    "considerably. Basically, this imbalance is a consequence of the following\n",
    "fact: **more than a third of customers only made a single purchase**. This\n",
    "fact can be verified as follows:"
   ]
  },
  {
   "cell_type": "code",
   "execution_count": 40,
   "id": "6ac9d721",
   "metadata": {
    "execution": {
     "iopub.execute_input": "2024-02-01T00:19:02.764162Z",
     "iopub.status.busy": "2024-02-01T00:19:02.763768Z",
     "iopub.status.idle": "2024-02-01T00:19:02.773493Z",
     "shell.execute_reply": "2024-02-01T00:19:02.772465Z"
    }
   },
   "outputs": [
    {
     "data": {
      "text/plain": [
       "Frequency\n",
       "1 purchase             34.42%\n",
       "2 or more purchases    65.58%\n",
       "Name: proportion, dtype: object"
      ]
     },
     "execution_count": 40,
     "metadata": {},
     "output_type": "execute_result"
    }
   ],
   "source": [
    "df_rfm.Frequency.transform(lambda f: \"1 purchase\" if f == 1 else \"2 or more purchases\").value_counts(\n",
    "    normalize=True, sort=False\n",
    ").mul(100.0).transform(lambda p: f\"{p:.2f}%\")"
   ]
  },
  {
   "cell_type": "markdown",
   "id": "cba511f7",
   "metadata": {},
   "source": [
    "In fact, all customers who purchased only once were assigned an F score of 1:"
   ]
  },
  {
   "cell_type": "code",
   "execution_count": 41,
   "id": "0ab5d7ba",
   "metadata": {
    "execution": {
     "iopub.execute_input": "2024-02-01T00:19:02.778354Z",
     "iopub.status.busy": "2024-02-01T00:19:02.777984Z",
     "iopub.status.idle": "2024-02-01T00:19:02.785666Z",
     "shell.execute_reply": "2024-02-01T00:19:02.784662Z"
    }
   },
   "outputs": [
    {
     "data": {
      "text/plain": [
       "array([1])"
      ]
     },
     "execution_count": 41,
     "metadata": {},
     "output_type": "execute_result"
    }
   ],
   "source": [
    "df_rfm.loc[df_rfm.FScore == 1, \"Frequency\"].unique()"
   ]
  },
  {
   "cell_type": "markdown",
   "id": "146bb328",
   "metadata": {},
   "source": [
    "Something similar happened for F scores 2 and 3:"
   ]
  },
  {
   "cell_type": "code",
   "execution_count": 42,
   "id": "c61534ee",
   "metadata": {
    "execution": {
     "iopub.execute_input": "2024-02-01T00:19:02.790676Z",
     "iopub.status.busy": "2024-02-01T00:19:02.790283Z",
     "iopub.status.idle": "2024-02-01T00:19:02.798226Z",
     "shell.execute_reply": "2024-02-01T00:19:02.797269Z"
    }
   },
   "outputs": [
    {
     "data": {
      "text/plain": [
       "array([2])"
      ]
     },
     "execution_count": 42,
     "metadata": {},
     "output_type": "execute_result"
    }
   ],
   "source": [
    "df_rfm.loc[df_rfm.FScore == 2, \"Frequency\"].unique()"
   ]
  },
  {
   "cell_type": "code",
   "execution_count": 43,
   "id": "f40fe836",
   "metadata": {
    "execution": {
     "iopub.execute_input": "2024-02-01T00:19:02.802285Z",
     "iopub.status.busy": "2024-02-01T00:19:02.801573Z",
     "iopub.status.idle": "2024-02-01T00:19:02.809121Z",
     "shell.execute_reply": "2024-02-01T00:19:02.808095Z"
    }
   },
   "outputs": [
    {
     "data": {
      "text/plain": [
       "array([3])"
      ]
     },
     "execution_count": 43,
     "metadata": {},
     "output_type": "execute_result"
    }
   ],
   "source": [
    "df_rfm.loc[df_rfm.FScore == 3, \"Frequency\"].unique()"
   ]
  },
  {
   "cell_type": "markdown",
   "id": "fc93116c",
   "metadata": {},
   "source": [
    "This is the reason why we see no variation in the first 3 boxplots above.\n",
    "\n",
    "The `FScore = 4` case is the first that corresponds to more than one\n",
    "`Frequency` value:"
   ]
  },
  {
   "cell_type": "code",
   "execution_count": 44,
   "id": "12013b5c",
   "metadata": {
    "execution": {
     "iopub.execute_input": "2024-02-01T00:19:02.813117Z",
     "iopub.status.busy": "2024-02-01T00:19:02.812648Z",
     "iopub.status.idle": "2024-02-01T00:19:02.822002Z",
     "shell.execute_reply": "2024-02-01T00:19:02.820971Z"
    }
   },
   "outputs": [
    {
     "data": {
      "text/plain": [
       "Frequency\n",
       "4    388\n",
       "5    242\n",
       "6    172\n",
       "Name: count, dtype: int64"
      ]
     },
     "execution_count": 44,
     "metadata": {},
     "output_type": "execute_result"
    }
   ],
   "source": [
    "df_rfm.loc[df_rfm.FScore == 4, \"Frequency\"].value_counts()"
   ]
  },
  {
   "cell_type": "markdown",
   "id": "dd742b83",
   "metadata": {},
   "source": [
    "When `FScore = 5`, there's a lot more variation:"
   ]
  },
  {
   "cell_type": "code",
   "execution_count": 45,
   "id": "19af5732",
   "metadata": {
    "execution": {
     "iopub.execute_input": "2024-02-01T00:19:02.826552Z",
     "iopub.status.busy": "2024-02-01T00:19:02.826263Z",
     "iopub.status.idle": "2024-02-01T00:19:02.833914Z",
     "shell.execute_reply": "2024-02-01T00:19:02.832917Z"
    }
   },
   "outputs": [
    {
     "data": {
      "text/plain": [
       "array([  7,   8,   9,  10,  11,  12,  13,  14,  15,  16,  17,  18,  19,\n",
       "        20,  21,  22,  23,  24,  25,  26,  27,  28,  29,  30,  31,  32,\n",
       "        33,  34,  35,  37,  38,  39,  41,  44,  45,  46,  47,  48,  50,\n",
       "        51,  55,  57,  60,  62,  63,  73,  86,  91,  93,  97, 124, 201,\n",
       "       209])"
      ]
     },
     "execution_count": 45,
     "metadata": {},
     "output_type": "execute_result"
    }
   ],
   "source": [
    "np.sort(df_rfm.loc[df_rfm.FScore == 5, \"Frequency\"].unique())"
   ]
  },
  {
   "cell_type": "markdown",
   "id": "3b875e15",
   "metadata": {},
   "source": [
    "So it makes sense to recreate the above boxplot just for this case. This\n",
    "time, we won't hide the outliers. The desired plot can be created as follows:"
   ]
  },
  {
   "cell_type": "code",
   "execution_count": 46,
   "id": "4417dcad",
   "metadata": {
    "execution": {
     "iopub.execute_input": "2024-02-01T00:19:02.838458Z",
     "iopub.status.busy": "2024-02-01T00:19:02.838110Z",
     "iopub.status.idle": "2024-02-01T00:19:03.153823Z",
     "shell.execute_reply": "2024-02-01T00:19:03.152802Z"
    }
   },
   "outputs": [
    {
     "data": {
      "image/png": "[encoded data removed]",
      "text/plain": [
       "<Figure size 600x600 with 1 Axes>"
      ]
     },
     "metadata": {},
     "output_type": "display_data"
    }
   ],
   "source": [
    "fig, ax = plt.subplots(figsize=(6.0, 6.0), layout=\"tight\")\n",
    "ax = cast(Axes, ax)\n",
    "ax.boxplot(df_rfm.loc[df_rfm.FScore == 5, \"Frequency\"])\n",
    "ax.set_title(\"Frequency: Distribution for F Score = 5\")\n",
    "ax.set_xticks([])\n",
    "ax.set_ylabel(\"Frequency (purchases)\")\n",
    "ax.set_ylim(bottom=0)\n",
    "plt.show()"
   ]
  },
  {
   "cell_type": "markdown",
   "id": "ca216798",
   "metadata": {},
   "source": [
    "A lot of what was presented above makes even more sense when we look at the\n",
    "density estimate for `Frequency`:"
   ]
  },
  {
   "cell_type": "code",
   "execution_count": 47,
   "id": "8eae11db",
   "metadata": {
    "execution": {
     "iopub.execute_input": "2024-02-01T00:19:03.158007Z",
     "iopub.status.busy": "2024-02-01T00:19:03.157640Z",
     "iopub.status.idle": "2024-02-01T00:19:03.548731Z",
     "shell.execute_reply": "2024-02-01T00:19:03.547670Z"
    }
   },
   "outputs": [
    {
     "data": {
      "image/png": "[encoded data removed]",
      "text/plain": [
       "<Figure size 800x600 with 1 Axes>"
      ]
     },
     "metadata": {},
     "output_type": "display_data"
    }
   ],
   "source": [
    "fig, ax = plt.subplots(figsize=(8.0, 6.0), layout=\"tight\")\n",
    "ax = cast(Axes, ax)\n",
    "sns.kdeplot(data=df_rfm, x=\"Frequency\", ax=ax)\n",
    "ax.set_title(\"KDE for Frequency\")\n",
    "ax.set_xlabel(\"Frequency (purchases)\")\n",
    "plt.show()"
   ]
  },
  {
   "cell_type": "markdown",
   "id": "3455ae10",
   "metadata": {},
   "source": [
    "### Monetary value and M score\n",
    "\n",
    "In this case, each bin has approximately the same number of customers:"
   ]
  },
  {
   "cell_type": "code",
   "execution_count": 48,
   "id": "dfdeae87",
   "metadata": {
    "execution": {
     "iopub.execute_input": "2024-02-01T00:19:03.552753Z",
     "iopub.status.busy": "2024-02-01T00:19:03.552375Z",
     "iopub.status.idle": "2024-02-01T00:19:03.785807Z",
     "shell.execute_reply": "2024-02-01T00:19:03.784756Z"
    }
   },
   "outputs": [
    {
     "data": {
      "image/png": "[encoded data removed]",
      "text/plain": [
       "<Figure size 800x600 with 1 Axes>"
      ]
     },
     "metadata": {},
     "output_type": "display_data"
    }
   ],
   "source": [
    "plot_bin_count(df_rfm, \"M\")"
   ]
  },
  {
   "cell_type": "code",
   "execution_count": 49,
   "id": "7b7a4911",
   "metadata": {
    "execution": {
     "iopub.execute_input": "2024-02-01T00:19:03.789675Z",
     "iopub.status.busy": "2024-02-01T00:19:03.789303Z",
     "iopub.status.idle": "2024-02-01T00:19:04.056386Z",
     "shell.execute_reply": "2024-02-01T00:19:04.055380Z"
    }
   },
   "outputs": [
    {
     "data": {
      "image/png": "[encoded data removed]",
      "text/plain": [
       "<Figure size 800x600 with 1 Axes>"
      ]
     },
     "metadata": {},
     "output_type": "display_data"
    }
   ],
   "source": [
    "plot_distribution_by_score(df_rfm, \"Monetary\")"
   ]
  },
  {
   "cell_type": "markdown",
   "id": "660ff326",
   "metadata": {
    "lines_to_next_cell": 2
   },
   "source": [
    "## Summarizing through functions\n",
    "\n",
    "The RFM analysis isn't complete yet. But I've already achieved my goal for\n",
    "this notebook. As usual, I'll conclude by writing a couple of functions that\n",
    "summarize what I just did."
   ]
  },
  {
   "cell_type": "code",
   "execution_count": 50,
   "id": "9f525e23",
   "metadata": {
    "execution": {
     "iopub.execute_input": "2024-02-01T00:19:04.060244Z",
     "iopub.status.busy": "2024-02-01T00:19:04.059907Z",
     "iopub.status.idle": "2024-02-01T00:19:04.065456Z",
     "shell.execute_reply": "2024-02-01T00:19:04.064433Z"
    },
    "lines_to_next_cell": 2
   },
   "outputs": [],
   "source": [
    "def compute_and_save_rfm_scores(file_path: Path, num_bins: int = 5) -> None:\n",
    "    prepared_data = read_prepared_data(file_path)\n",
    "    df_rfm = compute_rfm_attributes(prepared_data)\n",
    "    df_rfm = add_rfm_scores(df_rfm, num_bins)\n",
    "    out_file = file_path.parent / f\"rfm_scores_{num_bins}.csv\"\n",
    "    df_rfm.to_csv(out_file, index=True)"
   ]
  },
  {
   "cell_type": "code",
   "execution_count": 51,
   "id": "5773be3d",
   "metadata": {
    "execution": {
     "iopub.execute_input": "2024-02-01T00:19:04.069969Z",
     "iopub.status.busy": "2024-02-01T00:19:04.069518Z",
     "iopub.status.idle": "2024-02-01T00:19:04.073985Z",
     "shell.execute_reply": "2024-02-01T00:19:04.073003Z"
    },
    "lines_to_next_cell": 2
   },
   "outputs": [],
   "source": [
    "# compute_and_save_rfm_scores(Path.cwd().parents[1] / \"data\" / \"online_retail.csv\", num_bins=5)"
   ]
  },
  {
   "cell_type": "code",
   "execution_count": 52,
   "id": "f875ce4f",
   "metadata": {
    "execution": {
     "iopub.execute_input": "2024-02-01T00:19:04.078729Z",
     "iopub.status.busy": "2024-02-01T00:19:04.078365Z",
     "iopub.status.idle": "2024-02-01T00:19:04.085989Z",
     "shell.execute_reply": "2024-02-01T00:19:04.084942Z"
    }
   },
   "outputs": [],
   "source": [
    "def plot_rfm_attributes_and_scores(\n",
    "    df: pd.DataFrame,\n",
    "    figsize: tuple[float, float] = (8.0, 6.0),\n",
    ") -> None:\n",
    "    attrs = get_args(RFMAttribute)\n",
    "    for score in (attr[0] for attr in attrs):\n",
    "        plot_bin_count(df, score, save=True, figsize=figsize)\n",
    "    for attr in attrs:\n",
    "        plot_distribution_by_score(df, attr, save=True, figsize=figsize)"
   ]
  },
  {
   "cell_type": "code",
   "execution_count": 53,
   "id": "cacd0989",
   "metadata": {
    "execution": {
     "iopub.execute_input": "2024-02-01T00:19:04.089683Z",
     "iopub.status.busy": "2024-02-01T00:19:04.089316Z",
     "iopub.status.idle": "2024-02-01T00:19:05.298547Z",
     "shell.execute_reply": "2024-02-01T00:19:05.297558Z"
    }
   },
   "outputs": [],
   "source": [
    "plot_rfm_attributes_and_scores(df_rfm)"
   ]
  }
 ],
 "metadata": {
  "jupytext": {
   "cell_metadata_filter": "-all",
   "main_language": "python",
   "notebook_metadata_filter": "-all"
  },
  "language_info": {
   "codemirror_mode": {
    "name": "ipython",
    "version": 3
   },
   "file_extension": ".py",
   "mimetype": "text/x-python",
   "name": "python",
   "nbconvert_exporter": "python",
   "pygments_lexer": "ipython3",
   "version": "3.11.6"
  }
 },
 "nbformat": 4,
 "nbformat_minor": 5
}
