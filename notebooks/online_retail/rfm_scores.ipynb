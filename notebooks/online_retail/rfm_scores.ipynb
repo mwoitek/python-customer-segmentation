{
 "cells": [
  {
   "cell_type": "markdown",
   "id": "1a867a7a",
   "metadata": {},
   "source": [
    "# Online Retail Dataset: RFM Scores\n",
    "\n",
    "In this notebook, I'll use the prepared dataset to compute the RFM scores.\n",
    "\n",
    "## Imports"
   ]
  },
  {
   "cell_type": "code",
   "execution_count": 1,
   "id": "afcd98c2",
   "metadata": {
    "execution": {
     "iopub.execute_input": "2024-02-06T19:27:49.621777Z",
     "iopub.status.busy": "2024-02-06T19:27:49.618911Z",
     "iopub.status.idle": "2024-02-06T19:27:51.156947Z",
     "shell.execute_reply": "2024-02-06T19:27:51.155913Z"
    }
   },
   "outputs": [],
   "source": [
    "import functools\n",
    "from collections.abc import Callable\n",
    "from pathlib import Path\n",
    "from typing import Literal, cast, get_args\n",
    "\n",
    "import matplotlib.pyplot as plt\n",
    "import numpy as np\n",
    "import pandas as pd\n",
    "import seaborn as sns\n",
    "from matplotlib.axes import Axes\n",
    "from matplotlib.ticker import AutoMinorLocator\n",
    "from pandas.testing import assert_frame_equal, assert_index_equal, assert_series_equal\n",
    "\n",
    "from utils.rfm import RFMAttribute, add_rfm_scores"
   ]
  },
  {
   "cell_type": "markdown",
   "id": "0c8faf01",
   "metadata": {},
   "source": [
    "## Read prepared dataset"
   ]
  },
  {
   "cell_type": "code",
   "execution_count": 2,
   "id": "0a41eb24",
   "metadata": {
    "execution": {
     "iopub.execute_input": "2024-02-06T19:27:51.161550Z",
     "iopub.status.busy": "2024-02-06T19:27:51.161140Z",
     "iopub.status.idle": "2024-02-06T19:27:51.166417Z",
     "shell.execute_reply": "2024-02-06T19:27:51.165347Z"
    }
   },
   "outputs": [],
   "source": [
    "# File path for dataset\n",
    "file_path = Path.cwd().parents[1] / \"data\" / \"online_retail.csv\"\n",
    "assert file_path.exists(), f\"file doesn't exist: {file_path}\"\n",
    "assert file_path.is_file(), f\"not a file: {file_path}\""
   ]
  },
  {
   "cell_type": "code",
   "execution_count": 3,
   "id": "cc132f77",
   "metadata": {
    "execution": {
     "iopub.execute_input": "2024-02-06T19:27:51.171284Z",
     "iopub.status.busy": "2024-02-06T19:27:51.170894Z",
     "iopub.status.idle": "2024-02-06T19:27:51.318339Z",
     "shell.execute_reply": "2024-02-06T19:27:51.317291Z"
    }
   },
   "outputs": [
    {
     "data": {
      "text/html": [
       "<div>\n",
       "<style scoped>\n",
       "    .dataframe tbody tr th:only-of-type {\n",
       "        vertical-align: middle;\n",
       "    }\n",
       "\n",
       "    .dataframe tbody tr th {\n",
       "        vertical-align: top;\n",
       "    }\n",
       "\n",
       "    .dataframe thead th {\n",
       "        text-align: right;\n",
       "    }\n",
       "</style>\n",
       "<table border=\"1\" class=\"dataframe\">\n",
       "  <thead>\n",
       "    <tr style=\"text-align: right;\">\n",
       "      <th></th>\n",
       "      <th>InvoiceNo</th>\n",
       "      <th>InvoiceDate</th>\n",
       "      <th>CustomerID</th>\n",
       "      <th>TotalPrice</th>\n",
       "    </tr>\n",
       "  </thead>\n",
       "  <tbody>\n",
       "    <tr>\n",
       "      <th>0</th>\n",
       "      <td>536365</td>\n",
       "      <td>2010-12-01</td>\n",
       "      <td>17850</td>\n",
       "      <td>139.12</td>\n",
       "    </tr>\n",
       "    <tr>\n",
       "      <th>1</th>\n",
       "      <td>536366</td>\n",
       "      <td>2010-12-01</td>\n",
       "      <td>17850</td>\n",
       "      <td>22.20</td>\n",
       "    </tr>\n",
       "    <tr>\n",
       "      <th>2</th>\n",
       "      <td>536367</td>\n",
       "      <td>2010-12-01</td>\n",
       "      <td>13047</td>\n",
       "      <td>278.73</td>\n",
       "    </tr>\n",
       "    <tr>\n",
       "      <th>3</th>\n",
       "      <td>536368</td>\n",
       "      <td>2010-12-01</td>\n",
       "      <td>13047</td>\n",
       "      <td>70.05</td>\n",
       "    </tr>\n",
       "    <tr>\n",
       "      <th>4</th>\n",
       "      <td>536369</td>\n",
       "      <td>2010-12-01</td>\n",
       "      <td>13047</td>\n",
       "      <td>17.85</td>\n",
       "    </tr>\n",
       "    <tr>\n",
       "      <th>5</th>\n",
       "      <td>536370</td>\n",
       "      <td>2010-12-01</td>\n",
       "      <td>12583</td>\n",
       "      <td>855.86</td>\n",
       "    </tr>\n",
       "    <tr>\n",
       "      <th>6</th>\n",
       "      <td>536371</td>\n",
       "      <td>2010-12-01</td>\n",
       "      <td>13748</td>\n",
       "      <td>204.00</td>\n",
       "    </tr>\n",
       "    <tr>\n",
       "      <th>7</th>\n",
       "      <td>536372</td>\n",
       "      <td>2010-12-01</td>\n",
       "      <td>17850</td>\n",
       "      <td>22.20</td>\n",
       "    </tr>\n",
       "    <tr>\n",
       "      <th>8</th>\n",
       "      <td>536373</td>\n",
       "      <td>2010-12-01</td>\n",
       "      <td>17850</td>\n",
       "      <td>259.86</td>\n",
       "    </tr>\n",
       "    <tr>\n",
       "      <th>9</th>\n",
       "      <td>536374</td>\n",
       "      <td>2010-12-01</td>\n",
       "      <td>15100</td>\n",
       "      <td>350.40</td>\n",
       "    </tr>\n",
       "    <tr>\n",
       "      <th>10</th>\n",
       "      <td>536375</td>\n",
       "      <td>2010-12-01</td>\n",
       "      <td>17850</td>\n",
       "      <td>259.86</td>\n",
       "    </tr>\n",
       "    <tr>\n",
       "      <th>11</th>\n",
       "      <td>536376</td>\n",
       "      <td>2010-12-01</td>\n",
       "      <td>15291</td>\n",
       "      <td>328.80</td>\n",
       "    </tr>\n",
       "    <tr>\n",
       "      <th>12</th>\n",
       "      <td>536377</td>\n",
       "      <td>2010-12-01</td>\n",
       "      <td>17850</td>\n",
       "      <td>22.20</td>\n",
       "    </tr>\n",
       "    <tr>\n",
       "      <th>13</th>\n",
       "      <td>536378</td>\n",
       "      <td>2010-12-01</td>\n",
       "      <td>14688</td>\n",
       "      <td>444.98</td>\n",
       "    </tr>\n",
       "    <tr>\n",
       "      <th>14</th>\n",
       "      <td>536380</td>\n",
       "      <td>2010-12-01</td>\n",
       "      <td>17809</td>\n",
       "      <td>34.80</td>\n",
       "    </tr>\n",
       "  </tbody>\n",
       "</table>\n",
       "</div>"
      ],
      "text/plain": [
       "   InvoiceNo InvoiceDate CustomerID  TotalPrice\n",
       "0     536365  2010-12-01      17850      139.12\n",
       "1     536366  2010-12-01      17850       22.20\n",
       "2     536367  2010-12-01      13047      278.73\n",
       "3     536368  2010-12-01      13047       70.05\n",
       "4     536369  2010-12-01      13047       17.85\n",
       "5     536370  2010-12-01      12583      855.86\n",
       "6     536371  2010-12-01      13748      204.00\n",
       "7     536372  2010-12-01      17850       22.20\n",
       "8     536373  2010-12-01      17850      259.86\n",
       "9     536374  2010-12-01      15100      350.40\n",
       "10    536375  2010-12-01      17850      259.86\n",
       "11    536376  2010-12-01      15291      328.80\n",
       "12    536377  2010-12-01      17850       22.20\n",
       "13    536378  2010-12-01      14688      444.98\n",
       "14    536380  2010-12-01      17809       34.80"
      ]
     },
     "execution_count": 3,
     "metadata": {},
     "output_type": "execute_result"
    }
   ],
   "source": [
    "df = pd.read_csv(\n",
    "    file_path,\n",
    "    dtype={\n",
    "        \"InvoiceNo\": \"category\",\n",
    "        \"CustomerID\": \"category\",\n",
    "        \"TotalPrice\": np.float_,\n",
    "    },\n",
    "    parse_dates=[\"InvoiceDate\"],\n",
    ")\n",
    "df.head(15)"
   ]
  },
  {
   "cell_type": "code",
   "execution_count": 4,
   "id": "1885523d",
   "metadata": {
    "execution": {
     "iopub.execute_input": "2024-02-06T19:27:51.322532Z",
     "iopub.status.busy": "2024-02-06T19:27:51.322179Z",
     "iopub.status.idle": "2024-02-06T19:27:51.345145Z",
     "shell.execute_reply": "2024-02-06T19:27:51.344128Z"
    }
   },
   "outputs": [
    {
     "name": "stdout",
     "output_type": "stream",
     "text": [
      "<class 'pandas.core.frame.DataFrame'>\n",
      "RangeIndex: 18532 entries, 0 to 18531\n",
      "Data columns (total 4 columns):\n",
      " #   Column       Non-Null Count  Dtype         \n",
      "---  ------       --------------  -----         \n",
      " 0   InvoiceNo    18532 non-null  category      \n",
      " 1   InvoiceDate  18532 non-null  datetime64[ns]\n",
      " 2   CustomerID   18532 non-null  category      \n",
      " 3   TotalPrice   18532 non-null  float64       \n",
      "dtypes: category(2), datetime64[ns](1), float64(1)\n",
      "memory usage: 669.8 KB\n"
     ]
    }
   ],
   "source": [
    "df.info()"
   ]
  },
  {
   "cell_type": "markdown",
   "id": "0fc3a3ef",
   "metadata": {},
   "source": [
    "## Compute RFM attributes\n",
    "### Recency\n",
    "\n",
    "To calculate the recency, I'll pretend that I'm performing this analysis 1\n",
    "day after the last piece of data was collected."
   ]
  },
  {
   "cell_type": "code",
   "execution_count": 5,
   "id": "84be4b01",
   "metadata": {
    "execution": {
     "iopub.execute_input": "2024-02-06T19:27:51.349931Z",
     "iopub.status.busy": "2024-02-06T19:27:51.349552Z",
     "iopub.status.idle": "2024-02-06T19:27:51.357243Z",
     "shell.execute_reply": "2024-02-06T19:27:51.356101Z"
    }
   },
   "outputs": [
    {
     "data": {
      "text/plain": [
       "Timestamp('2011-12-10 00:00:00')"
      ]
     },
     "execution_count": 5,
     "metadata": {},
     "output_type": "execute_result"
    }
   ],
   "source": [
    "today = df[\"InvoiceDate\"].max() + pd.Timedelta(days=1)\n",
    "today = cast(pd.Timestamp, today)\n",
    "today"
   ]
  },
  {
   "cell_type": "markdown",
   "id": "d2da65ef",
   "metadata": {},
   "source": [
    "Recall that, in this case, recency corresponds to the number of days since\n",
    "the last purchase. Figuring out the best way to compute this metric:"
   ]
  },
  {
   "cell_type": "code",
   "execution_count": 6,
   "id": "e5ca5874",
   "metadata": {
    "execution": {
     "iopub.execute_input": "2024-02-06T19:27:51.361514Z",
     "iopub.status.busy": "2024-02-06T19:27:51.361204Z",
     "iopub.status.idle": "2024-02-06T19:27:51.368974Z",
     "shell.execute_reply": "2024-02-06T19:27:51.367994Z"
    }
   },
   "outputs": [
    {
     "data": {
      "text/plain": [
       "8"
      ]
     },
     "execution_count": 6,
     "metadata": {},
     "output_type": "execute_result"
    }
   ],
   "source": [
    "# Recency for a particular customer\n",
    "(today - df.loc[df[\"CustomerID\"] == \"14688\", \"InvoiceDate\"].max()).days"
   ]
  },
  {
   "cell_type": "code",
   "execution_count": 7,
   "id": "8b31f3f6",
   "metadata": {
    "execution": {
     "iopub.execute_input": "2024-02-06T19:27:51.373712Z",
     "iopub.status.busy": "2024-02-06T19:27:51.373372Z",
     "iopub.status.idle": "2024-02-06T19:27:51.386789Z",
     "shell.execute_reply": "2024-02-06T19:27:51.385723Z"
    }
   },
   "outputs": [
    {
     "data": {
      "text/plain": [
       "CustomerID\n",
       "12346    326\n",
       "12347      3\n",
       "12348     76\n",
       "12349     19\n",
       "12350    311\n",
       "Name: InvoiceDate, dtype: int64"
      ]
     },
     "execution_count": 7,
     "metadata": {},
     "output_type": "execute_result"
    }
   ],
   "source": [
    "# Recency for all customers\n",
    "recency = (today - df.groupby(by=\"CustomerID\", observed=True).InvoiceDate.max()).dt.days\n",
    "recency = cast(pd.Series, recency)\n",
    "\n",
    "assert (recency > 0).all()\n",
    "\n",
    "recency.head()"
   ]
  },
  {
   "cell_type": "code",
   "execution_count": 8,
   "id": "6a36d75e",
   "metadata": {
    "execution": {
     "iopub.execute_input": "2024-02-06T19:27:51.391561Z",
     "iopub.status.busy": "2024-02-06T19:27:51.391165Z",
     "iopub.status.idle": "2024-02-06T19:27:51.397660Z",
     "shell.execute_reply": "2024-02-06T19:27:51.396621Z"
    }
   },
   "outputs": [
    {
     "data": {
      "text/plain": [
       "8"
      ]
     },
     "execution_count": 8,
     "metadata": {},
     "output_type": "execute_result"
    }
   ],
   "source": [
    "recency.loc[\"14688\"]"
   ]
  },
  {
   "cell_type": "markdown",
   "id": "4a6855c2",
   "metadata": {},
   "source": [
    "This seems OK. Then I'll start building the DataFrame that will store the RFM\n",
    "scores:"
   ]
  },
  {
   "cell_type": "code",
   "execution_count": 9,
   "id": "d3f21547",
   "metadata": {
    "execution": {
     "iopub.execute_input": "2024-02-06T19:27:51.402472Z",
     "iopub.status.busy": "2024-02-06T19:27:51.402104Z",
     "iopub.status.idle": "2024-02-06T19:27:51.418196Z",
     "shell.execute_reply": "2024-02-06T19:27:51.417157Z"
    }
   },
   "outputs": [
    {
     "data": {
      "text/html": [
       "<div>\n",
       "<style scoped>\n",
       "    .dataframe tbody tr th:only-of-type {\n",
       "        vertical-align: middle;\n",
       "    }\n",
       "\n",
       "    .dataframe tbody tr th {\n",
       "        vertical-align: top;\n",
       "    }\n",
       "\n",
       "    .dataframe thead th {\n",
       "        text-align: right;\n",
       "    }\n",
       "</style>\n",
       "<table border=\"1\" class=\"dataframe\">\n",
       "  <thead>\n",
       "    <tr style=\"text-align: right;\">\n",
       "      <th></th>\n",
       "      <th>Recency</th>\n",
       "    </tr>\n",
       "    <tr>\n",
       "      <th>CustomerID</th>\n",
       "      <th></th>\n",
       "    </tr>\n",
       "  </thead>\n",
       "  <tbody>\n",
       "    <tr>\n",
       "      <th>12346</th>\n",
       "      <td>326</td>\n",
       "    </tr>\n",
       "    <tr>\n",
       "      <th>12347</th>\n",
       "      <td>3</td>\n",
       "    </tr>\n",
       "    <tr>\n",
       "      <th>12348</th>\n",
       "      <td>76</td>\n",
       "    </tr>\n",
       "    <tr>\n",
       "      <th>12349</th>\n",
       "      <td>19</td>\n",
       "    </tr>\n",
       "    <tr>\n",
       "      <th>12350</th>\n",
       "      <td>311</td>\n",
       "    </tr>\n",
       "  </tbody>\n",
       "</table>\n",
       "</div>"
      ],
      "text/plain": [
       "            Recency\n",
       "CustomerID         \n",
       "12346           326\n",
       "12347             3\n",
       "12348            76\n",
       "12349            19\n",
       "12350           311"
      ]
     },
     "execution_count": 9,
     "metadata": {},
     "output_type": "execute_result"
    }
   ],
   "source": [
    "df_rfm = (\n",
    "    df.groupby(by=\"CustomerID\", observed=True)\n",
    "    .InvoiceDate.max()\n",
    "    .to_frame()\n",
    "    .rename(columns={\"InvoiceDate\": \"LastPurchaseDate\"})\n",
    ")\n",
    "df_rfm = cast(pd.DataFrame, df_rfm)\n",
    "\n",
    "df_rfm[\"Recency\"] = (today - df_rfm[\"LastPurchaseDate\"]).dt.days\n",
    "df_rfm = df_rfm.drop(columns=\"LastPurchaseDate\")\n",
    "\n",
    "df_rfm.head()"
   ]
  },
  {
   "cell_type": "markdown",
   "id": "26f860b2",
   "metadata": {},
   "source": [
    "### Frequency\n",
    "\n",
    "Here I'll use the following definition of frequency: for a given customer,\n",
    "frequency is the total number of purchases he/she made. Figuring out the best\n",
    "way to evaluate this metric:"
   ]
  },
  {
   "cell_type": "code",
   "execution_count": 10,
   "id": "39a7a62c",
   "metadata": {
    "execution": {
     "iopub.execute_input": "2024-02-06T19:27:51.423254Z",
     "iopub.status.busy": "2024-02-06T19:27:51.422581Z",
     "iopub.status.idle": "2024-02-06T19:27:51.430196Z",
     "shell.execute_reply": "2024-02-06T19:27:51.428916Z"
    }
   },
   "outputs": [
    {
     "data": {
      "text/plain": [
       "21"
      ]
     },
     "execution_count": 10,
     "metadata": {},
     "output_type": "execute_result"
    }
   ],
   "source": [
    "# Frequency for a particular customer\n",
    "df[df[\"CustomerID\"] == \"14688\"].shape[0]"
   ]
  },
  {
   "cell_type": "code",
   "execution_count": 11,
   "id": "7bc5f085",
   "metadata": {
    "execution": {
     "iopub.execute_input": "2024-02-06T19:27:51.434356Z",
     "iopub.status.busy": "2024-02-06T19:27:51.433650Z",
     "iopub.status.idle": "2024-02-06T19:27:51.440796Z",
     "shell.execute_reply": "2024-02-06T19:27:51.439805Z"
    }
   },
   "outputs": [
    {
     "data": {
      "text/plain": [
       "21"
      ]
     },
     "execution_count": 11,
     "metadata": {},
     "output_type": "execute_result"
    }
   ],
   "source": [
    "df.loc[df[\"CustomerID\"] == \"14688\", \"InvoiceNo\"].nunique()"
   ]
  },
  {
   "cell_type": "code",
   "execution_count": 12,
   "id": "8ff127db",
   "metadata": {
    "execution": {
     "iopub.execute_input": "2024-02-06T19:27:51.444860Z",
     "iopub.status.busy": "2024-02-06T19:27:51.444183Z",
     "iopub.status.idle": "2024-02-06T19:27:51.456369Z",
     "shell.execute_reply": "2024-02-06T19:27:51.455474Z"
    }
   },
   "outputs": [
    {
     "data": {
      "text/plain": [
       "CustomerID\n",
       "12346    1\n",
       "12347    7\n",
       "12348    4\n",
       "12349    1\n",
       "12350    1\n",
       "Name: Frequency, dtype: int64"
      ]
     },
     "execution_count": 12,
     "metadata": {},
     "output_type": "execute_result"
    }
   ],
   "source": [
    "# Frequency for all customers\n",
    "freq_1 = df.groupby(by=\"CustomerID\", observed=True).InvoiceNo.count()\n",
    "freq_1 = cast(pd.Series, freq_1)\n",
    "freq_1.name = \"Frequency\"\n",
    "freq_1.head()"
   ]
  },
  {
   "cell_type": "code",
   "execution_count": 13,
   "id": "6959f7c7",
   "metadata": {
    "execution": {
     "iopub.execute_input": "2024-02-06T19:27:51.460048Z",
     "iopub.status.busy": "2024-02-06T19:27:51.459556Z",
     "iopub.status.idle": "2024-02-06T19:27:51.465784Z",
     "shell.execute_reply": "2024-02-06T19:27:51.464860Z"
    }
   },
   "outputs": [
    {
     "data": {
      "text/plain": [
       "21"
      ]
     },
     "execution_count": 13,
     "metadata": {},
     "output_type": "execute_result"
    }
   ],
   "source": [
    "freq_1.loc[\"14688\"]"
   ]
  },
  {
   "cell_type": "code",
   "execution_count": 14,
   "id": "da312faf",
   "metadata": {
    "execution": {
     "iopub.execute_input": "2024-02-06T19:27:51.469422Z",
     "iopub.status.busy": "2024-02-06T19:27:51.469058Z",
     "iopub.status.idle": "2024-02-06T19:27:51.482671Z",
     "shell.execute_reply": "2024-02-06T19:27:51.481674Z"
    }
   },
   "outputs": [
    {
     "data": {
      "text/plain": [
       "CustomerID\n",
       "12346    1\n",
       "12347    7\n",
       "12348    4\n",
       "12349    1\n",
       "12350    1\n",
       "Name: Frequency, dtype: int64"
      ]
     },
     "execution_count": 14,
     "metadata": {},
     "output_type": "execute_result"
    }
   ],
   "source": [
    "freq_2 = df.groupby(by=\"CustomerID\", observed=True).InvoiceNo.nunique()\n",
    "freq_2 = cast(pd.Series, freq_2)\n",
    "freq_2.name = \"Frequency\"\n",
    "freq_2.head()"
   ]
  },
  {
   "cell_type": "code",
   "execution_count": 15,
   "id": "952786e2",
   "metadata": {
    "execution": {
     "iopub.execute_input": "2024-02-06T19:27:51.487131Z",
     "iopub.status.busy": "2024-02-06T19:27:51.486763Z",
     "iopub.status.idle": "2024-02-06T19:27:51.494735Z",
     "shell.execute_reply": "2024-02-06T19:27:51.493697Z"
    }
   },
   "outputs": [],
   "source": [
    "assert_series_equal(freq_1, freq_2)"
   ]
  },
  {
   "cell_type": "markdown",
   "id": "5c63c3a3",
   "metadata": {},
   "source": [
    "The two methods used above are equivalent. Then I'll calculate the frequency\n",
    "with the aid of the simplest one:"
   ]
  },
  {
   "cell_type": "code",
   "execution_count": 16,
   "id": "380261d4",
   "metadata": {
    "execution": {
     "iopub.execute_input": "2024-02-06T19:27:51.498681Z",
     "iopub.status.busy": "2024-02-06T19:27:51.498106Z",
     "iopub.status.idle": "2024-02-06T19:27:51.514545Z",
     "shell.execute_reply": "2024-02-06T19:27:51.513538Z"
    }
   },
   "outputs": [
    {
     "data": {
      "text/html": [
       "<div>\n",
       "<style scoped>\n",
       "    .dataframe tbody tr th:only-of-type {\n",
       "        vertical-align: middle;\n",
       "    }\n",
       "\n",
       "    .dataframe tbody tr th {\n",
       "        vertical-align: top;\n",
       "    }\n",
       "\n",
       "    .dataframe thead th {\n",
       "        text-align: right;\n",
       "    }\n",
       "</style>\n",
       "<table border=\"1\" class=\"dataframe\">\n",
       "  <thead>\n",
       "    <tr style=\"text-align: right;\">\n",
       "      <th></th>\n",
       "      <th>Recency</th>\n",
       "      <th>Frequency</th>\n",
       "    </tr>\n",
       "    <tr>\n",
       "      <th>CustomerID</th>\n",
       "      <th></th>\n",
       "      <th></th>\n",
       "    </tr>\n",
       "  </thead>\n",
       "  <tbody>\n",
       "    <tr>\n",
       "      <th>12346</th>\n",
       "      <td>326</td>\n",
       "      <td>1</td>\n",
       "    </tr>\n",
       "    <tr>\n",
       "      <th>12347</th>\n",
       "      <td>3</td>\n",
       "      <td>7</td>\n",
       "    </tr>\n",
       "    <tr>\n",
       "      <th>12348</th>\n",
       "      <td>76</td>\n",
       "      <td>4</td>\n",
       "    </tr>\n",
       "    <tr>\n",
       "      <th>12349</th>\n",
       "      <td>19</td>\n",
       "      <td>1</td>\n",
       "    </tr>\n",
       "    <tr>\n",
       "      <th>12350</th>\n",
       "      <td>311</td>\n",
       "      <td>1</td>\n",
       "    </tr>\n",
       "  </tbody>\n",
       "</table>\n",
       "</div>"
      ],
      "text/plain": [
       "            Recency  Frequency\n",
       "CustomerID                    \n",
       "12346           326          1\n",
       "12347             3          7\n",
       "12348            76          4\n",
       "12349            19          1\n",
       "12350           311          1"
      ]
     },
     "execution_count": 16,
     "metadata": {},
     "output_type": "execute_result"
    }
   ],
   "source": [
    "assert_index_equal(df_rfm.index, freq_1.index)\n",
    "\n",
    "df_rfm[\"Frequency\"] = df.groupby(by=\"CustomerID\", observed=True).InvoiceNo.count()\n",
    "df_rfm.head()"
   ]
  },
  {
   "cell_type": "markdown",
   "id": "56130492",
   "metadata": {},
   "source": [
    "### Monetary\n",
    "\n",
    "Here I'll use the following definition of monetary: for a given customer,\n",
    "monetary corresponds to the total amount spent by him/her. Figuring out the\n",
    "best way to evaluate this quantity:"
   ]
  },
  {
   "cell_type": "code",
   "execution_count": 17,
   "id": "2381848b",
   "metadata": {
    "execution": {
     "iopub.execute_input": "2024-02-06T19:27:51.518598Z",
     "iopub.status.busy": "2024-02-06T19:27:51.518232Z",
     "iopub.status.idle": "2024-02-06T19:27:51.525288Z",
     "shell.execute_reply": "2024-02-06T19:27:51.524228Z"
    }
   },
   "outputs": [
    {
     "data": {
      "text/plain": [
       "5630.87"
      ]
     },
     "execution_count": 17,
     "metadata": {},
     "output_type": "execute_result"
    }
   ],
   "source": [
    "# Monetary for a particular customer\n",
    "df.loc[df[\"CustomerID\"] == \"14688\", \"TotalPrice\"].sum()"
   ]
  },
  {
   "cell_type": "code",
   "execution_count": 18,
   "id": "b6e68ef6",
   "metadata": {
    "execution": {
     "iopub.execute_input": "2024-02-06T19:27:51.530164Z",
     "iopub.status.busy": "2024-02-06T19:27:51.529593Z",
     "iopub.status.idle": "2024-02-06T19:27:51.541582Z",
     "shell.execute_reply": "2024-02-06T19:27:51.540521Z"
    }
   },
   "outputs": [
    {
     "data": {
      "text/plain": [
       "CustomerID\n",
       "12346    77183.60\n",
       "12347     4310.00\n",
       "12348     1797.24\n",
       "12349     1757.55\n",
       "12350      334.40\n",
       "Name: TotalPrice, dtype: float64"
      ]
     },
     "execution_count": 18,
     "metadata": {},
     "output_type": "execute_result"
    }
   ],
   "source": [
    "# Monetary for all customers\n",
    "monetary = df.groupby(by=\"CustomerID\", observed=True).TotalPrice.sum()\n",
    "monetary = cast(pd.Series, monetary)\n",
    "monetary.head()"
   ]
  },
  {
   "cell_type": "code",
   "execution_count": 19,
   "id": "249503ba",
   "metadata": {
    "execution": {
     "iopub.execute_input": "2024-02-06T19:27:51.545858Z",
     "iopub.status.busy": "2024-02-06T19:27:51.545477Z",
     "iopub.status.idle": "2024-02-06T19:27:51.551709Z",
     "shell.execute_reply": "2024-02-06T19:27:51.550809Z"
    }
   },
   "outputs": [
    {
     "data": {
      "text/plain": [
       "5630.87"
      ]
     },
     "execution_count": 19,
     "metadata": {},
     "output_type": "execute_result"
    }
   ],
   "source": [
    "monetary.loc[\"14688\"]"
   ]
  },
  {
   "cell_type": "markdown",
   "id": "6f651a1a",
   "metadata": {},
   "source": [
    "Now that I understand how to perform the desired calculation, I'll add\n",
    "monetary to my DataFrame:"
   ]
  },
  {
   "cell_type": "code",
   "execution_count": 20,
   "id": "44fd75c9",
   "metadata": {
    "execution": {
     "iopub.execute_input": "2024-02-06T19:27:51.556550Z",
     "iopub.status.busy": "2024-02-06T19:27:51.555848Z",
     "iopub.status.idle": "2024-02-06T19:27:51.573544Z",
     "shell.execute_reply": "2024-02-06T19:27:51.572485Z"
    }
   },
   "outputs": [
    {
     "data": {
      "text/html": [
       "<div>\n",
       "<style scoped>\n",
       "    .dataframe tbody tr th:only-of-type {\n",
       "        vertical-align: middle;\n",
       "    }\n",
       "\n",
       "    .dataframe tbody tr th {\n",
       "        vertical-align: top;\n",
       "    }\n",
       "\n",
       "    .dataframe thead th {\n",
       "        text-align: right;\n",
       "    }\n",
       "</style>\n",
       "<table border=\"1\" class=\"dataframe\">\n",
       "  <thead>\n",
       "    <tr style=\"text-align: right;\">\n",
       "      <th></th>\n",
       "      <th>Recency</th>\n",
       "      <th>Frequency</th>\n",
       "      <th>Monetary</th>\n",
       "    </tr>\n",
       "    <tr>\n",
       "      <th>CustomerID</th>\n",
       "      <th></th>\n",
       "      <th></th>\n",
       "      <th></th>\n",
       "    </tr>\n",
       "  </thead>\n",
       "  <tbody>\n",
       "    <tr>\n",
       "      <th>12346</th>\n",
       "      <td>326</td>\n",
       "      <td>1</td>\n",
       "      <td>77183.60</td>\n",
       "    </tr>\n",
       "    <tr>\n",
       "      <th>12347</th>\n",
       "      <td>3</td>\n",
       "      <td>7</td>\n",
       "      <td>4310.00</td>\n",
       "    </tr>\n",
       "    <tr>\n",
       "      <th>12348</th>\n",
       "      <td>76</td>\n",
       "      <td>4</td>\n",
       "      <td>1797.24</td>\n",
       "    </tr>\n",
       "    <tr>\n",
       "      <th>12349</th>\n",
       "      <td>19</td>\n",
       "      <td>1</td>\n",
       "      <td>1757.55</td>\n",
       "    </tr>\n",
       "    <tr>\n",
       "      <th>12350</th>\n",
       "      <td>311</td>\n",
       "      <td>1</td>\n",
       "      <td>334.40</td>\n",
       "    </tr>\n",
       "  </tbody>\n",
       "</table>\n",
       "</div>"
      ],
      "text/plain": [
       "            Recency  Frequency  Monetary\n",
       "CustomerID                              \n",
       "12346           326          1  77183.60\n",
       "12347             3          7   4310.00\n",
       "12348            76          4   1797.24\n",
       "12349            19          1   1757.55\n",
       "12350           311          1    334.40"
      ]
     },
     "execution_count": 20,
     "metadata": {},
     "output_type": "execute_result"
    }
   ],
   "source": [
    "assert_index_equal(df_rfm.index, monetary.index)\n",
    "\n",
    "df_rfm[\"Monetary\"] = df.groupby(by=\"CustomerID\", observed=True).TotalPrice.sum()\n",
    "df_rfm.head()"
   ]
  },
  {
   "cell_type": "code",
   "execution_count": 21,
   "id": "f786de14",
   "metadata": {
    "execution": {
     "iopub.execute_input": "2024-02-06T19:27:51.578274Z",
     "iopub.status.busy": "2024-02-06T19:27:51.577900Z",
     "iopub.status.idle": "2024-02-06T19:27:51.588394Z",
     "shell.execute_reply": "2024-02-06T19:27:51.587341Z"
    }
   },
   "outputs": [
    {
     "name": "stdout",
     "output_type": "stream",
     "text": [
      "<class 'pandas.core.frame.DataFrame'>\n",
      "CategoricalIndex: 4338 entries, 12346 to 18287\n",
      "Data columns (total 3 columns):\n",
      " #   Column     Non-Null Count  Dtype  \n",
      "---  ------     --------------  -----  \n",
      " 0   Recency    4338 non-null   int64  \n",
      " 1   Frequency  4338 non-null   int64  \n",
      " 2   Monetary   4338 non-null   float64\n",
      "dtypes: float64(1), int64(2)\n",
      "memory usage: 273.1 KB\n"
     ]
    }
   ],
   "source": [
    "df_rfm.info()"
   ]
  },
  {
   "cell_type": "code",
   "execution_count": 22,
   "id": "2da5491d",
   "metadata": {
    "execution": {
     "iopub.execute_input": "2024-02-06T19:27:51.592067Z",
     "iopub.status.busy": "2024-02-06T19:27:51.591727Z",
     "iopub.status.idle": "2024-02-06T19:27:51.597640Z",
     "shell.execute_reply": "2024-02-06T19:27:51.596664Z"
    }
   },
   "outputs": [],
   "source": [
    "# Quick consistency checks\n",
    "assert (df_rfm[\"Recency\"] > 0).all()\n",
    "assert (df_rfm[\"Frequency\"] > 0).all()\n",
    "assert (df_rfm[\"Monetary\"] > 0.0).all()"
   ]
  },
  {
   "cell_type": "markdown",
   "id": "b6a734a4",
   "metadata": {},
   "source": [
    "## Dealing with outliers\n",
    "\n",
    "Later, I'll use the RFM attributes to do customer segmentation with the aid\n",
    "of clustering algorithms. In these cases, the presence of outliers in the\n",
    "dataset may lead to poor results. For this reason, I'll implement a function\n",
    "for removing outliers.\n",
    "\n",
    "First, let's confirm that in this case there are outliers. To do so, I'll\n",
    "create a boxplot for each RFM attribute:"
   ]
  },
  {
   "cell_type": "code",
   "execution_count": 23,
   "id": "196c76a1",
   "metadata": {
    "execution": {
     "iopub.execute_input": "2024-02-06T19:27:51.601582Z",
     "iopub.status.busy": "2024-02-06T19:27:51.601217Z",
     "iopub.status.idle": "2024-02-06T19:27:52.104116Z",
     "shell.execute_reply": "2024-02-06T19:27:52.102241Z"
    }
   },
   "outputs": [
    {
     "data": {
      "image/png": "[encoded data removed]",
      "text/plain": [
       "<Figure size 600x600 with 1 Axes>"
      ]
     },
     "metadata": {},
     "output_type": "display_data"
    }
   ],
   "source": [
    "# Recency\n",
    "fig = plt.figure(figsize=(6.0, 6.0), layout=\"tight\")\n",
    "ax = fig.add_subplot()\n",
    "ax.boxplot(df_rfm.Recency, showfliers=True)\n",
    "ax.set_title(\"Distribution of Recency\")\n",
    "ax.set_xticks([])\n",
    "ax.set_ylabel(\"Recency (days)\")\n",
    "ax.set_ylim(bottom=0)\n",
    "plt.show()"
   ]
  },
  {
   "cell_type": "code",
   "execution_count": 24,
   "id": "9e6fdc53",
   "metadata": {
    "execution": {
     "iopub.execute_input": "2024-02-06T19:27:52.111725Z",
     "iopub.status.busy": "2024-02-06T19:27:52.110344Z",
     "iopub.status.idle": "2024-02-06T19:27:52.434008Z",
     "shell.execute_reply": "2024-02-06T19:27:52.433013Z"
    }
   },
   "outputs": [
    {
     "data": {
      "image/png": "[encoded data removed]",
      "text/plain": [
       "<Figure size 600x600 with 1 Axes>"
      ]
     },
     "metadata": {},
     "output_type": "display_data"
    }
   ],
   "source": [
    "# Frequency\n",
    "fig = plt.figure(figsize=(6.0, 6.0), layout=\"tight\")\n",
    "ax = fig.add_subplot()\n",
    "ax.boxplot(df_rfm.Frequency, showfliers=True)\n",
    "ax.set_title(\"Distribution of Frequency\")\n",
    "ax.set_xticks([])\n",
    "ax.set_ylabel(\"Frequency (purchases)\")\n",
    "ax.set_ylim(bottom=0)\n",
    "plt.show()"
   ]
  },
  {
   "cell_type": "code",
   "execution_count": 25,
   "id": "520f82e1",
   "metadata": {
    "execution": {
     "iopub.execute_input": "2024-02-06T19:27:52.438325Z",
     "iopub.status.busy": "2024-02-06T19:27:52.437759Z",
     "iopub.status.idle": "2024-02-06T19:27:52.724779Z",
     "shell.execute_reply": "2024-02-06T19:27:52.723765Z"
    }
   },
   "outputs": [
    {
     "data": {
      "image/png": "[encoded data removed]",
      "text/plain": [
       "<Figure size 600x600 with 1 Axes>"
      ]
     },
     "metadata": {},
     "output_type": "display_data"
    }
   ],
   "source": [
    "# Monetary\n",
    "fig = plt.figure(figsize=(6.0, 6.0), layout=\"tight\")\n",
    "ax = fig.add_subplot()\n",
    "ax.boxplot(df_rfm.Monetary, showfliers=True)\n",
    "ax.set_title(\"Distribution of Monetary\")\n",
    "ax.set_xticks([])\n",
    "ax.set_ylabel(\"Monetary (£)\")\n",
    "ax.set_ylim(bottom=0)\n",
    "plt.show()"
   ]
  },
  {
   "cell_type": "markdown",
   "id": "c9f5578e",
   "metadata": {},
   "source": [
    "Clearly, all RFM attributes have outliers. But the situation is \"worse\" for\n",
    "`Frequency` and `Monetary`. There may be an explanation for this. Some of the\n",
    "online retailer's customers are wholesale stores. It's reasonable to assume\n",
    "that such customers make purchases very frequently, and spend a good amount\n",
    "of money. This explains at least a portion of the outliers for `Frequency`\n",
    "and `Monetary`.\n",
    "\n",
    "Next, we'll write code that removes outliers. We'll identify such\n",
    "observations by adopting the same approach that's used to create boxplots.\n",
    "Figuring out the best way to do this:"
   ]
  },
  {
   "cell_type": "code",
   "execution_count": 26,
   "id": "258015d2",
   "metadata": {
    "execution": {
     "iopub.execute_input": "2024-02-06T19:27:52.728495Z",
     "iopub.status.busy": "2024-02-06T19:27:52.728196Z",
     "iopub.status.idle": "2024-02-06T19:27:52.747404Z",
     "shell.execute_reply": "2024-02-06T19:27:52.746441Z"
    }
   },
   "outputs": [
    {
     "data": {
      "text/html": [
       "<div>\n",
       "<style scoped>\n",
       "    .dataframe tbody tr th:only-of-type {\n",
       "        vertical-align: middle;\n",
       "    }\n",
       "\n",
       "    .dataframe tbody tr th {\n",
       "        vertical-align: top;\n",
       "    }\n",
       "\n",
       "    .dataframe thead th {\n",
       "        text-align: right;\n",
       "    }\n",
       "</style>\n",
       "<table border=\"1\" class=\"dataframe\">\n",
       "  <thead>\n",
       "    <tr style=\"text-align: right;\">\n",
       "      <th></th>\n",
       "      <th>Frequency</th>\n",
       "      <th>Monetary</th>\n",
       "    </tr>\n",
       "  </thead>\n",
       "  <tbody>\n",
       "    <tr>\n",
       "      <th>Q1</th>\n",
       "      <td>1.0</td>\n",
       "      <td>307.4150</td>\n",
       "    </tr>\n",
       "    <tr>\n",
       "      <th>Q3</th>\n",
       "      <td>5.0</td>\n",
       "      <td>1661.7400</td>\n",
       "    </tr>\n",
       "    <tr>\n",
       "      <th>IQR</th>\n",
       "      <td>4.0</td>\n",
       "      <td>1354.3250</td>\n",
       "    </tr>\n",
       "    <tr>\n",
       "      <th>LowerBound</th>\n",
       "      <td>-5.0</td>\n",
       "      <td>-1724.0725</td>\n",
       "    </tr>\n",
       "    <tr>\n",
       "      <th>UpperBound</th>\n",
       "      <td>11.0</td>\n",
       "      <td>3693.2275</td>\n",
       "    </tr>\n",
       "  </tbody>\n",
       "</table>\n",
       "</div>"
      ],
      "text/plain": [
       "            Frequency   Monetary\n",
       "Q1                1.0   307.4150\n",
       "Q3                5.0  1661.7400\n",
       "IQR               4.0  1354.3250\n",
       "LowerBound       -5.0 -1724.0725\n",
       "UpperBound       11.0  3693.2275"
      ]
     },
     "execution_count": 26,
     "metadata": {},
     "output_type": "execute_result"
    }
   ],
   "source": [
    "# Compute quantiles and bounds\n",
    "cols = [\"Frequency\", \"Monetary\"]\n",
    "quantiles_and_bounds = (\n",
    "    pd.concat(\n",
    "        [\n",
    "            df_rfm[cols].quantile(q=0.25).rename(\"Q1\"),\n",
    "            df_rfm[cols].quantile(q=0.75).rename(\"Q3\"),\n",
    "        ],\n",
    "        axis=1,\n",
    "    )\n",
    "    .assign(\n",
    "        IQR=lambda x: x.Q3 - x.Q1,\n",
    "        LowerBound=lambda x: x.Q1 - 1.5 * x.IQR,\n",
    "        UpperBound=lambda x: x.Q3 + 1.5 * x.IQR,\n",
    "    )\n",
    "    .transpose()\n",
    ")\n",
    "quantiles_and_bounds"
   ]
  },
  {
   "cell_type": "code",
   "execution_count": 27,
   "id": "b46f900f",
   "metadata": {
    "execution": {
     "iopub.execute_input": "2024-02-06T19:27:52.752128Z",
     "iopub.status.busy": "2024-02-06T19:27:52.751753Z",
     "iopub.status.idle": "2024-02-06T19:27:52.765578Z",
     "shell.execute_reply": "2024-02-06T19:27:52.764540Z"
    }
   },
   "outputs": [
    {
     "data": {
      "text/plain": [
       "3864"
      ]
     },
     "execution_count": 27,
     "metadata": {},
     "output_type": "execute_result"
    }
   ],
   "source": [
    "# Select indexes I want to KEEP\n",
    "bounds = quantiles_and_bounds.loc[[\"LowerBound\", \"UpperBound\"], :]\n",
    "idxs = df_rfm.index\n",
    "\n",
    "for col in cols:\n",
    "    mask_lower = df_rfm[col] < bounds.loc[\"LowerBound\", col]\n",
    "    idxs = idxs.drop(df_rfm[mask_lower].index, errors=\"ignore\")\n",
    "\n",
    "    mask_upper = df_rfm[col] > bounds.loc[\"UpperBound\", col]\n",
    "    idxs = idxs.drop(df_rfm[mask_upper].index, errors=\"ignore\")\n",
    "\n",
    "len(idxs)"
   ]
  },
  {
   "cell_type": "markdown",
   "id": "486930a4",
   "metadata": {
    "lines_to_next_cell": 2
   },
   "source": [
    "Using the above code to define a couple of functions that allow us to remove\n",
    "outliers:"
   ]
  },
  {
   "cell_type": "code",
   "execution_count": 28,
   "id": "4522eb6d",
   "metadata": {
    "execution": {
     "iopub.execute_input": "2024-02-06T19:27:52.770423Z",
     "iopub.status.busy": "2024-02-06T19:27:52.769856Z",
     "iopub.status.idle": "2024-02-06T19:27:52.776698Z",
     "shell.execute_reply": "2024-02-06T19:27:52.775703Z"
    }
   },
   "outputs": [],
   "source": [
    "def compute_outlier_bounds(df: pd.DataFrame, columns: str | list[str]) -> pd.DataFrame:\n",
    "    if isinstance(columns, str):\n",
    "        columns = [columns]\n",
    "    return (\n",
    "        pd.concat(\n",
    "            [\n",
    "                df[columns].quantile(q=0.25).rename(\"Q1\"),\n",
    "                df[columns].quantile(q=0.75).rename(\"Q3\"),\n",
    "            ],\n",
    "            axis=1,\n",
    "        )\n",
    "        .assign(\n",
    "            IQR=lambda x: x.Q3 - x.Q1,\n",
    "            LowerBound=lambda x: x.Q1 - 1.5 * x.IQR,\n",
    "            UpperBound=lambda x: x.Q3 + 1.5 * x.IQR,\n",
    "        )\n",
    "        .transpose()\n",
    "    ).loc[[\"LowerBound\", \"UpperBound\"], :]"
   ]
  },
  {
   "cell_type": "code",
   "execution_count": 29,
   "id": "7d39b896",
   "metadata": {
    "execution": {
     "iopub.execute_input": "2024-02-06T19:27:52.781343Z",
     "iopub.status.busy": "2024-02-06T19:27:52.780961Z",
     "iopub.status.idle": "2024-02-06T19:27:52.787504Z",
     "shell.execute_reply": "2024-02-06T19:27:52.786441Z"
    }
   },
   "outputs": [],
   "source": [
    "# Decorator that prints the number of rows dropped\n",
    "def count_dropped(func: Callable) -> Callable:\n",
    "    @functools.wraps(func)\n",
    "    def wrapper(df: pd.DataFrame, *args, **kwargs) -> pd.DataFrame:\n",
    "        size_before = df.shape[0]\n",
    "        df = func(df, *args, **kwargs)\n",
    "        num_dropped = size_before - df.shape[0]\n",
    "        print(f\"Number of observations dropped: {num_dropped}\")\n",
    "        return df\n",
    "\n",
    "    return wrapper"
   ]
  },
  {
   "cell_type": "code",
   "execution_count": 30,
   "id": "27afad3a",
   "metadata": {
    "execution": {
     "iopub.execute_input": "2024-02-06T19:27:52.792064Z",
     "iopub.status.busy": "2024-02-06T19:27:52.791512Z",
     "iopub.status.idle": "2024-02-06T19:27:52.798054Z",
     "shell.execute_reply": "2024-02-06T19:27:52.797003Z"
    },
    "lines_to_next_cell": 2
   },
   "outputs": [],
   "source": [
    "@count_dropped\n",
    "def remove_outliers(df: pd.DataFrame, columns: str | list[str]) -> pd.DataFrame:\n",
    "    bounds = compute_outlier_bounds(df, columns)\n",
    "    idxs = df.index\n",
    "\n",
    "    if isinstance(columns, str):\n",
    "        columns = [columns]\n",
    "\n",
    "    for column in columns:\n",
    "        mask_lower = df[column] < bounds.loc[\"LowerBound\", column]\n",
    "        idxs = idxs.drop(df[mask_lower].index, errors=\"ignore\")\n",
    "\n",
    "        mask_upper = df[column] > bounds.loc[\"UpperBound\", column]\n",
    "        idxs = idxs.drop(df[mask_upper].index, errors=\"ignore\")\n",
    "\n",
    "    return df.loc[idxs, :]"
   ]
  },
  {
   "cell_type": "code",
   "execution_count": 31,
   "id": "6cfcc38a",
   "metadata": {
    "execution": {
     "iopub.execute_input": "2024-02-06T19:27:52.801595Z",
     "iopub.status.busy": "2024-02-06T19:27:52.801296Z",
     "iopub.status.idle": "2024-02-06T19:27:52.805508Z",
     "shell.execute_reply": "2024-02-06T19:27:52.804462Z"
    }
   },
   "outputs": [],
   "source": [
    "# At this point, this step isn't necessary. This command is here just for\n",
    "# testing.\n",
    "\n",
    "# Remove outliers from `Frequency` and `Monetary`\n",
    "# df_rfm = remove_outliers(df_rfm, columns=[\"Frequency\", \"Monetary\"])"
   ]
  },
  {
   "cell_type": "markdown",
   "id": "fa9c238a",
   "metadata": {
    "lines_to_next_cell": 2
   },
   "source": [
    "### Summarizing through functions\n",
    "\n",
    "At this point, all RFM attributes have been evaluated. Before proceeding,\n",
    "let's collect the essential parts of the above code, and transform them into\n",
    "a couple of functions."
   ]
  },
  {
   "cell_type": "code",
   "execution_count": 32,
   "id": "0fcaea60",
   "metadata": {
    "execution": {
     "iopub.execute_input": "2024-02-06T19:27:52.809258Z",
     "iopub.status.busy": "2024-02-06T19:27:52.808959Z",
     "iopub.status.idle": "2024-02-06T19:27:52.813918Z",
     "shell.execute_reply": "2024-02-06T19:27:52.812848Z"
    }
   },
   "outputs": [],
   "source": [
    "def read_prepared_data(file_path: Path) -> pd.DataFrame:\n",
    "    return pd.read_csv(\n",
    "        file_path,\n",
    "        dtype={\n",
    "            \"InvoiceNo\": \"category\",\n",
    "            \"CustomerID\": \"category\",\n",
    "            \"TotalPrice\": np.float_,\n",
    "        },\n",
    "        parse_dates=[\"InvoiceDate\"],\n",
    "    )"
   ]
  },
  {
   "cell_type": "code",
   "execution_count": 33,
   "id": "fbd82ec4",
   "metadata": {
    "execution": {
     "iopub.execute_input": "2024-02-06T19:27:52.817878Z",
     "iopub.status.busy": "2024-02-06T19:27:52.817304Z",
     "iopub.status.idle": "2024-02-06T19:27:52.823695Z",
     "shell.execute_reply": "2024-02-06T19:27:52.822704Z"
    }
   },
   "outputs": [],
   "source": [
    "def compute_rfm_attributes(df: pd.DataFrame) -> pd.DataFrame:\n",
    "    customer_groups = df.groupby(by=\"CustomerID\", observed=True)\n",
    "\n",
    "    today = df[\"InvoiceDate\"].max() + pd.Timedelta(days=1)\n",
    "    today = cast(pd.Timestamp, today)\n",
    "\n",
    "    df_rfm = customer_groups.InvoiceDate.max().to_frame().rename(columns={\"InvoiceDate\": \"LastPurchaseDate\"})\n",
    "    df_rfm = cast(pd.DataFrame, df_rfm)\n",
    "    df_rfm[\"Recency\"] = (today - df_rfm[\"LastPurchaseDate\"]).dt.days\n",
    "    df_rfm = df_rfm.drop(columns=\"LastPurchaseDate\")\n",
    "\n",
    "    df_rfm[\"Frequency\"] = customer_groups.InvoiceNo.count()\n",
    "    df_rfm[\"Monetary\"] = customer_groups.TotalPrice.sum()\n",
    "\n",
    "    return df_rfm"
   ]
  },
  {
   "cell_type": "code",
   "execution_count": 34,
   "id": "ee7e8e2b",
   "metadata": {
    "execution": {
     "iopub.execute_input": "2024-02-06T19:27:52.827439Z",
     "iopub.status.busy": "2024-02-06T19:27:52.827007Z",
     "iopub.status.idle": "2024-02-06T19:27:53.223639Z",
     "shell.execute_reply": "2024-02-06T19:27:53.222727Z"
    }
   },
   "outputs": [],
   "source": [
    "# Quick tests\n",
    "prepared_data = read_prepared_data(file_path)\n",
    "assert_frame_equal(prepared_data, df)"
   ]
  },
  {
   "cell_type": "code",
   "execution_count": 35,
   "id": "3ebddf53",
   "metadata": {
    "execution": {
     "iopub.execute_input": "2024-02-06T19:27:53.228110Z",
     "iopub.status.busy": "2024-02-06T19:27:53.227550Z",
     "iopub.status.idle": "2024-02-06T19:27:53.274183Z",
     "shell.execute_reply": "2024-02-06T19:27:53.273163Z"
    }
   },
   "outputs": [],
   "source": [
    "# Correct command when outliers have been removed:\n",
    "# rfm_attrs = compute_rfm_attributes(prepared_data).pipe(remove_outliers, [\"Frequency\", \"Monetary\"])\n",
    "\n",
    "rfm_attrs = compute_rfm_attributes(prepared_data)\n",
    "assert_frame_equal(rfm_attrs, df_rfm)"
   ]
  },
  {
   "cell_type": "code",
   "execution_count": 36,
   "id": "1dcd6ccf",
   "metadata": {
    "execution": {
     "iopub.execute_input": "2024-02-06T19:27:53.278184Z",
     "iopub.status.busy": "2024-02-06T19:27:53.277802Z",
     "iopub.status.idle": "2024-02-06T19:27:53.283387Z",
     "shell.execute_reply": "2024-02-06T19:27:53.282342Z"
    }
   },
   "outputs": [],
   "source": [
    "del prepared_data\n",
    "del rfm_attrs"
   ]
  },
  {
   "cell_type": "markdown",
   "id": "e2d6f823",
   "metadata": {},
   "source": [
    "## Compute RFM scores\n",
    "\n",
    "Finally, it's possible to compute the RFM scores. To do so, I'll use the\n",
    "`add_rfm_scores` function that I defined in the `utils` package:"
   ]
  },
  {
   "cell_type": "code",
   "execution_count": 37,
   "id": "880af15f",
   "metadata": {
    "execution": {
     "iopub.execute_input": "2024-02-06T19:27:53.288631Z",
     "iopub.status.busy": "2024-02-06T19:27:53.287766Z",
     "iopub.status.idle": "2024-02-06T19:27:56.327044Z",
     "shell.execute_reply": "2024-02-06T19:27:56.326037Z"
    }
   },
   "outputs": [
    {
     "data": {
      "text/html": [
       "<div>\n",
       "<style scoped>\n",
       "    .dataframe tbody tr th:only-of-type {\n",
       "        vertical-align: middle;\n",
       "    }\n",
       "\n",
       "    .dataframe tbody tr th {\n",
       "        vertical-align: top;\n",
       "    }\n",
       "\n",
       "    .dataframe thead th {\n",
       "        text-align: right;\n",
       "    }\n",
       "</style>\n",
       "<table border=\"1\" class=\"dataframe\">\n",
       "  <thead>\n",
       "    <tr style=\"text-align: right;\">\n",
       "      <th></th>\n",
       "      <th>Recency</th>\n",
       "      <th>Frequency</th>\n",
       "      <th>Monetary</th>\n",
       "      <th>RScore</th>\n",
       "      <th>FScore</th>\n",
       "      <th>MScore</th>\n",
       "      <th>RFMCell</th>\n",
       "      <th>RFMScore</th>\n",
       "    </tr>\n",
       "    <tr>\n",
       "      <th>CustomerID</th>\n",
       "      <th></th>\n",
       "      <th></th>\n",
       "      <th></th>\n",
       "      <th></th>\n",
       "      <th></th>\n",
       "      <th></th>\n",
       "      <th></th>\n",
       "      <th></th>\n",
       "    </tr>\n",
       "  </thead>\n",
       "  <tbody>\n",
       "    <tr>\n",
       "      <th>12346</th>\n",
       "      <td>326</td>\n",
       "      <td>1</td>\n",
       "      <td>77183.60</td>\n",
       "      <td>1</td>\n",
       "      <td>1</td>\n",
       "      <td>5</td>\n",
       "      <td>1,1,5</td>\n",
       "      <td>2.333333</td>\n",
       "    </tr>\n",
       "    <tr>\n",
       "      <th>12347</th>\n",
       "      <td>3</td>\n",
       "      <td>7</td>\n",
       "      <td>4310.00</td>\n",
       "      <td>5</td>\n",
       "      <td>5</td>\n",
       "      <td>5</td>\n",
       "      <td>5,5,5</td>\n",
       "      <td>5.000000</td>\n",
       "    </tr>\n",
       "    <tr>\n",
       "      <th>12348</th>\n",
       "      <td>76</td>\n",
       "      <td>4</td>\n",
       "      <td>1797.24</td>\n",
       "      <td>2</td>\n",
       "      <td>4</td>\n",
       "      <td>4</td>\n",
       "      <td>2,4,4</td>\n",
       "      <td>3.333333</td>\n",
       "    </tr>\n",
       "    <tr>\n",
       "      <th>12349</th>\n",
       "      <td>19</td>\n",
       "      <td>1</td>\n",
       "      <td>1757.55</td>\n",
       "      <td>4</td>\n",
       "      <td>1</td>\n",
       "      <td>4</td>\n",
       "      <td>4,1,4</td>\n",
       "      <td>3.000000</td>\n",
       "    </tr>\n",
       "    <tr>\n",
       "      <th>12350</th>\n",
       "      <td>311</td>\n",
       "      <td>1</td>\n",
       "      <td>334.40</td>\n",
       "      <td>1</td>\n",
       "      <td>1</td>\n",
       "      <td>2</td>\n",
       "      <td>1,1,2</td>\n",
       "      <td>1.333333</td>\n",
       "    </tr>\n",
       "  </tbody>\n",
       "</table>\n",
       "</div>"
      ],
      "text/plain": [
       "            Recency  Frequency  Monetary RScore FScore MScore RFMCell  \\\n",
       "CustomerID                                                              \n",
       "12346           326          1  77183.60      1      1      5   1,1,5   \n",
       "12347             3          7   4310.00      5      5      5   5,5,5   \n",
       "12348            76          4   1797.24      2      4      4   2,4,4   \n",
       "12349            19          1   1757.55      4      1      4   4,1,4   \n",
       "12350           311          1    334.40      1      1      2   1,1,2   \n",
       "\n",
       "            RFMScore  \n",
       "CustomerID            \n",
       "12346       2.333333  \n",
       "12347       5.000000  \n",
       "12348       3.333333  \n",
       "12349       3.000000  \n",
       "12350       1.333333  "
      ]
     },
     "execution_count": 37,
     "metadata": {},
     "output_type": "execute_result"
    }
   ],
   "source": [
    "df_rfm = add_rfm_scores(df_rfm)\n",
    "df_rfm.head()"
   ]
  },
  {
   "cell_type": "code",
   "execution_count": 38,
   "id": "9592f445",
   "metadata": {
    "execution": {
     "iopub.execute_input": "2024-02-06T19:27:56.330556Z",
     "iopub.status.busy": "2024-02-06T19:27:56.330212Z",
     "iopub.status.idle": "2024-02-06T19:27:56.341934Z",
     "shell.execute_reply": "2024-02-06T19:27:56.341025Z"
    }
   },
   "outputs": [
    {
     "name": "stdout",
     "output_type": "stream",
     "text": [
      "<class 'pandas.core.frame.DataFrame'>\n",
      "CategoricalIndex: 4338 entries, 12346 to 18287\n",
      "Data columns (total 8 columns):\n",
      " #   Column     Non-Null Count  Dtype   \n",
      "---  ------     --------------  -----   \n",
      " 0   Recency    4338 non-null   int64   \n",
      " 1   Frequency  4338 non-null   int64   \n",
      " 2   Monetary   4338 non-null   float64 \n",
      " 3   RScore     4338 non-null   category\n",
      " 4   FScore     4338 non-null   category\n",
      " 5   MScore     4338 non-null   category\n",
      " 6   RFMCell    4338 non-null   object  \n",
      " 7   RFMScore   4338 non-null   float64 \n",
      "dtypes: category(3), float64(2), int64(2), object(1)\n",
      "memory usage: 435.2+ KB\n"
     ]
    }
   ],
   "source": [
    "df_rfm.info()"
   ]
  },
  {
   "cell_type": "markdown",
   "id": "bacca6b5",
   "metadata": {},
   "source": [
    "## Save computed scores"
   ]
  },
  {
   "cell_type": "code",
   "execution_count": 39,
   "id": "eab9de9b",
   "metadata": {
    "execution": {
     "iopub.execute_input": "2024-02-06T19:27:56.347159Z",
     "iopub.status.busy": "2024-02-06T19:27:56.346790Z",
     "iopub.status.idle": "2024-02-06T19:27:56.376866Z",
     "shell.execute_reply": "2024-02-06T19:27:56.376004Z"
    }
   },
   "outputs": [],
   "source": [
    "# File path for output CSV\n",
    "out_file = file_path.parent / \"rfm_scores.csv\"\n",
    "\n",
    "df_rfm.to_csv(out_file, index=True)"
   ]
  },
  {
   "cell_type": "markdown",
   "id": "508ac2c1",
   "metadata": {},
   "source": [
    "## Visualization\n",
    "### Recency and R score\n",
    "\n",
    "Check that every bin contains approximately the same number of customers:"
   ]
  },
  {
   "cell_type": "code",
   "execution_count": 40,
   "id": "cf3191b9",
   "metadata": {
    "execution": {
     "iopub.execute_input": "2024-02-06T19:27:56.381152Z",
     "iopub.status.busy": "2024-02-06T19:27:56.380864Z",
     "iopub.status.idle": "2024-02-06T19:27:56.809203Z",
     "shell.execute_reply": "2024-02-06T19:27:56.808290Z"
    }
   },
   "outputs": [
    {
     "data": {
      "image/png": "[encoded data removed]",
      "text/plain": [
       "<Figure size 800x600 with 1 Axes>"
      ]
     },
     "metadata": {},
     "output_type": "display_data"
    }
   ],
   "source": [
    "fig, ax = plt.subplots(figsize=(8.0, 6.0), layout=\"tight\")\n",
    "ax = cast(Axes, ax)\n",
    "sns.countplot(data=df_rfm, x=\"RScore\", ax=ax)\n",
    "ax.set_title(\"R Score: # Customers in each bin\")\n",
    "ax.set_xlabel(\"R Score\")\n",
    "ax.set_ylabel(\"Count\")\n",
    "ax.yaxis.set_minor_locator(AutoMinorLocator(4))\n",
    "plt.show()"
   ]
  },
  {
   "cell_type": "code",
   "execution_count": 41,
   "id": "ebccd685",
   "metadata": {
    "execution": {
     "iopub.execute_input": "2024-02-06T19:27:56.813172Z",
     "iopub.status.busy": "2024-02-06T19:27:56.812782Z",
     "iopub.status.idle": "2024-02-06T19:27:56.822450Z",
     "shell.execute_reply": "2024-02-06T19:27:56.821508Z"
    }
   },
   "outputs": [
    {
     "data": {
      "text/plain": [
       "RScore\n",
       "1    881\n",
       "2    846\n",
       "3    863\n",
       "4    880\n",
       "5    868\n",
       "Name: count, dtype: int64"
      ]
     },
     "execution_count": 41,
     "metadata": {},
     "output_type": "execute_result"
    }
   ],
   "source": [
    "# These are the values shown above:\n",
    "df_rfm[\"RScore\"].value_counts(sort=False)"
   ]
  },
  {
   "cell_type": "markdown",
   "id": "2c5cd662",
   "metadata": {},
   "source": [
    "Distribution of `Recency` for each R score:"
   ]
  },
  {
   "cell_type": "code",
   "execution_count": 42,
   "id": "7e32b895",
   "metadata": {
    "execution": {
     "iopub.execute_input": "2024-02-06T19:27:56.826829Z",
     "iopub.status.busy": "2024-02-06T19:27:56.826544Z",
     "iopub.status.idle": "2024-02-06T19:27:57.371371Z",
     "shell.execute_reply": "2024-02-06T19:27:57.370308Z"
    }
   },
   "outputs": [
    {
     "data": {
      "image/png": "[encoded data removed]",
      "text/plain": [
       "<Figure size 800x600 with 1 Axes>"
      ]
     },
     "metadata": {},
     "output_type": "display_data"
    }
   ],
   "source": [
    "fig, ax = plt.subplots(figsize=(8.0, 6.0), layout=\"tight\")\n",
    "ax = cast(Axes, ax)\n",
    "sns.boxplot(data=df_rfm, x=\"RScore\", y=\"Recency\", ax=ax)\n",
    "ax.set_title(\"Recency: Distribution for each R score\")\n",
    "ax.set_xlabel(\"R Score\")\n",
    "ax.set_ylabel(\"Recency (days)\")\n",
    "ax.set_ylim(bottom=0)\n",
    "ax.yaxis.set_minor_locator(AutoMinorLocator(5))\n",
    "plt.show()"
   ]
  },
  {
   "cell_type": "code",
   "execution_count": 43,
   "id": "900ab5a2",
   "metadata": {
    "execution": {
     "iopub.execute_input": "2024-02-06T19:27:57.374987Z",
     "iopub.status.busy": "2024-02-06T19:27:57.374684Z",
     "iopub.status.idle": "2024-02-06T19:27:57.386515Z",
     "shell.execute_reply": "2024-02-06T19:27:57.385408Z"
    }
   },
   "outputs": [
    {
     "data": {
      "text/plain": [
       "count    881.000000\n",
       "mean     267.472191\n",
       "std       57.888721\n",
       "min      178.000000\n",
       "25%      218.000000\n",
       "50%      262.000000\n",
       "75%      312.000000\n",
       "max      374.000000\n",
       "Name: Recency, dtype: float64"
      ]
     },
     "execution_count": 43,
     "metadata": {},
     "output_type": "execute_result"
    }
   ],
   "source": [
    "# Quick check\n",
    "df_rfm.loc[df_rfm[\"RScore\"] == 1, \"Recency\"].describe()"
   ]
  },
  {
   "cell_type": "markdown",
   "id": "b4a126d0",
   "metadata": {},
   "source": [
    "### Frequency and F score\n",
    "\n",
    "Next, we're going to do something very similar to what we've done above. Then\n",
    "it's convenient to use this code to define a couple of functions:"
   ]
  },
  {
   "cell_type": "code",
   "execution_count": 44,
   "id": "57315950",
   "metadata": {
    "execution": {
     "iopub.execute_input": "2024-02-06T19:27:57.390889Z",
     "iopub.status.busy": "2024-02-06T19:27:57.390588Z",
     "iopub.status.idle": "2024-02-06T19:27:57.395690Z",
     "shell.execute_reply": "2024-02-06T19:27:57.394651Z"
    }
   },
   "outputs": [],
   "source": [
    "# Path to images directory\n",
    "IMG_DIR = Path.cwd().parents[1] / \"img\"\n",
    "assert IMG_DIR.exists(), f\"directory doesn't exist: {IMG_DIR}\"\n",
    "assert IMG_DIR.is_dir(), f\"not a directory: {IMG_DIR}\""
   ]
  },
  {
   "cell_type": "code",
   "execution_count": 45,
   "id": "82feb03c",
   "metadata": {
    "execution": {
     "iopub.execute_input": "2024-02-06T19:27:57.400066Z",
     "iopub.status.busy": "2024-02-06T19:27:57.399759Z",
     "iopub.status.idle": "2024-02-06T19:27:57.406291Z",
     "shell.execute_reply": "2024-02-06T19:27:57.405357Z"
    }
   },
   "outputs": [],
   "source": [
    "def plot_bin_count(\n",
    "    df: pd.DataFrame,\n",
    "    score: Literal[\"R\", \"F\", \"M\"],\n",
    "    *,\n",
    "    save: bool = False,\n",
    "    figsize: tuple[float, float] = (8.0, 6.0),\n",
    ") -> None:\n",
    "    fig, ax = plt.subplots(figsize=figsize, layout=\"tight\")\n",
    "    ax = cast(Axes, ax)\n",
    "\n",
    "    sns.countplot(data=df, x=f\"{score}Score\", ax=ax)\n",
    "    ax.set_title(f\"{score} Score: # Customers in each bin\")\n",
    "    ax.set_xlabel(f\"{score} Score\")\n",
    "    ax.set_ylabel(\"Count\")\n",
    "\n",
    "    if save:\n",
    "        out_img = IMG_DIR / f\"bin_count_{score.lower()}score.png\"\n",
    "        fig.savefig(out_img)\n",
    "        plt.close(fig)\n",
    "    else:\n",
    "        plt.show()"
   ]
  },
  {
   "cell_type": "code",
   "execution_count": 46,
   "id": "1c91df63",
   "metadata": {
    "execution": {
     "iopub.execute_input": "2024-02-06T19:27:57.410760Z",
     "iopub.status.busy": "2024-02-06T19:27:57.410406Z",
     "iopub.status.idle": "2024-02-06T19:27:57.418232Z",
     "shell.execute_reply": "2024-02-06T19:27:57.417202Z"
    }
   },
   "outputs": [],
   "source": [
    "def plot_distribution_by_score(\n",
    "    df: pd.DataFrame,\n",
    "    attr: RFMAttribute,\n",
    "    *,\n",
    "    save: bool = False,\n",
    "    figsize: tuple[float, float] = (8.0, 6.0),\n",
    ") -> None:\n",
    "    fig, ax = plt.subplots(figsize=figsize, layout=\"tight\")\n",
    "    ax = cast(Axes, ax)\n",
    "\n",
    "    first_letter = attr[0]\n",
    "    sns.boxplot(\n",
    "        data=df,\n",
    "        x=f\"{first_letter}Score\",\n",
    "        y=attr,\n",
    "        ax=ax,\n",
    "        # I just want to know if the RFM attributes are distributed in a way\n",
    "        # that makes sense. For this reason, I'll hide the outliers.\n",
    "        showfliers=False,\n",
    "    )\n",
    "    ax.set_title(f\"{attr}: Distribution for each {first_letter} score\")\n",
    "    ax.set_xlabel(f\"{first_letter} Score\")\n",
    "    ax.set_ylim(bottom=0)\n",
    "\n",
    "    match attr:\n",
    "        case \"Recency\":\n",
    "            unit = \"days\"\n",
    "        case \"Frequency\":\n",
    "            unit = \"purchases\"\n",
    "        case \"Monetary\":\n",
    "            unit = \"£\"\n",
    "    ax.set_ylabel(f\"{attr} ({unit})\")\n",
    "\n",
    "    if save:\n",
    "        out_img = IMG_DIR / f\"{attr.lower()}_distribution.png\"\n",
    "        fig.savefig(out_img)\n",
    "        plt.close(fig)\n",
    "    else:\n",
    "        plt.show()"
   ]
  },
  {
   "cell_type": "markdown",
   "id": "2d476a31",
   "metadata": {},
   "source": [
    "Using these functions to generate the desired plots:"
   ]
  },
  {
   "cell_type": "code",
   "execution_count": 47,
   "id": "ce5ac1de",
   "metadata": {
    "execution": {
     "iopub.execute_input": "2024-02-06T19:27:57.422659Z",
     "iopub.status.busy": "2024-02-06T19:27:57.422309Z",
     "iopub.status.idle": "2024-02-06T19:27:57.849202Z",
     "shell.execute_reply": "2024-02-06T19:27:57.848142Z"
    }
   },
   "outputs": [
    {
     "data": {
      "image/png": "[encoded data removed]",
      "text/plain": [
       "<Figure size 800x600 with 1 Axes>"
      ]
     },
     "metadata": {},
     "output_type": "display_data"
    }
   ],
   "source": [
    "plot_bin_count(df_rfm, \"F\")"
   ]
  },
  {
   "cell_type": "code",
   "execution_count": 48,
   "id": "ce9fb8bd",
   "metadata": {
    "execution": {
     "iopub.execute_input": "2024-02-06T19:27:57.853720Z",
     "iopub.status.busy": "2024-02-06T19:27:57.853421Z",
     "iopub.status.idle": "2024-02-06T19:27:58.231000Z",
     "shell.execute_reply": "2024-02-06T19:27:58.229996Z"
    }
   },
   "outputs": [
    {
     "data": {
      "image/png": "[encoded data removed]",
      "text/plain": [
       "<Figure size 800x600 with 1 Axes>"
      ]
     },
     "metadata": {},
     "output_type": "display_data"
    }
   ],
   "source": [
    "plot_distribution_by_score(df_rfm, \"Frequency\")"
   ]
  },
  {
   "cell_type": "markdown",
   "id": "caf8d285",
   "metadata": {},
   "source": [
    "In the case of the F score, the number of customers in each bin varies\n",
    "considerably. Basically, this imbalance is a consequence of the following\n",
    "fact: **more than a third of customers only made a single purchase**. This\n",
    "fact can be verified as follows:"
   ]
  },
  {
   "cell_type": "code",
   "execution_count": 49,
   "id": "651dc79f",
   "metadata": {
    "execution": {
     "iopub.execute_input": "2024-02-06T19:27:58.235734Z",
     "iopub.status.busy": "2024-02-06T19:27:58.235386Z",
     "iopub.status.idle": "2024-02-06T19:27:58.246322Z",
     "shell.execute_reply": "2024-02-06T19:27:58.245276Z"
    }
   },
   "outputs": [
    {
     "data": {
      "text/plain": [
       "Frequency\n",
       "1 purchase             34.42%\n",
       "2 or more purchases    65.58%\n",
       "Name: proportion, dtype: object"
      ]
     },
     "execution_count": 49,
     "metadata": {},
     "output_type": "execute_result"
    }
   ],
   "source": [
    "df_rfm.Frequency.transform(lambda f: \"1 purchase\" if f == 1 else \"2 or more purchases\").value_counts(\n",
    "    normalize=True, sort=False\n",
    ").mul(100.0).transform(lambda p: f\"{p:.2f}%\").sort_index()"
   ]
  },
  {
   "cell_type": "markdown",
   "id": "8690c69a",
   "metadata": {},
   "source": [
    "In fact, all customers who purchased only once were assigned an F score of 1:"
   ]
  },
  {
   "cell_type": "code",
   "execution_count": 50,
   "id": "e58d9154",
   "metadata": {
    "execution": {
     "iopub.execute_input": "2024-02-06T19:27:58.250386Z",
     "iopub.status.busy": "2024-02-06T19:27:58.249860Z",
     "iopub.status.idle": "2024-02-06T19:27:58.258325Z",
     "shell.execute_reply": "2024-02-06T19:27:58.257229Z"
    }
   },
   "outputs": [
    {
     "data": {
      "text/plain": [
       "array([1])"
      ]
     },
     "execution_count": 50,
     "metadata": {},
     "output_type": "execute_result"
    }
   ],
   "source": [
    "df_rfm.loc[df_rfm.FScore == 1, \"Frequency\"].unique()"
   ]
  },
  {
   "cell_type": "markdown",
   "id": "8feefca5",
   "metadata": {},
   "source": [
    "Something similar happened for F scores 2 and 3:"
   ]
  },
  {
   "cell_type": "code",
   "execution_count": 51,
   "id": "8831aeb3",
   "metadata": {
    "execution": {
     "iopub.execute_input": "2024-02-06T19:27:58.263129Z",
     "iopub.status.busy": "2024-02-06T19:27:58.262553Z",
     "iopub.status.idle": "2024-02-06T19:27:58.270767Z",
     "shell.execute_reply": "2024-02-06T19:27:58.269751Z"
    }
   },
   "outputs": [
    {
     "data": {
      "text/plain": [
       "array([2])"
      ]
     },
     "execution_count": 51,
     "metadata": {},
     "output_type": "execute_result"
    }
   ],
   "source": [
    "df_rfm.loc[df_rfm.FScore == 2, \"Frequency\"].unique()"
   ]
  },
  {
   "cell_type": "code",
   "execution_count": 52,
   "id": "f7a526e3",
   "metadata": {
    "execution": {
     "iopub.execute_input": "2024-02-06T19:27:58.275105Z",
     "iopub.status.busy": "2024-02-06T19:27:58.274758Z",
     "iopub.status.idle": "2024-02-06T19:27:58.282447Z",
     "shell.execute_reply": "2024-02-06T19:27:58.281450Z"
    }
   },
   "outputs": [
    {
     "data": {
      "text/plain": [
       "array([3])"
      ]
     },
     "execution_count": 52,
     "metadata": {},
     "output_type": "execute_result"
    }
   ],
   "source": [
    "df_rfm.loc[df_rfm.FScore == 3, \"Frequency\"].unique()"
   ]
  },
  {
   "cell_type": "markdown",
   "id": "3b475b83",
   "metadata": {},
   "source": [
    "This is the reason why we see no variation in the first 3 boxplots above.\n",
    "\n",
    "The `FScore = 4` case is the first that corresponds to more than one\n",
    "`Frequency` value:"
   ]
  },
  {
   "cell_type": "code",
   "execution_count": 53,
   "id": "3c117d6a",
   "metadata": {
    "execution": {
     "iopub.execute_input": "2024-02-06T19:27:58.286439Z",
     "iopub.status.busy": "2024-02-06T19:27:58.286047Z",
     "iopub.status.idle": "2024-02-06T19:27:58.296128Z",
     "shell.execute_reply": "2024-02-06T19:27:58.295080Z"
    }
   },
   "outputs": [
    {
     "data": {
      "text/plain": [
       "Frequency\n",
       "4    388\n",
       "5    242\n",
       "6    172\n",
       "Name: count, dtype: int64"
      ]
     },
     "execution_count": 53,
     "metadata": {},
     "output_type": "execute_result"
    }
   ],
   "source": [
    "df_rfm.loc[df_rfm.FScore == 4, \"Frequency\"].value_counts()"
   ]
  },
  {
   "cell_type": "markdown",
   "id": "fc3bb085",
   "metadata": {},
   "source": [
    "When `FScore = 5`, there's a lot more variation:"
   ]
  },
  {
   "cell_type": "code",
   "execution_count": 54,
   "id": "81415d7e",
   "metadata": {
    "execution": {
     "iopub.execute_input": "2024-02-06T19:27:58.299889Z",
     "iopub.status.busy": "2024-02-06T19:27:58.299586Z",
     "iopub.status.idle": "2024-02-06T19:27:58.307119Z",
     "shell.execute_reply": "2024-02-06T19:27:58.306241Z"
    }
   },
   "outputs": [
    {
     "data": {
      "text/plain": [
       "array([  7,   8,   9,  10,  11,  12,  13,  14,  15,  16,  17,  18,  19,\n",
       "        20,  21,  22,  23,  24,  25,  26,  27,  28,  29,  30,  31,  32,\n",
       "        33,  34,  35,  37,  38,  39,  41,  44,  45,  46,  47,  48,  50,\n",
       "        51,  55,  57,  60,  62,  63,  73,  86,  91,  93,  97, 124, 201,\n",
       "       209])"
      ]
     },
     "execution_count": 54,
     "metadata": {},
     "output_type": "execute_result"
    }
   ],
   "source": [
    "np.sort(df_rfm.loc[df_rfm.FScore == 5, \"Frequency\"].unique())"
   ]
  },
  {
   "cell_type": "markdown",
   "id": "7369e53a",
   "metadata": {},
   "source": [
    "So it makes sense to recreate the above boxplot just for this case. This\n",
    "time, we won't hide the outliers. The desired plot can be created as follows:"
   ]
  },
  {
   "cell_type": "code",
   "execution_count": 55,
   "id": "32c414ee",
   "metadata": {
    "execution": {
     "iopub.execute_input": "2024-02-06T19:27:58.311640Z",
     "iopub.status.busy": "2024-02-06T19:27:58.311259Z",
     "iopub.status.idle": "2024-02-06T19:27:58.623125Z",
     "shell.execute_reply": "2024-02-06T19:27:58.622068Z"
    }
   },
   "outputs": [
    {
     "data": {
      "image/png": "[encoded data removed]",
      "text/plain": [
       "<Figure size 600x600 with 1 Axes>"
      ]
     },
     "metadata": {},
     "output_type": "display_data"
    }
   ],
   "source": [
    "fig, ax = plt.subplots(figsize=(6.0, 6.0), layout=\"tight\")\n",
    "ax = cast(Axes, ax)\n",
    "ax.boxplot(df_rfm.loc[df_rfm.FScore == 5, \"Frequency\"])\n",
    "ax.set_title(\"Frequency: Distribution for F Score = 5\")\n",
    "ax.set_xticks([])\n",
    "ax.set_ylabel(\"Frequency (purchases)\")\n",
    "ax.set_ylim(bottom=0)\n",
    "plt.show()"
   ]
  },
  {
   "cell_type": "markdown",
   "id": "c1dd5e99",
   "metadata": {},
   "source": [
    "A lot of what was presented above makes even more sense when we look at the\n",
    "density estimate for `Frequency`:"
   ]
  },
  {
   "cell_type": "code",
   "execution_count": 56,
   "id": "7d12a1de",
   "metadata": {
    "execution": {
     "iopub.execute_input": "2024-02-06T19:27:58.628173Z",
     "iopub.status.busy": "2024-02-06T19:27:58.627345Z",
     "iopub.status.idle": "2024-02-06T19:27:59.076638Z",
     "shell.execute_reply": "2024-02-06T19:27:59.075581Z"
    }
   },
   "outputs": [
    {
     "data": {
      "image/png": "[encoded data removed]",
      "text/plain": [
       "<Figure size 800x600 with 1 Axes>"
      ]
     },
     "metadata": {},
     "output_type": "display_data"
    }
   ],
   "source": [
    "fig, ax = plt.subplots(figsize=(8.0, 6.0), layout=\"tight\")\n",
    "ax = cast(Axes, ax)\n",
    "sns.kdeplot(data=df_rfm, x=\"Frequency\", ax=ax)\n",
    "ax.set_title(\"KDE for Frequency\")\n",
    "ax.set_xlabel(\"Frequency (purchases)\")\n",
    "plt.show()"
   ]
  },
  {
   "cell_type": "markdown",
   "id": "ecf06723",
   "metadata": {},
   "source": [
    "### Monetary value and M score\n",
    "\n",
    "In this case, each bin has approximately the same number of customers:"
   ]
  },
  {
   "cell_type": "code",
   "execution_count": 57,
   "id": "ec7c8720",
   "metadata": {
    "execution": {
     "iopub.execute_input": "2024-02-06T19:27:59.081615Z",
     "iopub.status.busy": "2024-02-06T19:27:59.080963Z",
     "iopub.status.idle": "2024-02-06T19:27:59.418978Z",
     "shell.execute_reply": "2024-02-06T19:27:59.418050Z"
    }
   },
   "outputs": [
    {
     "data": {
      "image/png": "[encoded data removed]",
      "text/plain": [
       "<Figure size 800x600 with 1 Axes>"
      ]
     },
     "metadata": {},
     "output_type": "display_data"
    }
   ],
   "source": [
    "plot_bin_count(df_rfm, \"M\")"
   ]
  },
  {
   "cell_type": "code",
   "execution_count": 58,
   "id": "b49372ae",
   "metadata": {
    "execution": {
     "iopub.execute_input": "2024-02-06T19:27:59.422743Z",
     "iopub.status.busy": "2024-02-06T19:27:59.422187Z",
     "iopub.status.idle": "2024-02-06T19:27:59.797150Z",
     "shell.execute_reply": "2024-02-06T19:27:59.796028Z"
    }
   },
   "outputs": [
    {
     "data": {
      "image/png": "[encoded data removed]",
      "text/plain": [
       "<Figure size 800x600 with 1 Axes>"
      ]
     },
     "metadata": {},
     "output_type": "display_data"
    }
   ],
   "source": [
    "plot_distribution_by_score(df_rfm, \"Monetary\")"
   ]
  },
  {
   "cell_type": "markdown",
   "id": "cd41586a",
   "metadata": {
    "lines_to_next_cell": 2
   },
   "source": [
    "## Summarizing through functions\n",
    "\n",
    "The RFM analysis isn't complete yet. But I've already achieved my goal for\n",
    "this notebook. As usual, I'll conclude by writing a couple of functions that\n",
    "summarize what I just did."
   ]
  },
  {
   "cell_type": "code",
   "execution_count": 59,
   "id": "3f2b707e",
   "metadata": {
    "execution": {
     "iopub.execute_input": "2024-02-06T19:27:59.801830Z",
     "iopub.status.busy": "2024-02-06T19:27:59.801156Z",
     "iopub.status.idle": "2024-02-06T19:27:59.807030Z",
     "shell.execute_reply": "2024-02-06T19:27:59.805971Z"
    }
   },
   "outputs": [],
   "source": [
    "def compute_and_save_rfm_scores(\n",
    "    file_path: Path,\n",
    "    num_bins: int = 5,\n",
    "    outlier_cols: str | list[str] | None = None,\n",
    ") -> None:\n",
    "    df_rfm = read_prepared_data(file_path).pipe(compute_rfm_attributes)\n",
    "    if outlier_cols is not None:\n",
    "        df_rfm = remove_outliers(df_rfm, outlier_cols)\n",
    "    add_rfm_scores(df_rfm, num_bins).to_csv(\n",
    "        file_path.parent / f\"rfm_scores_{num_bins}.csv\",\n",
    "        index=True,\n",
    "    )"
   ]
  },
  {
   "cell_type": "code",
   "execution_count": 60,
   "id": "130f3185",
   "metadata": {
    "execution": {
     "iopub.execute_input": "2024-02-06T19:27:59.811271Z",
     "iopub.status.busy": "2024-02-06T19:27:59.810902Z",
     "iopub.status.idle": "2024-02-06T19:28:02.993502Z",
     "shell.execute_reply": "2024-02-06T19:28:02.992501Z"
    }
   },
   "outputs": [],
   "source": [
    "compute_and_save_rfm_scores(Path.cwd().parents[1] / \"data\" / \"online_retail.csv\", num_bins=5)"
   ]
  },
  {
   "cell_type": "code",
   "execution_count": 61,
   "id": "f9988534",
   "metadata": {
    "execution": {
     "iopub.execute_input": "2024-02-06T19:28:02.997832Z",
     "iopub.status.busy": "2024-02-06T19:28:02.996879Z",
     "iopub.status.idle": "2024-02-06T19:28:03.003004Z",
     "shell.execute_reply": "2024-02-06T19:28:03.001964Z"
    }
   },
   "outputs": [],
   "source": [
    "def plot_rfm_attributes_and_scores(\n",
    "    df: pd.DataFrame,\n",
    "    figsize: tuple[float, float] = (8.0, 6.0),\n",
    ") -> None:\n",
    "    attrs = get_args(RFMAttribute)\n",
    "    for score in (attr[0] for attr in attrs):\n",
    "        plot_bin_count(df, score, save=True, figsize=figsize)\n",
    "    for attr in attrs:\n",
    "        plot_distribution_by_score(df, attr, save=True, figsize=figsize)"
   ]
  },
  {
   "cell_type": "code",
   "execution_count": 62,
   "id": "68b2dd85",
   "metadata": {
    "execution": {
     "iopub.execute_input": "2024-02-06T19:28:03.006560Z",
     "iopub.status.busy": "2024-02-06T19:28:03.006262Z",
     "iopub.status.idle": "2024-02-06T19:28:04.251646Z",
     "shell.execute_reply": "2024-02-06T19:28:04.250655Z"
    }
   },
   "outputs": [],
   "source": [
    "plot_rfm_attributes_and_scores(df_rfm)"
   ]
  }
 ],
 "metadata": {
  "jupytext": {
   "cell_metadata_filter": "-all",
   "main_language": "python",
   "notebook_metadata_filter": "-all"
  },
  "language_info": {
   "codemirror_mode": {
    "name": "ipython",
    "version": 3
   },
   "file_extension": ".py",
   "mimetype": "text/x-python",
   "name": "python",
   "nbconvert_exporter": "python",
   "pygments_lexer": "ipython3",
   "version": "3.11.6"
  }
 },
 "nbformat": 4,
 "nbformat_minor": 5
}
