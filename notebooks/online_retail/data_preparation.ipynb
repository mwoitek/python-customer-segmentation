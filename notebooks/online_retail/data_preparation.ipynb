{
 "cells": [
  {
   "cell_type": "markdown",
   "id": "20576175",
   "metadata": {},
   "source": [
    "# Online Retail Dataset: Data Preparation\n",
    "\n",
    "In this notebook, I'll prepare the dataset for analysis.\n",
    "\n",
    "## Imports"
   ]
  },
  {
   "cell_type": "code",
   "execution_count": 1,
   "id": "723b68b3",
   "metadata": {
    "execution": {
     "iopub.execute_input": "2024-01-21T03:57:25.101171Z",
     "iopub.status.busy": "2024-01-21T03:57:25.099916Z",
     "iopub.status.idle": "2024-01-21T03:57:25.565924Z",
     "shell.execute_reply": "2024-01-21T03:57:25.564957Z"
    }
   },
   "outputs": [],
   "source": [
    "from pathlib import Path\n",
    "from typing import cast\n",
    "\n",
    "import numpy as np\n",
    "import pandas as pd\n",
    "from pandas.testing import assert_frame_equal"
   ]
  },
  {
   "cell_type": "markdown",
   "id": "6792c1d5",
   "metadata": {},
   "source": [
    "## Read dataset"
   ]
  },
  {
   "cell_type": "code",
   "execution_count": 2,
   "id": "5900e805",
   "metadata": {
    "execution": {
     "iopub.execute_input": "2024-01-21T03:57:25.571004Z",
     "iopub.status.busy": "2024-01-21T03:57:25.570634Z",
     "iopub.status.idle": "2024-01-21T03:57:25.576232Z",
     "shell.execute_reply": "2024-01-21T03:57:25.575200Z"
    }
   },
   "outputs": [],
   "source": [
    "# File path for dataset\n",
    "file_path = Path.cwd().parents[1] / \"data\" / \"online_retail.xlsx\"\n",
    "assert file_path.exists(), f\"file doesn't exist: {file_path}\"\n",
    "assert file_path.is_file(), f\"not a file: {file_path}\""
   ]
  },
  {
   "cell_type": "code",
   "execution_count": 3,
   "id": "c30c73e3",
   "metadata": {
    "execution": {
     "iopub.execute_input": "2024-01-21T03:57:25.581399Z",
     "iopub.status.busy": "2024-01-21T03:57:25.580937Z",
     "iopub.status.idle": "2024-01-21T03:58:38.637913Z",
     "shell.execute_reply": "2024-01-21T03:58:38.636722Z"
    }
   },
   "outputs": [],
   "source": [
    "# Columns I'll actually use\n",
    "cols = [\"InvoiceNo\", \"InvoiceDate\", \"CustomerID\", \"Quantity\", \"UnitPrice\"]\n",
    "\n",
    "df = pd.read_excel(\n",
    "    file_path,\n",
    "    usecols=cols,\n",
    "    dtype={col: object for col in cols},\n",
    ").loc[:, cols]\n",
    "df = cast(pd.DataFrame, df)"
   ]
  },
  {
   "cell_type": "code",
   "execution_count": 4,
   "id": "7ac47abd",
   "metadata": {
    "execution": {
     "iopub.execute_input": "2024-01-21T03:58:38.642082Z",
     "iopub.status.busy": "2024-01-21T03:58:38.641779Z",
     "iopub.status.idle": "2024-01-21T03:58:38.671507Z",
     "shell.execute_reply": "2024-01-21T03:58:38.670198Z"
    }
   },
   "outputs": [
    {
     "data": {
      "text/html": [
       "<div>\n",
       "<style scoped>\n",
       "    .dataframe tbody tr th:only-of-type {\n",
       "        vertical-align: middle;\n",
       "    }\n",
       "\n",
       "    .dataframe tbody tr th {\n",
       "        vertical-align: top;\n",
       "    }\n",
       "\n",
       "    .dataframe thead th {\n",
       "        text-align: right;\n",
       "    }\n",
       "</style>\n",
       "<table border=\"1\" class=\"dataframe\">\n",
       "  <thead>\n",
       "    <tr style=\"text-align: right;\">\n",
       "      <th></th>\n",
       "      <th>InvoiceNo</th>\n",
       "      <th>InvoiceDate</th>\n",
       "      <th>CustomerID</th>\n",
       "      <th>Quantity</th>\n",
       "      <th>UnitPrice</th>\n",
       "    </tr>\n",
       "  </thead>\n",
       "  <tbody>\n",
       "    <tr>\n",
       "      <th>0</th>\n",
       "      <td>536365</td>\n",
       "      <td>2010-12-01 08:26:00</td>\n",
       "      <td>17850</td>\n",
       "      <td>6</td>\n",
       "      <td>2.55</td>\n",
       "    </tr>\n",
       "    <tr>\n",
       "      <th>1</th>\n",
       "      <td>536365</td>\n",
       "      <td>2010-12-01 08:26:00</td>\n",
       "      <td>17850</td>\n",
       "      <td>6</td>\n",
       "      <td>3.39</td>\n",
       "    </tr>\n",
       "    <tr>\n",
       "      <th>2</th>\n",
       "      <td>536365</td>\n",
       "      <td>2010-12-01 08:26:00</td>\n",
       "      <td>17850</td>\n",
       "      <td>8</td>\n",
       "      <td>2.75</td>\n",
       "    </tr>\n",
       "    <tr>\n",
       "      <th>3</th>\n",
       "      <td>536365</td>\n",
       "      <td>2010-12-01 08:26:00</td>\n",
       "      <td>17850</td>\n",
       "      <td>6</td>\n",
       "      <td>3.39</td>\n",
       "    </tr>\n",
       "    <tr>\n",
       "      <th>4</th>\n",
       "      <td>536365</td>\n",
       "      <td>2010-12-01 08:26:00</td>\n",
       "      <td>17850</td>\n",
       "      <td>6</td>\n",
       "      <td>3.39</td>\n",
       "    </tr>\n",
       "    <tr>\n",
       "      <th>5</th>\n",
       "      <td>536365</td>\n",
       "      <td>2010-12-01 08:26:00</td>\n",
       "      <td>17850</td>\n",
       "      <td>2</td>\n",
       "      <td>7.65</td>\n",
       "    </tr>\n",
       "    <tr>\n",
       "      <th>6</th>\n",
       "      <td>536365</td>\n",
       "      <td>2010-12-01 08:26:00</td>\n",
       "      <td>17850</td>\n",
       "      <td>6</td>\n",
       "      <td>4.25</td>\n",
       "    </tr>\n",
       "    <tr>\n",
       "      <th>7</th>\n",
       "      <td>536366</td>\n",
       "      <td>2010-12-01 08:28:00</td>\n",
       "      <td>17850</td>\n",
       "      <td>6</td>\n",
       "      <td>1.85</td>\n",
       "    </tr>\n",
       "    <tr>\n",
       "      <th>8</th>\n",
       "      <td>536366</td>\n",
       "      <td>2010-12-01 08:28:00</td>\n",
       "      <td>17850</td>\n",
       "      <td>6</td>\n",
       "      <td>1.85</td>\n",
       "    </tr>\n",
       "    <tr>\n",
       "      <th>9</th>\n",
       "      <td>536367</td>\n",
       "      <td>2010-12-01 08:34:00</td>\n",
       "      <td>13047</td>\n",
       "      <td>32</td>\n",
       "      <td>1.69</td>\n",
       "    </tr>\n",
       "  </tbody>\n",
       "</table>\n",
       "</div>"
      ],
      "text/plain": [
       "  InvoiceNo         InvoiceDate CustomerID Quantity UnitPrice\n",
       "0    536365 2010-12-01 08:26:00      17850        6      2.55\n",
       "1    536365 2010-12-01 08:26:00      17850        6      3.39\n",
       "2    536365 2010-12-01 08:26:00      17850        8      2.75\n",
       "3    536365 2010-12-01 08:26:00      17850        6      3.39\n",
       "4    536365 2010-12-01 08:26:00      17850        6      3.39\n",
       "5    536365 2010-12-01 08:26:00      17850        2      7.65\n",
       "6    536365 2010-12-01 08:26:00      17850        6      4.25\n",
       "7    536366 2010-12-01 08:28:00      17850        6      1.85\n",
       "8    536366 2010-12-01 08:28:00      17850        6      1.85\n",
       "9    536367 2010-12-01 08:34:00      13047       32      1.69"
      ]
     },
     "execution_count": 4,
     "metadata": {},
     "output_type": "execute_result"
    }
   ],
   "source": [
    "df.head(10)"
   ]
  },
  {
   "cell_type": "code",
   "execution_count": 5,
   "id": "b783ae79",
   "metadata": {
    "execution": {
     "iopub.execute_input": "2024-01-21T03:58:38.676171Z",
     "iopub.status.busy": "2024-01-21T03:58:38.675309Z",
     "iopub.status.idle": "2024-01-21T03:58:38.887622Z",
     "shell.execute_reply": "2024-01-21T03:58:38.886396Z"
    }
   },
   "outputs": [
    {
     "name": "stdout",
     "output_type": "stream",
     "text": [
      "<class 'pandas.core.frame.DataFrame'>\n",
      "RangeIndex: 541909 entries, 0 to 541908\n",
      "Data columns (total 5 columns):\n",
      " #   Column       Non-Null Count   Dtype         \n",
      "---  ------       --------------   -----         \n",
      " 0   InvoiceNo    541909 non-null  object        \n",
      " 1   InvoiceDate  541909 non-null  datetime64[ns]\n",
      " 2   CustomerID   406829 non-null  object        \n",
      " 3   Quantity     541909 non-null  object        \n",
      " 4   UnitPrice    541909 non-null  object        \n",
      "dtypes: datetime64[ns](1), object(4)\n",
      "memory usage: 20.7+ MB\n"
     ]
    }
   ],
   "source": [
    "df.info()"
   ]
  },
  {
   "cell_type": "markdown",
   "id": "b6971f28",
   "metadata": {},
   "source": [
    "## Data cleaning"
   ]
  },
  {
   "cell_type": "code",
   "execution_count": 6,
   "id": "c1790ac3",
   "metadata": {
    "execution": {
     "iopub.execute_input": "2024-01-21T03:58:38.892392Z",
     "iopub.status.busy": "2024-01-21T03:58:38.892014Z",
     "iopub.status.idle": "2024-01-21T03:58:39.016903Z",
     "shell.execute_reply": "2024-01-21T03:58:39.015721Z"
    }
   },
   "outputs": [
    {
     "data": {
      "text/plain": [
       "InvoiceNo           0\n",
       "InvoiceDate         0\n",
       "CustomerID     135080\n",
       "Quantity            0\n",
       "UnitPrice           0\n",
       "dtype: int64"
      ]
     },
     "execution_count": 6,
     "metadata": {},
     "output_type": "execute_result"
    }
   ],
   "source": [
    "# Missing values\n",
    "df.isna().sum()"
   ]
  },
  {
   "cell_type": "markdown",
   "id": "132c67e0",
   "metadata": {},
   "source": [
    "I really need to know who bought what. In other words, rows with missing\n",
    "`CustomerID` have to go."
   ]
  },
  {
   "cell_type": "code",
   "execution_count": 7,
   "id": "a39fdb44",
   "metadata": {
    "execution": {
     "iopub.execute_input": "2024-01-21T03:58:39.021136Z",
     "iopub.status.busy": "2024-01-21T03:58:39.020845Z",
     "iopub.status.idle": "2024-01-21T03:58:39.258318Z",
     "shell.execute_reply": "2024-01-21T03:58:39.257282Z"
    }
   },
   "outputs": [
    {
     "name": "stdout",
     "output_type": "stream",
     "text": [
      "<class 'pandas.core.frame.DataFrame'>\n",
      "Index: 406829 entries, 0 to 541908\n",
      "Data columns (total 5 columns):\n",
      " #   Column       Non-Null Count   Dtype         \n",
      "---  ------       --------------   -----         \n",
      " 0   InvoiceNo    406829 non-null  object        \n",
      " 1   InvoiceDate  406829 non-null  datetime64[ns]\n",
      " 2   CustomerID   406829 non-null  object        \n",
      " 3   Quantity     406829 non-null  object        \n",
      " 4   UnitPrice    406829 non-null  object        \n",
      "dtypes: datetime64[ns](1), object(4)\n",
      "memory usage: 18.6+ MB\n"
     ]
    }
   ],
   "source": [
    "df = df.dropna()\n",
    "df.info()"
   ]
  },
  {
   "cell_type": "code",
   "execution_count": 8,
   "id": "b5e2aafd",
   "metadata": {
    "execution": {
     "iopub.execute_input": "2024-01-21T03:58:39.263000Z",
     "iopub.status.busy": "2024-01-21T03:58:39.262576Z",
     "iopub.status.idle": "2024-01-21T03:58:39.298797Z",
     "shell.execute_reply": "2024-01-21T03:58:39.297788Z"
    }
   },
   "outputs": [
    {
     "data": {
      "text/plain": [
       "8905"
      ]
     },
     "execution_count": 8,
     "metadata": {},
     "output_type": "execute_result"
    }
   ],
   "source": [
    "# Look for invalid quantities\n",
    "(df[\"Quantity\"] <= 0).sum()"
   ]
  },
  {
   "cell_type": "markdown",
   "id": "a396d510",
   "metadata": {},
   "source": [
    "Not every row corresponds to a sale. When the invoice number starts with \"C\",\n",
    "that transaction was canceled. That explains the observations with\n",
    "non-positive quantities."
   ]
  },
  {
   "cell_type": "code",
   "execution_count": 9,
   "id": "af70cb7d",
   "metadata": {
    "execution": {
     "iopub.execute_input": "2024-01-21T03:58:39.302914Z",
     "iopub.status.busy": "2024-01-21T03:58:39.302452Z",
     "iopub.status.idle": "2024-01-21T03:58:39.580327Z",
     "shell.execute_reply": "2024-01-21T03:58:39.579129Z"
    }
   },
   "outputs": [
    {
     "data": {
      "text/plain": [
       "8905"
      ]
     },
     "execution_count": 9,
     "metadata": {},
     "output_type": "execute_result"
    }
   ],
   "source": [
    "df[\"InvoiceNo\"].astype(str).str.startswith(\"C\").sum()"
   ]
  },
  {
   "cell_type": "markdown",
   "id": "f1e2e5a5",
   "metadata": {},
   "source": [
    "I chose to remove those rows:"
   ]
  },
  {
   "cell_type": "code",
   "execution_count": 10,
   "id": "ddc2931a",
   "metadata": {
    "execution": {
     "iopub.execute_input": "2024-01-21T03:58:39.584486Z",
     "iopub.status.busy": "2024-01-21T03:58:39.584127Z",
     "iopub.status.idle": "2024-01-21T03:58:39.908028Z",
     "shell.execute_reply": "2024-01-21T03:58:39.907121Z"
    }
   },
   "outputs": [],
   "source": [
    "df = df.loc[df[\"Quantity\"] > 0, :]\n",
    "df = cast(pd.DataFrame, df)\n",
    "\n",
    "# Quick check\n",
    "assert df[\"InvoiceNo\"].astype(str).str.startswith(\"C\").sum() == 0, \"there are remaining canceled transactions\""
   ]
  },
  {
   "cell_type": "code",
   "execution_count": 11,
   "id": "f65a961e",
   "metadata": {
    "execution": {
     "iopub.execute_input": "2024-01-21T03:58:39.911642Z",
     "iopub.status.busy": "2024-01-21T03:58:39.911358Z",
     "iopub.status.idle": "2024-01-21T03:58:39.948821Z",
     "shell.execute_reply": "2024-01-21T03:58:39.947298Z"
    }
   },
   "outputs": [
    {
     "data": {
      "text/plain": [
       "40"
      ]
     },
     "execution_count": 11,
     "metadata": {},
     "output_type": "execute_result"
    }
   ],
   "source": [
    "# Look for invalid prices\n",
    "(df[\"UnitPrice\"] == 0.0).sum()"
   ]
  },
  {
   "cell_type": "markdown",
   "id": "872a0335",
   "metadata": {},
   "source": [
    "I don't know how to explain such values. They should make no difference. Then\n",
    "I chose to drop them:"
   ]
  },
  {
   "cell_type": "code",
   "execution_count": 12,
   "id": "b561afdd",
   "metadata": {
    "execution": {
     "iopub.execute_input": "2024-01-21T03:58:39.952928Z",
     "iopub.status.busy": "2024-01-21T03:58:39.952537Z",
     "iopub.status.idle": "2024-01-21T03:58:40.017870Z",
     "shell.execute_reply": "2024-01-21T03:58:40.016630Z"
    }
   },
   "outputs": [],
   "source": [
    "df = df.loc[df[\"UnitPrice\"] != 0.0, :]\n",
    "df = cast(pd.DataFrame, df)"
   ]
  },
  {
   "cell_type": "markdown",
   "id": "3fa4e4ec",
   "metadata": {},
   "source": [
    "## Finish fixing dataset"
   ]
  },
  {
   "cell_type": "code",
   "execution_count": 13,
   "id": "e6b5cb86",
   "metadata": {
    "execution": {
     "iopub.execute_input": "2024-01-21T03:58:40.022764Z",
     "iopub.status.busy": "2024-01-21T03:58:40.022139Z",
     "iopub.status.idle": "2024-01-21T03:58:40.131889Z",
     "shell.execute_reply": "2024-01-21T03:58:40.130815Z"
    }
   },
   "outputs": [
    {
     "name": "stdout",
     "output_type": "stream",
     "text": [
      "<class 'pandas.core.frame.DataFrame'>\n",
      "RangeIndex: 397884 entries, 0 to 397883\n",
      "Data columns (total 5 columns):\n",
      " #   Column       Non-Null Count   Dtype         \n",
      "---  ------       --------------   -----         \n",
      " 0   InvoiceNo    397884 non-null  object        \n",
      " 1   InvoiceDate  397884 non-null  datetime64[ns]\n",
      " 2   CustomerID   397884 non-null  object        \n",
      " 3   Quantity     397884 non-null  object        \n",
      " 4   UnitPrice    397884 non-null  object        \n",
      "dtypes: datetime64[ns](1), object(4)\n",
      "memory usage: 15.2+ MB\n"
     ]
    }
   ],
   "source": [
    "df = df.reset_index(drop=True)\n",
    "df.info()"
   ]
  },
  {
   "cell_type": "code",
   "execution_count": 14,
   "id": "a00c31b5",
   "metadata": {
    "execution": {
     "iopub.execute_input": "2024-01-21T03:58:40.136443Z",
     "iopub.status.busy": "2024-01-21T03:58:40.136145Z",
     "iopub.status.idle": "2024-01-21T03:58:40.273333Z",
     "shell.execute_reply": "2024-01-21T03:58:40.272247Z"
    }
   },
   "outputs": [
    {
     "data": {
      "text/plain": [
       "InvoiceNo            category\n",
       "InvoiceDate    datetime64[ns]\n",
       "CustomerID           category\n",
       "Quantity                int64\n",
       "UnitPrice             float64\n",
       "dtype: object"
      ]
     },
     "execution_count": 14,
     "metadata": {},
     "output_type": "execute_result"
    }
   ],
   "source": [
    "# Use appropriate data types\n",
    "df[\"InvoiceNo\"] = df[\"InvoiceNo\"].astype(\"category\")\n",
    "df[\"CustomerID\"] = df[\"CustomerID\"].astype(\"category\")\n",
    "df[\"Quantity\"] = df[\"Quantity\"].astype(np.int_)\n",
    "df[\"UnitPrice\"] = df[\"UnitPrice\"].astype(np.float_)\n",
    "\n",
    "df.dtypes"
   ]
  },
  {
   "cell_type": "markdown",
   "id": "19b66639",
   "metadata": {},
   "source": [
    "The only part of `InvoiceDate` that matters is the date. The following\n",
    "command sets all the times to midnight:"
   ]
  },
  {
   "cell_type": "code",
   "execution_count": 15,
   "id": "ee23c418",
   "metadata": {
    "execution": {
     "iopub.execute_input": "2024-01-21T03:58:40.277347Z",
     "iopub.status.busy": "2024-01-21T03:58:40.277052Z",
     "iopub.status.idle": "2024-01-21T03:58:40.304939Z",
     "shell.execute_reply": "2024-01-21T03:58:40.303797Z"
    }
   },
   "outputs": [
    {
     "data": {
      "text/plain": [
       "0   2010-12-01\n",
       "1   2010-12-01\n",
       "2   2010-12-01\n",
       "3   2010-12-01\n",
       "4   2010-12-01\n",
       "Name: InvoiceDate, dtype: datetime64[ns]"
      ]
     },
     "execution_count": 15,
     "metadata": {},
     "output_type": "execute_result"
    }
   ],
   "source": [
    "df[\"InvoiceDate\"] = df[\"InvoiceDate\"].dt.normalize()\n",
    "df[\"InvoiceDate\"].head()"
   ]
  },
  {
   "cell_type": "markdown",
   "id": "be20c15c",
   "metadata": {
    "lines_to_next_cell": 2
   },
   "source": [
    "For convenience, I'll collect the essential parts of the above code, and\n",
    "create a function:"
   ]
  },
  {
   "cell_type": "code",
   "execution_count": 16,
   "id": "bbe6a84c",
   "metadata": {
    "execution": {
     "iopub.execute_input": "2024-01-21T03:58:40.309837Z",
     "iopub.status.busy": "2024-01-21T03:58:40.309493Z",
     "iopub.status.idle": "2024-01-21T03:58:40.317820Z",
     "shell.execute_reply": "2024-01-21T03:58:40.316768Z"
    }
   },
   "outputs": [],
   "source": [
    "def get_clean_data(file_path: Path) -> pd.DataFrame:\n",
    "    cols = [\"InvoiceNo\", \"InvoiceDate\", \"CustomerID\", \"Quantity\", \"UnitPrice\"]\n",
    "    df = pd.read_excel(file_path, usecols=cols, dtype={col: object for col in cols}).loc[:, cols]\n",
    "    df = cast(pd.DataFrame, df)\n",
    "\n",
    "    df = df.dropna()\n",
    "\n",
    "    df = df.loc[df[\"Quantity\"] > 0, :]\n",
    "    df = cast(pd.DataFrame, df)\n",
    "\n",
    "    df = df.loc[df[\"UnitPrice\"] != 0.0, :]\n",
    "    df = cast(pd.DataFrame, df)\n",
    "\n",
    "    df = df.reset_index(drop=True)\n",
    "\n",
    "    df[\"InvoiceNo\"] = df[\"InvoiceNo\"].astype(\"category\")\n",
    "    df[\"CustomerID\"] = df[\"CustomerID\"].astype(\"category\")\n",
    "    df[\"Quantity\"] = df[\"Quantity\"].astype(np.int_)\n",
    "    df[\"UnitPrice\"] = df[\"UnitPrice\"].astype(np.float_)\n",
    "\n",
    "    df[\"InvoiceDate\"] = df[\"InvoiceDate\"].dt.normalize()\n",
    "\n",
    "    return df"
   ]
  },
  {
   "cell_type": "code",
   "execution_count": 17,
   "id": "a111ad70",
   "metadata": {
    "execution": {
     "iopub.execute_input": "2024-01-21T03:58:40.322393Z",
     "iopub.status.busy": "2024-01-21T03:58:40.322020Z",
     "iopub.status.idle": "2024-01-21T04:00:01.326396Z",
     "shell.execute_reply": "2024-01-21T04:00:01.325328Z"
    }
   },
   "outputs": [],
   "source": [
    "# Quick check\n",
    "df_func = get_clean_data(file_path)\n",
    "assert_frame_equal(df_func, df)\n",
    "del df_func"
   ]
  },
  {
   "cell_type": "markdown",
   "id": "e3d61179",
   "metadata": {},
   "source": [
    "## Aggregate data\n",
    "\n",
    "Before aggregating the data, I'll do some more consistency tests. Rows with\n",
    "the same `InvoiceNo` must also have the same `InvoiceDate`. For a specific\n",
    "value of `InvoiceNo`, this can be tested as follows:"
   ]
  },
  {
   "cell_type": "code",
   "execution_count": 18,
   "id": "49f2350c",
   "metadata": {
    "execution": {
     "iopub.execute_input": "2024-01-21T04:00:01.331624Z",
     "iopub.status.busy": "2024-01-21T04:00:01.331171Z",
     "iopub.status.idle": "2024-01-21T04:00:01.339773Z",
     "shell.execute_reply": "2024-01-21T04:00:01.338697Z"
    }
   },
   "outputs": [
    {
     "data": {
      "text/plain": [
       "True"
      ]
     },
     "execution_count": 18,
     "metadata": {},
     "output_type": "execute_result"
    }
   ],
   "source": [
    "df.loc[df[\"InvoiceNo\"] == 536365, \"InvoiceDate\"].nunique() == 1"
   ]
  },
  {
   "cell_type": "markdown",
   "id": "d4a38344",
   "metadata": {},
   "source": [
    "To test all values of `InvoiceNo`, one can do the following:"
   ]
  },
  {
   "cell_type": "code",
   "execution_count": 19,
   "id": "ff05b2a6",
   "metadata": {
    "execution": {
     "iopub.execute_input": "2024-01-21T04:00:01.343949Z",
     "iopub.status.busy": "2024-01-21T04:00:01.343614Z",
     "iopub.status.idle": "2024-01-21T04:00:01.373960Z",
     "shell.execute_reply": "2024-01-21T04:00:01.372763Z"
    }
   },
   "outputs": [
    {
     "data": {
      "text/plain": [
       "True"
      ]
     },
     "execution_count": 19,
     "metadata": {},
     "output_type": "execute_result"
    }
   ],
   "source": [
    "df.groupby(by=\"InvoiceNo\", observed=True).InvoiceDate.nunique().eq(1).all()"
   ]
  },
  {
   "cell_type": "markdown",
   "id": "001d3f5b",
   "metadata": {},
   "source": [
    "Similarly, rows with the same `InvoiceNo` must also have the same\n",
    "`CustomerID`. Checking if this is true:"
   ]
  },
  {
   "cell_type": "code",
   "execution_count": 20,
   "id": "621338ae",
   "metadata": {
    "execution": {
     "iopub.execute_input": "2024-01-21T04:00:01.378641Z",
     "iopub.status.busy": "2024-01-21T04:00:01.378274Z",
     "iopub.status.idle": "2024-01-21T04:00:01.386664Z",
     "shell.execute_reply": "2024-01-21T04:00:01.385553Z"
    }
   },
   "outputs": [
    {
     "data": {
      "text/plain": [
       "True"
      ]
     },
     "execution_count": 20,
     "metadata": {},
     "output_type": "execute_result"
    }
   ],
   "source": [
    "# Single value\n",
    "df.loc[df[\"InvoiceNo\"] == 536365, \"CustomerID\"].nunique() == 1"
   ]
  },
  {
   "cell_type": "code",
   "execution_count": 21,
   "id": "66d2b1ad",
   "metadata": {
    "execution": {
     "iopub.execute_input": "2024-01-21T04:00:01.390607Z",
     "iopub.status.busy": "2024-01-21T04:00:01.390315Z",
     "iopub.status.idle": "2024-01-21T04:00:01.448915Z",
     "shell.execute_reply": "2024-01-21T04:00:01.447685Z"
    }
   },
   "outputs": [
    {
     "data": {
      "text/plain": [
       "True"
      ]
     },
     "execution_count": 21,
     "metadata": {},
     "output_type": "execute_result"
    }
   ],
   "source": [
    "# All values\n",
    "df.groupby(by=\"InvoiceNo\", observed=True).CustomerID.nunique().eq(1).all()"
   ]
  },
  {
   "cell_type": "markdown",
   "id": "ab130553",
   "metadata": {},
   "source": [
    "Everything is OK. Then I'll compute the total amount spent for each\n",
    "`InvoiceNo`."
   ]
  },
  {
   "cell_type": "code",
   "execution_count": 22,
   "id": "78f71d04",
   "metadata": {
    "execution": {
     "iopub.execute_input": "2024-01-21T04:00:01.455791Z",
     "iopub.status.busy": "2024-01-21T04:00:01.455342Z",
     "iopub.status.idle": "2024-01-21T04:00:01.473033Z",
     "shell.execute_reply": "2024-01-21T04:00:01.471829Z"
    }
   },
   "outputs": [
    {
     "data": {
      "text/html": [
       "<div>\n",
       "<style scoped>\n",
       "    .dataframe tbody tr th:only-of-type {\n",
       "        vertical-align: middle;\n",
       "    }\n",
       "\n",
       "    .dataframe tbody tr th {\n",
       "        vertical-align: top;\n",
       "    }\n",
       "\n",
       "    .dataframe thead th {\n",
       "        text-align: right;\n",
       "    }\n",
       "</style>\n",
       "<table border=\"1\" class=\"dataframe\">\n",
       "  <thead>\n",
       "    <tr style=\"text-align: right;\">\n",
       "      <th></th>\n",
       "      <th>InvoiceNo</th>\n",
       "      <th>InvoiceDate</th>\n",
       "      <th>CustomerID</th>\n",
       "      <th>Quantity</th>\n",
       "      <th>UnitPrice</th>\n",
       "    </tr>\n",
       "  </thead>\n",
       "  <tbody>\n",
       "    <tr>\n",
       "      <th>0</th>\n",
       "      <td>536365</td>\n",
       "      <td>2010-12-01</td>\n",
       "      <td>17850</td>\n",
       "      <td>6</td>\n",
       "      <td>2.55</td>\n",
       "    </tr>\n",
       "    <tr>\n",
       "      <th>1</th>\n",
       "      <td>536365</td>\n",
       "      <td>2010-12-01</td>\n",
       "      <td>17850</td>\n",
       "      <td>6</td>\n",
       "      <td>3.39</td>\n",
       "    </tr>\n",
       "    <tr>\n",
       "      <th>2</th>\n",
       "      <td>536365</td>\n",
       "      <td>2010-12-01</td>\n",
       "      <td>17850</td>\n",
       "      <td>8</td>\n",
       "      <td>2.75</td>\n",
       "    </tr>\n",
       "    <tr>\n",
       "      <th>3</th>\n",
       "      <td>536365</td>\n",
       "      <td>2010-12-01</td>\n",
       "      <td>17850</td>\n",
       "      <td>6</td>\n",
       "      <td>3.39</td>\n",
       "    </tr>\n",
       "    <tr>\n",
       "      <th>4</th>\n",
       "      <td>536365</td>\n",
       "      <td>2010-12-01</td>\n",
       "      <td>17850</td>\n",
       "      <td>6</td>\n",
       "      <td>3.39</td>\n",
       "    </tr>\n",
       "    <tr>\n",
       "      <th>5</th>\n",
       "      <td>536365</td>\n",
       "      <td>2010-12-01</td>\n",
       "      <td>17850</td>\n",
       "      <td>2</td>\n",
       "      <td>7.65</td>\n",
       "    </tr>\n",
       "    <tr>\n",
       "      <th>6</th>\n",
       "      <td>536365</td>\n",
       "      <td>2010-12-01</td>\n",
       "      <td>17850</td>\n",
       "      <td>6</td>\n",
       "      <td>4.25</td>\n",
       "    </tr>\n",
       "  </tbody>\n",
       "</table>\n",
       "</div>"
      ],
      "text/plain": [
       "  InvoiceNo InvoiceDate CustomerID  Quantity  UnitPrice\n",
       "0    536365  2010-12-01      17850         6       2.55\n",
       "1    536365  2010-12-01      17850         6       3.39\n",
       "2    536365  2010-12-01      17850         8       2.75\n",
       "3    536365  2010-12-01      17850         6       3.39\n",
       "4    536365  2010-12-01      17850         6       3.39\n",
       "5    536365  2010-12-01      17850         2       7.65\n",
       "6    536365  2010-12-01      17850         6       4.25"
      ]
     },
     "execution_count": 22,
     "metadata": {},
     "output_type": "execute_result"
    }
   ],
   "source": [
    "# Figuring out how to do it\n",
    "tmp_df = df.loc[df[\"InvoiceNo\"] == 536365, :]\n",
    "tmp_df = cast(pd.DataFrame, tmp_df)\n",
    "tmp_df"
   ]
  },
  {
   "cell_type": "code",
   "execution_count": 23,
   "id": "8e377b5a",
   "metadata": {
    "execution": {
     "iopub.execute_input": "2024-01-21T04:00:01.478696Z",
     "iopub.status.busy": "2024-01-21T04:00:01.477515Z",
     "iopub.status.idle": "2024-01-21T04:00:01.490980Z",
     "shell.execute_reply": "2024-01-21T04:00:01.489735Z"
    }
   },
   "outputs": [
    {
     "data": {
      "text/plain": [
       "InvoiceDate    2010-12-01 00:00:00\n",
       "CustomerID                   17850\n",
       "TotalPrice                  139.12\n",
       "dtype: object"
      ]
     },
     "execution_count": 23,
     "metadata": {},
     "output_type": "execute_result"
    }
   ],
   "source": [
    "tmp_row = pd.Series(\n",
    "    data={\n",
    "        \"InvoiceDate\": tmp_df[\"InvoiceDate\"].iloc[0],\n",
    "        \"CustomerID\": tmp_df[\"CustomerID\"].iloc[0],\n",
    "        \"TotalPrice\": (tmp_df[\"Quantity\"] * tmp_df[\"UnitPrice\"]).sum(),\n",
    "    }\n",
    ")\n",
    "tmp_row"
   ]
  },
  {
   "cell_type": "code",
   "execution_count": 24,
   "id": "57124402",
   "metadata": {
    "execution": {
     "iopub.execute_input": "2024-01-21T04:00:01.496244Z",
     "iopub.status.busy": "2024-01-21T04:00:01.495678Z",
     "iopub.status.idle": "2024-01-21T04:00:01.501470Z",
     "shell.execute_reply": "2024-01-21T04:00:01.500132Z"
    }
   },
   "outputs": [],
   "source": [
    "del tmp_df\n",
    "del tmp_row"
   ]
  },
  {
   "cell_type": "code",
   "execution_count": 25,
   "id": "e4cc9c25",
   "metadata": {
    "execution": {
     "iopub.execute_input": "2024-01-21T04:00:01.506785Z",
     "iopub.status.busy": "2024-01-21T04:00:01.506313Z",
     "iopub.status.idle": "2024-01-21T04:00:16.724388Z",
     "shell.execute_reply": "2024-01-21T04:00:16.723328Z"
    }
   },
   "outputs": [],
   "source": [
    "# Actual calculation\n",
    "def compute_total_price(df_group: pd.DataFrame) -> pd.Series:\n",
    "    return pd.Series(\n",
    "        data={\n",
    "            \"InvoiceDate\": df_group[\"InvoiceDate\"].iloc[0],\n",
    "            \"CustomerID\": df_group[\"CustomerID\"].iloc[0],\n",
    "            \"TotalPrice\": (df_group[\"Quantity\"] * df_group[\"UnitPrice\"]).sum(),\n",
    "        }\n",
    "    )\n",
    "\n",
    "\n",
    "df_total = df.groupby(by=\"InvoiceNo\", observed=True).apply(compute_total_price).reset_index()"
   ]
  },
  {
   "cell_type": "code",
   "execution_count": 26,
   "id": "e1450a28",
   "metadata": {
    "execution": {
     "iopub.execute_input": "2024-01-21T04:00:16.729783Z",
     "iopub.status.busy": "2024-01-21T04:00:16.729000Z",
     "iopub.status.idle": "2024-01-21T04:00:16.740815Z",
     "shell.execute_reply": "2024-01-21T04:00:16.739560Z"
    }
   },
   "outputs": [
    {
     "data": {
      "text/html": [
       "<div>\n",
       "<style scoped>\n",
       "    .dataframe tbody tr th:only-of-type {\n",
       "        vertical-align: middle;\n",
       "    }\n",
       "\n",
       "    .dataframe tbody tr th {\n",
       "        vertical-align: top;\n",
       "    }\n",
       "\n",
       "    .dataframe thead th {\n",
       "        text-align: right;\n",
       "    }\n",
       "</style>\n",
       "<table border=\"1\" class=\"dataframe\">\n",
       "  <thead>\n",
       "    <tr style=\"text-align: right;\">\n",
       "      <th></th>\n",
       "      <th>InvoiceNo</th>\n",
       "      <th>InvoiceDate</th>\n",
       "      <th>CustomerID</th>\n",
       "      <th>TotalPrice</th>\n",
       "    </tr>\n",
       "  </thead>\n",
       "  <tbody>\n",
       "    <tr>\n",
       "      <th>0</th>\n",
       "      <td>536365</td>\n",
       "      <td>2010-12-01</td>\n",
       "      <td>17850</td>\n",
       "      <td>139.12</td>\n",
       "    </tr>\n",
       "    <tr>\n",
       "      <th>1</th>\n",
       "      <td>536366</td>\n",
       "      <td>2010-12-01</td>\n",
       "      <td>17850</td>\n",
       "      <td>22.20</td>\n",
       "    </tr>\n",
       "    <tr>\n",
       "      <th>2</th>\n",
       "      <td>536367</td>\n",
       "      <td>2010-12-01</td>\n",
       "      <td>13047</td>\n",
       "      <td>278.73</td>\n",
       "    </tr>\n",
       "    <tr>\n",
       "      <th>3</th>\n",
       "      <td>536368</td>\n",
       "      <td>2010-12-01</td>\n",
       "      <td>13047</td>\n",
       "      <td>70.05</td>\n",
       "    </tr>\n",
       "    <tr>\n",
       "      <th>4</th>\n",
       "      <td>536369</td>\n",
       "      <td>2010-12-01</td>\n",
       "      <td>13047</td>\n",
       "      <td>17.85</td>\n",
       "    </tr>\n",
       "  </tbody>\n",
       "</table>\n",
       "</div>"
      ],
      "text/plain": [
       "  InvoiceNo InvoiceDate  CustomerID  TotalPrice\n",
       "0    536365  2010-12-01       17850      139.12\n",
       "1    536366  2010-12-01       17850       22.20\n",
       "2    536367  2010-12-01       13047      278.73\n",
       "3    536368  2010-12-01       13047       70.05\n",
       "4    536369  2010-12-01       13047       17.85"
      ]
     },
     "execution_count": 26,
     "metadata": {},
     "output_type": "execute_result"
    }
   ],
   "source": [
    "df_total.head()"
   ]
  },
  {
   "cell_type": "code",
   "execution_count": 27,
   "id": "e122e9ac",
   "metadata": {
    "execution": {
     "iopub.execute_input": "2024-01-21T04:00:16.745936Z",
     "iopub.status.busy": "2024-01-21T04:00:16.745276Z",
     "iopub.status.idle": "2024-01-21T04:00:16.759594Z",
     "shell.execute_reply": "2024-01-21T04:00:16.757884Z"
    }
   },
   "outputs": [
    {
     "name": "stdout",
     "output_type": "stream",
     "text": [
      "<class 'pandas.core.frame.DataFrame'>\n",
      "RangeIndex: 18532 entries, 0 to 18531\n",
      "Data columns (total 4 columns):\n",
      " #   Column       Non-Null Count  Dtype         \n",
      "---  ------       --------------  -----         \n",
      " 0   InvoiceNo    18532 non-null  category      \n",
      " 1   InvoiceDate  18532 non-null  datetime64[ns]\n",
      " 2   CustomerID   18532 non-null  int64         \n",
      " 3   TotalPrice   18532 non-null  float64       \n",
      "dtypes: category(1), datetime64[ns](1), float64(1), int64(1)\n",
      "memory usage: 1.1 MB\n"
     ]
    }
   ],
   "source": [
    "df_total.info()"
   ]
  },
  {
   "cell_type": "markdown",
   "id": "e89802cd",
   "metadata": {},
   "source": [
    "## Save prepared data\n",
    "\n",
    "Clearly, I've ended up with a much smaller dataset than the original. To\n",
    "avoid having to repeat the above steps, I'll save the new `DataFrame` to a\n",
    "CSV file."
   ]
  },
  {
   "cell_type": "code",
   "execution_count": 28,
   "id": "62bfd453",
   "metadata": {
    "execution": {
     "iopub.execute_input": "2024-01-21T04:00:16.765195Z",
     "iopub.status.busy": "2024-01-21T04:00:16.764662Z",
     "iopub.status.idle": "2024-01-21T04:00:16.843685Z",
     "shell.execute_reply": "2024-01-21T04:00:16.842638Z"
    }
   },
   "outputs": [],
   "source": [
    "# File path for output CSV\n",
    "out_file = file_path.parent / \"online_retail.csv\"\n",
    "\n",
    "df_total.to_csv(out_file, index=False)"
   ]
  },
  {
   "cell_type": "markdown",
   "id": "5ae1a761",
   "metadata": {
    "lines_to_next_cell": 2
   },
   "source": [
    "## Summarizing through a function\n",
    "\n",
    "To conclude, I'll implement a function that summarizes what was done in\n",
    "this notebook."
   ]
  },
  {
   "cell_type": "code",
   "execution_count": 29,
   "id": "62325a09",
   "metadata": {
    "execution": {
     "iopub.execute_input": "2024-01-21T04:00:16.848901Z",
     "iopub.status.busy": "2024-01-21T04:00:16.848363Z",
     "iopub.status.idle": "2024-01-21T04:00:16.854255Z",
     "shell.execute_reply": "2024-01-21T04:00:16.853130Z"
    },
    "lines_to_next_cell": 2
   },
   "outputs": [],
   "source": [
    "def prepare_and_save_data(file_path: Path) -> None:\n",
    "    clean_data = get_clean_data(file_path)\n",
    "    aggregated_data = clean_data.groupby(\"InvoiceNo\", observed=True).apply(compute_total_price).reset_index()\n",
    "    out_file = file_path.with_suffix(\".csv\")\n",
    "    aggregated_data.to_csv(out_file, index=False)"
   ]
  },
  {
   "cell_type": "code",
   "execution_count": 30,
   "id": "7e44a6e7",
   "metadata": {
    "execution": {
     "iopub.execute_input": "2024-01-21T04:00:16.859028Z",
     "iopub.status.busy": "2024-01-21T04:00:16.858652Z",
     "iopub.status.idle": "2024-01-21T04:00:16.862867Z",
     "shell.execute_reply": "2024-01-21T04:00:16.861894Z"
    }
   },
   "outputs": [],
   "source": [
    "# prepare_and_save_data(Path.cwd().parents[1] / \"data\" / \"online_retail.xlsx\")"
   ]
  }
 ],
 "metadata": {
  "jupytext": {
   "cell_metadata_filter": "-all",
   "main_language": "python",
   "notebook_metadata_filter": "-all"
  },
  "language_info": {
   "codemirror_mode": {
    "name": "ipython",
    "version": 3
   },
   "file_extension": ".py",
   "mimetype": "text/x-python",
   "name": "python",
   "nbconvert_exporter": "python",
   "pygments_lexer": "ipython3",
   "version": "3.11.6"
  }
 },
 "nbformat": 4,
 "nbformat_minor": 5
}
