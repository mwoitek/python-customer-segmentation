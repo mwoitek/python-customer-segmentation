{
 "cells": [
  {
   "cell_type": "markdown",
   "id": "bf1c8315",
   "metadata": {},
   "source": [
    "# Online Retail Dataset: Data Preparation\n",
    "\n",
    "In this notebook, I'll prepare the dataset for analysis.\n",
    "\n",
    "## Imports"
   ]
  },
  {
   "cell_type": "code",
   "execution_count": 1,
   "id": "66c017a6",
   "metadata": {
    "execution": {
     "iopub.execute_input": "2024-02-02T00:56:45.915161Z",
     "iopub.status.busy": "2024-02-02T00:56:45.912466Z",
     "iopub.status.idle": "2024-02-02T00:56:46.455519Z",
     "shell.execute_reply": "2024-02-02T00:56:46.454458Z"
    }
   },
   "outputs": [],
   "source": [
    "from pathlib import Path\n",
    "from typing import cast\n",
    "\n",
    "import numpy as np\n",
    "import pandas as pd\n",
    "from pandas.testing import assert_frame_equal"
   ]
  },
  {
   "cell_type": "markdown",
   "id": "1f33c8b9",
   "metadata": {},
   "source": [
    "## Read dataset"
   ]
  },
  {
   "cell_type": "code",
   "execution_count": 2,
   "id": "139af44a",
   "metadata": {
    "execution": {
     "iopub.execute_input": "2024-02-02T00:56:46.459634Z",
     "iopub.status.busy": "2024-02-02T00:56:46.459249Z",
     "iopub.status.idle": "2024-02-02T00:56:46.464675Z",
     "shell.execute_reply": "2024-02-02T00:56:46.463659Z"
    }
   },
   "outputs": [],
   "source": [
    "# File path for dataset\n",
    "file_path = Path.cwd().parents[1] / \"data\" / \"online_retail.xlsx\"\n",
    "assert file_path.exists(), f\"file doesn't exist: {file_path}\"\n",
    "assert file_path.is_file(), f\"not a file: {file_path}\""
   ]
  },
  {
   "cell_type": "code",
   "execution_count": 3,
   "id": "c21a2703",
   "metadata": {
    "execution": {
     "iopub.execute_input": "2024-02-02T00:56:46.469004Z",
     "iopub.status.busy": "2024-02-02T00:56:46.468635Z",
     "iopub.status.idle": "2024-02-02T00:57:53.244191Z",
     "shell.execute_reply": "2024-02-02T00:57:53.243266Z"
    }
   },
   "outputs": [],
   "source": [
    "# Columns I'll actually use\n",
    "cols = [\"InvoiceNo\", \"InvoiceDate\", \"CustomerID\", \"Quantity\", \"UnitPrice\"]\n",
    "\n",
    "df = pd.read_excel(\n",
    "    file_path,\n",
    "    usecols=cols,\n",
    "    dtype={col: object for col in filter(lambda c: c != \"InvoiceDate\", cols)},\n",
    "    parse_dates=[\"InvoiceDate\"],\n",
    ").loc[:, cols]\n",
    "df = cast(pd.DataFrame, df)"
   ]
  },
  {
   "cell_type": "code",
   "execution_count": 4,
   "id": "0d2ad93b",
   "metadata": {
    "execution": {
     "iopub.execute_input": "2024-02-02T00:57:53.249187Z",
     "iopub.status.busy": "2024-02-02T00:57:53.248370Z",
     "iopub.status.idle": "2024-02-02T00:57:53.356717Z",
     "shell.execute_reply": "2024-02-02T00:57:53.354411Z"
    }
   },
   "outputs": [
    {
     "data": {
      "text/html": [
       "<div>\n",
       "<style scoped>\n",
       "    .dataframe tbody tr th:only-of-type {\n",
       "        vertical-align: middle;\n",
       "    }\n",
       "\n",
       "    .dataframe tbody tr th {\n",
       "        vertical-align: top;\n",
       "    }\n",
       "\n",
       "    .dataframe thead th {\n",
       "        text-align: right;\n",
       "    }\n",
       "</style>\n",
       "<table border=\"1\" class=\"dataframe\">\n",
       "  <thead>\n",
       "    <tr style=\"text-align: right;\">\n",
       "      <th></th>\n",
       "      <th>InvoiceNo</th>\n",
       "      <th>InvoiceDate</th>\n",
       "      <th>CustomerID</th>\n",
       "      <th>Quantity</th>\n",
       "      <th>UnitPrice</th>\n",
       "    </tr>\n",
       "  </thead>\n",
       "  <tbody>\n",
       "    <tr>\n",
       "      <th>0</th>\n",
       "      <td>536365</td>\n",
       "      <td>2010-12-01 08:26:00</td>\n",
       "      <td>17850</td>\n",
       "      <td>6</td>\n",
       "      <td>2.55</td>\n",
       "    </tr>\n",
       "    <tr>\n",
       "      <th>1</th>\n",
       "      <td>536365</td>\n",
       "      <td>2010-12-01 08:26:00</td>\n",
       "      <td>17850</td>\n",
       "      <td>6</td>\n",
       "      <td>3.39</td>\n",
       "    </tr>\n",
       "    <tr>\n",
       "      <th>2</th>\n",
       "      <td>536365</td>\n",
       "      <td>2010-12-01 08:26:00</td>\n",
       "      <td>17850</td>\n",
       "      <td>8</td>\n",
       "      <td>2.75</td>\n",
       "    </tr>\n",
       "    <tr>\n",
       "      <th>3</th>\n",
       "      <td>536365</td>\n",
       "      <td>2010-12-01 08:26:00</td>\n",
       "      <td>17850</td>\n",
       "      <td>6</td>\n",
       "      <td>3.39</td>\n",
       "    </tr>\n",
       "    <tr>\n",
       "      <th>4</th>\n",
       "      <td>536365</td>\n",
       "      <td>2010-12-01 08:26:00</td>\n",
       "      <td>17850</td>\n",
       "      <td>6</td>\n",
       "      <td>3.39</td>\n",
       "    </tr>\n",
       "    <tr>\n",
       "      <th>5</th>\n",
       "      <td>536365</td>\n",
       "      <td>2010-12-01 08:26:00</td>\n",
       "      <td>17850</td>\n",
       "      <td>2</td>\n",
       "      <td>7.65</td>\n",
       "    </tr>\n",
       "    <tr>\n",
       "      <th>6</th>\n",
       "      <td>536365</td>\n",
       "      <td>2010-12-01 08:26:00</td>\n",
       "      <td>17850</td>\n",
       "      <td>6</td>\n",
       "      <td>4.25</td>\n",
       "    </tr>\n",
       "    <tr>\n",
       "      <th>7</th>\n",
       "      <td>536366</td>\n",
       "      <td>2010-12-01 08:28:00</td>\n",
       "      <td>17850</td>\n",
       "      <td>6</td>\n",
       "      <td>1.85</td>\n",
       "    </tr>\n",
       "    <tr>\n",
       "      <th>8</th>\n",
       "      <td>536366</td>\n",
       "      <td>2010-12-01 08:28:00</td>\n",
       "      <td>17850</td>\n",
       "      <td>6</td>\n",
       "      <td>1.85</td>\n",
       "    </tr>\n",
       "    <tr>\n",
       "      <th>9</th>\n",
       "      <td>536367</td>\n",
       "      <td>2010-12-01 08:34:00</td>\n",
       "      <td>13047</td>\n",
       "      <td>32</td>\n",
       "      <td>1.69</td>\n",
       "    </tr>\n",
       "  </tbody>\n",
       "</table>\n",
       "</div>"
      ],
      "text/plain": [
       "  InvoiceNo         InvoiceDate CustomerID Quantity UnitPrice\n",
       "0    536365 2010-12-01 08:26:00      17850        6      2.55\n",
       "1    536365 2010-12-01 08:26:00      17850        6      3.39\n",
       "2    536365 2010-12-01 08:26:00      17850        8      2.75\n",
       "3    536365 2010-12-01 08:26:00      17850        6      3.39\n",
       "4    536365 2010-12-01 08:26:00      17850        6      3.39\n",
       "5    536365 2010-12-01 08:26:00      17850        2      7.65\n",
       "6    536365 2010-12-01 08:26:00      17850        6      4.25\n",
       "7    536366 2010-12-01 08:28:00      17850        6      1.85\n",
       "8    536366 2010-12-01 08:28:00      17850        6      1.85\n",
       "9    536367 2010-12-01 08:34:00      13047       32      1.69"
      ]
     },
     "execution_count": 4,
     "metadata": {},
     "output_type": "execute_result"
    }
   ],
   "source": [
    "df.head(10)"
   ]
  },
  {
   "cell_type": "code",
   "execution_count": 5,
   "id": "725c5455",
   "metadata": {
    "execution": {
     "iopub.execute_input": "2024-02-02T00:57:53.365597Z",
     "iopub.status.busy": "2024-02-02T00:57:53.364329Z",
     "iopub.status.idle": "2024-02-02T00:57:53.496261Z",
     "shell.execute_reply": "2024-02-02T00:57:53.495150Z"
    }
   },
   "outputs": [
    {
     "name": "stdout",
     "output_type": "stream",
     "text": [
      "<class 'pandas.core.frame.DataFrame'>\n",
      "RangeIndex: 541909 entries, 0 to 541908\n",
      "Data columns (total 5 columns):\n",
      " #   Column       Non-Null Count   Dtype         \n",
      "---  ------       --------------   -----         \n",
      " 0   InvoiceNo    541909 non-null  object        \n",
      " 1   InvoiceDate  541909 non-null  datetime64[ns]\n",
      " 2   CustomerID   406829 non-null  object        \n",
      " 3   Quantity     541909 non-null  object        \n",
      " 4   UnitPrice    541909 non-null  object        \n",
      "dtypes: datetime64[ns](1), object(4)\n",
      "memory usage: 20.7+ MB\n"
     ]
    }
   ],
   "source": [
    "df.info()"
   ]
  },
  {
   "cell_type": "markdown",
   "id": "22b6b078",
   "metadata": {},
   "source": [
    "## Data cleaning"
   ]
  },
  {
   "cell_type": "code",
   "execution_count": 6,
   "id": "2fe8e6e9",
   "metadata": {
    "execution": {
     "iopub.execute_input": "2024-02-02T00:57:53.500529Z",
     "iopub.status.busy": "2024-02-02T00:57:53.500014Z",
     "iopub.status.idle": "2024-02-02T00:57:53.615849Z",
     "shell.execute_reply": "2024-02-02T00:57:53.614847Z"
    }
   },
   "outputs": [
    {
     "data": {
      "text/plain": [
       "InvoiceNo           0\n",
       "InvoiceDate         0\n",
       "CustomerID     135080\n",
       "Quantity            0\n",
       "UnitPrice           0\n",
       "dtype: int64"
      ]
     },
     "execution_count": 6,
     "metadata": {},
     "output_type": "execute_result"
    }
   ],
   "source": [
    "# Missing values\n",
    "df.isna().sum()"
   ]
  },
  {
   "cell_type": "markdown",
   "id": "d7584d49",
   "metadata": {},
   "source": [
    "I really need to know who bought what. In other words, rows with missing\n",
    "`CustomerID` have to go."
   ]
  },
  {
   "cell_type": "code",
   "execution_count": 7,
   "id": "8bfcb09c",
   "metadata": {
    "execution": {
     "iopub.execute_input": "2024-02-02T00:57:53.619816Z",
     "iopub.status.busy": "2024-02-02T00:57:53.619382Z",
     "iopub.status.idle": "2024-02-02T00:57:53.844376Z",
     "shell.execute_reply": "2024-02-02T00:57:53.843262Z"
    }
   },
   "outputs": [
    {
     "name": "stdout",
     "output_type": "stream",
     "text": [
      "<class 'pandas.core.frame.DataFrame'>\n",
      "Index: 406829 entries, 0 to 541908\n",
      "Data columns (total 5 columns):\n",
      " #   Column       Non-Null Count   Dtype         \n",
      "---  ------       --------------   -----         \n",
      " 0   InvoiceNo    406829 non-null  object        \n",
      " 1   InvoiceDate  406829 non-null  datetime64[ns]\n",
      " 2   CustomerID   406829 non-null  object        \n",
      " 3   Quantity     406829 non-null  object        \n",
      " 4   UnitPrice    406829 non-null  object        \n",
      "dtypes: datetime64[ns](1), object(4)\n",
      "memory usage: 18.6+ MB\n"
     ]
    }
   ],
   "source": [
    "df = df.dropna()\n",
    "df.info()"
   ]
  },
  {
   "cell_type": "code",
   "execution_count": 8,
   "id": "7c06db61",
   "metadata": {
    "execution": {
     "iopub.execute_input": "2024-02-02T00:57:53.848238Z",
     "iopub.status.busy": "2024-02-02T00:57:53.847924Z",
     "iopub.status.idle": "2024-02-02T00:57:53.881961Z",
     "shell.execute_reply": "2024-02-02T00:57:53.880912Z"
    }
   },
   "outputs": [
    {
     "data": {
      "text/plain": [
       "8905"
      ]
     },
     "execution_count": 8,
     "metadata": {},
     "output_type": "execute_result"
    }
   ],
   "source": [
    "# Look for invalid quantities\n",
    "(df[\"Quantity\"] <= 0).sum()"
   ]
  },
  {
   "cell_type": "markdown",
   "id": "df0f701e",
   "metadata": {},
   "source": [
    "Not every row corresponds to a sale. When the invoice number starts with \"C\",\n",
    "that transaction was canceled. That explains the observations with\n",
    "non-positive quantities."
   ]
  },
  {
   "cell_type": "code",
   "execution_count": 9,
   "id": "641c9e18",
   "metadata": {
    "execution": {
     "iopub.execute_input": "2024-02-02T00:57:53.886862Z",
     "iopub.status.busy": "2024-02-02T00:57:53.886526Z",
     "iopub.status.idle": "2024-02-02T00:57:54.113457Z",
     "shell.execute_reply": "2024-02-02T00:57:54.112441Z"
    }
   },
   "outputs": [
    {
     "data": {
      "text/plain": [
       "8905"
      ]
     },
     "execution_count": 9,
     "metadata": {},
     "output_type": "execute_result"
    }
   ],
   "source": [
    "df[\"InvoiceNo\"].astype(str).str.startswith(\"C\").sum()"
   ]
  },
  {
   "cell_type": "markdown",
   "id": "ce03b5ab",
   "metadata": {},
   "source": [
    "I chose to remove those rows:"
   ]
  },
  {
   "cell_type": "code",
   "execution_count": 10,
   "id": "9c84a191",
   "metadata": {
    "execution": {
     "iopub.execute_input": "2024-02-02T00:57:54.117650Z",
     "iopub.status.busy": "2024-02-02T00:57:54.117357Z",
     "iopub.status.idle": "2024-02-02T00:57:54.399955Z",
     "shell.execute_reply": "2024-02-02T00:57:54.398970Z"
    }
   },
   "outputs": [],
   "source": [
    "df = df.loc[df[\"Quantity\"] > 0, :]\n",
    "df = cast(pd.DataFrame, df)\n",
    "\n",
    "# Quick check\n",
    "assert df[\"InvoiceNo\"].astype(str).str.startswith(\"C\").sum() == 0, \"there are remaining canceled transactions\""
   ]
  },
  {
   "cell_type": "code",
   "execution_count": 11,
   "id": "4b2720d8",
   "metadata": {
    "execution": {
     "iopub.execute_input": "2024-02-02T00:57:54.404775Z",
     "iopub.status.busy": "2024-02-02T00:57:54.404400Z",
     "iopub.status.idle": "2024-02-02T00:57:54.440385Z",
     "shell.execute_reply": "2024-02-02T00:57:54.439156Z"
    }
   },
   "outputs": [
    {
     "data": {
      "text/plain": [
       "40"
      ]
     },
     "execution_count": 11,
     "metadata": {},
     "output_type": "execute_result"
    }
   ],
   "source": [
    "# Look for invalid prices\n",
    "(df[\"UnitPrice\"] == 0.0).sum()"
   ]
  },
  {
   "cell_type": "markdown",
   "id": "961cd959",
   "metadata": {},
   "source": [
    "I don't know how to explain such values. They should make no difference. Then\n",
    "I chose to drop them:"
   ]
  },
  {
   "cell_type": "code",
   "execution_count": 12,
   "id": "3a0cb868",
   "metadata": {
    "execution": {
     "iopub.execute_input": "2024-02-02T00:57:54.444949Z",
     "iopub.status.busy": "2024-02-02T00:57:54.444649Z",
     "iopub.status.idle": "2024-02-02T00:57:54.503413Z",
     "shell.execute_reply": "2024-02-02T00:57:54.502608Z"
    }
   },
   "outputs": [],
   "source": [
    "df = df.loc[df[\"UnitPrice\"] != 0.0, :]\n",
    "df = cast(pd.DataFrame, df)"
   ]
  },
  {
   "cell_type": "markdown",
   "id": "7dbca7da",
   "metadata": {},
   "source": [
    "## Finish fixing dataset"
   ]
  },
  {
   "cell_type": "code",
   "execution_count": 13,
   "id": "35c0af57",
   "metadata": {
    "execution": {
     "iopub.execute_input": "2024-02-02T00:57:54.507366Z",
     "iopub.status.busy": "2024-02-02T00:57:54.507061Z",
     "iopub.status.idle": "2024-02-02T00:57:54.616776Z",
     "shell.execute_reply": "2024-02-02T00:57:54.615764Z"
    }
   },
   "outputs": [
    {
     "name": "stdout",
     "output_type": "stream",
     "text": [
      "<class 'pandas.core.frame.DataFrame'>\n",
      "RangeIndex: 397884 entries, 0 to 397883\n",
      "Data columns (total 5 columns):\n",
      " #   Column       Non-Null Count   Dtype         \n",
      "---  ------       --------------   -----         \n",
      " 0   InvoiceNo    397884 non-null  object        \n",
      " 1   InvoiceDate  397884 non-null  datetime64[ns]\n",
      " 2   CustomerID   397884 non-null  object        \n",
      " 3   Quantity     397884 non-null  object        \n",
      " 4   UnitPrice    397884 non-null  object        \n",
      "dtypes: datetime64[ns](1), object(4)\n",
      "memory usage: 15.2+ MB\n"
     ]
    }
   ],
   "source": [
    "df = df.reset_index(drop=True)\n",
    "df.info()"
   ]
  },
  {
   "cell_type": "code",
   "execution_count": 14,
   "id": "faed695e",
   "metadata": {
    "execution": {
     "iopub.execute_input": "2024-02-02T00:57:54.620875Z",
     "iopub.status.busy": "2024-02-02T00:57:54.620594Z",
     "iopub.status.idle": "2024-02-02T00:57:54.753343Z",
     "shell.execute_reply": "2024-02-02T00:57:54.752387Z"
    }
   },
   "outputs": [
    {
     "data": {
      "text/plain": [
       "InvoiceNo            category\n",
       "InvoiceDate    datetime64[ns]\n",
       "CustomerID           category\n",
       "Quantity                int64\n",
       "UnitPrice             float64\n",
       "dtype: object"
      ]
     },
     "execution_count": 14,
     "metadata": {},
     "output_type": "execute_result"
    }
   ],
   "source": [
    "# Use appropriate data types\n",
    "df[\"InvoiceNo\"] = df[\"InvoiceNo\"].astype(\"category\")\n",
    "df[\"CustomerID\"] = df[\"CustomerID\"].astype(\"category\")\n",
    "df[\"Quantity\"] = df[\"Quantity\"].astype(np.int_)\n",
    "df[\"UnitPrice\"] = df[\"UnitPrice\"].astype(np.float_)\n",
    "\n",
    "df.dtypes"
   ]
  },
  {
   "cell_type": "markdown",
   "id": "596b3298",
   "metadata": {},
   "source": [
    "The only part of `InvoiceDate` that matters is the date. The following\n",
    "command sets all the times to midnight:"
   ]
  },
  {
   "cell_type": "code",
   "execution_count": 15,
   "id": "974d15e6",
   "metadata": {
    "execution": {
     "iopub.execute_input": "2024-02-02T00:57:54.758201Z",
     "iopub.status.busy": "2024-02-02T00:57:54.757673Z",
     "iopub.status.idle": "2024-02-02T00:57:54.782539Z",
     "shell.execute_reply": "2024-02-02T00:57:54.781568Z"
    }
   },
   "outputs": [
    {
     "data": {
      "text/plain": [
       "0   2010-12-01\n",
       "1   2010-12-01\n",
       "2   2010-12-01\n",
       "3   2010-12-01\n",
       "4   2010-12-01\n",
       "Name: InvoiceDate, dtype: datetime64[ns]"
      ]
     },
     "execution_count": 15,
     "metadata": {},
     "output_type": "execute_result"
    }
   ],
   "source": [
    "df[\"InvoiceDate\"] = df[\"InvoiceDate\"].dt.normalize()\n",
    "df[\"InvoiceDate\"].head()"
   ]
  },
  {
   "cell_type": "markdown",
   "id": "b09afb2b",
   "metadata": {
    "lines_to_next_cell": 2
   },
   "source": [
    "For convenience, I'll collect the essential parts of the above code, and\n",
    "create a function:"
   ]
  },
  {
   "cell_type": "code",
   "execution_count": 16,
   "id": "02dff90e",
   "metadata": {
    "execution": {
     "iopub.execute_input": "2024-02-02T00:57:54.786998Z",
     "iopub.status.busy": "2024-02-02T00:57:54.786718Z",
     "iopub.status.idle": "2024-02-02T00:57:54.806561Z",
     "shell.execute_reply": "2024-02-02T00:57:54.805542Z"
    }
   },
   "outputs": [],
   "source": [
    "def get_clean_data(file_path: Path) -> pd.DataFrame:\n",
    "    cols = [\"InvoiceNo\", \"InvoiceDate\", \"CustomerID\", \"Quantity\", \"UnitPrice\"]\n",
    "    df = pd.read_excel(\n",
    "        file_path,\n",
    "        usecols=cols,\n",
    "        dtype={col: object for col in filter(lambda c: c != \"InvoiceDate\", cols)},\n",
    "        parse_dates=[\"InvoiceDate\"],\n",
    "    ).loc[:, cols]\n",
    "    df = cast(pd.DataFrame, df)\n",
    "\n",
    "    df = df.dropna()\n",
    "\n",
    "    df = df.loc[df[\"Quantity\"] > 0, :]\n",
    "    df = cast(pd.DataFrame, df)\n",
    "\n",
    "    df = df.loc[df[\"UnitPrice\"] != 0.0, :]\n",
    "    df = cast(pd.DataFrame, df)\n",
    "\n",
    "    df = df.reset_index(drop=True)\n",
    "\n",
    "    df[\"InvoiceNo\"] = df[\"InvoiceNo\"].astype(\"category\")\n",
    "    df[\"CustomerID\"] = df[\"CustomerID\"].astype(\"category\")\n",
    "    df[\"Quantity\"] = df[\"Quantity\"].astype(np.int_)\n",
    "    df[\"UnitPrice\"] = df[\"UnitPrice\"].astype(np.float_)\n",
    "\n",
    "    df[\"InvoiceDate\"] = df[\"InvoiceDate\"].dt.normalize()\n",
    "\n",
    "    return df"
   ]
  },
  {
   "cell_type": "code",
   "execution_count": 17,
   "id": "369efd57",
   "metadata": {
    "execution": {
     "iopub.execute_input": "2024-02-02T00:57:54.811172Z",
     "iopub.status.busy": "2024-02-02T00:57:54.810805Z",
     "iopub.status.idle": "2024-02-02T00:59:10.656843Z",
     "shell.execute_reply": "2024-02-02T00:59:10.655914Z"
    }
   },
   "outputs": [],
   "source": [
    "# Quick check\n",
    "df_func = get_clean_data(file_path)\n",
    "assert_frame_equal(df_func, df)\n",
    "del df_func"
   ]
  },
  {
   "cell_type": "markdown",
   "id": "63bc44a1",
   "metadata": {},
   "source": [
    "## Aggregate data\n",
    "\n",
    "Before aggregating the data, I'll do some more consistency tests. Rows with\n",
    "the same `InvoiceNo` must also have the same `InvoiceDate`. For a specific\n",
    "value of `InvoiceNo`, this can be tested as follows:"
   ]
  },
  {
   "cell_type": "code",
   "execution_count": 18,
   "id": "51cbe9a9",
   "metadata": {
    "execution": {
     "iopub.execute_input": "2024-02-02T00:59:10.660936Z",
     "iopub.status.busy": "2024-02-02T00:59:10.660632Z",
     "iopub.status.idle": "2024-02-02T00:59:10.668721Z",
     "shell.execute_reply": "2024-02-02T00:59:10.667662Z"
    }
   },
   "outputs": [
    {
     "data": {
      "text/plain": [
       "True"
      ]
     },
     "execution_count": 18,
     "metadata": {},
     "output_type": "execute_result"
    }
   ],
   "source": [
    "df.loc[df[\"InvoiceNo\"] == 536365, \"InvoiceDate\"].nunique() == 1"
   ]
  },
  {
   "cell_type": "markdown",
   "id": "8418fae3",
   "metadata": {},
   "source": [
    "To test all values of `InvoiceNo`, one can do the following:"
   ]
  },
  {
   "cell_type": "code",
   "execution_count": 19,
   "id": "d39d5986",
   "metadata": {
    "execution": {
     "iopub.execute_input": "2024-02-02T00:59:10.673181Z",
     "iopub.status.busy": "2024-02-02T00:59:10.672878Z",
     "iopub.status.idle": "2024-02-02T00:59:10.702236Z",
     "shell.execute_reply": "2024-02-02T00:59:10.701300Z"
    }
   },
   "outputs": [
    {
     "data": {
      "text/plain": [
       "True"
      ]
     },
     "execution_count": 19,
     "metadata": {},
     "output_type": "execute_result"
    }
   ],
   "source": [
    "df.groupby(by=\"InvoiceNo\", observed=True).InvoiceDate.nunique().eq(1).all()"
   ]
  },
  {
   "cell_type": "markdown",
   "id": "11d48e7b",
   "metadata": {},
   "source": [
    "Similarly, rows with the same `InvoiceNo` must also have the same\n",
    "`CustomerID`. Checking if this is true:"
   ]
  },
  {
   "cell_type": "code",
   "execution_count": 20,
   "id": "24ef4ab0",
   "metadata": {
    "execution": {
     "iopub.execute_input": "2024-02-02T00:59:10.706806Z",
     "iopub.status.busy": "2024-02-02T00:59:10.706372Z",
     "iopub.status.idle": "2024-02-02T00:59:10.714365Z",
     "shell.execute_reply": "2024-02-02T00:59:10.713361Z"
    }
   },
   "outputs": [
    {
     "data": {
      "text/plain": [
       "True"
      ]
     },
     "execution_count": 20,
     "metadata": {},
     "output_type": "execute_result"
    }
   ],
   "source": [
    "# Single value\n",
    "df.loc[df[\"InvoiceNo\"] == 536365, \"CustomerID\"].nunique() == 1"
   ]
  },
  {
   "cell_type": "code",
   "execution_count": 21,
   "id": "e275fa8f",
   "metadata": {
    "execution": {
     "iopub.execute_input": "2024-02-02T00:59:10.718568Z",
     "iopub.status.busy": "2024-02-02T00:59:10.717882Z",
     "iopub.status.idle": "2024-02-02T00:59:10.747393Z",
     "shell.execute_reply": "2024-02-02T00:59:10.746380Z"
    }
   },
   "outputs": [
    {
     "data": {
      "text/plain": [
       "True"
      ]
     },
     "execution_count": 21,
     "metadata": {},
     "output_type": "execute_result"
    }
   ],
   "source": [
    "# All values\n",
    "df.groupby(by=\"InvoiceNo\", observed=True).CustomerID.nunique().eq(1).all()"
   ]
  },
  {
   "cell_type": "markdown",
   "id": "ef590f50",
   "metadata": {},
   "source": [
    "Everything is OK. Then I'll compute the total amount spent for each\n",
    "`InvoiceNo`."
   ]
  },
  {
   "cell_type": "code",
   "execution_count": 22,
   "id": "ca9ed4c9",
   "metadata": {
    "execution": {
     "iopub.execute_input": "2024-02-02T00:59:10.751608Z",
     "iopub.status.busy": "2024-02-02T00:59:10.750785Z",
     "iopub.status.idle": "2024-02-02T00:59:10.764973Z",
     "shell.execute_reply": "2024-02-02T00:59:10.764041Z"
    }
   },
   "outputs": [
    {
     "data": {
      "text/html": [
       "<div>\n",
       "<style scoped>\n",
       "    .dataframe tbody tr th:only-of-type {\n",
       "        vertical-align: middle;\n",
       "    }\n",
       "\n",
       "    .dataframe tbody tr th {\n",
       "        vertical-align: top;\n",
       "    }\n",
       "\n",
       "    .dataframe thead th {\n",
       "        text-align: right;\n",
       "    }\n",
       "</style>\n",
       "<table border=\"1\" class=\"dataframe\">\n",
       "  <thead>\n",
       "    <tr style=\"text-align: right;\">\n",
       "      <th></th>\n",
       "      <th>InvoiceNo</th>\n",
       "      <th>InvoiceDate</th>\n",
       "      <th>CustomerID</th>\n",
       "      <th>Quantity</th>\n",
       "      <th>UnitPrice</th>\n",
       "    </tr>\n",
       "  </thead>\n",
       "  <tbody>\n",
       "    <tr>\n",
       "      <th>0</th>\n",
       "      <td>536365</td>\n",
       "      <td>2010-12-01</td>\n",
       "      <td>17850</td>\n",
       "      <td>6</td>\n",
       "      <td>2.55</td>\n",
       "    </tr>\n",
       "    <tr>\n",
       "      <th>1</th>\n",
       "      <td>536365</td>\n",
       "      <td>2010-12-01</td>\n",
       "      <td>17850</td>\n",
       "      <td>6</td>\n",
       "      <td>3.39</td>\n",
       "    </tr>\n",
       "    <tr>\n",
       "      <th>2</th>\n",
       "      <td>536365</td>\n",
       "      <td>2010-12-01</td>\n",
       "      <td>17850</td>\n",
       "      <td>8</td>\n",
       "      <td>2.75</td>\n",
       "    </tr>\n",
       "    <tr>\n",
       "      <th>3</th>\n",
       "      <td>536365</td>\n",
       "      <td>2010-12-01</td>\n",
       "      <td>17850</td>\n",
       "      <td>6</td>\n",
       "      <td>3.39</td>\n",
       "    </tr>\n",
       "    <tr>\n",
       "      <th>4</th>\n",
       "      <td>536365</td>\n",
       "      <td>2010-12-01</td>\n",
       "      <td>17850</td>\n",
       "      <td>6</td>\n",
       "      <td>3.39</td>\n",
       "    </tr>\n",
       "    <tr>\n",
       "      <th>5</th>\n",
       "      <td>536365</td>\n",
       "      <td>2010-12-01</td>\n",
       "      <td>17850</td>\n",
       "      <td>2</td>\n",
       "      <td>7.65</td>\n",
       "    </tr>\n",
       "    <tr>\n",
       "      <th>6</th>\n",
       "      <td>536365</td>\n",
       "      <td>2010-12-01</td>\n",
       "      <td>17850</td>\n",
       "      <td>6</td>\n",
       "      <td>4.25</td>\n",
       "    </tr>\n",
       "  </tbody>\n",
       "</table>\n",
       "</div>"
      ],
      "text/plain": [
       "  InvoiceNo InvoiceDate CustomerID  Quantity  UnitPrice\n",
       "0    536365  2010-12-01      17850         6       2.55\n",
       "1    536365  2010-12-01      17850         6       3.39\n",
       "2    536365  2010-12-01      17850         8       2.75\n",
       "3    536365  2010-12-01      17850         6       3.39\n",
       "4    536365  2010-12-01      17850         6       3.39\n",
       "5    536365  2010-12-01      17850         2       7.65\n",
       "6    536365  2010-12-01      17850         6       4.25"
      ]
     },
     "execution_count": 22,
     "metadata": {},
     "output_type": "execute_result"
    }
   ],
   "source": [
    "# Figuring out how to do it\n",
    "tmp_df = df.loc[df[\"InvoiceNo\"] == 536365, :]\n",
    "tmp_df = cast(pd.DataFrame, tmp_df)\n",
    "tmp_df"
   ]
  },
  {
   "cell_type": "code",
   "execution_count": 23,
   "id": "09bf9fdd",
   "metadata": {
    "execution": {
     "iopub.execute_input": "2024-02-02T00:59:10.769271Z",
     "iopub.status.busy": "2024-02-02T00:59:10.768903Z",
     "iopub.status.idle": "2024-02-02T00:59:10.777989Z",
     "shell.execute_reply": "2024-02-02T00:59:10.776922Z"
    }
   },
   "outputs": [
    {
     "data": {
      "text/plain": [
       "InvoiceDate    2010-12-01 00:00:00\n",
       "CustomerID                   17850\n",
       "TotalPrice                  139.12\n",
       "dtype: object"
      ]
     },
     "execution_count": 23,
     "metadata": {},
     "output_type": "execute_result"
    }
   ],
   "source": [
    "tmp_row = pd.Series(\n",
    "    data={\n",
    "        \"InvoiceDate\": tmp_df[\"InvoiceDate\"].iloc[0],\n",
    "        \"CustomerID\": tmp_df[\"CustomerID\"].iloc[0],\n",
    "        \"TotalPrice\": (tmp_df[\"Quantity\"] * tmp_df[\"UnitPrice\"]).sum(),\n",
    "    }\n",
    ")\n",
    "tmp_row"
   ]
  },
  {
   "cell_type": "code",
   "execution_count": 24,
   "id": "08dfbffc",
   "metadata": {
    "execution": {
     "iopub.execute_input": "2024-02-02T00:59:10.782250Z",
     "iopub.status.busy": "2024-02-02T00:59:10.781880Z",
     "iopub.status.idle": "2024-02-02T00:59:10.785857Z",
     "shell.execute_reply": "2024-02-02T00:59:10.784942Z"
    }
   },
   "outputs": [],
   "source": [
    "del tmp_df\n",
    "del tmp_row"
   ]
  },
  {
   "cell_type": "code",
   "execution_count": 25,
   "id": "e018dda0",
   "metadata": {
    "execution": {
     "iopub.execute_input": "2024-02-02T00:59:10.790561Z",
     "iopub.status.busy": "2024-02-02T00:59:10.789784Z",
     "iopub.status.idle": "2024-02-02T00:59:10.795939Z",
     "shell.execute_reply": "2024-02-02T00:59:10.794941Z"
    }
   },
   "outputs": [],
   "source": [
    "# Actual calculation\n",
    "def compute_total_price(df_group: pd.DataFrame) -> pd.Series:\n",
    "    return pd.Series(\n",
    "        data={\n",
    "            \"InvoiceDate\": df_group[\"InvoiceDate\"].iloc[0],\n",
    "            \"CustomerID\": df_group[\"CustomerID\"].iloc[0],\n",
    "            \"TotalPrice\": (df_group[\"Quantity\"] * df_group[\"UnitPrice\"]).sum(),\n",
    "        }\n",
    "    )"
   ]
  },
  {
   "cell_type": "code",
   "execution_count": 26,
   "id": "6058b03a",
   "metadata": {
    "execution": {
     "iopub.execute_input": "2024-02-02T00:59:10.800578Z",
     "iopub.status.busy": "2024-02-02T00:59:10.800142Z",
     "iopub.status.idle": "2024-02-02T00:59:24.684363Z",
     "shell.execute_reply": "2024-02-02T00:59:24.683401Z"
    }
   },
   "outputs": [
    {
     "data": {
      "text/html": [
       "<div>\n",
       "<style scoped>\n",
       "    .dataframe tbody tr th:only-of-type {\n",
       "        vertical-align: middle;\n",
       "    }\n",
       "\n",
       "    .dataframe tbody tr th {\n",
       "        vertical-align: top;\n",
       "    }\n",
       "\n",
       "    .dataframe thead th {\n",
       "        text-align: right;\n",
       "    }\n",
       "</style>\n",
       "<table border=\"1\" class=\"dataframe\">\n",
       "  <thead>\n",
       "    <tr style=\"text-align: right;\">\n",
       "      <th></th>\n",
       "      <th>InvoiceNo</th>\n",
       "      <th>InvoiceDate</th>\n",
       "      <th>CustomerID</th>\n",
       "      <th>TotalPrice</th>\n",
       "    </tr>\n",
       "  </thead>\n",
       "  <tbody>\n",
       "    <tr>\n",
       "      <th>0</th>\n",
       "      <td>536365</td>\n",
       "      <td>2010-12-01</td>\n",
       "      <td>17850</td>\n",
       "      <td>139.12</td>\n",
       "    </tr>\n",
       "    <tr>\n",
       "      <th>1</th>\n",
       "      <td>536366</td>\n",
       "      <td>2010-12-01</td>\n",
       "      <td>17850</td>\n",
       "      <td>22.20</td>\n",
       "    </tr>\n",
       "    <tr>\n",
       "      <th>2</th>\n",
       "      <td>536367</td>\n",
       "      <td>2010-12-01</td>\n",
       "      <td>13047</td>\n",
       "      <td>278.73</td>\n",
       "    </tr>\n",
       "    <tr>\n",
       "      <th>3</th>\n",
       "      <td>536368</td>\n",
       "      <td>2010-12-01</td>\n",
       "      <td>13047</td>\n",
       "      <td>70.05</td>\n",
       "    </tr>\n",
       "    <tr>\n",
       "      <th>4</th>\n",
       "      <td>536369</td>\n",
       "      <td>2010-12-01</td>\n",
       "      <td>13047</td>\n",
       "      <td>17.85</td>\n",
       "    </tr>\n",
       "  </tbody>\n",
       "</table>\n",
       "</div>"
      ],
      "text/plain": [
       "  InvoiceNo InvoiceDate  CustomerID  TotalPrice\n",
       "0    536365  2010-12-01       17850      139.12\n",
       "1    536366  2010-12-01       17850       22.20\n",
       "2    536367  2010-12-01       13047      278.73\n",
       "3    536368  2010-12-01       13047       70.05\n",
       "4    536369  2010-12-01       13047       17.85"
      ]
     },
     "execution_count": 26,
     "metadata": {},
     "output_type": "execute_result"
    }
   ],
   "source": [
    "df_total = (\n",
    "    df.groupby(by=\"InvoiceNo\", observed=True).apply(compute_total_price, include_groups=False).reset_index()\n",
    ")\n",
    "df_total.head()"
   ]
  },
  {
   "cell_type": "code",
   "execution_count": 27,
   "id": "4f56a822",
   "metadata": {
    "execution": {
     "iopub.execute_input": "2024-02-02T00:59:24.688868Z",
     "iopub.status.busy": "2024-02-02T00:59:24.688594Z",
     "iopub.status.idle": "2024-02-02T00:59:24.700179Z",
     "shell.execute_reply": "2024-02-02T00:59:24.699167Z"
    }
   },
   "outputs": [
    {
     "name": "stdout",
     "output_type": "stream",
     "text": [
      "<class 'pandas.core.frame.DataFrame'>\n",
      "RangeIndex: 18532 entries, 0 to 18531\n",
      "Data columns (total 4 columns):\n",
      " #   Column       Non-Null Count  Dtype         \n",
      "---  ------       --------------  -----         \n",
      " 0   InvoiceNo    18532 non-null  category      \n",
      " 1   InvoiceDate  18532 non-null  datetime64[ns]\n",
      " 2   CustomerID   18532 non-null  int64         \n",
      " 3   TotalPrice   18532 non-null  float64       \n",
      "dtypes: category(1), datetime64[ns](1), float64(1), int64(1)\n",
      "memory usage: 1.1 MB\n"
     ]
    }
   ],
   "source": [
    "df_total.info()"
   ]
  },
  {
   "cell_type": "markdown",
   "id": "42b7afcf",
   "metadata": {},
   "source": [
    "## Save prepared data\n",
    "\n",
    "Clearly, I've ended up with a much smaller dataset than the original. To\n",
    "avoid having to repeat the above steps, I'll save the new `DataFrame` to a\n",
    "CSV file."
   ]
  },
  {
   "cell_type": "code",
   "execution_count": 28,
   "id": "cceb7fab",
   "metadata": {
    "execution": {
     "iopub.execute_input": "2024-02-02T00:59:24.704795Z",
     "iopub.status.busy": "2024-02-02T00:59:24.704020Z",
     "iopub.status.idle": "2024-02-02T00:59:24.781175Z",
     "shell.execute_reply": "2024-02-02T00:59:24.780191Z"
    }
   },
   "outputs": [],
   "source": [
    "# File path for output CSV\n",
    "out_file = file_path.parent / \"online_retail.csv\"\n",
    "\n",
    "df_total.to_csv(out_file, index=False)"
   ]
  },
  {
   "cell_type": "markdown",
   "id": "431dcbfb",
   "metadata": {
    "lines_to_next_cell": 2
   },
   "source": [
    "## Summarizing through a function\n",
    "\n",
    "To conclude, I'll implement a function that summarizes what was done in\n",
    "this notebook."
   ]
  },
  {
   "cell_type": "code",
   "execution_count": 29,
   "id": "07280974",
   "metadata": {
    "execution": {
     "iopub.execute_input": "2024-02-02T00:59:24.785060Z",
     "iopub.status.busy": "2024-02-02T00:59:24.784575Z",
     "iopub.status.idle": "2024-02-02T00:59:24.790061Z",
     "shell.execute_reply": "2024-02-02T00:59:24.789029Z"
    }
   },
   "outputs": [],
   "source": [
    "def prepare_and_save_data(file_path: Path) -> None:\n",
    "    clean_data = get_clean_data(file_path)\n",
    "    aggregated_data = (\n",
    "        clean_data.groupby(\"InvoiceNo\", observed=True)\n",
    "        .apply(compute_total_price, include_groups=False)\n",
    "        .reset_index()\n",
    "    )\n",
    "    out_file = file_path.with_suffix(\".csv\")\n",
    "    aggregated_data.to_csv(out_file, index=False)"
   ]
  },
  {
   "cell_type": "code",
   "execution_count": 30,
   "id": "e0fe073a",
   "metadata": {
    "execution": {
     "iopub.execute_input": "2024-02-02T00:59:24.794190Z",
     "iopub.status.busy": "2024-02-02T00:59:24.793612Z",
     "iopub.status.idle": "2024-02-02T01:00:45.212425Z",
     "shell.execute_reply": "2024-02-02T01:00:45.211421Z"
    }
   },
   "outputs": [],
   "source": [
    "prepare_and_save_data(Path.cwd().parents[1] / \"data\" / \"online_retail.xlsx\")"
   ]
  }
 ],
 "metadata": {
  "jupytext": {
   "cell_metadata_filter": "-all",
   "main_language": "python",
   "notebook_metadata_filter": "-all"
  },
  "language_info": {
   "codemirror_mode": {
    "name": "ipython",
    "version": 3
   },
   "file_extension": ".py",
   "mimetype": "text/x-python",
   "name": "python",
   "nbconvert_exporter": "python",
   "pygments_lexer": "ipython3",
   "version": "3.11.6"
  }
 },
 "nbformat": 4,
 "nbformat_minor": 5
}
