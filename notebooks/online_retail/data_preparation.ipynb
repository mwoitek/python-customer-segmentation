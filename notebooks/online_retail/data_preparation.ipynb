{
 "cells": [
  {
   "cell_type": "markdown",
   "id": "da0daa43",
   "metadata": {},
   "source": [
    "# Online Retail Dataset: Data Preparation\n",
    "\n",
    "In this notebook, I'll prepare the dataset for analysis.\n",
    "\n",
    "## Imports"
   ]
  },
  {
   "cell_type": "code",
   "execution_count": 1,
   "id": "fb78eded",
   "metadata": {
    "execution": {
     "iopub.execute_input": "2024-02-07T14:24:38.495195Z",
     "iopub.status.busy": "2024-02-07T14:24:38.494277Z",
     "iopub.status.idle": "2024-02-07T14:24:39.031907Z",
     "shell.execute_reply": "2024-02-07T14:24:39.030895Z"
    }
   },
   "outputs": [],
   "source": [
    "from pathlib import Path\n",
    "from typing import cast\n",
    "\n",
    "import numpy as np\n",
    "import pandas as pd\n",
    "from pandas.testing import assert_frame_equal"
   ]
  },
  {
   "cell_type": "markdown",
   "id": "5aa6ac4b",
   "metadata": {},
   "source": [
    "## Read dataset"
   ]
  },
  {
   "cell_type": "code",
   "execution_count": 2,
   "id": "a8bfd302",
   "metadata": {
    "execution": {
     "iopub.execute_input": "2024-02-07T14:24:39.036295Z",
     "iopub.status.busy": "2024-02-07T14:24:39.035688Z",
     "iopub.status.idle": "2024-02-07T14:24:39.040974Z",
     "shell.execute_reply": "2024-02-07T14:24:39.039928Z"
    }
   },
   "outputs": [],
   "source": [
    "# File path for dataset\n",
    "file_path = Path.cwd().parents[1] / \"data\" / \"online_retail.xlsx\"\n",
    "assert file_path.exists(), f\"file doesn't exist: {file_path}\"\n",
    "assert file_path.is_file(), f\"not a file: {file_path}\""
   ]
  },
  {
   "cell_type": "code",
   "execution_count": 3,
   "id": "37185905",
   "metadata": {
    "execution": {
     "iopub.execute_input": "2024-02-07T14:24:39.044906Z",
     "iopub.status.busy": "2024-02-07T14:24:39.044531Z",
     "iopub.status.idle": "2024-02-07T14:25:47.049352Z",
     "shell.execute_reply": "2024-02-07T14:25:47.047175Z"
    }
   },
   "outputs": [],
   "source": [
    "# Columns I'll actually use\n",
    "cols = [\"InvoiceNo\", \"InvoiceDate\", \"CustomerID\", \"Quantity\", \"UnitPrice\"]\n",
    "\n",
    "df = pd.read_excel(\n",
    "    file_path,\n",
    "    usecols=cols,\n",
    "    dtype={col: object for col in filter(lambda c: c != \"InvoiceDate\", cols)},\n",
    "    parse_dates=[\"InvoiceDate\"],\n",
    ").loc[:, cols]\n",
    "df = cast(pd.DataFrame, df)"
   ]
  },
  {
   "cell_type": "code",
   "execution_count": 4,
   "id": "f02b4215",
   "metadata": {
    "execution": {
     "iopub.execute_input": "2024-02-07T14:25:47.056344Z",
     "iopub.status.busy": "2024-02-07T14:25:47.055881Z",
     "iopub.status.idle": "2024-02-07T14:25:47.073015Z",
     "shell.execute_reply": "2024-02-07T14:25:47.071956Z"
    }
   },
   "outputs": [
    {
     "data": {
      "text/html": [
       "<div>\n",
       "<style scoped>\n",
       "    .dataframe tbody tr th:only-of-type {\n",
       "        vertical-align: middle;\n",
       "    }\n",
       "\n",
       "    .dataframe tbody tr th {\n",
       "        vertical-align: top;\n",
       "    }\n",
       "\n",
       "    .dataframe thead th {\n",
       "        text-align: right;\n",
       "    }\n",
       "</style>\n",
       "<table border=\"1\" class=\"dataframe\">\n",
       "  <thead>\n",
       "    <tr style=\"text-align: right;\">\n",
       "      <th></th>\n",
       "      <th>InvoiceNo</th>\n",
       "      <th>InvoiceDate</th>\n",
       "      <th>CustomerID</th>\n",
       "      <th>Quantity</th>\n",
       "      <th>UnitPrice</th>\n",
       "    </tr>\n",
       "  </thead>\n",
       "  <tbody>\n",
       "    <tr>\n",
       "      <th>0</th>\n",
       "      <td>536365</td>\n",
       "      <td>2010-12-01 08:26:00</td>\n",
       "      <td>17850</td>\n",
       "      <td>6</td>\n",
       "      <td>2.55</td>\n",
       "    </tr>\n",
       "    <tr>\n",
       "      <th>1</th>\n",
       "      <td>536365</td>\n",
       "      <td>2010-12-01 08:26:00</td>\n",
       "      <td>17850</td>\n",
       "      <td>6</td>\n",
       "      <td>3.39</td>\n",
       "    </tr>\n",
       "    <tr>\n",
       "      <th>2</th>\n",
       "      <td>536365</td>\n",
       "      <td>2010-12-01 08:26:00</td>\n",
       "      <td>17850</td>\n",
       "      <td>8</td>\n",
       "      <td>2.75</td>\n",
       "    </tr>\n",
       "    <tr>\n",
       "      <th>3</th>\n",
       "      <td>536365</td>\n",
       "      <td>2010-12-01 08:26:00</td>\n",
       "      <td>17850</td>\n",
       "      <td>6</td>\n",
       "      <td>3.39</td>\n",
       "    </tr>\n",
       "    <tr>\n",
       "      <th>4</th>\n",
       "      <td>536365</td>\n",
       "      <td>2010-12-01 08:26:00</td>\n",
       "      <td>17850</td>\n",
       "      <td>6</td>\n",
       "      <td>3.39</td>\n",
       "    </tr>\n",
       "    <tr>\n",
       "      <th>5</th>\n",
       "      <td>536365</td>\n",
       "      <td>2010-12-01 08:26:00</td>\n",
       "      <td>17850</td>\n",
       "      <td>2</td>\n",
       "      <td>7.65</td>\n",
       "    </tr>\n",
       "    <tr>\n",
       "      <th>6</th>\n",
       "      <td>536365</td>\n",
       "      <td>2010-12-01 08:26:00</td>\n",
       "      <td>17850</td>\n",
       "      <td>6</td>\n",
       "      <td>4.25</td>\n",
       "    </tr>\n",
       "    <tr>\n",
       "      <th>7</th>\n",
       "      <td>536366</td>\n",
       "      <td>2010-12-01 08:28:00</td>\n",
       "      <td>17850</td>\n",
       "      <td>6</td>\n",
       "      <td>1.85</td>\n",
       "    </tr>\n",
       "    <tr>\n",
       "      <th>8</th>\n",
       "      <td>536366</td>\n",
       "      <td>2010-12-01 08:28:00</td>\n",
       "      <td>17850</td>\n",
       "      <td>6</td>\n",
       "      <td>1.85</td>\n",
       "    </tr>\n",
       "    <tr>\n",
       "      <th>9</th>\n",
       "      <td>536367</td>\n",
       "      <td>2010-12-01 08:34:00</td>\n",
       "      <td>13047</td>\n",
       "      <td>32</td>\n",
       "      <td>1.69</td>\n",
       "    </tr>\n",
       "  </tbody>\n",
       "</table>\n",
       "</div>"
      ],
      "text/plain": [
       "  InvoiceNo         InvoiceDate CustomerID Quantity UnitPrice\n",
       "0    536365 2010-12-01 08:26:00      17850        6      2.55\n",
       "1    536365 2010-12-01 08:26:00      17850        6      3.39\n",
       "2    536365 2010-12-01 08:26:00      17850        8      2.75\n",
       "3    536365 2010-12-01 08:26:00      17850        6      3.39\n",
       "4    536365 2010-12-01 08:26:00      17850        6      3.39\n",
       "5    536365 2010-12-01 08:26:00      17850        2      7.65\n",
       "6    536365 2010-12-01 08:26:00      17850        6      4.25\n",
       "7    536366 2010-12-01 08:28:00      17850        6      1.85\n",
       "8    536366 2010-12-01 08:28:00      17850        6      1.85\n",
       "9    536367 2010-12-01 08:34:00      13047       32      1.69"
      ]
     },
     "execution_count": 4,
     "metadata": {},
     "output_type": "execute_result"
    }
   ],
   "source": [
    "df.head(10)"
   ]
  },
  {
   "cell_type": "code",
   "execution_count": 5,
   "id": "f78daab2",
   "metadata": {
    "execution": {
     "iopub.execute_input": "2024-02-07T14:25:47.076796Z",
     "iopub.status.busy": "2024-02-07T14:25:47.076501Z",
     "iopub.status.idle": "2024-02-07T14:25:47.194884Z",
     "shell.execute_reply": "2024-02-07T14:25:47.193839Z"
    }
   },
   "outputs": [
    {
     "name": "stdout",
     "output_type": "stream",
     "text": [
      "<class 'pandas.core.frame.DataFrame'>\n",
      "RangeIndex: 541909 entries, 0 to 541908\n",
      "Data columns (total 5 columns):\n",
      " #   Column       Non-Null Count   Dtype         \n",
      "---  ------       --------------   -----         \n",
      " 0   InvoiceNo    541909 non-null  object        \n",
      " 1   InvoiceDate  541909 non-null  datetime64[ns]\n",
      " 2   CustomerID   406829 non-null  object        \n",
      " 3   Quantity     541909 non-null  object        \n",
      " 4   UnitPrice    541909 non-null  object        \n",
      "dtypes: datetime64[ns](1), object(4)\n",
      "memory usage: 20.7+ MB\n"
     ]
    }
   ],
   "source": [
    "df.info()"
   ]
  },
  {
   "cell_type": "markdown",
   "id": "d7c06d93",
   "metadata": {},
   "source": [
    "## Data cleaning"
   ]
  },
  {
   "cell_type": "code",
   "execution_count": 6,
   "id": "79e4372f",
   "metadata": {
    "execution": {
     "iopub.execute_input": "2024-02-07T14:25:47.199313Z",
     "iopub.status.busy": "2024-02-07T14:25:47.199013Z",
     "iopub.status.idle": "2024-02-07T14:25:47.313042Z",
     "shell.execute_reply": "2024-02-07T14:25:47.311974Z"
    }
   },
   "outputs": [
    {
     "data": {
      "text/plain": [
       "InvoiceNo           0\n",
       "InvoiceDate         0\n",
       "CustomerID     135080\n",
       "Quantity            0\n",
       "UnitPrice           0\n",
       "dtype: int64"
      ]
     },
     "execution_count": 6,
     "metadata": {},
     "output_type": "execute_result"
    }
   ],
   "source": [
    "# Missing values\n",
    "df.isna().sum()"
   ]
  },
  {
   "cell_type": "markdown",
   "id": "2d0ccd92",
   "metadata": {},
   "source": [
    "I really need to know who bought what. In other words, rows with missing\n",
    "`CustomerID` have to go."
   ]
  },
  {
   "cell_type": "code",
   "execution_count": 7,
   "id": "7548ef95",
   "metadata": {
    "execution": {
     "iopub.execute_input": "2024-02-07T14:25:47.317975Z",
     "iopub.status.busy": "2024-02-07T14:25:47.317527Z",
     "iopub.status.idle": "2024-02-07T14:25:47.537383Z",
     "shell.execute_reply": "2024-02-07T14:25:47.536465Z"
    }
   },
   "outputs": [
    {
     "name": "stdout",
     "output_type": "stream",
     "text": [
      "<class 'pandas.core.frame.DataFrame'>\n",
      "Index: 406829 entries, 0 to 541908\n",
      "Data columns (total 5 columns):\n",
      " #   Column       Non-Null Count   Dtype         \n",
      "---  ------       --------------   -----         \n",
      " 0   InvoiceNo    406829 non-null  object        \n",
      " 1   InvoiceDate  406829 non-null  datetime64[ns]\n",
      " 2   CustomerID   406829 non-null  object        \n",
      " 3   Quantity     406829 non-null  object        \n",
      " 4   UnitPrice    406829 non-null  object        \n",
      "dtypes: datetime64[ns](1), object(4)\n",
      "memory usage: 18.6+ MB\n"
     ]
    }
   ],
   "source": [
    "df = df.dropna()\n",
    "df.info()"
   ]
  },
  {
   "cell_type": "code",
   "execution_count": 8,
   "id": "9a65c532",
   "metadata": {
    "execution": {
     "iopub.execute_input": "2024-02-07T14:25:47.541253Z",
     "iopub.status.busy": "2024-02-07T14:25:47.540949Z",
     "iopub.status.idle": "2024-02-07T14:25:47.574844Z",
     "shell.execute_reply": "2024-02-07T14:25:47.573828Z"
    }
   },
   "outputs": [
    {
     "data": {
      "text/plain": [
       "8905"
      ]
     },
     "execution_count": 8,
     "metadata": {},
     "output_type": "execute_result"
    }
   ],
   "source": [
    "# Look for invalid quantities\n",
    "(df[\"Quantity\"] <= 0).sum()"
   ]
  },
  {
   "cell_type": "markdown",
   "id": "01165c32",
   "metadata": {},
   "source": [
    "Not every row corresponds to a sale. When the invoice number starts with \"C\",\n",
    "that transaction was canceled. That explains the observations with\n",
    "non-positive quantities."
   ]
  },
  {
   "cell_type": "code",
   "execution_count": 9,
   "id": "c3456e3a",
   "metadata": {
    "execution": {
     "iopub.execute_input": "2024-02-07T14:25:47.579686Z",
     "iopub.status.busy": "2024-02-07T14:25:47.579350Z",
     "iopub.status.idle": "2024-02-07T14:25:47.798304Z",
     "shell.execute_reply": "2024-02-07T14:25:47.797269Z"
    }
   },
   "outputs": [
    {
     "data": {
      "text/plain": [
       "8905"
      ]
     },
     "execution_count": 9,
     "metadata": {},
     "output_type": "execute_result"
    }
   ],
   "source": [
    "df[\"InvoiceNo\"].astype(str).str.startswith(\"C\").sum()"
   ]
  },
  {
   "cell_type": "markdown",
   "id": "262ab74b",
   "metadata": {},
   "source": [
    "I chose to remove those rows:"
   ]
  },
  {
   "cell_type": "code",
   "execution_count": 10,
   "id": "cb6afa61",
   "metadata": {
    "execution": {
     "iopub.execute_input": "2024-02-07T14:25:47.802161Z",
     "iopub.status.busy": "2024-02-07T14:25:47.801795Z",
     "iopub.status.idle": "2024-02-07T14:25:48.077631Z",
     "shell.execute_reply": "2024-02-07T14:25:48.076641Z"
    }
   },
   "outputs": [],
   "source": [
    "df = df.loc[df[\"Quantity\"] > 0, :]\n",
    "df = cast(pd.DataFrame, df)\n",
    "\n",
    "# Quick check\n",
    "assert df[\"InvoiceNo\"].astype(str).str.startswith(\"C\").sum() == 0, \"there are remaining canceled transactions\""
   ]
  },
  {
   "cell_type": "code",
   "execution_count": 11,
   "id": "c7859c98",
   "metadata": {
    "execution": {
     "iopub.execute_input": "2024-02-07T14:25:48.082207Z",
     "iopub.status.busy": "2024-02-07T14:25:48.081665Z",
     "iopub.status.idle": "2024-02-07T14:25:48.513759Z",
     "shell.execute_reply": "2024-02-07T14:25:48.512778Z"
    }
   },
   "outputs": [],
   "source": [
    "# Check that the remaining values of InvoiceNo are OK\n",
    "assert (df.InvoiceNo.astype(str).str.len() == 6).all()\n",
    "assert df.InvoiceNo.astype(str).str.isdigit().all()"
   ]
  },
  {
   "cell_type": "code",
   "execution_count": 12,
   "id": "0a5d19e0",
   "metadata": {
    "execution": {
     "iopub.execute_input": "2024-02-07T14:25:48.517435Z",
     "iopub.status.busy": "2024-02-07T14:25:48.517149Z",
     "iopub.status.idle": "2024-02-07T14:25:48.550709Z",
     "shell.execute_reply": "2024-02-07T14:25:48.549736Z"
    }
   },
   "outputs": [
    {
     "data": {
      "text/plain": [
       "40"
      ]
     },
     "execution_count": 12,
     "metadata": {},
     "output_type": "execute_result"
    }
   ],
   "source": [
    "# Look for invalid prices\n",
    "(df[\"UnitPrice\"] == 0.0).sum()"
   ]
  },
  {
   "cell_type": "markdown",
   "id": "ccab07e5",
   "metadata": {},
   "source": [
    "I don't know how to explain such values. They should make no difference. Then\n",
    "I chose to drop them:"
   ]
  },
  {
   "cell_type": "code",
   "execution_count": 13,
   "id": "6a6f3dcb",
   "metadata": {
    "execution": {
     "iopub.execute_input": "2024-02-07T14:25:48.555532Z",
     "iopub.status.busy": "2024-02-07T14:25:48.555143Z",
     "iopub.status.idle": "2024-02-07T14:25:48.628140Z",
     "shell.execute_reply": "2024-02-07T14:25:48.627227Z"
    }
   },
   "outputs": [],
   "source": [
    "df = df.loc[df[\"UnitPrice\"] != 0.0, :]\n",
    "df = cast(pd.DataFrame, df)"
   ]
  },
  {
   "cell_type": "markdown",
   "id": "c7215f9f",
   "metadata": {},
   "source": [
    "## Finish fixing dataset"
   ]
  },
  {
   "cell_type": "code",
   "execution_count": 14,
   "id": "40d6455f",
   "metadata": {
    "execution": {
     "iopub.execute_input": "2024-02-07T14:25:48.631748Z",
     "iopub.status.busy": "2024-02-07T14:25:48.631449Z",
     "iopub.status.idle": "2024-02-07T14:25:48.735037Z",
     "shell.execute_reply": "2024-02-07T14:25:48.734066Z"
    }
   },
   "outputs": [
    {
     "name": "stdout",
     "output_type": "stream",
     "text": [
      "<class 'pandas.core.frame.DataFrame'>\n",
      "RangeIndex: 397884 entries, 0 to 397883\n",
      "Data columns (total 5 columns):\n",
      " #   Column       Non-Null Count   Dtype         \n",
      "---  ------       --------------   -----         \n",
      " 0   InvoiceNo    397884 non-null  object        \n",
      " 1   InvoiceDate  397884 non-null  datetime64[ns]\n",
      " 2   CustomerID   397884 non-null  object        \n",
      " 3   Quantity     397884 non-null  object        \n",
      " 4   UnitPrice    397884 non-null  object        \n",
      "dtypes: datetime64[ns](1), object(4)\n",
      "memory usage: 15.2+ MB\n"
     ]
    }
   ],
   "source": [
    "df = df.reset_index(drop=True)\n",
    "df.info()"
   ]
  },
  {
   "cell_type": "code",
   "execution_count": 15,
   "id": "e6166ebc",
   "metadata": {
    "execution": {
     "iopub.execute_input": "2024-02-07T14:25:48.738526Z",
     "iopub.status.busy": "2024-02-07T14:25:48.738230Z",
     "iopub.status.idle": "2024-02-07T14:25:48.863672Z",
     "shell.execute_reply": "2024-02-07T14:25:48.862758Z"
    }
   },
   "outputs": [
    {
     "data": {
      "text/plain": [
       "InvoiceNo            category\n",
       "InvoiceDate    datetime64[ns]\n",
       "CustomerID           category\n",
       "Quantity                int64\n",
       "UnitPrice             float64\n",
       "dtype: object"
      ]
     },
     "execution_count": 15,
     "metadata": {},
     "output_type": "execute_result"
    }
   ],
   "source": [
    "# Use appropriate data types\n",
    "df[\"InvoiceNo\"] = df[\"InvoiceNo\"].astype(\"category\")\n",
    "df[\"CustomerID\"] = df[\"CustomerID\"].astype(\"category\")\n",
    "df[\"Quantity\"] = df[\"Quantity\"].astype(np.int_)\n",
    "df[\"UnitPrice\"] = df[\"UnitPrice\"].astype(np.float_)\n",
    "\n",
    "df.dtypes"
   ]
  },
  {
   "cell_type": "markdown",
   "id": "b8e05130",
   "metadata": {},
   "source": [
    "The only part of `InvoiceDate` that matters is the date. The following\n",
    "command sets all the times to midnight:"
   ]
  },
  {
   "cell_type": "code",
   "execution_count": 16,
   "id": "3241bdc9",
   "metadata": {
    "execution": {
     "iopub.execute_input": "2024-02-07T14:25:48.867911Z",
     "iopub.status.busy": "2024-02-07T14:25:48.867537Z",
     "iopub.status.idle": "2024-02-07T14:25:48.891872Z",
     "shell.execute_reply": "2024-02-07T14:25:48.890780Z"
    }
   },
   "outputs": [
    {
     "data": {
      "text/plain": [
       "0   2010-12-01\n",
       "1   2010-12-01\n",
       "2   2010-12-01\n",
       "3   2010-12-01\n",
       "4   2010-12-01\n",
       "Name: InvoiceDate, dtype: datetime64[ns]"
      ]
     },
     "execution_count": 16,
     "metadata": {},
     "output_type": "execute_result"
    }
   ],
   "source": [
    "df[\"InvoiceDate\"] = df[\"InvoiceDate\"].dt.normalize()\n",
    "df[\"InvoiceDate\"].head()"
   ]
  },
  {
   "cell_type": "markdown",
   "id": "0361d68d",
   "metadata": {
    "lines_to_next_cell": 2
   },
   "source": [
    "For convenience, I'll collect the essential parts of the above code, and\n",
    "create a function:"
   ]
  },
  {
   "cell_type": "code",
   "execution_count": 17,
   "id": "72e29bac",
   "metadata": {
    "execution": {
     "iopub.execute_input": "2024-02-07T14:25:48.896692Z",
     "iopub.status.busy": "2024-02-07T14:25:48.896167Z",
     "iopub.status.idle": "2024-02-07T14:25:48.930728Z",
     "shell.execute_reply": "2024-02-07T14:25:48.929689Z"
    }
   },
   "outputs": [],
   "source": [
    "def get_clean_data(file_path: Path) -> pd.DataFrame:\n",
    "    cols = [\"InvoiceNo\", \"InvoiceDate\", \"CustomerID\", \"Quantity\", \"UnitPrice\"]\n",
    "    df = pd.read_excel(\n",
    "        file_path,\n",
    "        usecols=cols,\n",
    "        dtype={col: object for col in filter(lambda c: c != \"InvoiceDate\", cols)},\n",
    "        parse_dates=[\"InvoiceDate\"],\n",
    "    ).loc[:, cols]\n",
    "    df = cast(pd.DataFrame, df)\n",
    "\n",
    "    df = df.dropna()\n",
    "\n",
    "    df = df.loc[df[\"Quantity\"] > 0, :]\n",
    "    df = cast(pd.DataFrame, df)\n",
    "\n",
    "    df = df.loc[df[\"UnitPrice\"] != 0.0, :]\n",
    "    df = cast(pd.DataFrame, df)\n",
    "\n",
    "    df = df.reset_index(drop=True)\n",
    "\n",
    "    df[\"InvoiceNo\"] = df[\"InvoiceNo\"].astype(\"category\")\n",
    "    df[\"CustomerID\"] = df[\"CustomerID\"].astype(\"category\")\n",
    "    df[\"Quantity\"] = df[\"Quantity\"].astype(np.int_)\n",
    "    df[\"UnitPrice\"] = df[\"UnitPrice\"].astype(np.float_)\n",
    "\n",
    "    df[\"InvoiceDate\"] = df[\"InvoiceDate\"].dt.normalize()\n",
    "\n",
    "    return df"
   ]
  },
  {
   "cell_type": "code",
   "execution_count": 18,
   "id": "b5f5911f",
   "metadata": {
    "execution": {
     "iopub.execute_input": "2024-02-07T14:25:48.934361Z",
     "iopub.status.busy": "2024-02-07T14:25:48.934074Z",
     "iopub.status.idle": "2024-02-07T14:27:05.792674Z",
     "shell.execute_reply": "2024-02-07T14:27:05.791820Z"
    }
   },
   "outputs": [],
   "source": [
    "# Quick check\n",
    "df_func = get_clean_data(file_path)\n",
    "assert_frame_equal(df_func, df)\n",
    "del df_func"
   ]
  },
  {
   "cell_type": "markdown",
   "id": "722045b4",
   "metadata": {},
   "source": [
    "## Aggregate data\n",
    "\n",
    "Before aggregating the data, I'll do some more consistency tests. Rows with\n",
    "the same `InvoiceNo` must also have the same `InvoiceDate`. For a specific\n",
    "value of `InvoiceNo`, this can be tested as follows:"
   ]
  },
  {
   "cell_type": "code",
   "execution_count": 19,
   "id": "74dbe23e",
   "metadata": {
    "execution": {
     "iopub.execute_input": "2024-02-07T14:27:05.796570Z",
     "iopub.status.busy": "2024-02-07T14:27:05.796198Z",
     "iopub.status.idle": "2024-02-07T14:27:05.804712Z",
     "shell.execute_reply": "2024-02-07T14:27:05.803617Z"
    }
   },
   "outputs": [
    {
     "data": {
      "text/plain": [
       "True"
      ]
     },
     "execution_count": 19,
     "metadata": {},
     "output_type": "execute_result"
    }
   ],
   "source": [
    "df.loc[df[\"InvoiceNo\"] == 536365, \"InvoiceDate\"].nunique() == 1"
   ]
  },
  {
   "cell_type": "markdown",
   "id": "67ba7325",
   "metadata": {},
   "source": [
    "To test all values of `InvoiceNo`, one can do the following:"
   ]
  },
  {
   "cell_type": "code",
   "execution_count": 20,
   "id": "5910e1d9",
   "metadata": {
    "execution": {
     "iopub.execute_input": "2024-02-07T14:27:05.809145Z",
     "iopub.status.busy": "2024-02-07T14:27:05.808844Z",
     "iopub.status.idle": "2024-02-07T14:27:05.838233Z",
     "shell.execute_reply": "2024-02-07T14:27:05.837323Z"
    }
   },
   "outputs": [
    {
     "data": {
      "text/plain": [
       "True"
      ]
     },
     "execution_count": 20,
     "metadata": {},
     "output_type": "execute_result"
    }
   ],
   "source": [
    "df.groupby(by=\"InvoiceNo\", observed=True).InvoiceDate.nunique().eq(1).all()"
   ]
  },
  {
   "cell_type": "markdown",
   "id": "8cf05895",
   "metadata": {},
   "source": [
    "Similarly, rows with the same `InvoiceNo` must also have the same\n",
    "`CustomerID`. Checking if this is true:"
   ]
  },
  {
   "cell_type": "code",
   "execution_count": 21,
   "id": "cdbbe7b5",
   "metadata": {
    "execution": {
     "iopub.execute_input": "2024-02-07T14:27:05.841864Z",
     "iopub.status.busy": "2024-02-07T14:27:05.841563Z",
     "iopub.status.idle": "2024-02-07T14:27:05.849202Z",
     "shell.execute_reply": "2024-02-07T14:27:05.848287Z"
    }
   },
   "outputs": [
    {
     "data": {
      "text/plain": [
       "True"
      ]
     },
     "execution_count": 21,
     "metadata": {},
     "output_type": "execute_result"
    }
   ],
   "source": [
    "# Single value\n",
    "df.loc[df[\"InvoiceNo\"] == 536365, \"CustomerID\"].nunique() == 1"
   ]
  },
  {
   "cell_type": "code",
   "execution_count": 22,
   "id": "c7669533",
   "metadata": {
    "execution": {
     "iopub.execute_input": "2024-02-07T14:27:05.853265Z",
     "iopub.status.busy": "2024-02-07T14:27:05.852629Z",
     "iopub.status.idle": "2024-02-07T14:27:05.881818Z",
     "shell.execute_reply": "2024-02-07T14:27:05.880732Z"
    }
   },
   "outputs": [
    {
     "data": {
      "text/plain": [
       "True"
      ]
     },
     "execution_count": 22,
     "metadata": {},
     "output_type": "execute_result"
    }
   ],
   "source": [
    "# All values\n",
    "df.groupby(by=\"InvoiceNo\", observed=True).CustomerID.nunique().eq(1).all()"
   ]
  },
  {
   "cell_type": "markdown",
   "id": "7fa8383d",
   "metadata": {},
   "source": [
    "Everything is OK. Then I'll compute the total amount spent for each\n",
    "`InvoiceNo`."
   ]
  },
  {
   "cell_type": "code",
   "execution_count": 23,
   "id": "11f1147a",
   "metadata": {
    "execution": {
     "iopub.execute_input": "2024-02-07T14:27:05.885580Z",
     "iopub.status.busy": "2024-02-07T14:27:05.885163Z",
     "iopub.status.idle": "2024-02-07T14:27:05.902381Z",
     "shell.execute_reply": "2024-02-07T14:27:05.901402Z"
    }
   },
   "outputs": [
    {
     "data": {
      "text/html": [
       "<div>\n",
       "<style scoped>\n",
       "    .dataframe tbody tr th:only-of-type {\n",
       "        vertical-align: middle;\n",
       "    }\n",
       "\n",
       "    .dataframe tbody tr th {\n",
       "        vertical-align: top;\n",
       "    }\n",
       "\n",
       "    .dataframe thead th {\n",
       "        text-align: right;\n",
       "    }\n",
       "</style>\n",
       "<table border=\"1\" class=\"dataframe\">\n",
       "  <thead>\n",
       "    <tr style=\"text-align: right;\">\n",
       "      <th></th>\n",
       "      <th>InvoiceNo</th>\n",
       "      <th>InvoiceDate</th>\n",
       "      <th>CustomerID</th>\n",
       "      <th>Quantity</th>\n",
       "      <th>UnitPrice</th>\n",
       "    </tr>\n",
       "  </thead>\n",
       "  <tbody>\n",
       "    <tr>\n",
       "      <th>0</th>\n",
       "      <td>536365</td>\n",
       "      <td>2010-12-01</td>\n",
       "      <td>17850</td>\n",
       "      <td>6</td>\n",
       "      <td>2.55</td>\n",
       "    </tr>\n",
       "    <tr>\n",
       "      <th>1</th>\n",
       "      <td>536365</td>\n",
       "      <td>2010-12-01</td>\n",
       "      <td>17850</td>\n",
       "      <td>6</td>\n",
       "      <td>3.39</td>\n",
       "    </tr>\n",
       "    <tr>\n",
       "      <th>2</th>\n",
       "      <td>536365</td>\n",
       "      <td>2010-12-01</td>\n",
       "      <td>17850</td>\n",
       "      <td>8</td>\n",
       "      <td>2.75</td>\n",
       "    </tr>\n",
       "    <tr>\n",
       "      <th>3</th>\n",
       "      <td>536365</td>\n",
       "      <td>2010-12-01</td>\n",
       "      <td>17850</td>\n",
       "      <td>6</td>\n",
       "      <td>3.39</td>\n",
       "    </tr>\n",
       "    <tr>\n",
       "      <th>4</th>\n",
       "      <td>536365</td>\n",
       "      <td>2010-12-01</td>\n",
       "      <td>17850</td>\n",
       "      <td>6</td>\n",
       "      <td>3.39</td>\n",
       "    </tr>\n",
       "    <tr>\n",
       "      <th>5</th>\n",
       "      <td>536365</td>\n",
       "      <td>2010-12-01</td>\n",
       "      <td>17850</td>\n",
       "      <td>2</td>\n",
       "      <td>7.65</td>\n",
       "    </tr>\n",
       "    <tr>\n",
       "      <th>6</th>\n",
       "      <td>536365</td>\n",
       "      <td>2010-12-01</td>\n",
       "      <td>17850</td>\n",
       "      <td>6</td>\n",
       "      <td>4.25</td>\n",
       "    </tr>\n",
       "  </tbody>\n",
       "</table>\n",
       "</div>"
      ],
      "text/plain": [
       "  InvoiceNo InvoiceDate CustomerID  Quantity  UnitPrice\n",
       "0    536365  2010-12-01      17850         6       2.55\n",
       "1    536365  2010-12-01      17850         6       3.39\n",
       "2    536365  2010-12-01      17850         8       2.75\n",
       "3    536365  2010-12-01      17850         6       3.39\n",
       "4    536365  2010-12-01      17850         6       3.39\n",
       "5    536365  2010-12-01      17850         2       7.65\n",
       "6    536365  2010-12-01      17850         6       4.25"
      ]
     },
     "execution_count": 23,
     "metadata": {},
     "output_type": "execute_result"
    }
   ],
   "source": [
    "# Figuring out how to do it\n",
    "tmp_df = df.loc[df[\"InvoiceNo\"] == 536365, :]\n",
    "tmp_df = cast(pd.DataFrame, tmp_df)\n",
    "tmp_df"
   ]
  },
  {
   "cell_type": "code",
   "execution_count": 24,
   "id": "4a02876c",
   "metadata": {
    "execution": {
     "iopub.execute_input": "2024-02-07T14:27:05.906879Z",
     "iopub.status.busy": "2024-02-07T14:27:05.906536Z",
     "iopub.status.idle": "2024-02-07T14:27:05.917420Z",
     "shell.execute_reply": "2024-02-07T14:27:05.916393Z"
    }
   },
   "outputs": [
    {
     "data": {
      "text/plain": [
       "InvoiceDate    2010-12-01 00:00:00\n",
       "CustomerID                   17850\n",
       "TotalPrice                  139.12\n",
       "dtype: object"
      ]
     },
     "execution_count": 24,
     "metadata": {},
     "output_type": "execute_result"
    }
   ],
   "source": [
    "tmp_row = pd.Series(\n",
    "    data={\n",
    "        \"InvoiceDate\": tmp_df[\"InvoiceDate\"].iloc[0],\n",
    "        \"CustomerID\": tmp_df[\"CustomerID\"].iloc[0],\n",
    "        \"TotalPrice\": (tmp_df[\"Quantity\"] * tmp_df[\"UnitPrice\"]).sum(),\n",
    "    }\n",
    ")\n",
    "tmp_row"
   ]
  },
  {
   "cell_type": "code",
   "execution_count": 25,
   "id": "c3b7c495",
   "metadata": {
    "execution": {
     "iopub.execute_input": "2024-02-07T14:27:05.921727Z",
     "iopub.status.busy": "2024-02-07T14:27:05.921448Z",
     "iopub.status.idle": "2024-02-07T14:27:05.925677Z",
     "shell.execute_reply": "2024-02-07T14:27:05.924618Z"
    }
   },
   "outputs": [],
   "source": [
    "del tmp_df\n",
    "del tmp_row"
   ]
  },
  {
   "cell_type": "code",
   "execution_count": 26,
   "id": "69e3c82c",
   "metadata": {
    "execution": {
     "iopub.execute_input": "2024-02-07T14:27:05.930071Z",
     "iopub.status.busy": "2024-02-07T14:27:05.929680Z",
     "iopub.status.idle": "2024-02-07T14:27:05.936310Z",
     "shell.execute_reply": "2024-02-07T14:27:05.935253Z"
    }
   },
   "outputs": [],
   "source": [
    "# Actual calculation\n",
    "def compute_total_price(df_group: pd.DataFrame) -> pd.Series:\n",
    "    return pd.Series(\n",
    "        data={\n",
    "            \"InvoiceDate\": df_group[\"InvoiceDate\"].iloc[0],\n",
    "            \"CustomerID\": df_group[\"CustomerID\"].iloc[0],\n",
    "            \"TotalPrice\": (df_group[\"Quantity\"] * df_group[\"UnitPrice\"]).sum(),\n",
    "        }\n",
    "    )"
   ]
  },
  {
   "cell_type": "code",
   "execution_count": 27,
   "id": "a67b757f",
   "metadata": {
    "execution": {
     "iopub.execute_input": "2024-02-07T14:27:05.940373Z",
     "iopub.status.busy": "2024-02-07T14:27:05.939794Z",
     "iopub.status.idle": "2024-02-07T14:27:19.358730Z",
     "shell.execute_reply": "2024-02-07T14:27:19.357760Z"
    }
   },
   "outputs": [
    {
     "data": {
      "text/html": [
       "<div>\n",
       "<style scoped>\n",
       "    .dataframe tbody tr th:only-of-type {\n",
       "        vertical-align: middle;\n",
       "    }\n",
       "\n",
       "    .dataframe tbody tr th {\n",
       "        vertical-align: top;\n",
       "    }\n",
       "\n",
       "    .dataframe thead th {\n",
       "        text-align: right;\n",
       "    }\n",
       "</style>\n",
       "<table border=\"1\" class=\"dataframe\">\n",
       "  <thead>\n",
       "    <tr style=\"text-align: right;\">\n",
       "      <th></th>\n",
       "      <th>InvoiceNo</th>\n",
       "      <th>InvoiceDate</th>\n",
       "      <th>CustomerID</th>\n",
       "      <th>TotalPrice</th>\n",
       "    </tr>\n",
       "  </thead>\n",
       "  <tbody>\n",
       "    <tr>\n",
       "      <th>0</th>\n",
       "      <td>536365</td>\n",
       "      <td>2010-12-01</td>\n",
       "      <td>17850</td>\n",
       "      <td>139.12</td>\n",
       "    </tr>\n",
       "    <tr>\n",
       "      <th>1</th>\n",
       "      <td>536366</td>\n",
       "      <td>2010-12-01</td>\n",
       "      <td>17850</td>\n",
       "      <td>22.20</td>\n",
       "    </tr>\n",
       "    <tr>\n",
       "      <th>2</th>\n",
       "      <td>536367</td>\n",
       "      <td>2010-12-01</td>\n",
       "      <td>13047</td>\n",
       "      <td>278.73</td>\n",
       "    </tr>\n",
       "    <tr>\n",
       "      <th>3</th>\n",
       "      <td>536368</td>\n",
       "      <td>2010-12-01</td>\n",
       "      <td>13047</td>\n",
       "      <td>70.05</td>\n",
       "    </tr>\n",
       "    <tr>\n",
       "      <th>4</th>\n",
       "      <td>536369</td>\n",
       "      <td>2010-12-01</td>\n",
       "      <td>13047</td>\n",
       "      <td>17.85</td>\n",
       "    </tr>\n",
       "  </tbody>\n",
       "</table>\n",
       "</div>"
      ],
      "text/plain": [
       "  InvoiceNo InvoiceDate  CustomerID  TotalPrice\n",
       "0    536365  2010-12-01       17850      139.12\n",
       "1    536366  2010-12-01       17850       22.20\n",
       "2    536367  2010-12-01       13047      278.73\n",
       "3    536368  2010-12-01       13047       70.05\n",
       "4    536369  2010-12-01       13047       17.85"
      ]
     },
     "execution_count": 27,
     "metadata": {},
     "output_type": "execute_result"
    }
   ],
   "source": [
    "df_total = (\n",
    "    df.groupby(by=\"InvoiceNo\", observed=True).apply(compute_total_price, include_groups=False).reset_index()\n",
    ")\n",
    "df_total.head()"
   ]
  },
  {
   "cell_type": "code",
   "execution_count": 28,
   "id": "22217038",
   "metadata": {
    "execution": {
     "iopub.execute_input": "2024-02-07T14:27:19.362978Z",
     "iopub.status.busy": "2024-02-07T14:27:19.362615Z",
     "iopub.status.idle": "2024-02-07T14:27:19.373416Z",
     "shell.execute_reply": "2024-02-07T14:27:19.372299Z"
    }
   },
   "outputs": [
    {
     "name": "stdout",
     "output_type": "stream",
     "text": [
      "<class 'pandas.core.frame.DataFrame'>\n",
      "RangeIndex: 18532 entries, 0 to 18531\n",
      "Data columns (total 4 columns):\n",
      " #   Column       Non-Null Count  Dtype         \n",
      "---  ------       --------------  -----         \n",
      " 0   InvoiceNo    18532 non-null  category      \n",
      " 1   InvoiceDate  18532 non-null  datetime64[ns]\n",
      " 2   CustomerID   18532 non-null  int64         \n",
      " 3   TotalPrice   18532 non-null  float64       \n",
      "dtypes: category(1), datetime64[ns](1), float64(1), int64(1)\n",
      "memory usage: 1.1 MB\n"
     ]
    }
   ],
   "source": [
    "df_total.info()"
   ]
  },
  {
   "cell_type": "markdown",
   "id": "d6f0fdc5",
   "metadata": {},
   "source": [
    "## Save prepared data\n",
    "\n",
    "Clearly, I've ended up with a much smaller dataset than the original. To\n",
    "avoid having to repeat the above steps, I'll save the new `DataFrame` to a\n",
    "CSV file."
   ]
  },
  {
   "cell_type": "code",
   "execution_count": 29,
   "id": "d46b90a6",
   "metadata": {
    "execution": {
     "iopub.execute_input": "2024-02-07T14:27:19.377870Z",
     "iopub.status.busy": "2024-02-07T14:27:19.377587Z",
     "iopub.status.idle": "2024-02-07T14:27:19.456907Z",
     "shell.execute_reply": "2024-02-07T14:27:19.455034Z"
    }
   },
   "outputs": [],
   "source": [
    "# File path for output CSV\n",
    "out_file = file_path.parent / \"online_retail.csv\"\n",
    "\n",
    "df_total.to_csv(out_file, index=False)"
   ]
  },
  {
   "cell_type": "markdown",
   "id": "1a4703f5",
   "metadata": {
    "lines_to_next_cell": 2
   },
   "source": [
    "## Summarizing through a function\n",
    "\n",
    "To conclude, I'll implement a function that summarizes what was done in\n",
    "this notebook."
   ]
  },
  {
   "cell_type": "code",
   "execution_count": 30,
   "id": "b265b2cd",
   "metadata": {
    "execution": {
     "iopub.execute_input": "2024-02-07T14:27:19.462762Z",
     "iopub.status.busy": "2024-02-07T14:27:19.462370Z",
     "iopub.status.idle": "2024-02-07T14:27:19.468707Z",
     "shell.execute_reply": "2024-02-07T14:27:19.467558Z"
    }
   },
   "outputs": [],
   "source": [
    "def prepare_and_save_data(file_path: Path) -> None:\n",
    "    clean_data = get_clean_data(file_path)\n",
    "    aggregated_data = (\n",
    "        clean_data.groupby(\"InvoiceNo\", observed=True)\n",
    "        .apply(compute_total_price, include_groups=False)\n",
    "        .reset_index()\n",
    "    )\n",
    "    out_file = file_path.with_suffix(\".csv\")\n",
    "    aggregated_data.to_csv(out_file, index=False)"
   ]
  },
  {
   "cell_type": "code",
   "execution_count": 31,
   "id": "cdaaaf6b",
   "metadata": {
    "execution": {
     "iopub.execute_input": "2024-02-07T14:27:19.472928Z",
     "iopub.status.busy": "2024-02-07T14:27:19.472154Z",
     "iopub.status.idle": "2024-02-07T14:28:47.202099Z",
     "shell.execute_reply": "2024-02-07T14:28:47.201250Z"
    }
   },
   "outputs": [],
   "source": [
    "prepare_and_save_data(Path.cwd().parents[1] / \"data\" / \"online_retail.xlsx\")"
   ]
  }
 ],
 "metadata": {
  "jupytext": {
   "cell_metadata_filter": "-all",
   "main_language": "python",
   "notebook_metadata_filter": "-all"
  },
  "language_info": {
   "codemirror_mode": {
    "name": "ipython",
    "version": 3
   },
   "file_extension": ".py",
   "mimetype": "text/x-python",
   "name": "python",
   "nbconvert_exporter": "python",
   "pygments_lexer": "ipython3",
   "version": "3.11.6"
  }
 },
 "nbformat": 4,
 "nbformat_minor": 5
}
