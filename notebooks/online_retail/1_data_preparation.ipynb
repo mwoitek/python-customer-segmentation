{
 "cells": [
  {
   "cell_type": "markdown",
   "id": "114b9bcf",
   "metadata": {},
   "source": [
    "# Online Retail Dataset: Data Preparation\n",
    "\n",
    "In this notebook, I'll prepare the dataset for analysis.\n",
    "\n",
    "## Imports"
   ]
  },
  {
   "cell_type": "code",
   "execution_count": 1,
   "id": "a5ff367a",
   "metadata": {
    "execution": {
     "iopub.execute_input": "2024-02-08T11:29:19.833114Z",
     "iopub.status.busy": "2024-02-08T11:29:19.832227Z",
     "iopub.status.idle": "2024-02-08T11:29:20.378865Z",
     "shell.execute_reply": "2024-02-08T11:29:20.377866Z"
    }
   },
   "outputs": [],
   "source": [
    "from pathlib import Path\n",
    "from typing import cast\n",
    "\n",
    "import numpy as np\n",
    "import pandas as pd\n",
    "from pandas.testing import assert_frame_equal"
   ]
  },
  {
   "cell_type": "markdown",
   "id": "1d18d81a",
   "metadata": {},
   "source": [
    "## Read dataset"
   ]
  },
  {
   "cell_type": "code",
   "execution_count": 2,
   "id": "abf27e9b",
   "metadata": {
    "execution": {
     "iopub.execute_input": "2024-02-08T11:29:20.383626Z",
     "iopub.status.busy": "2024-02-08T11:29:20.383048Z",
     "iopub.status.idle": "2024-02-08T11:29:20.387996Z",
     "shell.execute_reply": "2024-02-08T11:29:20.386917Z"
    }
   },
   "outputs": [],
   "source": [
    "# Path to dataset\n",
    "file_path = Path.cwd().parents[1] / \"data\" / \"online_retail.xlsx\"\n",
    "assert file_path.exists(), f\"file doesn't exist: {file_path}\""
   ]
  },
  {
   "cell_type": "code",
   "execution_count": 3,
   "id": "067c59fc",
   "metadata": {
    "execution": {
     "iopub.execute_input": "2024-02-08T11:29:20.391811Z",
     "iopub.status.busy": "2024-02-08T11:29:20.391442Z",
     "iopub.status.idle": "2024-02-08T11:30:28.371117Z",
     "shell.execute_reply": "2024-02-08T11:30:28.370159Z"
    }
   },
   "outputs": [
    {
     "data": {
      "text/html": [
       "<div>\n",
       "<style scoped>\n",
       "    .dataframe tbody tr th:only-of-type {\n",
       "        vertical-align: middle;\n",
       "    }\n",
       "\n",
       "    .dataframe tbody tr th {\n",
       "        vertical-align: top;\n",
       "    }\n",
       "\n",
       "    .dataframe thead th {\n",
       "        text-align: right;\n",
       "    }\n",
       "</style>\n",
       "<table border=\"1\" class=\"dataframe\">\n",
       "  <thead>\n",
       "    <tr style=\"text-align: right;\">\n",
       "      <th></th>\n",
       "      <th>InvoiceNo</th>\n",
       "      <th>InvoiceDate</th>\n",
       "      <th>CustomerID</th>\n",
       "      <th>Quantity</th>\n",
       "      <th>UnitPrice</th>\n",
       "    </tr>\n",
       "  </thead>\n",
       "  <tbody>\n",
       "    <tr>\n",
       "      <th>0</th>\n",
       "      <td>536365</td>\n",
       "      <td>2010-12-01 08:26:00</td>\n",
       "      <td>17850</td>\n",
       "      <td>6</td>\n",
       "      <td>2.55</td>\n",
       "    </tr>\n",
       "    <tr>\n",
       "      <th>1</th>\n",
       "      <td>536365</td>\n",
       "      <td>2010-12-01 08:26:00</td>\n",
       "      <td>17850</td>\n",
       "      <td>6</td>\n",
       "      <td>3.39</td>\n",
       "    </tr>\n",
       "    <tr>\n",
       "      <th>2</th>\n",
       "      <td>536365</td>\n",
       "      <td>2010-12-01 08:26:00</td>\n",
       "      <td>17850</td>\n",
       "      <td>8</td>\n",
       "      <td>2.75</td>\n",
       "    </tr>\n",
       "    <tr>\n",
       "      <th>3</th>\n",
       "      <td>536365</td>\n",
       "      <td>2010-12-01 08:26:00</td>\n",
       "      <td>17850</td>\n",
       "      <td>6</td>\n",
       "      <td>3.39</td>\n",
       "    </tr>\n",
       "    <tr>\n",
       "      <th>4</th>\n",
       "      <td>536365</td>\n",
       "      <td>2010-12-01 08:26:00</td>\n",
       "      <td>17850</td>\n",
       "      <td>6</td>\n",
       "      <td>3.39</td>\n",
       "    </tr>\n",
       "    <tr>\n",
       "      <th>5</th>\n",
       "      <td>536365</td>\n",
       "      <td>2010-12-01 08:26:00</td>\n",
       "      <td>17850</td>\n",
       "      <td>2</td>\n",
       "      <td>7.65</td>\n",
       "    </tr>\n",
       "    <tr>\n",
       "      <th>6</th>\n",
       "      <td>536365</td>\n",
       "      <td>2010-12-01 08:26:00</td>\n",
       "      <td>17850</td>\n",
       "      <td>6</td>\n",
       "      <td>4.25</td>\n",
       "    </tr>\n",
       "    <tr>\n",
       "      <th>7</th>\n",
       "      <td>536366</td>\n",
       "      <td>2010-12-01 08:28:00</td>\n",
       "      <td>17850</td>\n",
       "      <td>6</td>\n",
       "      <td>1.85</td>\n",
       "    </tr>\n",
       "    <tr>\n",
       "      <th>8</th>\n",
       "      <td>536366</td>\n",
       "      <td>2010-12-01 08:28:00</td>\n",
       "      <td>17850</td>\n",
       "      <td>6</td>\n",
       "      <td>1.85</td>\n",
       "    </tr>\n",
       "    <tr>\n",
       "      <th>9</th>\n",
       "      <td>536367</td>\n",
       "      <td>2010-12-01 08:34:00</td>\n",
       "      <td>13047</td>\n",
       "      <td>32</td>\n",
       "      <td>1.69</td>\n",
       "    </tr>\n",
       "  </tbody>\n",
       "</table>\n",
       "</div>"
      ],
      "text/plain": [
       "  InvoiceNo         InvoiceDate CustomerID  Quantity  UnitPrice\n",
       "0    536365 2010-12-01 08:26:00      17850         6       2.55\n",
       "1    536365 2010-12-01 08:26:00      17850         6       3.39\n",
       "2    536365 2010-12-01 08:26:00      17850         8       2.75\n",
       "3    536365 2010-12-01 08:26:00      17850         6       3.39\n",
       "4    536365 2010-12-01 08:26:00      17850         6       3.39\n",
       "5    536365 2010-12-01 08:26:00      17850         2       7.65\n",
       "6    536365 2010-12-01 08:26:00      17850         6       4.25\n",
       "7    536366 2010-12-01 08:28:00      17850         6       1.85\n",
       "8    536366 2010-12-01 08:28:00      17850         6       1.85\n",
       "9    536367 2010-12-01 08:34:00      13047        32       1.69"
      ]
     },
     "execution_count": 3,
     "metadata": {},
     "output_type": "execute_result"
    }
   ],
   "source": [
    "# Columns I'll actually use\n",
    "cols = [\"InvoiceNo\", \"InvoiceDate\", \"CustomerID\", \"Quantity\", \"UnitPrice\"]\n",
    "\n",
    "df = pd.read_excel(\n",
    "    file_path,\n",
    "    usecols=cols,\n",
    "    dtype={\n",
    "        \"InvoiceNo\": object,\n",
    "        \"CustomerID\": object,\n",
    "        \"Quantity\": np.int_,\n",
    "        \"UnitPrice\": np.float_,\n",
    "    },\n",
    "    parse_dates=[\"InvoiceDate\"],\n",
    ").loc[:, cols]\n",
    "df = cast(pd.DataFrame, df)\n",
    "df.head(10)"
   ]
  },
  {
   "cell_type": "code",
   "execution_count": 4,
   "id": "7f07d42b",
   "metadata": {
    "execution": {
     "iopub.execute_input": "2024-02-08T11:30:28.375931Z",
     "iopub.status.busy": "2024-02-08T11:30:28.375423Z",
     "iopub.status.idle": "2024-02-08T11:30:28.448954Z",
     "shell.execute_reply": "2024-02-08T11:30:28.447915Z"
    }
   },
   "outputs": [
    {
     "name": "stdout",
     "output_type": "stream",
     "text": [
      "<class 'pandas.core.frame.DataFrame'>\n",
      "RangeIndex: 541909 entries, 0 to 541908\n",
      "Data columns (total 5 columns):\n",
      " #   Column       Non-Null Count   Dtype         \n",
      "---  ------       --------------   -----         \n",
      " 0   InvoiceNo    541909 non-null  object        \n",
      " 1   InvoiceDate  541909 non-null  datetime64[ns]\n",
      " 2   CustomerID   406829 non-null  object        \n",
      " 3   Quantity     541909 non-null  int64         \n",
      " 4   UnitPrice    541909 non-null  float64       \n",
      "dtypes: datetime64[ns](1), float64(1), int64(1), object(2)\n",
      "memory usage: 20.7+ MB\n"
     ]
    }
   ],
   "source": [
    "df.info()"
   ]
  },
  {
   "cell_type": "markdown",
   "id": "bdb45ca5",
   "metadata": {},
   "source": [
    "## Data cleaning"
   ]
  },
  {
   "cell_type": "code",
   "execution_count": 5,
   "id": "27e45a0d",
   "metadata": {
    "execution": {
     "iopub.execute_input": "2024-02-08T11:30:28.452747Z",
     "iopub.status.busy": "2024-02-08T11:30:28.452445Z",
     "iopub.status.idle": "2024-02-08T11:30:28.521639Z",
     "shell.execute_reply": "2024-02-08T11:30:28.520530Z"
    }
   },
   "outputs": [
    {
     "data": {
      "text/plain": [
       "InvoiceNo           0\n",
       "InvoiceDate         0\n",
       "CustomerID     135080\n",
       "Quantity            0\n",
       "UnitPrice           0\n",
       "dtype: int64"
      ]
     },
     "execution_count": 5,
     "metadata": {},
     "output_type": "execute_result"
    }
   ],
   "source": [
    "# Number of missing values\n",
    "df.isna().sum()"
   ]
  },
  {
   "cell_type": "markdown",
   "id": "d3189ba6",
   "metadata": {},
   "source": [
    "The only column that has missing values is `CustomerID`. But we really need\n",
    "to know who bought what. Then rows with missing `CustomerID` have to go."
   ]
  },
  {
   "cell_type": "code",
   "execution_count": 6,
   "id": "63b30b89",
   "metadata": {
    "execution": {
     "iopub.execute_input": "2024-02-08T11:30:28.526194Z",
     "iopub.status.busy": "2024-02-08T11:30:28.525823Z",
     "iopub.status.idle": "2024-02-08T11:30:28.638354Z",
     "shell.execute_reply": "2024-02-08T11:30:28.637367Z"
    }
   },
   "outputs": [
    {
     "name": "stdout",
     "output_type": "stream",
     "text": [
      "<class 'pandas.core.frame.DataFrame'>\n",
      "Index: 406829 entries, 0 to 541908\n",
      "Data columns (total 5 columns):\n",
      " #   Column       Non-Null Count   Dtype         \n",
      "---  ------       --------------   -----         \n",
      " 0   InvoiceNo    406829 non-null  object        \n",
      " 1   InvoiceDate  406829 non-null  datetime64[ns]\n",
      " 2   CustomerID   406829 non-null  object        \n",
      " 3   Quantity     406829 non-null  int64         \n",
      " 4   UnitPrice    406829 non-null  float64       \n",
      "dtypes: datetime64[ns](1), float64(1), int64(1), object(2)\n",
      "memory usage: 18.6+ MB\n"
     ]
    }
   ],
   "source": [
    "df = df[df.CustomerID.notna()]\n",
    "df = cast(pd.DataFrame, df)\n",
    "df.info()"
   ]
  },
  {
   "cell_type": "markdown",
   "id": "61ad9463",
   "metadata": {},
   "source": [
    "`CustomerID` is supposed to be a 5-digit integer number. Let's confirm that\n",
    "this is the case:"
   ]
  },
  {
   "cell_type": "code",
   "execution_count": 7,
   "id": "ec5338a8",
   "metadata": {
    "execution": {
     "iopub.execute_input": "2024-02-08T11:30:28.643254Z",
     "iopub.status.busy": "2024-02-08T11:30:28.642870Z",
     "iopub.status.idle": "2024-02-08T11:30:28.950271Z",
     "shell.execute_reply": "2024-02-08T11:30:28.949366Z"
    }
   },
   "outputs": [],
   "source": [
    "ids = df.CustomerID.astype(str)\n",
    "ids = cast(pd.Series, ids)\n",
    "assert ids.str.len().eq(5).all()\n",
    "assert ids.str.isdigit().all()\n",
    "del ids"
   ]
  },
  {
   "cell_type": "code",
   "execution_count": 8,
   "id": "101cb1c1",
   "metadata": {
    "execution": {
     "iopub.execute_input": "2024-02-08T11:30:28.954010Z",
     "iopub.status.busy": "2024-02-08T11:30:28.953699Z",
     "iopub.status.idle": "2024-02-08T11:30:28.996144Z",
     "shell.execute_reply": "2024-02-08T11:30:28.995311Z"
    }
   },
   "outputs": [],
   "source": [
    "# Use appropriate data type\n",
    "df.CustomerID = df.CustomerID.astype(\"category\")"
   ]
  },
  {
   "cell_type": "markdown",
   "id": "98bac9d7",
   "metadata": {},
   "source": [
    "Looking for invalid quantities:"
   ]
  },
  {
   "cell_type": "code",
   "execution_count": 9,
   "id": "7fa90a43",
   "metadata": {
    "execution": {
     "iopub.execute_input": "2024-02-08T11:30:29.000707Z",
     "iopub.status.busy": "2024-02-08T11:30:29.000398Z",
     "iopub.status.idle": "2024-02-08T11:30:29.007784Z",
     "shell.execute_reply": "2024-02-08T11:30:29.006897Z"
    }
   },
   "outputs": [
    {
     "data": {
      "text/plain": [
       "8905"
      ]
     },
     "execution_count": 9,
     "metadata": {},
     "output_type": "execute_result"
    }
   ],
   "source": [
    "# `Quantity` should be strictly positive\n",
    "# So this should equal 0\n",
    "df.Quantity.le(0).sum()"
   ]
  },
  {
   "cell_type": "markdown",
   "id": "911b86da",
   "metadata": {},
   "source": [
    "Not every row corresponds to a sale. When the invoice number starts with \"C\",\n",
    "that transaction was canceled. That explains the observations with\n",
    "non-positive quantities."
   ]
  },
  {
   "cell_type": "code",
   "execution_count": 10,
   "id": "f62caffe",
   "metadata": {
    "execution": {
     "iopub.execute_input": "2024-02-08T11:30:29.012137Z",
     "iopub.status.busy": "2024-02-08T11:30:29.011844Z",
     "iopub.status.idle": "2024-02-08T11:30:29.235833Z",
     "shell.execute_reply": "2024-02-08T11:30:29.234838Z"
    }
   },
   "outputs": [
    {
     "data": {
      "text/plain": [
       "8905"
      ]
     },
     "execution_count": 10,
     "metadata": {},
     "output_type": "execute_result"
    }
   ],
   "source": [
    "df[\"InvoiceNo\"].astype(str).str.startswith(\"C\").sum()"
   ]
  },
  {
   "cell_type": "markdown",
   "id": "1ff9de3f",
   "metadata": {},
   "source": [
    "I chose to remove those rows:"
   ]
  },
  {
   "cell_type": "code",
   "execution_count": 11,
   "id": "7ee45953",
   "metadata": {
    "execution": {
     "iopub.execute_input": "2024-02-08T11:30:29.240284Z",
     "iopub.status.busy": "2024-02-08T11:30:29.239998Z",
     "iopub.status.idle": "2024-02-08T11:30:29.275063Z",
     "shell.execute_reply": "2024-02-08T11:30:29.274115Z"
    }
   },
   "outputs": [],
   "source": [
    "df = df[df.Quantity > 0]\n",
    "df = cast(pd.DataFrame, df)"
   ]
  },
  {
   "cell_type": "markdown",
   "id": "23ccb7fb",
   "metadata": {},
   "source": [
    "`InvoiceNo` is supposed to be a 6-digit integer number. Let's check that this\n",
    "column is OK:"
   ]
  },
  {
   "cell_type": "code",
   "execution_count": 12,
   "id": "bf1c440d",
   "metadata": {
    "execution": {
     "iopub.execute_input": "2024-02-08T11:30:29.279301Z",
     "iopub.status.busy": "2024-02-08T11:30:29.278493Z",
     "iopub.status.idle": "2024-02-08T11:30:29.699368Z",
     "shell.execute_reply": "2024-02-08T11:30:29.698411Z"
    }
   },
   "outputs": [],
   "source": [
    "invoice_nums = df.InvoiceNo.astype(str)\n",
    "assert invoice_nums.str.startswith(\"C\").sum() == 0\n",
    "assert invoice_nums.str.len().eq(6).all()\n",
    "assert invoice_nums.str.isdigit().all()\n",
    "del invoice_nums"
   ]
  },
  {
   "cell_type": "code",
   "execution_count": 13,
   "id": "b257c96e",
   "metadata": {
    "execution": {
     "iopub.execute_input": "2024-02-08T11:30:29.703919Z",
     "iopub.status.busy": "2024-02-08T11:30:29.703552Z",
     "iopub.status.idle": "2024-02-08T11:30:29.759925Z",
     "shell.execute_reply": "2024-02-08T11:30:29.759023Z"
    }
   },
   "outputs": [],
   "source": [
    "# Use appropriate data type\n",
    "df.InvoiceNo = df.InvoiceNo.astype(\"category\")"
   ]
  },
  {
   "cell_type": "markdown",
   "id": "f399ed4c",
   "metadata": {},
   "source": [
    "Looking for invalid prices:"
   ]
  },
  {
   "cell_type": "code",
   "execution_count": 14,
   "id": "9cc6167a",
   "metadata": {
    "execution": {
     "iopub.execute_input": "2024-02-08T11:30:29.765050Z",
     "iopub.status.busy": "2024-02-08T11:30:29.764106Z",
     "iopub.status.idle": "2024-02-08T11:30:29.771505Z",
     "shell.execute_reply": "2024-02-08T11:30:29.770496Z"
    }
   },
   "outputs": [
    {
     "data": {
      "text/plain": [
       "0"
      ]
     },
     "execution_count": 14,
     "metadata": {},
     "output_type": "execute_result"
    }
   ],
   "source": [
    "# Negative prices\n",
    "df.UnitPrice.lt(0.0).sum()  # OK"
   ]
  },
  {
   "cell_type": "code",
   "execution_count": 15,
   "id": "a829449e",
   "metadata": {
    "execution": {
     "iopub.execute_input": "2024-02-08T11:30:29.776310Z",
     "iopub.status.busy": "2024-02-08T11:30:29.775940Z",
     "iopub.status.idle": "2024-02-08T11:30:29.783577Z",
     "shell.execute_reply": "2024-02-08T11:30:29.782606Z"
    }
   },
   "outputs": [
    {
     "data": {
      "text/plain": [
       "40"
      ]
     },
     "execution_count": 15,
     "metadata": {},
     "output_type": "execute_result"
    }
   ],
   "source": [
    "# Products that cost nothing\n",
    "df.UnitPrice.eq(0.0).sum()"
   ]
  },
  {
   "cell_type": "markdown",
   "id": "f61e6a1c",
   "metadata": {},
   "source": [
    "I don't know how to explain such values. They should make no difference. Then\n",
    "I chose to drop them:"
   ]
  },
  {
   "cell_type": "code",
   "execution_count": 16,
   "id": "43f3f123",
   "metadata": {
    "execution": {
     "iopub.execute_input": "2024-02-08T11:30:29.787484Z",
     "iopub.status.busy": "2024-02-08T11:30:29.787137Z",
     "iopub.status.idle": "2024-02-08T11:30:29.819916Z",
     "shell.execute_reply": "2024-02-08T11:30:29.819038Z"
    }
   },
   "outputs": [],
   "source": [
    "df = df[df.UnitPrice > 0.0]\n",
    "df = cast(pd.DataFrame, df)"
   ]
  },
  {
   "cell_type": "markdown",
   "id": "ca8d161f",
   "metadata": {},
   "source": [
    "## Finish fixing dataset"
   ]
  },
  {
   "cell_type": "code",
   "execution_count": 17,
   "id": "aa80bf03",
   "metadata": {
    "execution": {
     "iopub.execute_input": "2024-02-08T11:30:29.823592Z",
     "iopub.status.busy": "2024-02-08T11:30:29.823243Z",
     "iopub.status.idle": "2024-02-08T11:30:29.838541Z",
     "shell.execute_reply": "2024-02-08T11:30:29.837508Z"
    }
   },
   "outputs": [
    {
     "name": "stdout",
     "output_type": "stream",
     "text": [
      "<class 'pandas.core.frame.DataFrame'>\n",
      "RangeIndex: 397884 entries, 0 to 397883\n",
      "Data columns (total 5 columns):\n",
      " #   Column       Non-Null Count   Dtype         \n",
      "---  ------       --------------   -----         \n",
      " 0   InvoiceNo    397884 non-null  category      \n",
      " 1   InvoiceDate  397884 non-null  datetime64[ns]\n",
      " 2   CustomerID   397884 non-null  category      \n",
      " 3   Quantity     397884 non-null  int64         \n",
      " 4   UnitPrice    397884 non-null  float64       \n",
      "dtypes: category(2), datetime64[ns](1), float64(1), int64(1)\n",
      "memory usage: 11.4 MB\n"
     ]
    }
   ],
   "source": [
    "df = df.reset_index(drop=True)\n",
    "df.info()"
   ]
  },
  {
   "cell_type": "markdown",
   "id": "41ad1f0c",
   "metadata": {},
   "source": [
    "The only part of `InvoiceDate` that matters is the date. The following\n",
    "command sets all the times to midnight:"
   ]
  },
  {
   "cell_type": "code",
   "execution_count": 18,
   "id": "152e3c2f",
   "metadata": {
    "execution": {
     "iopub.execute_input": "2024-02-08T11:30:29.842989Z",
     "iopub.status.busy": "2024-02-08T11:30:29.842695Z",
     "iopub.status.idle": "2024-02-08T11:30:29.866257Z",
     "shell.execute_reply": "2024-02-08T11:30:29.865259Z"
    }
   },
   "outputs": [
    {
     "data": {
      "text/plain": [
       "0   2010-12-01\n",
       "1   2010-12-01\n",
       "2   2010-12-01\n",
       "3   2010-12-01\n",
       "4   2010-12-01\n",
       "Name: InvoiceDate, dtype: datetime64[ns]"
      ]
     },
     "execution_count": 18,
     "metadata": {},
     "output_type": "execute_result"
    }
   ],
   "source": [
    "df[\"InvoiceDate\"] = df[\"InvoiceDate\"].dt.normalize()\n",
    "df[\"InvoiceDate\"].head()"
   ]
  },
  {
   "cell_type": "markdown",
   "id": "f64570e8",
   "metadata": {
    "lines_to_next_cell": 2
   },
   "source": [
    "For convenience, I'll collect the essential parts of the above code, and\n",
    "create a function:"
   ]
  },
  {
   "cell_type": "code",
   "execution_count": 19,
   "id": "9d395a1b",
   "metadata": {
    "execution": {
     "iopub.execute_input": "2024-02-08T11:30:29.870095Z",
     "iopub.status.busy": "2024-02-08T11:30:29.869814Z",
     "iopub.status.idle": "2024-02-08T11:30:29.876678Z",
     "shell.execute_reply": "2024-02-08T11:30:29.875665Z"
    }
   },
   "outputs": [],
   "source": [
    "def get_clean_data(file_path: Path) -> pd.DataFrame:\n",
    "    cols = [\"InvoiceNo\", \"InvoiceDate\", \"CustomerID\", \"Quantity\", \"UnitPrice\"]\n",
    "    df = pd.read_excel(\n",
    "        file_path,\n",
    "        usecols=cols,\n",
    "        dtype={\n",
    "            \"InvoiceNo\": object,\n",
    "            \"CustomerID\": object,\n",
    "            \"Quantity\": np.int_,\n",
    "            \"UnitPrice\": np.float_,\n",
    "        },\n",
    "        parse_dates=[\"InvoiceDate\"],\n",
    "    ).loc[:, cols]\n",
    "    df = df[df.CustomerID.notna()]\n",
    "    df.CustomerID = df.CustomerID.astype(\"category\")\n",
    "    df = df[df.Quantity > 0]\n",
    "    df.InvoiceNo = df.InvoiceNo.astype(\"category\")\n",
    "    df = df[df.UnitPrice > 0.0]\n",
    "    df = df.reset_index(drop=True)\n",
    "    df.InvoiceDate = df.InvoiceDate.dt.normalize()\n",
    "    return df"
   ]
  },
  {
   "cell_type": "code",
   "execution_count": 20,
   "id": "21b1d3d2",
   "metadata": {
    "execution": {
     "iopub.execute_input": "2024-02-08T11:30:29.880300Z",
     "iopub.status.busy": "2024-02-08T11:30:29.879955Z",
     "iopub.status.idle": "2024-02-08T11:31:43.782120Z",
     "shell.execute_reply": "2024-02-08T11:31:43.780302Z"
    }
   },
   "outputs": [],
   "source": [
    "# Quick check\n",
    "df_func = get_clean_data(file_path)\n",
    "assert_frame_equal(df_func, df)\n",
    "del df_func"
   ]
  },
  {
   "cell_type": "markdown",
   "id": "c0bde9f3",
   "metadata": {},
   "source": [
    "## Aggregate data\n",
    "\n",
    "Before aggregating the data, I'll do some more consistency tests. Rows with\n",
    "the same `InvoiceNo` must also have the same `InvoiceDate`. For a specific\n",
    "value of `InvoiceNo`, this can be tested as follows:"
   ]
  },
  {
   "cell_type": "code",
   "execution_count": 21,
   "id": "52904adc",
   "metadata": {
    "execution": {
     "iopub.execute_input": "2024-02-08T11:31:43.788263Z",
     "iopub.status.busy": "2024-02-08T11:31:43.787861Z",
     "iopub.status.idle": "2024-02-08T11:31:43.795174Z",
     "shell.execute_reply": "2024-02-08T11:31:43.794046Z"
    }
   },
   "outputs": [],
   "source": [
    "assert df.loc[df[\"InvoiceNo\"] == 536365, \"InvoiceDate\"].nunique() == 1"
   ]
  },
  {
   "cell_type": "markdown",
   "id": "1610b8fd",
   "metadata": {},
   "source": [
    "To test all values of `InvoiceNo`, one can do the following:"
   ]
  },
  {
   "cell_type": "code",
   "execution_count": 22,
   "id": "0c69ab02",
   "metadata": {
    "execution": {
     "iopub.execute_input": "2024-02-08T11:31:43.800047Z",
     "iopub.status.busy": "2024-02-08T11:31:43.799668Z",
     "iopub.status.idle": "2024-02-08T11:31:43.829024Z",
     "shell.execute_reply": "2024-02-08T11:31:43.828150Z"
    }
   },
   "outputs": [],
   "source": [
    "assert df.groupby(by=\"InvoiceNo\", observed=True).InvoiceDate.nunique().eq(1).all()"
   ]
  },
  {
   "cell_type": "markdown",
   "id": "67eae49c",
   "metadata": {},
   "source": [
    "Similarly, rows with the same `InvoiceNo` must also have the same\n",
    "`CustomerID`. Checking if this is true:"
   ]
  },
  {
   "cell_type": "code",
   "execution_count": 23,
   "id": "aa163b4e",
   "metadata": {
    "execution": {
     "iopub.execute_input": "2024-02-08T11:31:43.833046Z",
     "iopub.status.busy": "2024-02-08T11:31:43.832760Z",
     "iopub.status.idle": "2024-02-08T11:31:43.838529Z",
     "shell.execute_reply": "2024-02-08T11:31:43.837621Z"
    }
   },
   "outputs": [],
   "source": [
    "# Single value\n",
    "assert df.loc[df[\"InvoiceNo\"] == 536365, \"CustomerID\"].nunique() == 1"
   ]
  },
  {
   "cell_type": "code",
   "execution_count": 24,
   "id": "b69158e8",
   "metadata": {
    "execution": {
     "iopub.execute_input": "2024-02-08T11:31:43.842061Z",
     "iopub.status.busy": "2024-02-08T11:31:43.841676Z",
     "iopub.status.idle": "2024-02-08T11:31:43.872132Z",
     "shell.execute_reply": "2024-02-08T11:31:43.870266Z"
    }
   },
   "outputs": [],
   "source": [
    "# All values\n",
    "assert df.groupby(by=\"InvoiceNo\", observed=True).CustomerID.nunique().eq(1).all()"
   ]
  },
  {
   "cell_type": "markdown",
   "id": "8351ed8b",
   "metadata": {},
   "source": [
    "Everything is OK. Then I'll compute the total amount spent for each\n",
    "`InvoiceNo`."
   ]
  },
  {
   "cell_type": "code",
   "execution_count": 25,
   "id": "0960c336",
   "metadata": {
    "execution": {
     "iopub.execute_input": "2024-02-08T11:31:43.878282Z",
     "iopub.status.busy": "2024-02-08T11:31:43.877884Z",
     "iopub.status.idle": "2024-02-08T11:31:43.892206Z",
     "shell.execute_reply": "2024-02-08T11:31:43.891367Z"
    }
   },
   "outputs": [
    {
     "data": {
      "text/html": [
       "<div>\n",
       "<style scoped>\n",
       "    .dataframe tbody tr th:only-of-type {\n",
       "        vertical-align: middle;\n",
       "    }\n",
       "\n",
       "    .dataframe tbody tr th {\n",
       "        vertical-align: top;\n",
       "    }\n",
       "\n",
       "    .dataframe thead th {\n",
       "        text-align: right;\n",
       "    }\n",
       "</style>\n",
       "<table border=\"1\" class=\"dataframe\">\n",
       "  <thead>\n",
       "    <tr style=\"text-align: right;\">\n",
       "      <th></th>\n",
       "      <th>InvoiceNo</th>\n",
       "      <th>InvoiceDate</th>\n",
       "      <th>CustomerID</th>\n",
       "      <th>Quantity</th>\n",
       "      <th>UnitPrice</th>\n",
       "    </tr>\n",
       "  </thead>\n",
       "  <tbody>\n",
       "    <tr>\n",
       "      <th>0</th>\n",
       "      <td>536365</td>\n",
       "      <td>2010-12-01</td>\n",
       "      <td>17850</td>\n",
       "      <td>6</td>\n",
       "      <td>2.55</td>\n",
       "    </tr>\n",
       "    <tr>\n",
       "      <th>1</th>\n",
       "      <td>536365</td>\n",
       "      <td>2010-12-01</td>\n",
       "      <td>17850</td>\n",
       "      <td>6</td>\n",
       "      <td>3.39</td>\n",
       "    </tr>\n",
       "    <tr>\n",
       "      <th>2</th>\n",
       "      <td>536365</td>\n",
       "      <td>2010-12-01</td>\n",
       "      <td>17850</td>\n",
       "      <td>8</td>\n",
       "      <td>2.75</td>\n",
       "    </tr>\n",
       "    <tr>\n",
       "      <th>3</th>\n",
       "      <td>536365</td>\n",
       "      <td>2010-12-01</td>\n",
       "      <td>17850</td>\n",
       "      <td>6</td>\n",
       "      <td>3.39</td>\n",
       "    </tr>\n",
       "    <tr>\n",
       "      <th>4</th>\n",
       "      <td>536365</td>\n",
       "      <td>2010-12-01</td>\n",
       "      <td>17850</td>\n",
       "      <td>6</td>\n",
       "      <td>3.39</td>\n",
       "    </tr>\n",
       "    <tr>\n",
       "      <th>5</th>\n",
       "      <td>536365</td>\n",
       "      <td>2010-12-01</td>\n",
       "      <td>17850</td>\n",
       "      <td>2</td>\n",
       "      <td>7.65</td>\n",
       "    </tr>\n",
       "    <tr>\n",
       "      <th>6</th>\n",
       "      <td>536365</td>\n",
       "      <td>2010-12-01</td>\n",
       "      <td>17850</td>\n",
       "      <td>6</td>\n",
       "      <td>4.25</td>\n",
       "    </tr>\n",
       "  </tbody>\n",
       "</table>\n",
       "</div>"
      ],
      "text/plain": [
       "  InvoiceNo InvoiceDate CustomerID  Quantity  UnitPrice\n",
       "0    536365  2010-12-01      17850         6       2.55\n",
       "1    536365  2010-12-01      17850         6       3.39\n",
       "2    536365  2010-12-01      17850         8       2.75\n",
       "3    536365  2010-12-01      17850         6       3.39\n",
       "4    536365  2010-12-01      17850         6       3.39\n",
       "5    536365  2010-12-01      17850         2       7.65\n",
       "6    536365  2010-12-01      17850         6       4.25"
      ]
     },
     "execution_count": 25,
     "metadata": {},
     "output_type": "execute_result"
    }
   ],
   "source": [
    "# Figuring out how to do it\n",
    "tmp_df = df[df.InvoiceNo == 536365]\n",
    "tmp_df = cast(pd.DataFrame, tmp_df)\n",
    "tmp_df"
   ]
  },
  {
   "cell_type": "code",
   "execution_count": 26,
   "id": "d2781f10",
   "metadata": {
    "execution": {
     "iopub.execute_input": "2024-02-08T11:31:43.896095Z",
     "iopub.status.busy": "2024-02-08T11:31:43.895725Z",
     "iopub.status.idle": "2024-02-08T11:31:43.905054Z",
     "shell.execute_reply": "2024-02-08T11:31:43.904022Z"
    }
   },
   "outputs": [
    {
     "data": {
      "text/plain": [
       "InvoiceDate    2010-12-01 00:00:00\n",
       "CustomerID                   17850\n",
       "TotalPrice                  139.12\n",
       "dtype: object"
      ]
     },
     "execution_count": 26,
     "metadata": {},
     "output_type": "execute_result"
    }
   ],
   "source": [
    "tmp_row = pd.Series(\n",
    "    data={\n",
    "        \"InvoiceDate\": tmp_df[\"InvoiceDate\"].iloc[0],\n",
    "        \"CustomerID\": tmp_df[\"CustomerID\"].iloc[0],\n",
    "        \"TotalPrice\": (tmp_df[\"Quantity\"] * tmp_df[\"UnitPrice\"]).sum(),\n",
    "    }\n",
    ")\n",
    "tmp_row"
   ]
  },
  {
   "cell_type": "code",
   "execution_count": 27,
   "id": "d6d95a66",
   "metadata": {
    "execution": {
     "iopub.execute_input": "2024-02-08T11:31:43.909474Z",
     "iopub.status.busy": "2024-02-08T11:31:43.909192Z",
     "iopub.status.idle": "2024-02-08T11:31:43.913344Z",
     "shell.execute_reply": "2024-02-08T11:31:43.912327Z"
    }
   },
   "outputs": [],
   "source": [
    "del tmp_df\n",
    "del tmp_row"
   ]
  },
  {
   "cell_type": "code",
   "execution_count": 28,
   "id": "62647948",
   "metadata": {
    "execution": {
     "iopub.execute_input": "2024-02-08T11:31:43.917906Z",
     "iopub.status.busy": "2024-02-08T11:31:43.917537Z",
     "iopub.status.idle": "2024-02-08T11:31:43.924274Z",
     "shell.execute_reply": "2024-02-08T11:31:43.923216Z"
    }
   },
   "outputs": [],
   "source": [
    "# Actual calculation\n",
    "def compute_total_price(df: pd.DataFrame) -> pd.Series:\n",
    "    return pd.Series(\n",
    "        data={\n",
    "            \"InvoiceDate\": df[\"InvoiceDate\"].iloc[0],\n",
    "            \"CustomerID\": df[\"CustomerID\"].iloc[0],\n",
    "            \"TotalPrice\": (df[\"Quantity\"] * df[\"UnitPrice\"]).sum(),\n",
    "        }\n",
    "    )"
   ]
  },
  {
   "cell_type": "code",
   "execution_count": 29,
   "id": "19d97055",
   "metadata": {
    "execution": {
     "iopub.execute_input": "2024-02-08T11:31:43.928267Z",
     "iopub.status.busy": "2024-02-08T11:31:43.927693Z",
     "iopub.status.idle": "2024-02-08T11:31:57.434830Z",
     "shell.execute_reply": "2024-02-08T11:31:57.433838Z"
    }
   },
   "outputs": [
    {
     "data": {
      "text/html": [
       "<div>\n",
       "<style scoped>\n",
       "    .dataframe tbody tr th:only-of-type {\n",
       "        vertical-align: middle;\n",
       "    }\n",
       "\n",
       "    .dataframe tbody tr th {\n",
       "        vertical-align: top;\n",
       "    }\n",
       "\n",
       "    .dataframe thead th {\n",
       "        text-align: right;\n",
       "    }\n",
       "</style>\n",
       "<table border=\"1\" class=\"dataframe\">\n",
       "  <thead>\n",
       "    <tr style=\"text-align: right;\">\n",
       "      <th></th>\n",
       "      <th>InvoiceNo</th>\n",
       "      <th>InvoiceDate</th>\n",
       "      <th>CustomerID</th>\n",
       "      <th>TotalPrice</th>\n",
       "    </tr>\n",
       "  </thead>\n",
       "  <tbody>\n",
       "    <tr>\n",
       "      <th>0</th>\n",
       "      <td>536365</td>\n",
       "      <td>2010-12-01</td>\n",
       "      <td>17850</td>\n",
       "      <td>139.12</td>\n",
       "    </tr>\n",
       "    <tr>\n",
       "      <th>1</th>\n",
       "      <td>536366</td>\n",
       "      <td>2010-12-01</td>\n",
       "      <td>17850</td>\n",
       "      <td>22.20</td>\n",
       "    </tr>\n",
       "    <tr>\n",
       "      <th>2</th>\n",
       "      <td>536367</td>\n",
       "      <td>2010-12-01</td>\n",
       "      <td>13047</td>\n",
       "      <td>278.73</td>\n",
       "    </tr>\n",
       "    <tr>\n",
       "      <th>3</th>\n",
       "      <td>536368</td>\n",
       "      <td>2010-12-01</td>\n",
       "      <td>13047</td>\n",
       "      <td>70.05</td>\n",
       "    </tr>\n",
       "    <tr>\n",
       "      <th>4</th>\n",
       "      <td>536369</td>\n",
       "      <td>2010-12-01</td>\n",
       "      <td>13047</td>\n",
       "      <td>17.85</td>\n",
       "    </tr>\n",
       "  </tbody>\n",
       "</table>\n",
       "</div>"
      ],
      "text/plain": [
       "  InvoiceNo InvoiceDate  CustomerID  TotalPrice\n",
       "0    536365  2010-12-01       17850      139.12\n",
       "1    536366  2010-12-01       17850       22.20\n",
       "2    536367  2010-12-01       13047      278.73\n",
       "3    536368  2010-12-01       13047       70.05\n",
       "4    536369  2010-12-01       13047       17.85"
      ]
     },
     "execution_count": 29,
     "metadata": {},
     "output_type": "execute_result"
    }
   ],
   "source": [
    "df_total = (\n",
    "    df.groupby(by=\"InvoiceNo\", observed=True).apply(compute_total_price, include_groups=False).reset_index()\n",
    ")\n",
    "df_total.head()"
   ]
  },
  {
   "cell_type": "code",
   "execution_count": 30,
   "id": "99479d53",
   "metadata": {
    "execution": {
     "iopub.execute_input": "2024-02-08T11:31:57.438697Z",
     "iopub.status.busy": "2024-02-08T11:31:57.438366Z",
     "iopub.status.idle": "2024-02-08T11:31:57.449401Z",
     "shell.execute_reply": "2024-02-08T11:31:57.448492Z"
    }
   },
   "outputs": [
    {
     "name": "stdout",
     "output_type": "stream",
     "text": [
      "<class 'pandas.core.frame.DataFrame'>\n",
      "RangeIndex: 18532 entries, 0 to 18531\n",
      "Data columns (total 4 columns):\n",
      " #   Column       Non-Null Count  Dtype         \n",
      "---  ------       --------------  -----         \n",
      " 0   InvoiceNo    18532 non-null  category      \n",
      " 1   InvoiceDate  18532 non-null  datetime64[ns]\n",
      " 2   CustomerID   18532 non-null  int64         \n",
      " 3   TotalPrice   18532 non-null  float64       \n",
      "dtypes: category(1), datetime64[ns](1), float64(1), int64(1)\n",
      "memory usage: 1.1 MB\n"
     ]
    }
   ],
   "source": [
    "df_total.info()"
   ]
  },
  {
   "cell_type": "markdown",
   "id": "70f5488c",
   "metadata": {
    "lines_to_next_cell": 2
   },
   "source": [
    "I'll use this code in other notebooks. For this reason, I'll define a\n",
    "function that returns the aggregated data. This function doesn't do much, but\n",
    "it is convenient."
   ]
  },
  {
   "cell_type": "code",
   "execution_count": 31,
   "id": "2a9f2850",
   "metadata": {
    "execution": {
     "iopub.execute_input": "2024-02-08T11:31:57.452911Z",
     "iopub.status.busy": "2024-02-08T11:31:57.452629Z",
     "iopub.status.idle": "2024-02-08T11:31:57.457691Z",
     "shell.execute_reply": "2024-02-08T11:31:57.456654Z"
    }
   },
   "outputs": [],
   "source": [
    "def get_aggregated_data(file_path: Path) -> pd.DataFrame:\n",
    "    return (\n",
    "        get_clean_data(file_path)\n",
    "        .groupby(by=\"InvoiceNo\", observed=True)\n",
    "        .apply(compute_total_price, include_groups=False)\n",
    "        .reset_index()\n",
    "    )"
   ]
  },
  {
   "cell_type": "code",
   "execution_count": 32,
   "id": "749ca217",
   "metadata": {
    "execution": {
     "iopub.execute_input": "2024-02-08T11:31:57.461304Z",
     "iopub.status.busy": "2024-02-08T11:31:57.460912Z",
     "iopub.status.idle": "2024-02-08T11:33:24.433251Z",
     "shell.execute_reply": "2024-02-08T11:33:24.432204Z"
    }
   },
   "outputs": [],
   "source": [
    "# Quick check\n",
    "df_func = get_aggregated_data(file_path)\n",
    "assert_frame_equal(df_func, df_total)\n",
    "del df_func"
   ]
  },
  {
   "cell_type": "markdown",
   "id": "bee10d5d",
   "metadata": {},
   "source": [
    "## Save prepared data\n",
    "\n",
    "Clearly, I've ended up with a much smaller dataset than the original. To\n",
    "avoid having to repeat the above steps, I'll save the new `DataFrame` to a\n",
    "CSV file."
   ]
  },
  {
   "cell_type": "code",
   "execution_count": 33,
   "id": "6fe50a2b",
   "metadata": {
    "execution": {
     "iopub.execute_input": "2024-02-08T11:33:24.440158Z",
     "iopub.status.busy": "2024-02-08T11:33:24.439613Z",
     "iopub.status.idle": "2024-02-08T11:33:24.555565Z",
     "shell.execute_reply": "2024-02-08T11:33:24.554287Z"
    }
   },
   "outputs": [],
   "source": [
    "# Path to output CSV\n",
    "out_file = file_path.with_suffix(\".csv\")\n",
    "\n",
    "df_total.to_csv(out_file, index=False)"
   ]
  }
 ],
 "metadata": {
  "jupytext": {
   "cell_metadata_filter": "-all",
   "main_language": "python",
   "notebook_metadata_filter": "-all"
  },
  "language_info": {
   "codemirror_mode": {
    "name": "ipython",
    "version": 3
   },
   "file_extension": ".py",
   "mimetype": "text/x-python",
   "name": "python",
   "nbconvert_exporter": "python",
   "pygments_lexer": "ipython3",
   "version": "3.11.6"
  }
 },
 "nbformat": 4,
 "nbformat_minor": 5
}
