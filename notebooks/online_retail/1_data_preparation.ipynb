{
 "cells": [
  {
   "cell_type": "markdown",
   "id": "9ddf46f0",
   "metadata": {},
   "source": [
    "# Online Retail Dataset: Data Preparation\n",
    "In this notebook, I'll prepare the dataset for analysis.\n",
    "## Imports"
   ]
  },
  {
   "cell_type": "code",
   "execution_count": 1,
   "id": "3b10415a",
   "metadata": {},
   "outputs": [],
   "source": [
    "from pathlib import Path\n",
    "\n",
    "import numpy as np\n",
    "import pandas as pd\n",
    "from pandas.testing import assert_frame_equal"
   ]
  },
  {
   "cell_type": "markdown",
   "id": "b39c3126",
   "metadata": {},
   "source": [
    "## Read dataset"
   ]
  },
  {
   "cell_type": "code",
   "execution_count": 2,
   "id": "9b02daf1",
   "metadata": {},
   "outputs": [],
   "source": [
    "# Path to dataset\n",
    "file_path = Path.cwd().parents[1] / \"data\" / \"online_retail.xlsx\"\n",
    "assert file_path.exists(), f\"file doesn't exist: {file_path}\""
   ]
  },
  {
   "cell_type": "code",
   "execution_count": 3,
   "id": "a4c675bb",
   "metadata": {},
   "outputs": [
    {
     "data": {
      "text/html": [
       "<div>\n",
       "<style scoped>\n",
       "    .dataframe tbody tr th:only-of-type {\n",
       "        vertical-align: middle;\n",
       "    }\n",
       "\n",
       "    .dataframe tbody tr th {\n",
       "        vertical-align: top;\n",
       "    }\n",
       "\n",
       "    .dataframe thead th {\n",
       "        text-align: right;\n",
       "    }\n",
       "</style>\n",
       "<table border=\"1\" class=\"dataframe\">\n",
       "  <thead>\n",
       "    <tr style=\"text-align: right;\">\n",
       "      <th></th>\n",
       "      <th>InvoiceNo</th>\n",
       "      <th>InvoiceDate</th>\n",
       "      <th>CustomerID</th>\n",
       "      <th>Quantity</th>\n",
       "      <th>UnitPrice</th>\n",
       "    </tr>\n",
       "  </thead>\n",
       "  <tbody>\n",
       "    <tr>\n",
       "      <th>0</th>\n",
       "      <td>536365</td>\n",
       "      <td>2010-12-01 08:26:00</td>\n",
       "      <td>17850</td>\n",
       "      <td>6</td>\n",
       "      <td>2.55</td>\n",
       "    </tr>\n",
       "    <tr>\n",
       "      <th>1</th>\n",
       "      <td>536365</td>\n",
       "      <td>2010-12-01 08:26:00</td>\n",
       "      <td>17850</td>\n",
       "      <td>6</td>\n",
       "      <td>3.39</td>\n",
       "    </tr>\n",
       "    <tr>\n",
       "      <th>2</th>\n",
       "      <td>536365</td>\n",
       "      <td>2010-12-01 08:26:00</td>\n",
       "      <td>17850</td>\n",
       "      <td>8</td>\n",
       "      <td>2.75</td>\n",
       "    </tr>\n",
       "    <tr>\n",
       "      <th>3</th>\n",
       "      <td>536365</td>\n",
       "      <td>2010-12-01 08:26:00</td>\n",
       "      <td>17850</td>\n",
       "      <td>6</td>\n",
       "      <td>3.39</td>\n",
       "    </tr>\n",
       "    <tr>\n",
       "      <th>4</th>\n",
       "      <td>536365</td>\n",
       "      <td>2010-12-01 08:26:00</td>\n",
       "      <td>17850</td>\n",
       "      <td>6</td>\n",
       "      <td>3.39</td>\n",
       "    </tr>\n",
       "    <tr>\n",
       "      <th>5</th>\n",
       "      <td>536365</td>\n",
       "      <td>2010-12-01 08:26:00</td>\n",
       "      <td>17850</td>\n",
       "      <td>2</td>\n",
       "      <td>7.65</td>\n",
       "    </tr>\n",
       "    <tr>\n",
       "      <th>6</th>\n",
       "      <td>536365</td>\n",
       "      <td>2010-12-01 08:26:00</td>\n",
       "      <td>17850</td>\n",
       "      <td>6</td>\n",
       "      <td>4.25</td>\n",
       "    </tr>\n",
       "    <tr>\n",
       "      <th>7</th>\n",
       "      <td>536366</td>\n",
       "      <td>2010-12-01 08:28:00</td>\n",
       "      <td>17850</td>\n",
       "      <td>6</td>\n",
       "      <td>1.85</td>\n",
       "    </tr>\n",
       "    <tr>\n",
       "      <th>8</th>\n",
       "      <td>536366</td>\n",
       "      <td>2010-12-01 08:28:00</td>\n",
       "      <td>17850</td>\n",
       "      <td>6</td>\n",
       "      <td>1.85</td>\n",
       "    </tr>\n",
       "    <tr>\n",
       "      <th>9</th>\n",
       "      <td>536367</td>\n",
       "      <td>2010-12-01 08:34:00</td>\n",
       "      <td>13047</td>\n",
       "      <td>32</td>\n",
       "      <td>1.69</td>\n",
       "    </tr>\n",
       "  </tbody>\n",
       "</table>\n",
       "</div>"
      ],
      "text/plain": [
       "  InvoiceNo         InvoiceDate CustomerID  Quantity  UnitPrice\n",
       "0    536365 2010-12-01 08:26:00      17850         6       2.55\n",
       "1    536365 2010-12-01 08:26:00      17850         6       3.39\n",
       "2    536365 2010-12-01 08:26:00      17850         8       2.75\n",
       "3    536365 2010-12-01 08:26:00      17850         6       3.39\n",
       "4    536365 2010-12-01 08:26:00      17850         6       3.39\n",
       "5    536365 2010-12-01 08:26:00      17850         2       7.65\n",
       "6    536365 2010-12-01 08:26:00      17850         6       4.25\n",
       "7    536366 2010-12-01 08:28:00      17850         6       1.85\n",
       "8    536366 2010-12-01 08:28:00      17850         6       1.85\n",
       "9    536367 2010-12-01 08:34:00      13047        32       1.69"
      ]
     },
     "execution_count": 3,
     "metadata": {},
     "output_type": "execute_result"
    }
   ],
   "source": [
    "# Columns I'll actually use\n",
    "cols = [\"InvoiceNo\", \"InvoiceDate\", \"CustomerID\", \"Quantity\", \"UnitPrice\"]\n",
    "\n",
    "df = pd.read_excel(\n",
    "    file_path,\n",
    "    usecols=cols,\n",
    "    dtype={\n",
    "        \"InvoiceNo\": object,\n",
    "        \"CustomerID\": object,\n",
    "        \"Quantity\": np.int_,\n",
    "        \"UnitPrice\": np.float_,\n",
    "    },\n",
    "    parse_dates=[\"InvoiceDate\"],\n",
    ").loc[:, cols]\n",
    "df.head(10)"
   ]
  },
  {
   "cell_type": "code",
   "execution_count": 4,
   "id": "0c014d74",
   "metadata": {},
   "outputs": [
    {
     "name": "stdout",
     "output_type": "stream",
     "text": [
      "<class 'pandas.core.frame.DataFrame'>\n",
      "RangeIndex: 541909 entries, 0 to 541908\n",
      "Data columns (total 5 columns):\n",
      " #   Column       Non-Null Count   Dtype         \n",
      "---  ------       --------------   -----         \n",
      " 0   InvoiceNo    541909 non-null  object        \n",
      " 1   InvoiceDate  541909 non-null  datetime64[ns]\n",
      " 2   CustomerID   406829 non-null  object        \n",
      " 3   Quantity     541909 non-null  int64         \n",
      " 4   UnitPrice    541909 non-null  float64       \n",
      "dtypes: datetime64[ns](1), float64(1), int64(1), object(2)\n",
      "memory usage: 20.7+ MB\n"
     ]
    }
   ],
   "source": [
    "df.info()"
   ]
  },
  {
   "cell_type": "markdown",
   "id": "a2135216",
   "metadata": {},
   "source": [
    "## Data cleaning"
   ]
  },
  {
   "cell_type": "code",
   "execution_count": 5,
   "id": "34719420",
   "metadata": {},
   "outputs": [
    {
     "data": {
      "text/plain": [
       "InvoiceNo           0\n",
       "InvoiceDate         0\n",
       "CustomerID     135080\n",
       "Quantity            0\n",
       "UnitPrice           0\n",
       "dtype: int64"
      ]
     },
     "execution_count": 5,
     "metadata": {},
     "output_type": "execute_result"
    }
   ],
   "source": [
    "# Number of missing values\n",
    "df.isna().sum()"
   ]
  },
  {
   "cell_type": "markdown",
   "id": "bfec69fb",
   "metadata": {},
   "source": [
    "The only column that has missing values is `CustomerID`. But we really need\n",
    "to know who bought what. Then rows with missing `CustomerID` have to go."
   ]
  },
  {
   "cell_type": "code",
   "execution_count": 6,
   "id": "31f34d00",
   "metadata": {},
   "outputs": [
    {
     "name": "stdout",
     "output_type": "stream",
     "text": [
      "<class 'pandas.core.frame.DataFrame'>\n",
      "Index: 406829 entries, 0 to 541908\n",
      "Data columns (total 5 columns):\n",
      " #   Column       Non-Null Count   Dtype         \n",
      "---  ------       --------------   -----         \n",
      " 0   InvoiceNo    406829 non-null  object        \n",
      " 1   InvoiceDate  406829 non-null  datetime64[ns]\n",
      " 2   CustomerID   406829 non-null  object        \n",
      " 3   Quantity     406829 non-null  int64         \n",
      " 4   UnitPrice    406829 non-null  float64       \n",
      "dtypes: datetime64[ns](1), float64(1), int64(1), object(2)\n",
      "memory usage: 18.6+ MB\n"
     ]
    }
   ],
   "source": [
    "df = df[df.CustomerID.notna()]\n",
    "df.info()"
   ]
  },
  {
   "cell_type": "markdown",
   "id": "57700193",
   "metadata": {},
   "source": [
    "`CustomerID` is supposed to be a 5-digit integer number. Let's confirm that\n",
    "this is the case:"
   ]
  },
  {
   "cell_type": "code",
   "execution_count": 7,
   "id": "aca1a114",
   "metadata": {},
   "outputs": [],
   "source": [
    "ids = df[\"CustomerID\"].astype(str)\n",
    "assert ids.str.len().eq(5).all()\n",
    "assert ids.str.isdigit().all()\n",
    "del ids"
   ]
  },
  {
   "cell_type": "markdown",
   "id": "146e3156",
   "metadata": {},
   "source": [
    "Looking for invalid quantities:"
   ]
  },
  {
   "cell_type": "code",
   "execution_count": 8,
   "id": "991943d8",
   "metadata": {},
   "outputs": [
    {
     "data": {
      "text/plain": [
       "8905"
      ]
     },
     "execution_count": 8,
     "metadata": {},
     "output_type": "execute_result"
    }
   ],
   "source": [
    "# `Quantity` should be strictly positive\n",
    "# So this should equal 0\n",
    "df.Quantity.le(0).sum()"
   ]
  },
  {
   "cell_type": "markdown",
   "id": "3953964f",
   "metadata": {},
   "source": [
    "Not every row corresponds to a sale. When the invoice number starts with \"C\",\n",
    "that transaction was canceled. That explains the observations with\n",
    "non-positive quantities."
   ]
  },
  {
   "cell_type": "code",
   "execution_count": 9,
   "id": "04070d19",
   "metadata": {},
   "outputs": [
    {
     "data": {
      "text/plain": [
       "8905"
      ]
     },
     "execution_count": 9,
     "metadata": {},
     "output_type": "execute_result"
    }
   ],
   "source": [
    "df[\"InvoiceNo\"].astype(str).str.startswith(\"C\").sum()"
   ]
  },
  {
   "cell_type": "code",
   "execution_count": 10,
   "id": "2b5ead2c",
   "metadata": {},
   "outputs": [
    {
     "data": {
      "text/html": [
       "<div>\n",
       "<style scoped>\n",
       "    .dataframe tbody tr th:only-of-type {\n",
       "        vertical-align: middle;\n",
       "    }\n",
       "\n",
       "    .dataframe tbody tr th {\n",
       "        vertical-align: top;\n",
       "    }\n",
       "\n",
       "    .dataframe thead th {\n",
       "        text-align: right;\n",
       "    }\n",
       "</style>\n",
       "<table border=\"1\" class=\"dataframe\">\n",
       "  <thead>\n",
       "    <tr style=\"text-align: right;\">\n",
       "      <th></th>\n",
       "      <th>InvoiceNo</th>\n",
       "      <th>Quantity</th>\n",
       "    </tr>\n",
       "  </thead>\n",
       "  <tbody>\n",
       "    <tr>\n",
       "      <th>141</th>\n",
       "      <td>C536379</td>\n",
       "      <td>-1</td>\n",
       "    </tr>\n",
       "    <tr>\n",
       "      <th>154</th>\n",
       "      <td>C536383</td>\n",
       "      <td>-1</td>\n",
       "    </tr>\n",
       "    <tr>\n",
       "      <th>235</th>\n",
       "      <td>C536391</td>\n",
       "      <td>-12</td>\n",
       "    </tr>\n",
       "    <tr>\n",
       "      <th>236</th>\n",
       "      <td>C536391</td>\n",
       "      <td>-24</td>\n",
       "    </tr>\n",
       "    <tr>\n",
       "      <th>237</th>\n",
       "      <td>C536391</td>\n",
       "      <td>-24</td>\n",
       "    </tr>\n",
       "    <tr>\n",
       "      <th>238</th>\n",
       "      <td>C536391</td>\n",
       "      <td>-24</td>\n",
       "    </tr>\n",
       "    <tr>\n",
       "      <th>239</th>\n",
       "      <td>C536391</td>\n",
       "      <td>-12</td>\n",
       "    </tr>\n",
       "    <tr>\n",
       "      <th>240</th>\n",
       "      <td>C536391</td>\n",
       "      <td>-12</td>\n",
       "    </tr>\n",
       "    <tr>\n",
       "      <th>241</th>\n",
       "      <td>C536391</td>\n",
       "      <td>-24</td>\n",
       "    </tr>\n",
       "    <tr>\n",
       "      <th>939</th>\n",
       "      <td>C536506</td>\n",
       "      <td>-6</td>\n",
       "    </tr>\n",
       "  </tbody>\n",
       "</table>\n",
       "</div>"
      ],
      "text/plain": [
       "    InvoiceNo  Quantity\n",
       "141   C536379        -1\n",
       "154   C536383        -1\n",
       "235   C536391       -12\n",
       "236   C536391       -24\n",
       "237   C536391       -24\n",
       "238   C536391       -24\n",
       "239   C536391       -12\n",
       "240   C536391       -12\n",
       "241   C536391       -24\n",
       "939   C536506        -6"
      ]
     },
     "execution_count": 10,
     "metadata": {},
     "output_type": "execute_result"
    }
   ],
   "source": [
    "tmp_df = df.loc[df[\"InvoiceNo\"].astype(str).str.startswith(\"C\"), [\"InvoiceNo\", \"Quantity\"]]\n",
    "tmp_df.head(10)"
   ]
  },
  {
   "cell_type": "code",
   "execution_count": 11,
   "id": "de6c70ca",
   "metadata": {},
   "outputs": [],
   "source": [
    "assert tmp_df.Quantity.le(0).all()\n",
    "del tmp_df"
   ]
  },
  {
   "cell_type": "markdown",
   "id": "a7e6311e",
   "metadata": {},
   "source": [
    "I chose to remove those rows:"
   ]
  },
  {
   "cell_type": "code",
   "execution_count": 12,
   "id": "e8b26d66",
   "metadata": {},
   "outputs": [],
   "source": [
    "df = df[df.Quantity > 0]"
   ]
  },
  {
   "cell_type": "markdown",
   "id": "0d154e2e",
   "metadata": {},
   "source": [
    "`InvoiceNo` is supposed to be a 6-digit integer number. Let's check that this\n",
    "column is OK:"
   ]
  },
  {
   "cell_type": "code",
   "execution_count": 13,
   "id": "6a5841e8",
   "metadata": {},
   "outputs": [],
   "source": [
    "invoice_nums = df.InvoiceNo.astype(str)\n",
    "assert invoice_nums.str.startswith(\"C\").sum() == 0\n",
    "assert invoice_nums.str.len().eq(6).all()\n",
    "assert invoice_nums.str.isdigit().all()\n",
    "del invoice_nums"
   ]
  },
  {
   "cell_type": "markdown",
   "id": "d89d322c",
   "metadata": {},
   "source": [
    "Looking for invalid prices:"
   ]
  },
  {
   "cell_type": "code",
   "execution_count": 14,
   "id": "51ce98ec",
   "metadata": {},
   "outputs": [
    {
     "data": {
      "text/plain": [
       "0"
      ]
     },
     "execution_count": 14,
     "metadata": {},
     "output_type": "execute_result"
    }
   ],
   "source": [
    "# Negative prices\n",
    "df.UnitPrice.lt(0.0).sum()  # OK"
   ]
  },
  {
   "cell_type": "code",
   "execution_count": 15,
   "id": "5f140f89",
   "metadata": {},
   "outputs": [
    {
     "data": {
      "text/plain": [
       "40"
      ]
     },
     "execution_count": 15,
     "metadata": {},
     "output_type": "execute_result"
    }
   ],
   "source": [
    "# Products that cost nothing\n",
    "df.UnitPrice.eq(0.0).sum()"
   ]
  },
  {
   "cell_type": "markdown",
   "id": "adb5fb0d",
   "metadata": {},
   "source": [
    "I don't know how to explain such values. They should make no difference. Then\n",
    "I chose to drop them:"
   ]
  },
  {
   "cell_type": "code",
   "execution_count": 16,
   "id": "b60185b3",
   "metadata": {},
   "outputs": [],
   "source": [
    "df = df[df.UnitPrice > 0.0]"
   ]
  },
  {
   "cell_type": "markdown",
   "id": "251d041f",
   "metadata": {},
   "source": [
    "## Finish fixing dataset"
   ]
  },
  {
   "cell_type": "code",
   "execution_count": 17,
   "id": "05a6692f",
   "metadata": {},
   "outputs": [],
   "source": [
    "# Use appropriate data types\n",
    "df.InvoiceNo = df.InvoiceNo.astype(\"category\")\n",
    "assert not df.InvoiceNo.cat.ordered\n",
    "\n",
    "df.CustomerID = df.CustomerID.astype(\"category\")\n",
    "assert not df.CustomerID.cat.ordered"
   ]
  },
  {
   "cell_type": "code",
   "execution_count": 18,
   "id": "06468230",
   "metadata": {},
   "outputs": [
    {
     "name": "stdout",
     "output_type": "stream",
     "text": [
      "<class 'pandas.core.frame.DataFrame'>\n",
      "RangeIndex: 397884 entries, 0 to 397883\n",
      "Data columns (total 5 columns):\n",
      " #   Column       Non-Null Count   Dtype         \n",
      "---  ------       --------------   -----         \n",
      " 0   InvoiceNo    397884 non-null  category      \n",
      " 1   InvoiceDate  397884 non-null  datetime64[ns]\n",
      " 2   CustomerID   397884 non-null  category      \n",
      " 3   Quantity     397884 non-null  int64         \n",
      " 4   UnitPrice    397884 non-null  float64       \n",
      "dtypes: category(2), datetime64[ns](1), float64(1), int64(1)\n",
      "memory usage: 11.4 MB\n"
     ]
    }
   ],
   "source": [
    "df = df.reset_index(drop=True)\n",
    "df.info()"
   ]
  },
  {
   "cell_type": "markdown",
   "id": "579558bc",
   "metadata": {},
   "source": [
    "The only part of `InvoiceDate` that matters is the date. The following\n",
    "command sets all the times to midnight:"
   ]
  },
  {
   "cell_type": "code",
   "execution_count": 19,
   "id": "bbee89ea",
   "metadata": {},
   "outputs": [
    {
     "data": {
      "text/plain": [
       "0   2010-12-01\n",
       "1   2010-12-01\n",
       "2   2010-12-01\n",
       "3   2010-12-01\n",
       "4   2010-12-01\n",
       "Name: InvoiceDate, dtype: datetime64[ns]"
      ]
     },
     "execution_count": 19,
     "metadata": {},
     "output_type": "execute_result"
    }
   ],
   "source": [
    "df[\"InvoiceDate\"] = df[\"InvoiceDate\"].dt.normalize()\n",
    "df[\"InvoiceDate\"].head()"
   ]
  },
  {
   "cell_type": "markdown",
   "id": "1334f185",
   "metadata": {
    "lines_to_next_cell": 2
   },
   "source": [
    "For convenience, I'll collect the essential parts of the above code, and\n",
    "create a function:"
   ]
  },
  {
   "cell_type": "code",
   "execution_count": 20,
   "id": "8ad86fe0",
   "metadata": {},
   "outputs": [],
   "source": [
    "def get_clean_data(file_path: Path) -> pd.DataFrame:\n",
    "    cols = [\"InvoiceNo\", \"InvoiceDate\", \"CustomerID\", \"Quantity\", \"UnitPrice\"]\n",
    "    df = pd.read_excel(\n",
    "        file_path,\n",
    "        usecols=cols,\n",
    "        dtype={\n",
    "            \"InvoiceNo\": object,\n",
    "            \"CustomerID\": object,\n",
    "            \"Quantity\": np.int_,\n",
    "            \"UnitPrice\": np.float_,\n",
    "        },\n",
    "        parse_dates=[\"InvoiceDate\"],\n",
    "    )\n",
    "    return (\n",
    "        df.loc[df.CustomerID.notna() & df.Quantity.gt(0) & df.UnitPrice.gt(0.0), cols]\n",
    "        .assign(\n",
    "            InvoiceNo=lambda x: x.InvoiceNo.astype(\"category\"),\n",
    "            InvoiceDate=lambda x: x.InvoiceDate.dt.normalize(),\n",
    "            CustomerID=lambda x: x.CustomerID.astype(\"category\"),\n",
    "        )\n",
    "        .reset_index(drop=True)\n",
    "    )"
   ]
  },
  {
   "cell_type": "code",
   "execution_count": 21,
   "id": "c1a1c7f5",
   "metadata": {},
   "outputs": [],
   "source": [
    "# Quick check\n",
    "df_func = get_clean_data(file_path)\n",
    "assert_frame_equal(df_func, df)\n",
    "del df_func"
   ]
  },
  {
   "cell_type": "markdown",
   "id": "56c71d24",
   "metadata": {},
   "source": [
    "## Aggregate data\n",
    "Before aggregating the data, I'll do some more consistency tests. Rows with\n",
    "the same `InvoiceNo` must also have the same `InvoiceDate`. For a specific\n",
    "value of `InvoiceNo`, this can be tested as follows:"
   ]
  },
  {
   "cell_type": "code",
   "execution_count": 22,
   "id": "15f30865",
   "metadata": {},
   "outputs": [],
   "source": [
    "assert df.loc[df[\"InvoiceNo\"] == 536365, \"InvoiceDate\"].nunique() == 1"
   ]
  },
  {
   "cell_type": "markdown",
   "id": "dad10d7d",
   "metadata": {},
   "source": [
    "To test all values of `InvoiceNo`, one can do the following:"
   ]
  },
  {
   "cell_type": "code",
   "execution_count": 23,
   "id": "c1f15feb",
   "metadata": {},
   "outputs": [],
   "source": [
    "assert df.groupby(by=\"InvoiceNo\", observed=True).InvoiceDate.nunique().eq(1).all()"
   ]
  },
  {
   "cell_type": "markdown",
   "id": "0584e0c7",
   "metadata": {},
   "source": [
    "Similarly, rows with the same `InvoiceNo` must also have the same\n",
    "`CustomerID`. Checking if this is true:"
   ]
  },
  {
   "cell_type": "code",
   "execution_count": 24,
   "id": "529750d6",
   "metadata": {},
   "outputs": [],
   "source": [
    "# Single value\n",
    "assert df.loc[df[\"InvoiceNo\"] == 536365, \"CustomerID\"].nunique() == 1"
   ]
  },
  {
   "cell_type": "code",
   "execution_count": 25,
   "id": "2b7e5612",
   "metadata": {},
   "outputs": [],
   "source": [
    "# All values\n",
    "assert df.groupby(by=\"InvoiceNo\", observed=True).CustomerID.nunique().eq(1).all()"
   ]
  },
  {
   "cell_type": "markdown",
   "id": "74bdc955",
   "metadata": {},
   "source": [
    "Everything is OK. Then I'll compute the total amount spent for each\n",
    "`InvoiceNo`."
   ]
  },
  {
   "cell_type": "code",
   "execution_count": 26,
   "id": "965a0217",
   "metadata": {},
   "outputs": [
    {
     "data": {
      "text/html": [
       "<div>\n",
       "<style scoped>\n",
       "    .dataframe tbody tr th:only-of-type {\n",
       "        vertical-align: middle;\n",
       "    }\n",
       "\n",
       "    .dataframe tbody tr th {\n",
       "        vertical-align: top;\n",
       "    }\n",
       "\n",
       "    .dataframe thead th {\n",
       "        text-align: right;\n",
       "    }\n",
       "</style>\n",
       "<table border=\"1\" class=\"dataframe\">\n",
       "  <thead>\n",
       "    <tr style=\"text-align: right;\">\n",
       "      <th></th>\n",
       "      <th>InvoiceNo</th>\n",
       "      <th>InvoiceDate</th>\n",
       "      <th>CustomerID</th>\n",
       "      <th>TotalPrice</th>\n",
       "    </tr>\n",
       "  </thead>\n",
       "  <tbody>\n",
       "    <tr>\n",
       "      <th>0</th>\n",
       "      <td>536365</td>\n",
       "      <td>2010-12-01</td>\n",
       "      <td>17850</td>\n",
       "      <td>139.12</td>\n",
       "    </tr>\n",
       "    <tr>\n",
       "      <th>1</th>\n",
       "      <td>536366</td>\n",
       "      <td>2010-12-01</td>\n",
       "      <td>17850</td>\n",
       "      <td>22.20</td>\n",
       "    </tr>\n",
       "    <tr>\n",
       "      <th>2</th>\n",
       "      <td>536367</td>\n",
       "      <td>2010-12-01</td>\n",
       "      <td>13047</td>\n",
       "      <td>278.73</td>\n",
       "    </tr>\n",
       "    <tr>\n",
       "      <th>3</th>\n",
       "      <td>536368</td>\n",
       "      <td>2010-12-01</td>\n",
       "      <td>13047</td>\n",
       "      <td>70.05</td>\n",
       "    </tr>\n",
       "    <tr>\n",
       "      <th>4</th>\n",
       "      <td>536369</td>\n",
       "      <td>2010-12-01</td>\n",
       "      <td>13047</td>\n",
       "      <td>17.85</td>\n",
       "    </tr>\n",
       "  </tbody>\n",
       "</table>\n",
       "</div>"
      ],
      "text/plain": [
       "  InvoiceNo InvoiceDate CustomerID  TotalPrice\n",
       "0    536365  2010-12-01      17850      139.12\n",
       "1    536366  2010-12-01      17850       22.20\n",
       "2    536367  2010-12-01      13047      278.73\n",
       "3    536368  2010-12-01      13047       70.05\n",
       "4    536369  2010-12-01      13047       17.85"
      ]
     },
     "execution_count": 26,
     "metadata": {},
     "output_type": "execute_result"
    }
   ],
   "source": [
    "df_total = (\n",
    "    df.assign(Price=lambda x: x.Quantity * x.UnitPrice)\n",
    "    .groupby(by=\"InvoiceNo\", observed=True)\n",
    "    .agg({\"InvoiceDate\": \"first\", \"CustomerID\": \"first\", \"Price\": \"sum\"})\n",
    "    .rename(columns={\"Price\": \"TotalPrice\"})\n",
    "    .reset_index()\n",
    ")\n",
    "df_total.head()"
   ]
  },
  {
   "cell_type": "code",
   "execution_count": 27,
   "id": "2c0d4073",
   "metadata": {},
   "outputs": [
    {
     "name": "stdout",
     "output_type": "stream",
     "text": [
      "<class 'pandas.core.frame.DataFrame'>\n",
      "RangeIndex: 18532 entries, 0 to 18531\n",
      "Data columns (total 4 columns):\n",
      " #   Column       Non-Null Count  Dtype         \n",
      "---  ------       --------------  -----         \n",
      " 0   InvoiceNo    18532 non-null  category      \n",
      " 1   InvoiceDate  18532 non-null  datetime64[ns]\n",
      " 2   CustomerID   18532 non-null  category      \n",
      " 3   TotalPrice   18532 non-null  float64       \n",
      "dtypes: category(2), datetime64[ns](1), float64(1)\n",
      "memory usage: 1.2 MB\n"
     ]
    }
   ],
   "source": [
    "df_total.info()"
   ]
  },
  {
   "cell_type": "markdown",
   "id": "7d2c0a5c",
   "metadata": {
    "lines_to_next_cell": 2
   },
   "source": [
    "I'll use this code in other notebooks. For this reason, I'll define a\n",
    "function that returns the aggregated data. This function doesn't do much, but\n",
    "it is convenient."
   ]
  },
  {
   "cell_type": "code",
   "execution_count": 28,
   "id": "b2962fff",
   "metadata": {},
   "outputs": [],
   "source": [
    "def compute_total_price(df: pd.DataFrame) -> pd.DataFrame:\n",
    "    return (\n",
    "        df.assign(Price=lambda x: x.Quantity * x.UnitPrice)\n",
    "        .groupby(by=\"InvoiceNo\", observed=True)\n",
    "        .agg({\"InvoiceDate\": \"first\", \"CustomerID\": \"first\", \"Price\": \"sum\"})\n",
    "        .rename(columns={\"Price\": \"TotalPrice\"})\n",
    "        .reset_index()\n",
    "    )"
   ]
  },
  {
   "cell_type": "code",
   "execution_count": 29,
   "id": "7ce05394",
   "metadata": {},
   "outputs": [],
   "source": [
    "def get_aggregated_data(file_path: Path) -> pd.DataFrame:\n",
    "    return get_clean_data(file_path).pipe(compute_total_price)"
   ]
  },
  {
   "cell_type": "code",
   "execution_count": 30,
   "id": "b3a5d9f0",
   "metadata": {},
   "outputs": [],
   "source": [
    "# Quick check\n",
    "df_func = get_aggregated_data(file_path)\n",
    "assert_frame_equal(df_func, df_total)\n",
    "del df_func"
   ]
  },
  {
   "cell_type": "markdown",
   "id": "4add37b8",
   "metadata": {},
   "source": [
    "## Save prepared data\n",
    "Clearly, I've ended up with a much smaller dataset than the original. To\n",
    "avoid having to repeat the above steps, I'll save the new `DataFrame` to a\n",
    "CSV file."
   ]
  },
  {
   "cell_type": "code",
   "execution_count": 31,
   "id": "b1f1c6f6",
   "metadata": {},
   "outputs": [],
   "source": [
    "# Path to output CSV\n",
    "out_file = file_path.with_suffix(\".csv\")\n",
    "\n",
    "df_total.to_csv(out_file, index=False)"
   ]
  }
 ],
 "metadata": {
  "jupytext": {
   "cell_metadata_filter": "-all",
   "formats": "ipynb,py:percent"
  },
  "kernelspec": {
   "display_name": "Python 3 (ipykernel)",
   "language": "python",
   "name": "python3"
  },
  "language_info": {
   "codemirror_mode": {
    "name": "ipython",
    "version": 3
   },
   "file_extension": ".py",
   "mimetype": "text/x-python",
   "name": "python",
   "nbconvert_exporter": "python",
   "pygments_lexer": "ipython3",
   "version": "3.11.8"
  }
 },
 "nbformat": 4,
 "nbformat_minor": 5
}
