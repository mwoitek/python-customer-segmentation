{
 "cells": [
  {
   "cell_type": "markdown",
   "id": "5af8e3da",
   "metadata": {},
   "source": [
    "# Online Retail Dataset: Create Database\n",
    "## Imports"
   ]
  },
  {
   "cell_type": "code",
   "execution_count": 1,
   "id": "24a7e151",
   "metadata": {},
   "outputs": [],
   "source": [
    "import datetime\n",
    "import re\n",
    "import sqlite3\n",
    "from pathlib import Path\n",
    "\n",
    "import polars as pl"
   ]
  },
  {
   "cell_type": "markdown",
   "id": "b1b78912",
   "metadata": {},
   "source": [
    "## Check if DB already exists"
   ]
  },
  {
   "cell_type": "code",
   "execution_count": 2,
   "id": "fef37e8b",
   "metadata": {},
   "outputs": [],
   "source": [
    "data_dir = Path.cwd().parents[1] / \"data\"\n",
    "db_path = data_dir / \"online_retail.db\""
   ]
  },
  {
   "cell_type": "code",
   "execution_count": 3,
   "id": "3f7066c0",
   "metadata": {},
   "outputs": [],
   "source": [
    "assert not db_path.exists(), \"DB already exists\"\n",
    "db_path.touch(mode=0o644)"
   ]
  },
  {
   "cell_type": "markdown",
   "id": "0ca629f5",
   "metadata": {},
   "source": [
    "## Check if Excel file exists"
   ]
  },
  {
   "cell_type": "code",
   "execution_count": 4,
   "id": "91becc57",
   "metadata": {},
   "outputs": [],
   "source": [
    "excel_file_path = db_path.with_suffix(\".xlsx\")\n",
    "assert excel_file_path.exists(), \"Excel data file doesn't exist\""
   ]
  },
  {
   "cell_type": "markdown",
   "id": "cd855394",
   "metadata": {},
   "source": [
    "## Create DB connection"
   ]
  },
  {
   "cell_type": "code",
   "execution_count": 5,
   "id": "2e753528",
   "metadata": {},
   "outputs": [],
   "source": [
    "con = sqlite3.connect(db_path)\n",
    "cur = con.cursor()"
   ]
  },
  {
   "cell_type": "markdown",
   "id": "e455ca43",
   "metadata": {},
   "source": [
    "## Create table to store the original data"
   ]
  },
  {
   "cell_type": "code",
   "execution_count": 6,
   "id": "712ddb62",
   "metadata": {},
   "outputs": [],
   "source": [
    "sql = \"\"\"\n",
    "CREATE TABLE original_data (\n",
    "    id INTEGER PRIMARY KEY,\n",
    "    invoice_no TEXT NOT NULL,\n",
    "    stock_code TEXT NOT NULL,\n",
    "    description TEXT,\n",
    "    quantity INTEGER NOT NULL,\n",
    "    invoice_date TEXT NOT NULL,\n",
    "    unit_price REAL NOT NULL,\n",
    "    customer_id INTEGER,\n",
    "    country TEXT\n",
    ");\n",
    "\"\"\"\n",
    "cur = cur.execute(sql)"
   ]
  },
  {
   "cell_type": "code",
   "execution_count": 7,
   "id": "ba92f0b5",
   "metadata": {},
   "outputs": [],
   "source": [
    "# Check if table was created\n",
    "res = cur.execute(\"SELECT name FROM sqlite_master;\")\n",
    "assert res.fetchone() == (\"original_data\",), \"failed to create table\""
   ]
  },
  {
   "cell_type": "markdown",
   "id": "dc0253a5",
   "metadata": {},
   "source": [
    "## Read original data file"
   ]
  },
  {
   "cell_type": "code",
   "execution_count": 8,
   "id": "697c0916",
   "metadata": {},
   "outputs": [],
   "source": [
    "# Read every column as a set of strings\n",
    "cols = [\n",
    "    \"InvoiceNo\",\n",
    "    \"StockCode\",\n",
    "    \"Description\",\n",
    "    \"Quantity\",\n",
    "    \"InvoiceDate\",\n",
    "    \"UnitPrice\",\n",
    "    \"CustomerID\",\n",
    "    \"Country\",\n",
    "]\n",
    "df = pl.read_excel(\n",
    "    excel_file_path,\n",
    "    schema_overrides={col: pl.String for col in cols},\n",
    ")"
   ]
  },
  {
   "cell_type": "markdown",
   "id": "5fb80601",
   "metadata": {},
   "source": [
    "## Missing values"
   ]
  },
  {
   "cell_type": "code",
   "execution_count": 9,
   "id": "c4d9616f",
   "metadata": {},
   "outputs": [
    {
     "data": {
      "text/html": [
       "<div><style>\n",
       ".dataframe > thead > tr,\n",
       ".dataframe > tbody > tr {\n",
       "  text-align: right;\n",
       "  white-space: pre-wrap;\n",
       "}\n",
       "</style>\n",
       "<small>shape: (1, 8)</small><table border=\"1\" class=\"dataframe\"><thead><tr><th>InvoiceNo</th><th>StockCode</th><th>Description</th><th>Quantity</th><th>InvoiceDate</th><th>UnitPrice</th><th>CustomerID</th><th>Country</th></tr><tr><td>u32</td><td>u32</td><td>u32</td><td>u32</td><td>u32</td><td>u32</td><td>u32</td><td>u32</td></tr></thead><tbody><tr><td>0</td><td>0</td><td>1454</td><td>0</td><td>0</td><td>0</td><td>135080</td><td>0</td></tr></tbody></table></div>"
      ],
      "text/plain": [
       "shape: (1, 8)\n",
       "┌───────────┬───────────┬─────────────┬──────────┬─────────────┬───────────┬────────────┬─────────┐\n",
       "│ InvoiceNo ┆ StockCode ┆ Description ┆ Quantity ┆ InvoiceDate ┆ UnitPrice ┆ CustomerID ┆ Country │\n",
       "│ ---       ┆ ---       ┆ ---         ┆ ---      ┆ ---         ┆ ---       ┆ ---        ┆ ---     │\n",
       "│ u32       ┆ u32       ┆ u32         ┆ u32      ┆ u32         ┆ u32       ┆ u32        ┆ u32     │\n",
       "╞═══════════╪═══════════╪═════════════╪══════════╪═════════════╪═══════════╪════════════╪═════════╡\n",
       "│ 0         ┆ 0         ┆ 1454        ┆ 0        ┆ 0           ┆ 0         ┆ 135080     ┆ 0       │\n",
       "└───────────┴───────────┴─────────────┴──────────┴─────────────┴───────────┴────────────┴─────────┘"
      ]
     },
     "execution_count": 9,
     "metadata": {},
     "output_type": "execute_result"
    }
   ],
   "source": [
    "df.null_count()"
   ]
  },
  {
   "cell_type": "markdown",
   "id": "424cce7f",
   "metadata": {},
   "source": [
    "## Checking and fixing the data\n",
    "### `InvoiceNo`\n",
    "\n",
    "`InvoiceNo` cannot be converted into an integer column. Some values are\n",
    "not numbers:"
   ]
  },
  {
   "cell_type": "code",
   "execution_count": 10,
   "id": "c211ae47",
   "metadata": {},
   "outputs": [
    {
     "data": {
      "text/html": [
       "<div><style>\n",
       ".dataframe > thead > tr,\n",
       ".dataframe > tbody > tr {\n",
       "  text-align: right;\n",
       "  white-space: pre-wrap;\n",
       "}\n",
       "</style>\n",
       "<small>shape: (5, 8)</small><table border=\"1\" class=\"dataframe\"><thead><tr><th>InvoiceNo</th><th>StockCode</th><th>Description</th><th>Quantity</th><th>InvoiceDate</th><th>UnitPrice</th><th>CustomerID</th><th>Country</th></tr><tr><td>str</td><td>str</td><td>str</td><td>str</td><td>str</td><td>str</td><td>str</td><td>str</td></tr></thead><tbody><tr><td>&quot;C536379&quot;</td><td>&quot;D&quot;</td><td>&quot;Discount&quot;</td><td>&quot;-1&quot;</td><td>&quot;2010-12-01 09:41:00&quot;</td><td>&quot;27.5&quot;</td><td>&quot;14527&quot;</td><td>&quot;United Kingdom&quot;</td></tr><tr><td>&quot;C536383&quot;</td><td>&quot;35004C&quot;</td><td>&quot;SET OF 3 COLOURED  FLYING DUCK…</td><td>&quot;-1&quot;</td><td>&quot;2010-12-01 09:49:00&quot;</td><td>&quot;4.65&quot;</td><td>&quot;15311&quot;</td><td>&quot;United Kingdom&quot;</td></tr><tr><td>&quot;C536391&quot;</td><td>&quot;22556&quot;</td><td>&quot;PLASTERS IN TIN CIRCUS PARADE &quot;</td><td>&quot;-12&quot;</td><td>&quot;2010-12-01 10:24:00&quot;</td><td>&quot;1.65&quot;</td><td>&quot;17548&quot;</td><td>&quot;United Kingdom&quot;</td></tr><tr><td>&quot;C536391&quot;</td><td>&quot;21984&quot;</td><td>&quot;PACK OF 12 PINK PAISLEY TISSUE…</td><td>&quot;-24&quot;</td><td>&quot;2010-12-01 10:24:00&quot;</td><td>&quot;0.29&quot;</td><td>&quot;17548&quot;</td><td>&quot;United Kingdom&quot;</td></tr><tr><td>&quot;C536391&quot;</td><td>&quot;21983&quot;</td><td>&quot;PACK OF 12 BLUE PAISLEY TISSUE…</td><td>&quot;-24&quot;</td><td>&quot;2010-12-01 10:24:00&quot;</td><td>&quot;0.29&quot;</td><td>&quot;17548&quot;</td><td>&quot;United Kingdom&quot;</td></tr></tbody></table></div>"
      ],
      "text/plain": [
       "shape: (5, 8)\n",
       "┌───────────┬───────────┬──────────────┬──────────┬─────────────┬───────────┬────────────┬─────────┐\n",
       "│ InvoiceNo ┆ StockCode ┆ Description  ┆ Quantity ┆ InvoiceDate ┆ UnitPrice ┆ CustomerID ┆ Country │\n",
       "│ ---       ┆ ---       ┆ ---          ┆ ---      ┆ ---         ┆ ---       ┆ ---        ┆ ---     │\n",
       "│ str       ┆ str       ┆ str          ┆ str      ┆ str         ┆ str       ┆ str        ┆ str     │\n",
       "╞═══════════╪═══════════╪══════════════╪══════════╪═════════════╪═══════════╪════════════╪═════════╡\n",
       "│ C536379   ┆ D         ┆ Discount     ┆ -1       ┆ 2010-12-01  ┆ 27.5      ┆ 14527      ┆ United  │\n",
       "│           ┆           ┆              ┆          ┆ 09:41:00    ┆           ┆            ┆ Kingdom │\n",
       "│ C536383   ┆ 35004C    ┆ SET OF 3     ┆ -1       ┆ 2010-12-01  ┆ 4.65      ┆ 15311      ┆ United  │\n",
       "│           ┆           ┆ COLOURED     ┆          ┆ 09:49:00    ┆           ┆            ┆ Kingdom │\n",
       "│           ┆           ┆ FLYING DUCK… ┆          ┆             ┆           ┆            ┆         │\n",
       "│ C536391   ┆ 22556     ┆ PLASTERS IN  ┆ -12      ┆ 2010-12-01  ┆ 1.65      ┆ 17548      ┆ United  │\n",
       "│           ┆           ┆ TIN CIRCUS   ┆          ┆ 10:24:00    ┆           ┆            ┆ Kingdom │\n",
       "│           ┆           ┆ PARADE       ┆          ┆             ┆           ┆            ┆         │\n",
       "│ C536391   ┆ 21984     ┆ PACK OF 12   ┆ -24      ┆ 2010-12-01  ┆ 0.29      ┆ 17548      ┆ United  │\n",
       "│           ┆           ┆ PINK PAISLEY ┆          ┆ 10:24:00    ┆           ┆            ┆ Kingdom │\n",
       "│           ┆           ┆ TISSUE…      ┆          ┆             ┆           ┆            ┆         │\n",
       "│ C536391   ┆ 21983     ┆ PACK OF 12   ┆ -24      ┆ 2010-12-01  ┆ 0.29      ┆ 17548      ┆ United  │\n",
       "│           ┆           ┆ BLUE PAISLEY ┆          ┆ 10:24:00    ┆           ┆            ┆ Kingdom │\n",
       "│           ┆           ┆ TISSUE…      ┆          ┆             ┆           ┆            ┆         │\n",
       "└───────────┴───────────┴──────────────┴──────────┴─────────────┴───────────┴────────────┴─────────┘"
      ]
     },
     "execution_count": 10,
     "metadata": {},
     "output_type": "execute_result"
    }
   ],
   "source": [
    "tmp_df = df.filter(pl.col(\"InvoiceNo\").str.find(r\"^\\d+$\").is_null())\n",
    "tmp_df.head()"
   ]
  },
  {
   "cell_type": "code",
   "execution_count": 11,
   "id": "2c0b19f7",
   "metadata": {},
   "outputs": [
    {
     "data": {
      "text/plain": [
       "9291"
      ]
     },
     "execution_count": 11,
     "metadata": {},
     "output_type": "execute_result"
    }
   ],
   "source": [
    "tmp_df.height"
   ]
  },
  {
   "cell_type": "code",
   "execution_count": 12,
   "id": "51515b58",
   "metadata": {},
   "outputs": [],
   "source": [
    "new_col = df.get_column(\"InvoiceNo\").str.strip_chars()\n",
    "assert new_col.str.len_chars().gt(0).all(), \"found empty string\"\n",
    "df = df.replace_column(df.get_column_index(\"InvoiceNo\"), new_col)"
   ]
  },
  {
   "cell_type": "markdown",
   "id": "cabde377",
   "metadata": {},
   "source": [
    "### `StockCode`\n",
    "\n",
    "`StockCode` will also remain as a string column. The corresponding values\n",
    "contain numbers and letters. Making sure all of these strings are\n",
    "non-empty:"
   ]
  },
  {
   "cell_type": "code",
   "execution_count": 13,
   "id": "3dee9936",
   "metadata": {},
   "outputs": [],
   "source": [
    "new_col = df.get_column(\"StockCode\").str.strip_chars()\n",
    "assert new_col.str.len_chars().gt(0).all(), \"found empty string\"\n",
    "df = df.replace_column(df.get_column_index(\"StockCode\"), new_col)"
   ]
  },
  {
   "cell_type": "markdown",
   "id": "aba21136",
   "metadata": {},
   "source": [
    "### `Description`\n",
    "\n",
    "`Description` is obviously a string column. Then I'll just normalize the\n",
    "corresponding data."
   ]
  },
  {
   "cell_type": "code",
   "execution_count": 14,
   "id": "9aa27690",
   "metadata": {},
   "outputs": [],
   "source": [
    "# Normalization\n",
    "new_col = df.get_column(\"Description\").str.strip_chars()\n",
    "new_col = new_col.str.strip_chars_end(\".\")\n",
    "new_col = new_col.str.replace_all(r\" {2,}\", \" \")\n",
    "new_col = new_col.str.to_uppercase()"
   ]
  },
  {
   "cell_type": "code",
   "execution_count": 15,
   "id": "26bdd3d8",
   "metadata": {},
   "outputs": [],
   "source": [
    "# Non-null values are non-empty strings\n",
    "assert new_col.drop_nulls().str.len_chars().gt(0).all(), \"found empty string\""
   ]
  },
  {
   "cell_type": "code",
   "execution_count": 16,
   "id": "c441b920",
   "metadata": {},
   "outputs": [],
   "source": [
    "df = df.replace_column(df.get_column_index(\"Description\"), new_col)"
   ]
  },
  {
   "cell_type": "markdown",
   "id": "2eac7b87",
   "metadata": {},
   "source": [
    "### `Quantity`\n",
    "\n",
    "`Quantity` should be an integer column. Its values can be positive or\n",
    "negative. First, I'll check that this is actually the case:"
   ]
  },
  {
   "cell_type": "code",
   "execution_count": 17,
   "id": "634cd754",
   "metadata": {},
   "outputs": [],
   "source": [
    "new_col = df.get_column(\"Quantity\").str.strip_chars()\n",
    "assert new_col.str.contains(r\"^-?\\d+$\").all(), \"found non-integer value\""
   ]
  },
  {
   "cell_type": "markdown",
   "id": "e1ff3080",
   "metadata": {},
   "source": [
    "Next, we convert `Quantity` into an integer column:"
   ]
  },
  {
   "cell_type": "code",
   "execution_count": 18,
   "id": "fdf972a3",
   "metadata": {},
   "outputs": [],
   "source": [
    "new_col = new_col.str.to_integer()\n",
    "df = df.replace_column(df.get_column_index(\"Quantity\"), new_col)"
   ]
  },
  {
   "cell_type": "markdown",
   "id": "2352fce0",
   "metadata": {},
   "source": [
    "### `InvoiceDate`\n",
    "\n",
    "`InvoiceDate` should contain a date and a time. We begin by checking if\n",
    "this is true:"
   ]
  },
  {
   "cell_type": "code",
   "execution_count": 19,
   "id": "eebe7a8b",
   "metadata": {},
   "outputs": [],
   "source": [
    "new_col = df.get_column(\"InvoiceDate\").str.strip_chars()\n",
    "assert new_col.str.contains(r\"^\\d{4}-\\d{2}-\\d{2} \\d{2}:\\d{2}:\\d{2}$\").all(), \"found invalid date\""
   ]
  },
  {
   "cell_type": "markdown",
   "id": "0f458d1e",
   "metadata": {},
   "source": [
    "Then we can convert `InvoiceDate` to a more appropriate type:"
   ]
  },
  {
   "cell_type": "code",
   "execution_count": 20,
   "id": "ed9b2755",
   "metadata": {},
   "outputs": [],
   "source": [
    "new_col = new_col.str.to_datetime(\"%Y-%m-%d %H:%M:%S\")\n",
    "df = df.replace_column(df.get_column_index(\"InvoiceDate\"), new_col)"
   ]
  },
  {
   "cell_type": "markdown",
   "id": "92a40ab2",
   "metadata": {},
   "source": [
    "### `UnitPrice`\n",
    "\n",
    "`UnitPrice` is supposed to be a column with real numbers. First, we check\n",
    "if this is the case:"
   ]
  },
  {
   "cell_type": "code",
   "execution_count": 21,
   "id": "e2dae92e",
   "metadata": {},
   "outputs": [],
   "source": [
    "new_col = df.get_column(\"UnitPrice\").str.strip_chars()\n",
    "assert new_col.str.contains(r\"^-?\\d+(\\.\\d+)?$\").all(), \"found invalid price\""
   ]
  },
  {
   "cell_type": "markdown",
   "id": "43f3bc92",
   "metadata": {},
   "source": [
    "So it's safe to convert these prices into real numbers:"
   ]
  },
  {
   "cell_type": "code",
   "execution_count": 22,
   "id": "2780aba9",
   "metadata": {},
   "outputs": [],
   "source": [
    "new_col = new_col.cast(pl.Float64)\n",
    "df = df.replace_column(df.get_column_index(\"UnitPrice\"), new_col)"
   ]
  },
  {
   "cell_type": "markdown",
   "id": "34f0a941",
   "metadata": {},
   "source": [
    "### `CustomerID`\n",
    "\n",
    "`CustomerID` has missing values. However, the values that are *not*\n",
    "missing should be integers. Let's confirm that:"
   ]
  },
  {
   "cell_type": "code",
   "execution_count": 23,
   "id": "47acb754",
   "metadata": {},
   "outputs": [],
   "source": [
    "new_col = df.get_column(\"CustomerID\").str.strip_chars()\n",
    "assert new_col.drop_nulls().str.contains(r\"^\\d+$\").all(), \"found non-integer ID\""
   ]
  },
  {
   "cell_type": "markdown",
   "id": "45160457",
   "metadata": {},
   "source": [
    "Next, we convert `CustomerID` into an integer column:"
   ]
  },
  {
   "cell_type": "code",
   "execution_count": 24,
   "id": "865087ca",
   "metadata": {},
   "outputs": [],
   "source": [
    "new_col = new_col.str.to_integer()\n",
    "df = df.replace_column(df.get_column_index(\"CustomerID\"), new_col)"
   ]
  },
  {
   "cell_type": "markdown",
   "id": "d79b48f1",
   "metadata": {},
   "source": [
    "### `Country`\n",
    "\n",
    "`Country` is definitely a string column. So it's not necessary to change its\n",
    "type. However, there's a change I want to make. As it is, this column has no\n",
    "missing value. But that's not really true. Some values are \"Unspecified\":"
   ]
  },
  {
   "cell_type": "code",
   "execution_count": 25,
   "id": "815decb5",
   "metadata": {},
   "outputs": [
    {
     "data": {
      "text/html": [
       "<div><style>\n",
       ".dataframe > thead > tr,\n",
       ".dataframe > tbody > tr {\n",
       "  text-align: right;\n",
       "  white-space: pre-wrap;\n",
       "}\n",
       "</style>\n",
       "<small>shape: (10,)</small><table border=\"1\" class=\"dataframe\"><thead><tr><th>Country</th></tr><tr><td>str</td></tr></thead><tbody><tr><td>&quot;Unspecified&quot;</td></tr><tr><td>&quot;Unspecified&quot;</td></tr><tr><td>&quot;Unspecified&quot;</td></tr><tr><td>&quot;Unspecified&quot;</td></tr><tr><td>&quot;Unspecified&quot;</td></tr><tr><td>&quot;Unspecified&quot;</td></tr><tr><td>&quot;Unspecified&quot;</td></tr><tr><td>&quot;Unspecified&quot;</td></tr><tr><td>&quot;Unspecified&quot;</td></tr><tr><td>&quot;Unspecified&quot;</td></tr></tbody></table></div>"
      ],
      "text/plain": [
       "shape: (10,)\n",
       "Series: 'Country' [str]\n",
       "[\n",
       "\t\"Unspecified\"\n",
       "\t\"Unspecified\"\n",
       "\t\"Unspecified\"\n",
       "\t\"Unspecified\"\n",
       "\t\"Unspecified\"\n",
       "\t\"Unspecified\"\n",
       "\t\"Unspecified\"\n",
       "\t\"Unspecified\"\n",
       "\t\"Unspecified\"\n",
       "\t\"Unspecified\"\n",
       "]"
      ]
     },
     "execution_count": 25,
     "metadata": {},
     "output_type": "execute_result"
    }
   ],
   "source": [
    "new_col = df.get_column(\"Country\").str.strip_chars()\n",
    "tmp = new_col.filter(new_col.eq(\"Unspecified\"))\n",
    "tmp.head()"
   ]
  },
  {
   "cell_type": "code",
   "execution_count": 26,
   "id": "428a2d9a",
   "metadata": {},
   "outputs": [
    {
     "data": {
      "text/plain": [
       "446"
      ]
     },
     "execution_count": 26,
     "metadata": {},
     "output_type": "execute_result"
    }
   ],
   "source": [
    "tmp.len()"
   ]
  },
  {
   "cell_type": "markdown",
   "id": "65725ec9",
   "metadata": {},
   "source": [
    "I want to make it clear that these are missing values. This can be done as\n",
    "follows:"
   ]
  },
  {
   "cell_type": "code",
   "execution_count": 27,
   "id": "c1216c2a",
   "metadata": {},
   "outputs": [],
   "source": [
    "new_col = new_col.set(new_col.eq(\"Unspecified\"), None)\n",
    "assert new_col.null_count() == tmp.len(), \"wrong transformation\""
   ]
  },
  {
   "cell_type": "markdown",
   "id": "2cabfee4",
   "metadata": {},
   "source": [
    "Finally, we can replace the `Country` column:"
   ]
  },
  {
   "cell_type": "code",
   "execution_count": 28,
   "id": "77e2fb83",
   "metadata": {},
   "outputs": [],
   "source": [
    "assert new_col.drop_nulls().str.len_chars().gt(0).all(), \"found empty string\"\n",
    "df = df.replace_column(df.get_column_index(\"Country\"), new_col)"
   ]
  },
  {
   "cell_type": "markdown",
   "id": "3dd3adfc",
   "metadata": {
    "lines_to_next_cell": 2
   },
   "source": [
    "### Rename DataFrame columns"
   ]
  },
  {
   "cell_type": "code",
   "execution_count": 29,
   "id": "d366bcc6",
   "metadata": {},
   "outputs": [],
   "source": [
    "def pascal_to_snake(s: str) -> str:\n",
    "    \"\"\"Convert from Pascal case to snake case.\"\"\"\n",
    "    return re.sub(r\"(?<!^)(?=[A-Z])\", \"_\", s).lower()"
   ]
  },
  {
   "cell_type": "code",
   "execution_count": 30,
   "id": "9d3e3e3a",
   "metadata": {},
   "outputs": [],
   "source": [
    "# New column names to match the SQL table\n",
    "snake_cols = [pascal_to_snake(col) for col in cols]\n",
    "snake_cols[cols.index(\"CustomerID\")] = \"customer_id\""
   ]
  },
  {
   "cell_type": "code",
   "execution_count": 31,
   "id": "fac32c57",
   "metadata": {},
   "outputs": [],
   "source": [
    "df = df.rename({old_name: new_name for old_name, new_name in zip(cols, snake_cols)})\n",
    "assert df.columns == snake_cols, \"failed to rename columns\""
   ]
  },
  {
   "cell_type": "code",
   "execution_count": 32,
   "id": "1155fb88",
   "metadata": {},
   "outputs": [
    {
     "data": {
      "text/html": [
       "<div><style>\n",
       ".dataframe > thead > tr,\n",
       ".dataframe > tbody > tr {\n",
       "  text-align: right;\n",
       "  white-space: pre-wrap;\n",
       "}\n",
       "</style>\n",
       "<small>shape: (5, 8)</small><table border=\"1\" class=\"dataframe\"><thead><tr><th>invoice_no</th><th>stock_code</th><th>description</th><th>quantity</th><th>invoice_date</th><th>unit_price</th><th>customer_id</th><th>country</th></tr><tr><td>str</td><td>str</td><td>str</td><td>i64</td><td>datetime[μs]</td><td>f64</td><td>i64</td><td>str</td></tr></thead><tbody><tr><td>&quot;536365&quot;</td><td>&quot;85123A&quot;</td><td>&quot;WHITE HANGING HEART T-LIGHT HO…</td><td>6</td><td>2010-12-01 08:26:00</td><td>2.55</td><td>17850</td><td>&quot;United Kingdom&quot;</td></tr><tr><td>&quot;536365&quot;</td><td>&quot;71053&quot;</td><td>&quot;WHITE METAL LANTERN&quot;</td><td>6</td><td>2010-12-01 08:26:00</td><td>3.39</td><td>17850</td><td>&quot;United Kingdom&quot;</td></tr><tr><td>&quot;536365&quot;</td><td>&quot;84406B&quot;</td><td>&quot;CREAM CUPID HEARTS COAT HANGER&quot;</td><td>8</td><td>2010-12-01 08:26:00</td><td>2.75</td><td>17850</td><td>&quot;United Kingdom&quot;</td></tr><tr><td>&quot;536365&quot;</td><td>&quot;84029G&quot;</td><td>&quot;KNITTED UNION FLAG HOT WATER B…</td><td>6</td><td>2010-12-01 08:26:00</td><td>3.39</td><td>17850</td><td>&quot;United Kingdom&quot;</td></tr><tr><td>&quot;536365&quot;</td><td>&quot;84029E&quot;</td><td>&quot;RED WOOLLY HOTTIE WHITE HEART&quot;</td><td>6</td><td>2010-12-01 08:26:00</td><td>3.39</td><td>17850</td><td>&quot;United Kingdom&quot;</td></tr></tbody></table></div>"
      ],
      "text/plain": [
       "shape: (5, 8)\n",
       "┌────────────┬────────────┬────────────┬──────────┬────────────┬───────────┬───────────┬───────────┐\n",
       "│ invoice_no ┆ stock_code ┆ descriptio ┆ quantity ┆ invoice_da ┆ unit_pric ┆ customer_ ┆ country   │\n",
       "│ ---        ┆ ---        ┆ n          ┆ ---      ┆ te         ┆ e         ┆ id        ┆ ---       │\n",
       "│ str        ┆ str        ┆ ---        ┆ i64      ┆ ---        ┆ ---       ┆ ---       ┆ str       │\n",
       "│            ┆            ┆ str        ┆          ┆ datetime[μ ┆ f64       ┆ i64       ┆           │\n",
       "│            ┆            ┆            ┆          ┆ s]         ┆           ┆           ┆           │\n",
       "╞════════════╪════════════╪════════════╪══════════╪════════════╪═══════════╪═══════════╪═══════════╡\n",
       "│ 536365     ┆ 85123A     ┆ WHITE      ┆ 6        ┆ 2010-12-01 ┆ 2.55      ┆ 17850     ┆ United    │\n",
       "│            ┆            ┆ HANGING    ┆          ┆ 08:26:00   ┆           ┆           ┆ Kingdom   │\n",
       "│            ┆            ┆ HEART      ┆          ┆            ┆           ┆           ┆           │\n",
       "│            ┆            ┆ T-LIGHT    ┆          ┆            ┆           ┆           ┆           │\n",
       "│            ┆            ┆ HO…        ┆          ┆            ┆           ┆           ┆           │\n",
       "│ 536365     ┆ 71053      ┆ WHITE      ┆ 6        ┆ 2010-12-01 ┆ 3.39      ┆ 17850     ┆ United    │\n",
       "│            ┆            ┆ METAL      ┆          ┆ 08:26:00   ┆           ┆           ┆ Kingdom   │\n",
       "│            ┆            ┆ LANTERN    ┆          ┆            ┆           ┆           ┆           │\n",
       "│ 536365     ┆ 84406B     ┆ CREAM      ┆ 8        ┆ 2010-12-01 ┆ 2.75      ┆ 17850     ┆ United    │\n",
       "│            ┆            ┆ CUPID      ┆          ┆ 08:26:00   ┆           ┆           ┆ Kingdom   │\n",
       "│            ┆            ┆ HEARTS     ┆          ┆            ┆           ┆           ┆           │\n",
       "│            ┆            ┆ COAT       ┆          ┆            ┆           ┆           ┆           │\n",
       "│            ┆            ┆ HANGER     ┆          ┆            ┆           ┆           ┆           │\n",
       "│ 536365     ┆ 84029G     ┆ KNITTED    ┆ 6        ┆ 2010-12-01 ┆ 3.39      ┆ 17850     ┆ United    │\n",
       "│            ┆            ┆ UNION FLAG ┆          ┆ 08:26:00   ┆           ┆           ┆ Kingdom   │\n",
       "│            ┆            ┆ HOT WATER  ┆          ┆            ┆           ┆           ┆           │\n",
       "│            ┆            ┆ B…         ┆          ┆            ┆           ┆           ┆           │\n",
       "│ 536365     ┆ 84029E     ┆ RED WOOLLY ┆ 6        ┆ 2010-12-01 ┆ 3.39      ┆ 17850     ┆ United    │\n",
       "│            ┆            ┆ HOTTIE     ┆          ┆ 08:26:00   ┆           ┆           ┆ Kingdom   │\n",
       "│            ┆            ┆ WHITE      ┆          ┆            ┆           ┆           ┆           │\n",
       "│            ┆            ┆ HEART      ┆          ┆            ┆           ┆           ┆           │\n",
       "└────────────┴────────────┴────────────┴──────────┴────────────┴───────────┴───────────┴───────────┘"
      ]
     },
     "execution_count": 32,
     "metadata": {},
     "output_type": "execute_result"
    }
   ],
   "source": [
    "df.head()"
   ]
  },
  {
   "cell_type": "markdown",
   "id": "8c618523",
   "metadata": {
    "lines_to_next_cell": 2
   },
   "source": [
    "## Adapter for `datetime.datetime`"
   ]
  },
  {
   "cell_type": "code",
   "execution_count": 33,
   "id": "448d3f1f",
   "metadata": {},
   "outputs": [],
   "source": [
    "def adapt_datetime_iso(val: datetime.datetime) -> str:\n",
    "    \"\"\"Adapt datetime.datetime to timezone-naive ISO 8601 date.\"\"\"\n",
    "    return val.isoformat(sep=\" \")\n",
    "\n",
    "\n",
    "sqlite3.register_adapter(datetime.datetime, adapt_datetime_iso)"
   ]
  },
  {
   "cell_type": "markdown",
   "id": "c004aa02",
   "metadata": {},
   "source": [
    "## Insert data into DB\n",
    "\n",
    "Finally, we can insert the data into the database. Probably, this is not\n",
    "the most efficient way to do so. But we're going to do this only once. So\n",
    "possible inefficiency is not a big deal."
   ]
  },
  {
   "cell_type": "code",
   "execution_count": 34,
   "id": "e82669fd",
   "metadata": {},
   "outputs": [],
   "source": [
    "# Build SQL statement\n",
    "col_names = \", \".join(snake_cols)\n",
    "placeholders = \", \".join(f\":{col}\" for col in snake_cols)\n",
    "sql = f\"INSERT INTO original_data ({col_names}) VALUES ({placeholders});\""
   ]
  },
  {
   "cell_type": "code",
   "execution_count": 35,
   "id": "2171fb75",
   "metadata": {},
   "outputs": [],
   "source": [
    "# Execute statement\n",
    "cur.executemany(sql, df.to_dicts())\n",
    "con.commit()"
   ]
  },
  {
   "cell_type": "code",
   "execution_count": 36,
   "id": "b2a56b94",
   "metadata": {},
   "outputs": [],
   "source": [
    "res = cur.execute(\"SELECT COUNT(*) FROM original_data;\")\n",
    "assert res.fetchone() == (df.height,), \"failed to insert all rows\""
   ]
  },
  {
   "cell_type": "markdown",
   "id": "883dd3ca",
   "metadata": {},
   "source": [
    "## Close DB connection"
   ]
  },
  {
   "cell_type": "code",
   "execution_count": 37,
   "id": "c20835cc",
   "metadata": {},
   "outputs": [],
   "source": [
    "con.commit()  # Just to be sure\n",
    "con.close()"
   ]
  }
 ],
 "metadata": {
  "jupytext": {
   "cell_metadata_filter": "-all",
   "formats": "ipynb,py:percent"
  },
  "kernelspec": {
   "display_name": "Python 3 (ipykernel)",
   "language": "python",
   "name": "python3"
  },
  "language_info": {
   "codemirror_mode": {
    "name": "ipython",
    "version": 3
   },
   "file_extension": ".py",
   "mimetype": "text/x-python",
   "name": "python",
   "nbconvert_exporter": "python",
   "pygments_lexer": "ipython3",
   "version": "3.12.6"
  }
 },
 "nbformat": 4,
 "nbformat_minor": 5
}
