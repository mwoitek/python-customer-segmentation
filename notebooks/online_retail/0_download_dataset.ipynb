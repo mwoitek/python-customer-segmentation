{
 "cells": [
  {
   "cell_type": "markdown",
   "id": "d9fc3af4-8c60-45f6-9664-f8632d2efb06",
   "metadata": {},
   "source": [
    "# Online Retail Dataset: Download Dataset\n",
    "## Imports"
   ]
  },
  {
   "cell_type": "code",
   "execution_count": 1,
   "id": "d9daaf92-314d-410b-879d-b41a59050b2d",
   "metadata": {},
   "outputs": [],
   "source": [
    "import zipfile\n",
    "from pathlib import Path\n",
    "\n",
    "import requests"
   ]
  },
  {
   "cell_type": "markdown",
   "id": "7cf2a1f3",
   "metadata": {},
   "source": [
    "## Download zip file"
   ]
  },
  {
   "cell_type": "code",
   "execution_count": 2,
   "id": "96dd61e1",
   "metadata": {},
   "outputs": [],
   "source": [
    "data_dir = Path.cwd().parents[1] / \"data\"\n",
    "if not data_dir.exists():\n",
    "    data_dir.mkdir()"
   ]
  },
  {
   "cell_type": "code",
   "execution_count": 3,
   "id": "8f2a1806",
   "metadata": {},
   "outputs": [],
   "source": [
    "url = \"https://archive.ics.uci.edu/static/public/352/online+retail.zip\"\n",
    "\n",
    "zip_name = url.split(\"/\")[-1].replace(\"+\", \"_\")\n",
    "zip_path = data_dir / zip_name"
   ]
  },
  {
   "cell_type": "code",
   "execution_count": 4,
   "id": "761c5dfe",
   "metadata": {},
   "outputs": [],
   "source": [
    "assert not zip_path.with_suffix(\".xlsx\").exists(), \"dataset already exists\""
   ]
  },
  {
   "cell_type": "code",
   "execution_count": 5,
   "id": "e324bf45",
   "metadata": {},
   "outputs": [],
   "source": [
    "response = requests.get(url, stream=True)  # noqa: S113\n",
    "assert response.status_code == 200, \"failed to download zip file\""
   ]
  },
  {
   "cell_type": "code",
   "execution_count": 6,
   "id": "3bff4d84",
   "metadata": {},
   "outputs": [],
   "source": [
    "with zip_path.open(\"wb\") as file:\n",
    "    for chunk in response.iter_content(chunk_size=1024):\n",
    "        file.write(chunk)"
   ]
  },
  {
   "cell_type": "markdown",
   "id": "1509f152",
   "metadata": {},
   "source": [
    "## Extract zip file"
   ]
  },
  {
   "cell_type": "code",
   "execution_count": 7,
   "id": "8c40f09a-daab-433f-a325-0d63e66c400d",
   "metadata": {},
   "outputs": [],
   "source": [
    "old_name = \"Online Retail.xlsx\"\n",
    "with zipfile.ZipFile(zip_path, \"r\") as zip_file:\n",
    "    zip_file.extract(old_name, path=data_dir)"
   ]
  },
  {
   "cell_type": "code",
   "execution_count": 8,
   "id": "2b8c7952",
   "metadata": {},
   "outputs": [],
   "source": [
    "# Delete zip file\n",
    "zip_path.unlink()"
   ]
  },
  {
   "cell_type": "code",
   "execution_count": 9,
   "id": "7b5853a5",
   "metadata": {},
   "outputs": [],
   "source": [
    "# Rename extracted file\n",
    "old_file_path = data_dir / old_name\n",
    "\n",
    "new_name = old_name.lower().replace(\" \", \"_\")\n",
    "new_file_path = old_file_path.with_name(new_name)\n",
    "\n",
    "_ = old_file_path.rename(new_file_path)"
   ]
  }
 ],
 "metadata": {
  "jupytext": {
   "formats": "ipynb,py:percent"
  },
  "kernelspec": {
   "display_name": "Python 3 (ipykernel)",
   "language": "python",
   "name": "python3"
  },
  "language_info": {
   "codemirror_mode": {
    "name": "ipython",
    "version": 3
   },
   "file_extension": ".py",
   "mimetype": "text/x-python",
   "name": "python",
   "nbconvert_exporter": "python",
   "pygments_lexer": "ipython3",
   "version": "3.11.8"
  }
 },
 "nbformat": 4,
 "nbformat_minor": 5
}
